{
 "cells": [
  {
   "cell_type": "code",
   "execution_count": 1,
   "id": "c4e13979",
   "metadata": {},
   "outputs": [
    {
     "name": "stderr",
     "output_type": "stream",
     "text": [
      "C:\\Users\\Steph\\anaconda3\\envs\\cuda11v7\\lib\\site-packages\\whisper\\timing.py:58: NumbaDeprecationWarning: \u001b[1mThe 'nopython' keyword argument was not supplied to the 'numba.jit' decorator. The implicit default value for this argument is currently False, but it will be changed to True in Numba 0.59.0. See https://numba.readthedocs.io/en/stable/reference/deprecation.html#deprecation-of-object-mode-fall-back-behaviour-when-using-jit for details.\u001b[0m\n",
      "  def backtrace(trace: np.ndarray):\n"
     ]
    }
   ],
   "source": [
    "import IProgress\n",
    "from substory import SubStory"
   ]
  },
  {
   "cell_type": "code",
   "execution_count": 2,
   "id": "21a54886",
   "metadata": {},
   "outputs": [],
   "source": [
    "ss = SubStory()"
   ]
  },
  {
   "cell_type": "code",
   "execution_count": 3,
   "id": "3bcbfac5",
   "metadata": {},
   "outputs": [
    {
     "name": "stdout",
     "output_type": "stream",
     "text": [
      "Video File: Input\\Naruto HD Set 1 Disc 1-001.mkv\n",
      "Audio File: None\n",
      "Subtitle File: None\n",
      "Extracting mp3 from Input\\Naruto HD Set 1 Disc 1-001...\n",
      "MoviePy - Writing audio in Input\\Naruto HD Set 1 Disc 1-001.mp3\n"
     ]
    },
    {
     "name": "stderr",
     "output_type": "stream",
     "text": [
      "                                                                                                                       \r"
     ]
    },
    {
     "name": "stdout",
     "output_type": "stream",
     "text": [
      "MoviePy - Done.\n",
      "Audio File Extracted: Input\\Naruto HD Set 1 Disc 1-001.mp3\n",
      "Finished extracting audio.\n",
      "Creating transcript using OpenAIs Whisper for Input\\Naruto HD Set 1 Disc 1-001.mp3.\n",
      "Exporting subtitle.\n",
      "Sub File Extracted: Input\\Naruto HD Set 1 Disc 1-001.srt\n",
      "Generating Audio Visual HTML Page\n",
      "Finished processing Input\\Naruto HD Set 1 Disc 1-001\n",
      "Total processing time: 16.03 minutes.\n"
     ]
    }
   ],
   "source": [
    "ss.process()"
   ]
  },
  {
   "cell_type": "code",
   "execution_count": null,
   "id": "037eb8c2",
   "metadata": {},
   "outputs": [],
   "source": []
  }
 ],
 "metadata": {
  "kernelspec": {
   "display_name": "Python 3 (ipykernel)",
   "language": "python",
   "name": "python3"
  },
  "language_info": {
   "codemirror_mode": {
    "name": "ipython",
    "version": 3
   },
   "file_extension": ".py",
   "mimetype": "text/x-python",
   "name": "python",
   "nbconvert_exporter": "python",
   "pygments_lexer": "ipython3",
   "version": "3.10.8"
  }
 },
 "nbformat": 4,
 "nbformat_minor": 5
}
