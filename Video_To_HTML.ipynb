{
 "cells": [
  {
   "cell_type": "markdown",
   "id": "829fbf50",
   "metadata": {},
   "source": [
    "# TODO:\n",
    "- Use proper HTML library to clean up clunky html strings\n",
    "- Allow resolution change to saved images to save space.\n",
    "- Pass language to Whisper???\n",
    "- Change from Whisper to Facebook's fairseq MMC? https://github.com/facebookresearch/fairseq/tree/main/examples/mms"
   ]
  },
  {
   "cell_type": "code",
   "execution_count": 41,
   "id": "c6f2aab2",
   "metadata": {},
   "outputs": [],
   "source": [
    "import cv2\n",
    "import os\n",
    "from collections import Counter\n",
    "from tqdm import tqdm\n",
    "import whisper\n",
    "import torch\n",
    "import moviepy.editor as mp\n",
    "import subprocess\n",
    "from datetime import timedelta\n",
    "from yattag import Doc\n",
    "\n",
    "ADD_FURIGANA = True\n",
    "WIDTH = 200\n",
    "src_dir = 'Input'\n",
    "out_dir = 'Output'\n",
    "files = [os.path.join(src_dir, f) for f in os.listdir(src_dir)]\n",
    "\n",
    "if ADD_FURIGANA:\n",
    "    from furigana.furigana import split_furigana"
   ]
  },
  {
   "cell_type": "code",
   "execution_count": 42,
   "id": "30b6082a",
   "metadata": {},
   "outputs": [],
   "source": [
    "def file_to_line_list(filename, encoding='utf-8-sig'):\n",
    "        line_list = []\n",
    "        with open(filename, 'r', encoding=encoding) as file:\n",
    "            for line in file:\n",
    "                line_list += [line.replace('\\n', '')]\n",
    "        return line_list\n",
    "\n",
    "def chunk_sub_idx_to_list(sub_line_list):\n",
    "        \"\"\"\n",
    "            Pass in a list where each line is a line in the subtitle file\n",
    "            Example:\n",
    "            ['1', '00:00:00,000 --> 00:00:04,430', 'おはようございます', '2', ...]\n",
    "\n",
    "            return a list where each list item is another list where each item is specific to its index\n",
    "            Example:\n",
    "            [['1', '00:00:00,000 --> 00:00:04,430', 'おはようございます'], ['2', ...], ...]\n",
    "        \"\"\"\n",
    "        lines_indexed = []\n",
    "        tmp = []\n",
    "        for i, line in enumerate(sub_line_list):\n",
    "            if line == '':\n",
    "                continue\n",
    "\n",
    "            tmp += [line]\n",
    "            if len(tmp) > 3:\n",
    "                digit, timestamp = tmp[-2:]\n",
    "                if digit.strip().isdigit() and '-->' in timestamp:\n",
    "                    lines_indexed += [tmp[:-2]]\n",
    "                    tmp = tmp[-2:]\n",
    "        return lines_indexed\n",
    "    \n",
    "def srt_time_to_seconds(time_line):\n",
    "    def timestr_to_sec(time_str):\n",
    "        h, m, s_str = time_str.split(':')\n",
    "        s, ms = s_str.split(',')\n",
    "        return int(h)*60*60 + int(m)*60 + int(s) + int(ms)/1000 \n",
    "\n",
    "    start_time_str, stop_time_str = time_line.split(' --> ')\n",
    "    start_time = timestr_to_sec(start_time_str)\n",
    "    stop_time = timestr_to_sec(stop_time_str)\n",
    "\n",
    "    return start_time, stop_time"
   ]
  },
  {
   "cell_type": "code",
   "execution_count": null,
   "id": "9fea9893",
   "metadata": {},
   "outputs": [],
   "source": []
  },
  {
   "cell_type": "code",
   "execution_count": 43,
   "id": "a33025bc",
   "metadata": {},
   "outputs": [],
   "source": [
    "def add_image(image, w=200, h=200):\n",
    "    basename = os.path.splitext(os.path.basename(image))[0]\n",
    "    return f'<img src=\"{image}\" alt=\"{basename}\" width=\"{w}\" height=\"{h}\" class=\"center\">'\n",
    "\n",
    "def add_audio_clip(audio_file):\n",
    "    return \\\n",
    "    f\"\"\"<audio controls class=\"center\">\n",
    "    <source src=\"{os.path.basename(audio_file)}\" type=\"audio/mpeg\">\n",
    "    Your browser does not support the audio element.\n",
    "    </audio> \n",
    "    \"\"\"\n",
    "\n",
    "def add_sub(sub):\n",
    "    return f'<div>{sub}</div>'    \n",
    "\n",
    "def create_html(name, content):\n",
    "    return \\\n",
    "    f\"\"\"<!DOCTYPE html>\n",
    "    <html>\n",
    "    <style>\n",
    "    div {{text-align: center;}}\n",
    "    .center {{\n",
    "      display: block;\n",
    "      margin-left: auto;\n",
    "      margin-right: auto;\n",
    "    }}\n",
    "    </style>\n",
    "    <title>{name}</title>\n",
    "    <head>\n",
    "    </head>\n",
    "    <body>\n",
    "    <h1>{name}</h1>\n",
    "    {content}\n",
    "    </body>\n",
    "    </html>\n",
    "    \"\"\""
   ]
  },
  {
   "cell_type": "code",
   "execution_count": 44,
   "id": "34dffbaa",
   "metadata": {},
   "outputs": [],
   "source": [
    "def add_furigana(text):\n",
    "\n",
    "    w_furigana = ''\n",
    "    for pair in split_furigana(text):\n",
    "        if len(pair)==2:\n",
    "            kanji,hira = pair\n",
    "            w_furigana +=  f\"<ruby><rb>{kanji}</rb><rt>{hira}</rt></ruby>\"\n",
    "        else:\n",
    "            w_furigana += pair[0]\n",
    "    return w_furigana"
   ]
  },
  {
   "cell_type": "code",
   "execution_count": 45,
   "id": "7c504326",
   "metadata": {
    "scrolled": true
   },
   "outputs": [],
   "source": [
    "def create_html_list(prj_name, vid_file, lines_indexed, audio=True, pad=0.25):\n",
    "\n",
    "    video_capture = cv2.VideoCapture(vid_file)\n",
    "    \n",
    "    if audio:\n",
    "        mp_video = mp.VideoFileClip(vid_file)\n",
    "\n",
    "    html_list = []\n",
    "\n",
    "    for r in lines_indexed:\n",
    "        line_idx, time_str = r[:2]\n",
    "        sub_list = r[2:]\n",
    "        \n",
    "        if ADD_FURIGANA:\n",
    "            tmp = []\n",
    "            for s in sub_list:\n",
    "                try:\n",
    "                    tmp += [add_furigana(s)]\n",
    "                except:\n",
    "                    tmp += [s]\n",
    "                \n",
    "            sub_list = tmp\n",
    "\n",
    "        start, stop = srt_time_to_seconds(time_str)\n",
    "        time_ms = int(1000*((stop - start)/2 + start))\n",
    "\n",
    "        video_capture.set(cv2.CAP_PROP_POS_MSEC, time_ms)\n",
    "        success, image = video_capture.read()\n",
    "\n",
    "        if success:\n",
    "            new_filename = prj_name + '_' + str(time_ms) + '.jpg'\n",
    "            path = os.path.join(prj_dir, new_filename)\n",
    "            if not(os.path.exists(path)):\n",
    "                cv2.imwrite(path, image)\n",
    "                \n",
    "            if audio:\n",
    "                audio_filename = os.path.splitext(path)[0] + '.mp3'\n",
    "                mp_video.subclip(max(0, start - pad), stop+pad).audio.write_audiofile(audio_filename)\n",
    "\n",
    "            h, w = image.shape[:-1]\n",
    "            ratio = h/w\n",
    "\n",
    "            html_list += [add_image(new_filename, w=WIDTH, h=int(WIDTH*ratio))]\n",
    "            html_list += [add_sub(s) for s in sub_list]\n",
    "            \n",
    "            if audio:\n",
    "                html_list += [add_audio_clip(audio_filename)]\n",
    "            \n",
    "    return html_list"
   ]
  },
  {
   "cell_type": "code",
   "execution_count": 46,
   "id": "4264e4dd",
   "metadata": {},
   "outputs": [
    {
     "data": {
      "text/plain": [
       "device(type='cuda')"
      ]
     },
     "execution_count": 46,
     "metadata": {},
     "output_type": "execute_result"
    }
   ],
   "source": [
    "device = whisper.torch.device('cuda' if whisper.torch.cuda.is_available() else 'cpu')\n",
    "device"
   ]
  },
  {
   "cell_type": "code",
   "execution_count": 47,
   "id": "d3bbc0d6",
   "metadata": {},
   "outputs": [],
   "source": [
    "# Create an mp3 from video file\n",
    "def extract_audio(file, savename='', track_number=0): \n",
    "    def extract_ffmpeg(input_file, output_file, audio_track):\n",
    "        command = f'ffmpeg -i \"{input_file}\" -map 0:a:{audio_track} \"{output_file}\"'\n",
    "        result = subprocess.run(command, shell=True, text=True, capture_output=True)\n",
    "        print(\"stdout:\", result.stdout)\n",
    "        print(\"stderr:\", result.stderr)\n",
    "\n",
    "    noext = os.path.splitext(file)[0]\n",
    "    savename = noext + '.mp3' if savename == '' else savename\n",
    "\n",
    "    # Default to using MoviePy\n",
    "    if track_number == 0:\n",
    "        v = mp.VideoFileClip(f)\n",
    "        v.audio.write_audiofile(savename)\n",
    "        \n",
    "    # Extract different track, need ffmpeg\n",
    "    else:\n",
    "        try:\n",
    "            extract_ffmpeg(file, savename, track_number)\n",
    "        except:\n",
    "            print('Cant process ffmpeg. Ensure you have ffmpeg installed.')"
   ]
  },
  {
   "cell_type": "code",
   "execution_count": 48,
   "id": "db1511b1",
   "metadata": {},
   "outputs": [],
   "source": [
    "def transcribe_audio(transcription, savepath):\n",
    "    segments = transcription['segments']\n",
    "\n",
    "    for segment in segments:\n",
    "        startTime = str(0)+str(timedelta(seconds=int(segment['start'])))+',000'\n",
    "        endTime = str(0)+str(timedelta(seconds=int(segment['end'])))+',000'\n",
    "        text = segment['text']\n",
    "        if len(text) == 0:\n",
    "            continue\n",
    "        \n",
    "        segmentId = segment['id']+1\n",
    "        segment = f\"{segmentId}\\n{startTime} --> {endTime}\\n{text[1:] if text[0] is ' ' else text}\\n\\n\"\n",
    "\n",
    "        with open(savepath, 'a', encoding='utf-8') as srtFile:\n",
    "            srtFile.write(segment)"
   ]
  },
  {
   "cell_type": "code",
   "execution_count": 49,
   "id": "16df8f70",
   "metadata": {
    "scrolled": true
   },
   "outputs": [
    {
     "name": "stdout",
     "output_type": "stream",
     "text": [
      "Generating Audio Visual HTML Page\n"
     ]
    },
    {
     "name": "stderr",
     "output_type": "stream",
     "text": [
      "chunk:   4%|██▌                                                        | 1/23 [2:06:04<46:13:49, 7564.96s/it, now=None]"
     ]
    },
    {
     "name": "stdout",
     "output_type": "stream",
     "text": [
      "MoviePy - Writing audio in Output\\Naruto_HD_Set_1_Disc_1-001\\Naruto_HD_Set_1_Disc_1-001_2000.mp3\n"
     ]
    },
    {
     "name": "stderr",
     "output_type": "stream",
     "text": [
      "\n",
      "chunk:   0%|                                                                          | 0/94 [00:00<?, ?it/s, now=None]\u001b[A\n",
      "chunk:  56%|████████████████████████████████████                            | 53/94 [00:00<00:00, 519.63it/s, now=None]\u001b[A\n",
      "chunk:   4%|██▌                                                        | 1/23 [2:06:05<46:13:53, 7565.14s/it, now=None]\u001b[A"
     ]
    },
    {
     "name": "stdout",
     "output_type": "stream",
     "text": [
      "MoviePy - Done.\n"
     ]
    },
    {
     "name": "stderr",
     "output_type": "stream",
     "text": [
      "chunk:   4%|██▌                                                        | 1/23 [2:06:05<46:14:01, 7565.54s/it, now=None]"
     ]
    },
    {
     "name": "stdout",
     "output_type": "stream",
     "text": [
      "MoviePy - Writing audio in Output\\Naruto_HD_Set_1_Disc_1-001\\Naruto_HD_Set_1_Disc_1-001_6000.mp3\n"
     ]
    },
    {
     "name": "stderr",
     "output_type": "stream",
     "text": [
      "\n",
      "chunk:   0%|                                                                          | 0/56 [00:00<?, ?it/s, now=None]\u001b[A\n",
      "chunk:  54%|██████████████████████████████████▎                             | 30/56 [00:00<00:00, 294.12it/s, now=None]\u001b[A\n",
      "chunk:   4%|██▌                                                        | 1/23 [2:06:05<46:14:05, 7565.71s/it, now=None]\u001b[A"
     ]
    },
    {
     "name": "stdout",
     "output_type": "stream",
     "text": [
      "MoviePy - Done.\n"
     ]
    },
    {
     "name": "stderr",
     "output_type": "stream",
     "text": [
      "chunk:   4%|██▌                                                        | 1/23 [2:06:07<46:14:40, 7567.29s/it, now=None]"
     ]
    },
    {
     "name": "stdout",
     "output_type": "stream",
     "text": [
      "MoviePy - Writing audio in Output\\Naruto_HD_Set_1_Disc_1-001\\Naruto_HD_Set_1_Disc_1-001_9500.mp3\n"
     ]
    },
    {
     "name": "stderr",
     "output_type": "stream",
     "text": [
      "\n",
      "chunk:   0%|                                                                          | 0/78 [00:00<?, ?it/s, now=None]\u001b[A\n",
      "chunk:  46%|█████████████████████████████▌                                  | 36/78 [00:00<00:00, 313.05it/s, now=None]\u001b[A\n",
      "chunk:   4%|██▌                                                        | 1/23 [2:06:07<46:14:44, 7567.48s/it, now=None]\u001b[A"
     ]
    },
    {
     "name": "stdout",
     "output_type": "stream",
     "text": [
      "MoviePy - Done.\n"
     ]
    },
    {
     "name": "stderr",
     "output_type": "stream",
     "text": [
      "chunk:   4%|██▌                                                        | 1/23 [2:06:07<46:14:55, 7567.97s/it, now=None]"
     ]
    },
    {
     "name": "stdout",
     "output_type": "stream",
     "text": [
      "MoviePy - Writing audio in Output\\Naruto_HD_Set_1_Disc_1-001\\Naruto_HD_Set_1_Disc_1-001_14000.mp3\n"
     ]
    },
    {
     "name": "stderr",
     "output_type": "stream",
     "text": [
      "\n",
      "chunk:   0%|                                                                         | 0/100 [00:00<?, ?it/s, now=None]\u001b[A\n",
      "chunk:  40%|█████████████████████████▏                                     | 40/100 [00:00<00:00, 396.04it/s, now=None]\u001b[A\n",
      "chunk:   4%|██▌                                                        | 1/23 [2:06:08<46:14:59, 7568.18s/it, now=None]\u001b[A"
     ]
    },
    {
     "name": "stdout",
     "output_type": "stream",
     "text": [
      "MoviePy - Done.\n"
     ]
    },
    {
     "name": "stderr",
     "output_type": "stream",
     "text": [
      "chunk:   4%|██▌                                                        | 1/23 [2:06:08<46:15:10, 7568.68s/it, now=None]"
     ]
    },
    {
     "name": "stdout",
     "output_type": "stream",
     "text": [
      "MoviePy - Writing audio in Output\\Naruto_HD_Set_1_Disc_1-001\\Naruto_HD_Set_1_Disc_1-001_19500.mp3\n"
     ]
    },
    {
     "name": "stderr",
     "output_type": "stream",
     "text": [
      "\n",
      "chunk:   0%|                                                                         | 0/122 [00:00<?, ?it/s, now=None]\u001b[A\n",
      "chunk:  34%|█████████████████████▏                                         | 41/122 [00:00<00:00, 405.94it/s, now=None]\u001b[A\n",
      "chunk:  89%|██████████████████████████████████████████████████████▉       | 108/122 [00:00<00:00, 557.37it/s, now=None]\u001b[A\n",
      "chunk:   4%|██▌                                                        | 1/23 [2:06:08<46:15:16, 7568.93s/it, now=None]\u001b[A"
     ]
    },
    {
     "name": "stdout",
     "output_type": "stream",
     "text": [
      "MoviePy - Done.\n"
     ]
    },
    {
     "name": "stderr",
     "output_type": "stream",
     "text": [
      "chunk:   4%|██▌                                                        | 1/23 [2:06:09<46:15:26, 7569.38s/it, now=None]"
     ]
    },
    {
     "name": "stdout",
     "output_type": "stream",
     "text": [
      "MoviePy - Writing audio in Output\\Naruto_HD_Set_1_Disc_1-001\\Naruto_HD_Set_1_Disc_1-001_23500.mp3\n"
     ]
    },
    {
     "name": "stderr",
     "output_type": "stream",
     "text": [
      "\n",
      "chunk:   0%|                                                                          | 0/78 [00:00<?, ?it/s, now=None]\u001b[A\n",
      "chunk:  55%|███████████████████████████████████▎                            | 43/78 [00:00<00:00, 346.78it/s, now=None]\u001b[A\n",
      "chunk:   4%|██▌                                                        | 1/23 [2:06:09<46:15:30, 7569.56s/it, now=None]\u001b[A"
     ]
    },
    {
     "name": "stdout",
     "output_type": "stream",
     "text": [
      "MoviePy - Done.\n"
     ]
    },
    {
     "name": "stderr",
     "output_type": "stream",
     "text": [
      "chunk:   4%|██▌                                                        | 1/23 [2:06:11<46:16:03, 7571.07s/it, now=None]"
     ]
    },
    {
     "name": "stdout",
     "output_type": "stream",
     "text": [
      "MoviePy - Writing audio in Output\\Naruto_HD_Set_1_Disc_1-001\\Naruto_HD_Set_1_Disc_1-001_26000.mp3\n"
     ]
    },
    {
     "name": "stderr",
     "output_type": "stream",
     "text": [
      "\n",
      "chunk:   0%|                                                                          | 0/56 [00:00<?, ?it/s, now=None]\u001b[A\n",
      "chunk:  54%|██████████████████████████████████▎                             | 30/56 [00:00<00:00, 263.17it/s, now=None]\u001b[A\n",
      "chunk:   4%|██▌                                                        | 1/23 [2:06:11<46:16:07, 7571.24s/it, now=None]\u001b[A"
     ]
    },
    {
     "name": "stdout",
     "output_type": "stream",
     "text": [
      "MoviePy - Done.\n"
     ]
    },
    {
     "name": "stderr",
     "output_type": "stream",
     "text": [
      "chunk:   4%|██▌                                                        | 1/23 [2:06:12<46:16:30, 7572.31s/it, now=None]"
     ]
    },
    {
     "name": "stdout",
     "output_type": "stream",
     "text": [
      "MoviePy - Writing audio in Output\\Naruto_HD_Set_1_Disc_1-001\\Naruto_HD_Set_1_Disc_1-001_28500.mp3\n"
     ]
    },
    {
     "name": "stderr",
     "output_type": "stream",
     "text": [
      "\n",
      "chunk:   0%|                                                                          | 0/78 [00:00<?, ?it/s, now=None]\u001b[A\n",
      "chunk:  42%|███████████████████████████                                     | 33/78 [00:00<00:00, 286.96it/s, now=None]\u001b[A\n",
      "chunk:   4%|██▌                                                        | 1/23 [2:06:12<46:16:34, 7572.50s/it, now=None]\u001b[A"
     ]
    },
    {
     "name": "stdout",
     "output_type": "stream",
     "text": [
      "MoviePy - Done.\n"
     ]
    },
    {
     "name": "stderr",
     "output_type": "stream",
     "text": [
      "chunk:   4%|██▌                                                        | 1/23 [2:06:13<46:16:48, 7573.09s/it, now=None]"
     ]
    },
    {
     "name": "stdout",
     "output_type": "stream",
     "text": [
      "MoviePy - Writing audio in Output\\Naruto_HD_Set_1_Disc_1-001\\Naruto_HD_Set_1_Disc_1-001_35500.mp3\n"
     ]
    },
    {
     "name": "stderr",
     "output_type": "stream",
     "text": [
      "\n",
      "chunk:   0%|                                                                         | 0/210 [00:00<?, ?it/s, now=None]\u001b[A\n",
      "chunk:  16%|█████████▉                                                     | 33/210 [00:00<00:00, 328.34it/s, now=None]\u001b[A\n",
      "chunk:  49%|██████████████████████████████▍                               | 103/210 [00:00<00:00, 543.31it/s, now=None]\u001b[A\n",
      "chunk:  97%|███████████████████████████████████████████████████████████▉  | 203/210 [00:00<00:00, 747.55it/s, now=None]\u001b[A\n",
      "chunk:   4%|██▌                                                        | 1/23 [2:06:13<46:16:56, 7573.46s/it, now=None]\u001b[A"
     ]
    },
    {
     "name": "stdout",
     "output_type": "stream",
     "text": [
      "MoviePy - Done.\n"
     ]
    },
    {
     "name": "stderr",
     "output_type": "stream",
     "text": [
      "chunk:   4%|██▌                                                        | 1/23 [2:06:13<46:17:06, 7573.95s/it, now=None]"
     ]
    },
    {
     "name": "stdout",
     "output_type": "stream",
     "text": [
      "MoviePy - Writing audio in Output\\Naruto_HD_Set_1_Disc_1-001\\Naruto_HD_Set_1_Disc_1-001_43000.mp3\n"
     ]
    },
    {
     "name": "stderr",
     "output_type": "stream",
     "text": [
      "\n",
      "chunk:   0%|                                                                         | 0/144 [00:00<?, ?it/s, now=None]\u001b[A\n",
      "chunk:  31%|███████████████████▎                                           | 44/144 [00:00<00:00, 435.66it/s, now=None]\u001b[A\n",
      "chunk:  75%|██████████████████████████████████████████████▌               | 108/144 [00:00<00:00, 542.64it/s, now=None]\u001b[A\n",
      "chunk:   4%|██▌                                                        | 1/23 [2:06:14<46:17:12, 7574.21s/it, now=None]\u001b[A"
     ]
    },
    {
     "name": "stdout",
     "output_type": "stream",
     "text": [
      "MoviePy - Done.\n"
     ]
    },
    {
     "name": "stderr",
     "output_type": "stream",
     "text": [
      "chunk:   4%|██▌                                                        | 1/23 [2:06:14<46:17:24, 7574.74s/it, now=None]"
     ]
    },
    {
     "name": "stdout",
     "output_type": "stream",
     "text": [
      "MoviePy - Writing audio in Output\\Naruto_HD_Set_1_Disc_1-001\\Naruto_HD_Set_1_Disc_1-001_59000.mp3\n"
     ]
    },
    {
     "name": "stderr",
     "output_type": "stream",
     "text": [
      "\n",
      "chunk:   0%|                                                                          | 0/56 [00:00<?, ?it/s, now=None]\u001b[A\n",
      "chunk:   4%|██▎                                                               | 2/56 [00:00<00:03, 17.09it/s, now=None]\u001b[A\n",
      "chunk:   4%|██▌                                                        | 1/23 [2:06:14<46:17:29, 7574.96s/it, now=None]\u001b[A"
     ]
    },
    {
     "name": "stdout",
     "output_type": "stream",
     "text": [
      "MoviePy - Done.\n"
     ]
    },
    {
     "name": "stderr",
     "output_type": "stream",
     "text": [
      "chunk:   4%|██▌                                                        | 1/23 [2:06:16<46:18:02, 7576.46s/it, now=None]"
     ]
    },
    {
     "name": "stdout",
     "output_type": "stream",
     "text": [
      "MoviePy - Writing audio in Output\\Naruto_HD_Set_1_Disc_1-001\\Naruto_HD_Set_1_Disc_1-001_63000.mp3\n"
     ]
    },
    {
     "name": "stderr",
     "output_type": "stream",
     "text": [
      "\n",
      "chunk:   0%|                                                                         | 0/100 [00:00<?, ?it/s, now=None]\u001b[A\n",
      "chunk:  36%|██████████████████████▋                                        | 36/100 [00:00<00:00, 307.71it/s, now=None]\u001b[A\n",
      "chunk:   4%|██▌                                                        | 1/23 [2:06:16<46:18:07, 7576.69s/it, now=None]\u001b[A"
     ]
    },
    {
     "name": "stdout",
     "output_type": "stream",
     "text": [
      "MoviePy - Done.\n"
     ]
    },
    {
     "name": "stderr",
     "output_type": "stream",
     "text": [
      "chunk:   4%|██▌                                                        | 1/23 [2:06:17<46:18:20, 7577.31s/it, now=None]"
     ]
    },
    {
     "name": "stdout",
     "output_type": "stream",
     "text": [
      "MoviePy - Writing audio in Output\\Naruto_HD_Set_1_Disc_1-001\\Naruto_HD_Set_1_Disc_1-001_67000.mp3\n"
     ]
    },
    {
     "name": "stderr",
     "output_type": "stream",
     "text": [
      "\n",
      "chunk:   0%|                                                                          | 0/56 [00:00<?, ?it/s, now=None]\u001b[A\n",
      "chunk:  54%|██████████████████████████████████▎                             | 30/56 [00:00<00:00, 265.48it/s, now=None]\u001b[A\n",
      "chunk:   4%|██▌                                                        | 1/23 [2:06:17<46:18:24, 7577.47s/it, now=None]\u001b[A"
     ]
    },
    {
     "name": "stdout",
     "output_type": "stream",
     "text": [
      "MoviePy - Done.\n"
     ]
    },
    {
     "name": "stderr",
     "output_type": "stream",
     "text": [
      "chunk:   4%|██▌                                                        | 1/23 [2:06:17<46:18:35, 7577.98s/it, now=None]"
     ]
    },
    {
     "name": "stdout",
     "output_type": "stream",
     "text": [
      "MoviePy - Writing audio in Output\\Naruto_HD_Set_1_Disc_1-001\\Naruto_HD_Set_1_Disc_1-001_74000.mp3\n"
     ]
    },
    {
     "name": "stderr",
     "output_type": "stream",
     "text": [
      "\n",
      "chunk:   0%|                                                                          | 0/56 [00:00<?, ?it/s, now=None]\u001b[A\n",
      "chunk:  80%|███████████████████████████████████████████████████▍            | 45/56 [00:00<00:00, 445.54it/s, now=None]\u001b[A\n",
      "chunk:   4%|██▌                                                        | 1/23 [2:06:18<46:18:39, 7578.14s/it, now=None]\u001b[A"
     ]
    },
    {
     "name": "stdout",
     "output_type": "stream",
     "text": [
      "MoviePy - Done.\n"
     ]
    },
    {
     "name": "stderr",
     "output_type": "stream",
     "text": [
      "chunk:   4%|██▌                                                        | 1/23 [2:06:19<46:19:12, 7579.66s/it, now=None]"
     ]
    },
    {
     "name": "stdout",
     "output_type": "stream",
     "text": [
      "MoviePy - Writing audio in Output\\Naruto_HD_Set_1_Disc_1-001\\Naruto_HD_Set_1_Disc_1-001_77500.mp3\n"
     ]
    },
    {
     "name": "stderr",
     "output_type": "stream",
     "text": [
      "\n",
      "chunk:   0%|                                                                          | 0/78 [00:00<?, ?it/s, now=None]\u001b[A\n",
      "chunk:  46%|█████████████████████████████▌                                  | 36/78 [00:00<00:00, 302.52it/s, now=None]\u001b[A\n",
      "chunk:   4%|██▌                                                        | 1/23 [2:06:19<46:19:16, 7579.85s/it, now=None]\u001b[A"
     ]
    },
    {
     "name": "stdout",
     "output_type": "stream",
     "text": [
      "MoviePy - Done.\n"
     ]
    },
    {
     "name": "stderr",
     "output_type": "stream",
     "text": [
      "chunk:   4%|██▌                                                        | 1/23 [2:06:20<46:19:27, 7580.34s/it, now=None]"
     ]
    },
    {
     "name": "stdout",
     "output_type": "stream",
     "text": [
      "MoviePy - Writing audio in Output\\Naruto_HD_Set_1_Disc_1-001\\Naruto_HD_Set_1_Disc_1-001_81000.mp3\n"
     ]
    },
    {
     "name": "stderr",
     "output_type": "stream",
     "text": [
      "\n",
      "chunk:   0%|                                                                          | 0/56 [00:00<?, ?it/s, now=None]\u001b[A\n",
      "chunk:  71%|█████████████████████████████████████████████▋                  | 40/56 [00:00<00:00, 399.99it/s, now=None]\u001b[A\n",
      "chunk:   4%|██▌                                                        | 1/23 [2:06:20<46:19:30, 7580.50s/it, now=None]\u001b[A"
     ]
    },
    {
     "name": "stdout",
     "output_type": "stream",
     "text": [
      "MoviePy - Done.\n"
     ]
    },
    {
     "name": "stderr",
     "output_type": "stream",
     "text": [
      "chunk:   4%|██▌                                                        | 1/23 [2:06:21<46:19:54, 7581.57s/it, now=None]"
     ]
    },
    {
     "name": "stdout",
     "output_type": "stream",
     "text": [
      "MoviePy - Writing audio in Output\\Naruto_HD_Set_1_Disc_1-001\\Naruto_HD_Set_1_Disc_1-001_83000.mp3\n"
     ]
    },
    {
     "name": "stderr",
     "output_type": "stream",
     "text": [
      "\n",
      "chunk:   0%|                                                                          | 0/56 [00:00<?, ?it/s, now=None]\u001b[A\n",
      "chunk:  70%|████████████████████████████████████████████▌                   | 39/56 [00:00<00:00, 389.99it/s, now=None]\u001b[A\n",
      "chunk:   4%|██▌                                                        | 1/23 [2:06:21<46:19:57, 7581.72s/it, now=None]\u001b[A"
     ]
    },
    {
     "name": "stdout",
     "output_type": "stream",
     "text": [
      "MoviePy - Done.\n"
     ]
    },
    {
     "name": "stderr",
     "output_type": "stream",
     "text": [
      "chunk:   4%|██▌                                                        | 1/23 [2:06:23<46:20:31, 7583.27s/it, now=None]"
     ]
    },
    {
     "name": "stdout",
     "output_type": "stream",
     "text": [
      "MoviePy - Writing audio in Output\\Naruto_HD_Set_1_Disc_1-001\\Naruto_HD_Set_1_Disc_1-001_85500.mp3\n"
     ]
    },
    {
     "name": "stderr",
     "output_type": "stream",
     "text": [
      "\n",
      "chunk:   0%|                                                                          | 0/34 [00:00<?, ?it/s, now=None]\u001b[A\n",
      "chunk:   4%|██▌                                                        | 1/23 [2:06:23<46:20:34, 7583.39s/it, now=None]\u001b[A"
     ]
    },
    {
     "name": "stdout",
     "output_type": "stream",
     "text": [
      "MoviePy - Done.\n"
     ]
    },
    {
     "name": "stderr",
     "output_type": "stream",
     "text": [
      "chunk:   4%|██▌                                                        | 1/23 [2:06:24<46:20:57, 7584.45s/it, now=None]"
     ]
    },
    {
     "name": "stdout",
     "output_type": "stream",
     "text": [
      "MoviePy - Writing audio in Output\\Naruto_HD_Set_1_Disc_1-001\\Naruto_HD_Set_1_Disc_1-001_89500.mp3\n"
     ]
    },
    {
     "name": "stderr",
     "output_type": "stream",
     "text": [
      "\n",
      "chunk:   0%|                                                                         | 0/122 [00:00<?, ?it/s, now=None]\u001b[A\n",
      "chunk:  24%|██████████████▉                                                | 29/122 [00:00<00:00, 263.64it/s, now=None]\u001b[A\n",
      "chunk:  89%|███████████████████████████████████████████████████████▍      | 109/122 [00:00<00:00, 539.25it/s, now=None]\u001b[A\n",
      "chunk:   4%|██▌                                                        | 1/23 [2:06:24<46:21:03, 7584.71s/it, now=None]\u001b[A"
     ]
    },
    {
     "name": "stdout",
     "output_type": "stream",
     "text": [
      "MoviePy - Done.\n"
     ]
    },
    {
     "name": "stderr",
     "output_type": "stream",
     "text": [
      "chunk:   4%|██▌                                                        | 1/23 [2:06:25<46:21:15, 7585.26s/it, now=None]"
     ]
    },
    {
     "name": "stdout",
     "output_type": "stream",
     "text": [
      "MoviePy - Writing audio in Output\\Naruto_HD_Set_1_Disc_1-001\\Naruto_HD_Set_1_Disc_1-001_94000.mp3\n"
     ]
    },
    {
     "name": "stderr",
     "output_type": "stream",
     "text": [
      "\n",
      "chunk:   0%|                                                                          | 0/56 [00:00<?, ?it/s, now=None]\u001b[A\n",
      "chunk:  54%|██████████████████████████████████▎                             | 30/56 [00:00<00:00, 265.50it/s, now=None]\u001b[A\n",
      "chunk:   4%|██▌                                                        | 1/23 [2:06:25<46:21:19, 7585.43s/it, now=None]\u001b[A"
     ]
    },
    {
     "name": "stdout",
     "output_type": "stream",
     "text": [
      "MoviePy - Done.\n"
     ]
    },
    {
     "name": "stderr",
     "output_type": "stream",
     "text": [
      "chunk:   4%|██▌                                                        | 1/23 [2:06:26<46:21:53, 7586.96s/it, now=None]"
     ]
    },
    {
     "name": "stdout",
     "output_type": "stream",
     "text": [
      "MoviePy - Writing audio in Output\\Naruto_HD_Set_1_Disc_1-001\\Naruto_HD_Set_1_Disc_1-001_97000.mp3\n"
     ]
    },
    {
     "name": "stderr",
     "output_type": "stream",
     "text": [
      "\n",
      "chunk:   0%|                                                                          | 0/56 [00:00<?, ?it/s, now=None]\u001b[A\n",
      "chunk:  54%|██████████████████████████████████▎                             | 30/56 [00:00<00:00, 267.86it/s, now=None]\u001b[A\n",
      "chunk:   4%|██▌                                                        | 1/23 [2:06:27<46:21:56, 7587.13s/it, now=None]\u001b[A"
     ]
    },
    {
     "name": "stdout",
     "output_type": "stream",
     "text": [
      "MoviePy - Done.\n"
     ]
    },
    {
     "name": "stderr",
     "output_type": "stream",
     "text": [
      "chunk:   4%|██▌                                                        | 1/23 [2:06:27<46:22:07, 7587.59s/it, now=None]"
     ]
    },
    {
     "name": "stdout",
     "output_type": "stream",
     "text": [
      "MoviePy - Writing audio in Output\\Naruto_HD_Set_1_Disc_1-001\\Naruto_HD_Set_1_Disc_1-001_108500.mp3\n"
     ]
    },
    {
     "name": "stderr",
     "output_type": "stream",
     "text": [
      "\n",
      "chunk:   0%|                                                                          | 0/34 [00:00<?, ?it/s, now=None]\u001b[A\n",
      "chunk:   6%|███▉                                                              | 2/34 [00:00<00:01, 19.42it/s, now=None]\u001b[A\n",
      "chunk:   4%|██▌                                                        | 1/23 [2:06:27<46:22:10, 7587.76s/it, now=None]\u001b[A"
     ]
    },
    {
     "name": "stdout",
     "output_type": "stream",
     "text": [
      "MoviePy - Done.\n"
     ]
    },
    {
     "name": "stderr",
     "output_type": "stream",
     "text": [
      "chunk:   4%|██▌                                                        | 1/23 [2:06:28<46:22:23, 7588.34s/it, now=None]"
     ]
    },
    {
     "name": "stdout",
     "output_type": "stream",
     "text": [
      "MoviePy - Writing audio in Output\\Naruto_HD_Set_1_Disc_1-001\\Naruto_HD_Set_1_Disc_1-001_115000.mp3\n"
     ]
    },
    {
     "name": "stderr",
     "output_type": "stream",
     "text": [
      "\n",
      "chunk:   0%|                                                                          | 0/56 [00:00<?, ?it/s, now=None]\u001b[A\n",
      "chunk:  73%|██████████████████████████████████████████████▊                 | 41/56 [00:00<00:00, 405.95it/s, now=None]\u001b[A\n",
      "chunk:   4%|██▌                                                        | 1/23 [2:06:28<46:22:27, 7588.51s/it, now=None]\u001b[A"
     ]
    },
    {
     "name": "stdout",
     "output_type": "stream",
     "text": [
      "MoviePy - Done.\n"
     ]
    },
    {
     "name": "stderr",
     "output_type": "stream",
     "text": [
      "chunk:   4%|██▌                                                        | 1/23 [2:06:29<46:22:59, 7589.99s/it, now=None]"
     ]
    },
    {
     "name": "stdout",
     "output_type": "stream",
     "text": [
      "MoviePy - Writing audio in Output\\Naruto_HD_Set_1_Disc_1-001\\Naruto_HD_Set_1_Disc_1-001_117500.mp3\n"
     ]
    },
    {
     "name": "stderr",
     "output_type": "stream",
     "text": [
      "\n",
      "chunk:   0%|                                                                          | 0/34 [00:00<?, ?it/s, now=None]\u001b[A\n",
      "chunk:   4%|██▌                                                        | 1/23 [2:06:30<46:23:02, 7590.12s/it, now=None]\u001b[A"
     ]
    },
    {
     "name": "stdout",
     "output_type": "stream",
     "text": [
      "MoviePy - Done.\n"
     ]
    },
    {
     "name": "stderr",
     "output_type": "stream",
     "text": [
      "chunk:   4%|██▌                                                        | 1/23 [2:06:30<46:23:15, 7590.69s/it, now=None]"
     ]
    },
    {
     "name": "stdout",
     "output_type": "stream",
     "text": [
      "MoviePy - Writing audio in Output\\Naruto_HD_Set_1_Disc_1-001\\Naruto_HD_Set_1_Disc_1-001_124000.mp3\n"
     ]
    },
    {
     "name": "stderr",
     "output_type": "stream",
     "text": [
      "\n",
      "chunk:   0%|                                                                          | 0/56 [00:00<?, ?it/s, now=None]\u001b[A\n",
      "chunk:  54%|██████████████████████████████████▎                             | 30/56 [00:00<00:00, 297.04it/s, now=None]\u001b[A\n",
      "chunk:   4%|██▌                                                        | 1/23 [2:06:30<46:23:19, 7590.87s/it, now=None]\u001b[A"
     ]
    },
    {
     "name": "stdout",
     "output_type": "stream",
     "text": [
      "MoviePy - Done.\n"
     ]
    },
    {
     "name": "stderr",
     "output_type": "stream",
     "text": [
      "chunk:   4%|██▌                                                        | 1/23 [2:06:32<46:23:52, 7592.40s/it, now=None]"
     ]
    },
    {
     "name": "stdout",
     "output_type": "stream",
     "text": [
      "MoviePy - Writing audio in Output\\Naruto_HD_Set_1_Disc_1-001\\Naruto_HD_Set_1_Disc_1-001_127500.mp3\n"
     ]
    },
    {
     "name": "stderr",
     "output_type": "stream",
     "text": [
      "\n",
      "chunk:   0%|                                                                          | 0/78 [00:00<?, ?it/s, now=None]\u001b[A\n",
      "chunk:  46%|█████████████████████████████▌                                  | 36/78 [00:00<00:00, 310.35it/s, now=None]\u001b[A\n",
      "chunk:   4%|██▌                                                        | 1/23 [2:06:32<46:23:56, 7592.59s/it, now=None]\u001b[A"
     ]
    },
    {
     "name": "stdout",
     "output_type": "stream",
     "text": [
      "MoviePy - Done.\n"
     ]
    },
    {
     "name": "stderr",
     "output_type": "stream",
     "text": [
      "chunk:   4%|██▌                                                        | 1/23 [2:06:33<46:24:08, 7593.14s/it, now=None]"
     ]
    },
    {
     "name": "stdout",
     "output_type": "stream",
     "text": [
      "MoviePy - Writing audio in Output\\Naruto_HD_Set_1_Disc_1-001\\Naruto_HD_Set_1_Disc_1-001_134500.mp3\n"
     ]
    },
    {
     "name": "stderr",
     "output_type": "stream",
     "text": [
      "\n",
      "chunk:   0%|                                                                         | 0/122 [00:00<?, ?it/s, now=None]\u001b[A\n",
      "chunk:  32%|████████████████████▏                                          | 39/122 [00:00<00:00, 390.00it/s, now=None]\u001b[A\n",
      "chunk:  98%|████████████████████████████████████████████████████████████▍ | 119/122 [00:00<00:00, 631.16it/s, now=None]\u001b[A\n",
      "chunk:   4%|██▌                                                        | 1/23 [2:06:33<46:24:14, 7593.37s/it, now=None]\u001b[A"
     ]
    },
    {
     "name": "stdout",
     "output_type": "stream",
     "text": [
      "MoviePy - Done.\n"
     ]
    },
    {
     "name": "stderr",
     "output_type": "stream",
     "text": [
      "chunk:   4%|██▌                                                        | 1/23 [2:06:33<46:24:27, 7593.97s/it, now=None]"
     ]
    },
    {
     "name": "stdout",
     "output_type": "stream",
     "text": [
      "MoviePy - Writing audio in Output\\Naruto_HD_Set_1_Disc_1-001\\Naruto_HD_Set_1_Disc_1-001_139500.mp3\n"
     ]
    },
    {
     "name": "stderr",
     "output_type": "stream",
     "text": [
      "\n",
      "chunk:   0%|                                                                          | 0/78 [00:00<?, ?it/s, now=None]\u001b[A\n",
      "chunk:  37%|███████████████████████▊                                        | 29/78 [00:00<00:00, 266.05it/s, now=None]\u001b[A\n",
      "chunk:   4%|██▌                                                        | 1/23 [2:06:34<46:24:31, 7594.17s/it, now=None]\u001b[A"
     ]
    },
    {
     "name": "stdout",
     "output_type": "stream",
     "text": [
      "MoviePy - Done.\n"
     ]
    },
    {
     "name": "stderr",
     "output_type": "stream",
     "text": [
      "chunk:   4%|██▌                                                        | 1/23 [2:06:34<46:24:43, 7594.72s/it, now=None]"
     ]
    },
    {
     "name": "stdout",
     "output_type": "stream",
     "text": [
      "MoviePy - Writing audio in Output\\Naruto_HD_Set_1_Disc_1-001\\Naruto_HD_Set_1_Disc_1-001_144500.mp3\n"
     ]
    },
    {
     "name": "stderr",
     "output_type": "stream",
     "text": [
      "\n",
      "chunk:   0%|                                                                          | 0/78 [00:00<?, ?it/s, now=None]\u001b[A\n",
      "chunk:  37%|███████████████████████▊                                        | 29/78 [00:00<00:00, 258.92it/s, now=None]\u001b[A\n",
      "chunk:   4%|██▌                                                        | 1/23 [2:06:34<46:24:48, 7594.93s/it, now=None]\u001b[A"
     ]
    },
    {
     "name": "stdout",
     "output_type": "stream",
     "text": [
      "MoviePy - Done.\n"
     ]
    },
    {
     "name": "stderr",
     "output_type": "stream",
     "text": [
      "chunk:   4%|██▌                                                        | 1/23 [2:06:36<46:25:22, 7596.46s/it, now=None]"
     ]
    },
    {
     "name": "stdout",
     "output_type": "stream",
     "text": [
      "MoviePy - Writing audio in Output\\Naruto_HD_Set_1_Disc_1-001\\Naruto_HD_Set_1_Disc_1-001_147000.mp3\n"
     ]
    },
    {
     "name": "stderr",
     "output_type": "stream",
     "text": [
      "\n",
      "chunk:   0%|                                                                          | 0/56 [00:00<?, ?it/s, now=None]\u001b[A\n",
      "chunk:  84%|█████████████████████████████████████████████████████▋          | 47/56 [00:00<00:00, 394.94it/s, now=None]\u001b[A\n",
      "chunk:   4%|██▌                                                        | 1/23 [2:06:36<46:25:25, 7596.62s/it, now=None]\u001b[A"
     ]
    },
    {
     "name": "stdout",
     "output_type": "stream",
     "text": [
      "MoviePy - Done.\n"
     ]
    },
    {
     "name": "stderr",
     "output_type": "stream",
     "text": [
      "chunk:   4%|██▌                                                        | 1/23 [2:06:37<46:25:37, 7597.17s/it, now=None]"
     ]
    },
    {
     "name": "stdout",
     "output_type": "stream",
     "text": [
      "MoviePy - Writing audio in Output\\Naruto_HD_Set_1_Disc_1-001\\Naruto_HD_Set_1_Disc_1-001_151000.mp3\n"
     ]
    },
    {
     "name": "stderr",
     "output_type": "stream",
     "text": [
      "\n",
      "chunk:   0%|                                                                          | 0/56 [00:00<?, ?it/s, now=None]\u001b[A\n",
      "chunk:  54%|██████████████████████████████████▎                             | 30/56 [00:00<00:00, 258.62it/s, now=None]\u001b[A\n",
      "chunk:   4%|██▌                                                        | 1/23 [2:06:37<46:25:41, 7597.35s/it, now=None]\u001b[A"
     ]
    },
    {
     "name": "stdout",
     "output_type": "stream",
     "text": [
      "MoviePy - Done.\n"
     ]
    },
    {
     "name": "stderr",
     "output_type": "stream",
     "text": [
      "chunk:   4%|██▌                                                        | 1/23 [2:06:38<46:26:04, 7598.38s/it, now=None]"
     ]
    },
    {
     "name": "stdout",
     "output_type": "stream",
     "text": [
      "MoviePy - Writing audio in Output\\Naruto_HD_Set_1_Disc_1-001\\Naruto_HD_Set_1_Disc_1-001_152500.mp3\n"
     ]
    },
    {
     "name": "stderr",
     "output_type": "stream",
     "text": [
      "\n",
      "chunk:   0%|                                                                          | 0/34 [00:00<?, ?it/s, now=None]\u001b[A\n",
      "chunk:  88%|████████████████████████████████████████████████████████▍       | 30/34 [00:00<00:00, 258.61it/s, now=None]\u001b[A\n",
      "chunk:   4%|██▌                                                        | 1/23 [2:06:38<46:26:07, 7598.53s/it, now=None]\u001b[A"
     ]
    },
    {
     "name": "stdout",
     "output_type": "stream",
     "text": [
      "MoviePy - Done.\n"
     ]
    },
    {
     "name": "stderr",
     "output_type": "stream",
     "text": [
      "chunk:   4%|██▌                                                        | 1/23 [2:06:39<46:26:19, 7599.06s/it, now=None]"
     ]
    },
    {
     "name": "stdout",
     "output_type": "stream",
     "text": [
      "MoviePy - Writing audio in Output\\Naruto_HD_Set_1_Disc_1-001\\Naruto_HD_Set_1_Disc_1-001_158500.mp3\n"
     ]
    },
    {
     "name": "stderr",
     "output_type": "stream",
     "text": [
      "\n",
      "chunk:   0%|                                                                          | 0/34 [00:00<?, ?it/s, now=None]\u001b[A\n",
      "chunk:   4%|██▌                                                        | 1/23 [2:06:39<46:26:22, 7599.18s/it, now=None]\u001b[A"
     ]
    },
    {
     "name": "stdout",
     "output_type": "stream",
     "text": [
      "MoviePy - Done.\n"
     ]
    },
    {
     "name": "stderr",
     "output_type": "stream",
     "text": [
      "chunk:   4%|██▌                                                        | 1/23 [2:06:40<46:26:47, 7600.32s/it, now=None]"
     ]
    },
    {
     "name": "stdout",
     "output_type": "stream",
     "text": [
      "MoviePy - Writing audio in Output\\Naruto_HD_Set_1_Disc_1-001\\Naruto_HD_Set_1_Disc_1-001_160500.mp3\n"
     ]
    },
    {
     "name": "stderr",
     "output_type": "stream",
     "text": [
      "\n",
      "chunk:   0%|                                                                          | 0/34 [00:00<?, ?it/s, now=None]\u001b[A\n",
      "chunk:  88%|████████████████████████████████████████████████████████▍       | 30/34 [00:00<00:00, 272.72it/s, now=None]\u001b[A\n",
      "chunk:   4%|██▌                                                        | 1/23 [2:06:40<46:26:50, 7600.47s/it, now=None]\u001b[A"
     ]
    },
    {
     "name": "stdout",
     "output_type": "stream",
     "text": [
      "MoviePy - Done.\n"
     ]
    },
    {
     "name": "stderr",
     "output_type": "stream",
     "text": [
      "chunk:   4%|██▌                                                        | 1/23 [2:06:41<46:27:12, 7601.49s/it, now=None]"
     ]
    },
    {
     "name": "stdout",
     "output_type": "stream",
     "text": [
      "MoviePy - Writing audio in Output\\Naruto_HD_Set_1_Disc_1-001\\Naruto_HD_Set_1_Disc_1-001_163000.mp3\n"
     ]
    },
    {
     "name": "stderr",
     "output_type": "stream",
     "text": [
      "\n",
      "chunk:   0%|                                                                          | 0/56 [00:00<?, ?it/s, now=None]\u001b[A\n",
      "chunk:  54%|██████████████████████████████████▎                             | 30/56 [00:00<00:00, 267.85it/s, now=None]\u001b[A\n",
      "chunk:   4%|██▌                                                        | 1/23 [2:06:41<46:27:16, 7601.66s/it, now=None]\u001b[A"
     ]
    },
    {
     "name": "stdout",
     "output_type": "stream",
     "text": [
      "MoviePy - Done.\n"
     ]
    },
    {
     "name": "stderr",
     "output_type": "stream",
     "text": [
      "chunk:   4%|██▌                                                        | 1/23 [2:06:42<46:27:40, 7602.74s/it, now=None]"
     ]
    },
    {
     "name": "stdout",
     "output_type": "stream",
     "text": [
      "MoviePy - Writing audio in Output\\Naruto_HD_Set_1_Disc_1-001\\Naruto_HD_Set_1_Disc_1-001_165000.mp3\n"
     ]
    },
    {
     "name": "stderr",
     "output_type": "stream",
     "text": [
      "\n",
      "chunk:   0%|                                                                          | 0/56 [00:00<?, ?it/s, now=None]\u001b[A\n",
      "chunk:  54%|██████████████████████████████████▎                             | 30/56 [00:00<00:00, 260.88it/s, now=None]\u001b[A\n",
      "chunk:   4%|██▌                                                        | 1/23 [2:06:42<46:27:43, 7602.91s/it, now=None]\u001b[A"
     ]
    },
    {
     "name": "stdout",
     "output_type": "stream",
     "text": [
      "MoviePy - Done.\n"
     ]
    },
    {
     "name": "stderr",
     "output_type": "stream",
     "text": [
      "chunk:   4%|██▌                                                        | 1/23 [2:06:44<46:28:08, 7604.02s/it, now=None]"
     ]
    },
    {
     "name": "stdout",
     "output_type": "stream",
     "text": [
      "MoviePy - Writing audio in Output\\Naruto_HD_Set_1_Disc_1-001\\Naruto_HD_Set_1_Disc_1-001_167000.mp3\n"
     ]
    },
    {
     "name": "stderr",
     "output_type": "stream",
     "text": [
      "\n",
      "chunk:   0%|                                                                          | 0/56 [00:00<?, ?it/s, now=None]\u001b[A\n",
      "chunk:  54%|██████████████████████████████████▎                             | 30/56 [00:00<00:00, 247.89it/s, now=None]\u001b[A\n",
      "chunk:   4%|██▌                                                        | 1/23 [2:06:44<46:28:12, 7604.19s/it, now=None]\u001b[A"
     ]
    },
    {
     "name": "stdout",
     "output_type": "stream",
     "text": [
      "MoviePy - Done.\n"
     ]
    },
    {
     "name": "stderr",
     "output_type": "stream",
     "text": [
      "chunk:   4%|██▌                                                        | 1/23 [2:06:44<46:28:24, 7604.77s/it, now=None]"
     ]
    },
    {
     "name": "stdout",
     "output_type": "stream",
     "text": [
      "MoviePy - Writing audio in Output\\Naruto_HD_Set_1_Disc_1-001\\Naruto_HD_Set_1_Disc_1-001_174500.mp3\n"
     ]
    },
    {
     "name": "stderr",
     "output_type": "stream",
     "text": [
      "\n",
      "chunk:   0%|                                                                          | 0/34 [00:00<?, ?it/s, now=None]\u001b[A\n",
      "chunk:  88%|████████████████████████████████████████████████████████▍       | 30/34 [00:00<00:00, 294.12it/s, now=None]\u001b[A\n",
      "chunk:   4%|██▌                                                        | 1/23 [2:06:44<46:28:28, 7604.91s/it, now=None]\u001b[A"
     ]
    },
    {
     "name": "stdout",
     "output_type": "stream",
     "text": [
      "MoviePy - Done.\n"
     ]
    },
    {
     "name": "stderr",
     "output_type": "stream",
     "text": [
      "chunk:   4%|██▌                                                        | 1/23 [2:06:45<46:28:40, 7605.46s/it, now=None]"
     ]
    },
    {
     "name": "stdout",
     "output_type": "stream",
     "text": [
      "MoviePy - Writing audio in Output\\Naruto_HD_Set_1_Disc_1-001\\Naruto_HD_Set_1_Disc_1-001_179000.mp3\n"
     ]
    },
    {
     "name": "stderr",
     "output_type": "stream",
     "text": [
      "\n",
      "chunk:   0%|                                                                          | 0/56 [00:00<?, ?it/s, now=None]\u001b[A\n",
      "chunk:  66%|██████████████████████████████████████████▎                     | 37/56 [00:00<00:00, 370.00it/s, now=None]\u001b[A\n",
      "chunk:   4%|██▌                                                        | 1/23 [2:06:45<46:28:43, 7605.62s/it, now=None]\u001b[A"
     ]
    },
    {
     "name": "stdout",
     "output_type": "stream",
     "text": [
      "MoviePy - Done.\n"
     ]
    },
    {
     "name": "stderr",
     "output_type": "stream",
     "text": [
      "chunk:   4%|██▌                                                        | 1/23 [2:06:47<46:29:17, 7607.16s/it, now=None]"
     ]
    },
    {
     "name": "stdout",
     "output_type": "stream",
     "text": [
      "MoviePy - Writing audio in Output\\Naruto_HD_Set_1_Disc_1-001\\Naruto_HD_Set_1_Disc_1-001_182000.mp3\n"
     ]
    },
    {
     "name": "stderr",
     "output_type": "stream",
     "text": [
      "\n",
      "chunk:   0%|                                                                          | 0/56 [00:00<?, ?it/s, now=None]\u001b[A\n",
      "chunk:  64%|█████████████████████████████████████████▏                      | 36/56 [00:00<00:00, 302.51it/s, now=None]\u001b[A\n",
      "chunk:   4%|██▌                                                        | 1/23 [2:06:47<46:29:21, 7607.33s/it, now=None]\u001b[A"
     ]
    },
    {
     "name": "stdout",
     "output_type": "stream",
     "text": [
      "MoviePy - Done.\n"
     ]
    },
    {
     "name": "stderr",
     "output_type": "stream",
     "text": [
      "chunk:   4%|██▌                                                        | 1/23 [2:06:48<46:29:55, 7608.89s/it, now=None]"
     ]
    },
    {
     "name": "stdout",
     "output_type": "stream",
     "text": [
      "MoviePy - Writing audio in Output\\Naruto_HD_Set_1_Disc_1-001\\Naruto_HD_Set_1_Disc_1-001_184500.mp3\n"
     ]
    },
    {
     "name": "stderr",
     "output_type": "stream",
     "text": [
      "\n",
      "chunk:   0%|                                                                          | 0/34 [00:00<?, ?it/s, now=None]\u001b[A\n",
      "chunk:  88%|████████████████████████████████████████████████████████▍       | 30/34 [00:00<00:00, 267.85it/s, now=None]\u001b[A\n",
      "chunk:   4%|██▌                                                        | 1/23 [2:06:49<46:29:58, 7609.03s/it, now=None]\u001b[A"
     ]
    },
    {
     "name": "stdout",
     "output_type": "stream",
     "text": [
      "MoviePy - Done.\n"
     ]
    },
    {
     "name": "stderr",
     "output_type": "stream",
     "text": [
      "chunk:   4%|██▌                                                        | 1/23 [2:06:49<46:30:13, 7609.70s/it, now=None]"
     ]
    },
    {
     "name": "stdout",
     "output_type": "stream",
     "text": [
      "MoviePy - Writing audio in Output\\Naruto_HD_Set_1_Disc_1-001\\Naruto_HD_Set_1_Disc_1-001_186000.mp3\n"
     ]
    },
    {
     "name": "stderr",
     "output_type": "stream",
     "text": [
      "\n",
      "chunk:   0%|                                                                          | 0/56 [00:00<?, ?it/s, now=None]\u001b[A\n",
      "chunk:  77%|█████████████████████████████████████████████████▏              | 43/56 [00:00<00:00, 429.99it/s, now=None]\u001b[A\n",
      "chunk:   4%|██▌                                                        | 1/23 [2:06:49<46:30:17, 7609.87s/it, now=None]\u001b[A"
     ]
    },
    {
     "name": "stdout",
     "output_type": "stream",
     "text": [
      "MoviePy - Done.\n"
     ]
    },
    {
     "name": "stderr",
     "output_type": "stream",
     "text": [
      "chunk:   4%|██▌                                                        | 1/23 [2:06:50<46:30:28, 7610.38s/it, now=None]"
     ]
    },
    {
     "name": "stdout",
     "output_type": "stream",
     "text": [
      "MoviePy - Writing audio in Output\\Naruto_HD_Set_1_Disc_1-001\\Naruto_HD_Set_1_Disc_1-001_190500.mp3\n"
     ]
    },
    {
     "name": "stderr",
     "output_type": "stream",
     "text": [
      "\n",
      "chunk:   0%|                                                                          | 0/34 [00:00<?, ?it/s, now=None]\u001b[A\n",
      "chunk:   4%|██▌                                                        | 1/23 [2:06:50<46:30:31, 7610.50s/it, now=None]\u001b[A"
     ]
    },
    {
     "name": "stdout",
     "output_type": "stream",
     "text": [
      "MoviePy - Done.\n"
     ]
    },
    {
     "name": "stderr",
     "output_type": "stream",
     "text": [
      "chunk:   4%|██▌                                                        | 1/23 [2:06:51<46:30:55, 7611.62s/it, now=None]"
     ]
    },
    {
     "name": "stdout",
     "output_type": "stream",
     "text": [
      "MoviePy - Writing audio in Output\\Naruto_HD_Set_1_Disc_1-001\\Naruto_HD_Set_1_Disc_1-001_193500.mp3\n"
     ]
    },
    {
     "name": "stderr",
     "output_type": "stream",
     "text": [
      "\n",
      "chunk:   0%|                                                                          | 0/78 [00:00<?, ?it/s, now=None]\u001b[A\n",
      "chunk:  37%|███████████████████████▊                                        | 29/78 [00:00<00:00, 256.32it/s, now=None]\u001b[A\n",
      "chunk:   4%|██▌                                                        | 1/23 [2:06:51<46:31:00, 7611.82s/it, now=None]\u001b[A"
     ]
    },
    {
     "name": "stdout",
     "output_type": "stream",
     "text": [
      "MoviePy - Done.\n"
     ]
    },
    {
     "name": "stderr",
     "output_type": "stream",
     "text": [
      "chunk:   4%|██▌                                                        | 1/23 [2:06:52<46:31:12, 7612.39s/it, now=None]"
     ]
    },
    {
     "name": "stdout",
     "output_type": "stream",
     "text": [
      "MoviePy - Writing audio in Output\\Naruto_HD_Set_1_Disc_1-001\\Naruto_HD_Set_1_Disc_1-001_196500.mp3\n"
     ]
    },
    {
     "name": "stderr",
     "output_type": "stream",
     "text": [
      "\n",
      "chunk:   0%|                                                                          | 0/34 [00:00<?, ?it/s, now=None]\u001b[A\n",
      "chunk:  88%|████████████████████████████████████████████████████████▍       | 30/34 [00:00<00:00, 263.15it/s, now=None]\u001b[A\n",
      "chunk:   4%|██▌                                                        | 1/23 [2:06:52<46:31:15, 7612.54s/it, now=None]\u001b[A"
     ]
    },
    {
     "name": "stdout",
     "output_type": "stream",
     "text": [
      "MoviePy - Done.\n"
     ]
    },
    {
     "name": "stderr",
     "output_type": "stream",
     "text": [
      "chunk:   4%|██▌                                                        | 1/23 [2:06:54<46:31:49, 7614.05s/it, now=None]"
     ]
    },
    {
     "name": "stdout",
     "output_type": "stream",
     "text": [
      "MoviePy - Writing audio in Output\\Naruto_HD_Set_1_Disc_1-001\\Naruto_HD_Set_1_Disc_1-001_199500.mp3\n"
     ]
    },
    {
     "name": "stderr",
     "output_type": "stream",
     "text": [
      "\n",
      "chunk:   0%|                                                                          | 0/34 [00:00<?, ?it/s, now=None]\u001b[A\n",
      "chunk:  88%|████████████████████████████████████████████████████████▍       | 30/34 [00:00<00:00, 260.88it/s, now=None]\u001b[A\n",
      "chunk:   4%|██▌                                                        | 1/23 [2:06:54<46:31:52, 7614.20s/it, now=None]\u001b[A"
     ]
    },
    {
     "name": "stdout",
     "output_type": "stream",
     "text": [
      "MoviePy - Done.\n"
     ]
    },
    {
     "name": "stderr",
     "output_type": "stream",
     "text": [
      "chunk:   4%|██▌                                                        | 1/23 [2:06:54<46:32:04, 7614.74s/it, now=None]"
     ]
    },
    {
     "name": "stdout",
     "output_type": "stream",
     "text": [
      "MoviePy - Writing audio in Output\\Naruto_HD_Set_1_Disc_1-001\\Naruto_HD_Set_1_Disc_1-001_208500.mp3\n"
     ]
    },
    {
     "name": "stderr",
     "output_type": "stream",
     "text": [
      "\n",
      "chunk:   0%|                                                                          | 0/34 [00:00<?, ?it/s, now=None]\u001b[A\n",
      "chunk:  88%|████████████████████████████████████████████████████████▍       | 30/34 [00:00<00:00, 270.27it/s, now=None]\u001b[A\n",
      "chunk:   4%|██▌                                                        | 1/23 [2:06:54<46:32:07, 7614.89s/it, now=None]\u001b[A"
     ]
    },
    {
     "name": "stdout",
     "output_type": "stream",
     "text": [
      "MoviePy - Done.\n"
     ]
    },
    {
     "name": "stderr",
     "output_type": "stream",
     "text": [
      "chunk:   4%|██▌                                                        | 1/23 [2:06:55<46:32:21, 7615.54s/it, now=None]"
     ]
    },
    {
     "name": "stdout",
     "output_type": "stream",
     "text": [
      "MoviePy - Writing audio in Output\\Naruto_HD_Set_1_Disc_1-001\\Naruto_HD_Set_1_Disc_1-001_209500.mp3\n"
     ]
    },
    {
     "name": "stderr",
     "output_type": "stream",
     "text": [
      "\n",
      "chunk:   0%|                                                                          | 0/34 [00:00<?, ?it/s, now=None]\u001b[A\n",
      "chunk:   4%|██▌                                                        | 1/23 [2:06:55<46:32:24, 7615.66s/it, now=None]\u001b[A"
     ]
    },
    {
     "name": "stdout",
     "output_type": "stream",
     "text": [
      "MoviePy - Done.\n"
     ]
    },
    {
     "name": "stderr",
     "output_type": "stream",
     "text": [
      "chunk:   4%|██▌                                                        | 1/23 [2:06:56<46:32:48, 7616.74s/it, now=None]"
     ]
    },
    {
     "name": "stdout",
     "output_type": "stream",
     "text": [
      "MoviePy - Writing audio in Output\\Naruto_HD_Set_1_Disc_1-001\\Naruto_HD_Set_1_Disc_1-001_211500.mp3\n"
     ]
    },
    {
     "name": "stderr",
     "output_type": "stream",
     "text": [
      "\n",
      "chunk:   0%|                                                                          | 0/34 [00:00<?, ?it/s, now=None]\u001b[A\n",
      "chunk:   4%|██▌                                                        | 1/23 [2:06:56<46:32:50, 7616.86s/it, now=None]\u001b[A"
     ]
    },
    {
     "name": "stdout",
     "output_type": "stream",
     "text": [
      "MoviePy - Done.\n"
     ]
    },
    {
     "name": "stderr",
     "output_type": "stream",
     "text": [
      "chunk:   4%|██▌                                                        | 1/23 [2:06:57<46:33:05, 7617.51s/it, now=None]"
     ]
    },
    {
     "name": "stdout",
     "output_type": "stream",
     "text": [
      "MoviePy - Writing audio in Output\\Naruto_HD_Set_1_Disc_1-001\\Naruto_HD_Set_1_Disc_1-001_213000.mp3\n"
     ]
    },
    {
     "name": "stderr",
     "output_type": "stream",
     "text": [
      "\n",
      "chunk:   0%|                                                                          | 0/56 [00:00<?, ?it/s, now=None]\u001b[A\n",
      "chunk:  54%|██████████████████████████████████▎                             | 30/56 [00:00<00:00, 275.25it/s, now=None]\u001b[A\n",
      "chunk:   4%|██▌                                                        | 1/23 [2:06:57<46:33:08, 7617.67s/it, now=None]\u001b[A"
     ]
    },
    {
     "name": "stdout",
     "output_type": "stream",
     "text": [
      "MoviePy - Done.\n"
     ]
    },
    {
     "name": "stderr",
     "output_type": "stream",
     "text": [
      "chunk:   4%|██▌                                                        | 1/23 [2:06:58<46:33:21, 7618.25s/it, now=None]"
     ]
    },
    {
     "name": "stdout",
     "output_type": "stream",
     "text": [
      "MoviePy - Writing audio in Output\\Naruto_HD_Set_1_Disc_1-001\\Naruto_HD_Set_1_Disc_1-001_229500.mp3\n"
     ]
    },
    {
     "name": "stderr",
     "output_type": "stream",
     "text": [
      "\n",
      "chunk:   0%|                                                                          | 0/34 [00:00<?, ?it/s, now=None]\u001b[A\n",
      "chunk:   6%|███▉                                                              | 2/34 [00:00<00:02, 15.04it/s, now=None]\u001b[A\n",
      "chunk:   4%|██▌                                                        | 1/23 [2:06:58<46:33:25, 7618.45s/it, now=None]\u001b[A"
     ]
    },
    {
     "name": "stdout",
     "output_type": "stream",
     "text": [
      "MoviePy - Done.\n"
     ]
    },
    {
     "name": "stderr",
     "output_type": "stream",
     "text": [
      "chunk:   4%|██▌                                                        | 1/23 [2:06:59<46:33:38, 7619.02s/it, now=None]"
     ]
    },
    {
     "name": "stdout",
     "output_type": "stream",
     "text": [
      "MoviePy - Writing audio in Output\\Naruto_HD_Set_1_Disc_1-001\\Naruto_HD_Set_1_Disc_1-001_231000.mp3\n"
     ]
    },
    {
     "name": "stderr",
     "output_type": "stream",
     "text": [
      "\n",
      "chunk:   0%|                                                                          | 0/56 [00:00<?, ?it/s, now=None]\u001b[A\n",
      "chunk:  54%|██████████████████████████████████▎                             | 30/56 [00:00<00:00, 300.00it/s, now=None]\u001b[A\n",
      "chunk:   4%|██▌                                                        | 1/23 [2:06:59<46:33:41, 7619.18s/it, now=None]\u001b[A"
     ]
    },
    {
     "name": "stdout",
     "output_type": "stream",
     "text": [
      "MoviePy - Done.\n"
     ]
    },
    {
     "name": "stderr",
     "output_type": "stream",
     "text": [
      "chunk:   4%|██▌                                                        | 1/23 [2:07:00<46:34:15, 7620.69s/it, now=None]"
     ]
    },
    {
     "name": "stdout",
     "output_type": "stream",
     "text": [
      "MoviePy - Writing audio in Output\\Naruto_HD_Set_1_Disc_1-001\\Naruto_HD_Set_1_Disc_1-001_233500.mp3\n"
     ]
    },
    {
     "name": "stderr",
     "output_type": "stream",
     "text": [
      "\n",
      "chunk:   0%|                                                                          | 0/34 [00:00<?, ?it/s, now=None]\u001b[A\n",
      "chunk:  88%|████████████████████████████████████████████████████████▍       | 30/34 [00:00<00:00, 265.50it/s, now=None]\u001b[A\n",
      "chunk:   4%|██▌                                                        | 1/23 [2:07:00<46:34:18, 7620.84s/it, now=None]\u001b[A"
     ]
    },
    {
     "name": "stdout",
     "output_type": "stream",
     "text": [
      "MoviePy - Done.\n"
     ]
    },
    {
     "name": "stderr",
     "output_type": "stream",
     "text": [
      "chunk:   4%|██▌                                                        | 1/23 [2:07:01<46:34:32, 7621.47s/it, now=None]"
     ]
    },
    {
     "name": "stdout",
     "output_type": "stream",
     "text": [
      "MoviePy - Writing audio in Output\\Naruto_HD_Set_1_Disc_1-001\\Naruto_HD_Set_1_Disc_1-001_234500.mp3\n"
     ]
    },
    {
     "name": "stderr",
     "output_type": "stream",
     "text": [
      "\n",
      "chunk:   0%|                                                                          | 0/34 [00:00<?, ?it/s, now=None]\u001b[A\n",
      "chunk:   4%|██▌                                                        | 1/23 [2:07:01<46:34:35, 7621.60s/it, now=None]\u001b[A"
     ]
    },
    {
     "name": "stdout",
     "output_type": "stream",
     "text": [
      "MoviePy - Done.\n"
     ]
    },
    {
     "name": "stderr",
     "output_type": "stream",
     "text": [
      "chunk:   4%|██▌                                                        | 1/23 [2:07:02<46:34:49, 7622.26s/it, now=None]"
     ]
    },
    {
     "name": "stdout",
     "output_type": "stream",
     "text": [
      "MoviePy - Writing audio in Output\\Naruto_HD_Set_1_Disc_1-001\\Naruto_HD_Set_1_Disc_1-001_235500.mp3\n"
     ]
    },
    {
     "name": "stderr",
     "output_type": "stream",
     "text": [
      "\n",
      "chunk:   0%|                                                                          | 0/34 [00:00<?, ?it/s, now=None]\u001b[A\n",
      "chunk:  88%|████████████████████████████████████████████████████████▍       | 30/34 [00:00<00:00, 275.21it/s, now=None]\u001b[A\n",
      "chunk:   4%|██▌                                                        | 1/23 [2:07:02<46:34:52, 7622.41s/it, now=None]\u001b[A"
     ]
    },
    {
     "name": "stdout",
     "output_type": "stream",
     "text": [
      "MoviePy - Done.\n"
     ]
    },
    {
     "name": "stderr",
     "output_type": "stream",
     "text": [
      "chunk:   4%|██▌                                                        | 1/23 [2:07:02<46:35:05, 7622.98s/it, now=None]"
     ]
    },
    {
     "name": "stdout",
     "output_type": "stream",
     "text": [
      "MoviePy - Writing audio in Output\\Naruto_HD_Set_1_Disc_1-001\\Naruto_HD_Set_1_Disc_1-001_236500.mp3\n"
     ]
    },
    {
     "name": "stderr",
     "output_type": "stream",
     "text": [
      "\n",
      "chunk:   0%|                                                                          | 0/34 [00:00<?, ?it/s, now=None]\u001b[A\n",
      "chunk:   4%|██▌                                                        | 1/23 [2:07:03<46:35:08, 7623.10s/it, now=None]\u001b[A"
     ]
    },
    {
     "name": "stdout",
     "output_type": "stream",
     "text": [
      "MoviePy - Done.\n"
     ]
    },
    {
     "name": "stderr",
     "output_type": "stream",
     "text": [
      "chunk:   4%|██▌                                                        | 1/23 [2:07:03<46:35:22, 7623.74s/it, now=None]"
     ]
    },
    {
     "name": "stdout",
     "output_type": "stream",
     "text": [
      "MoviePy - Writing audio in Output\\Naruto_HD_Set_1_Disc_1-001\\Naruto_HD_Set_1_Disc_1-001_241500.mp3\n"
     ]
    },
    {
     "name": "stderr",
     "output_type": "stream",
     "text": [
      "\n",
      "chunk:   0%|                                                                          | 0/34 [00:00<?, ?it/s, now=None]\u001b[A\n",
      "chunk:   4%|██▌                                                        | 1/23 [2:07:03<46:35:24, 7623.86s/it, now=None]\u001b[A"
     ]
    },
    {
     "name": "stdout",
     "output_type": "stream",
     "text": [
      "MoviePy - Done.\n"
     ]
    },
    {
     "name": "stderr",
     "output_type": "stream",
     "text": [
      "chunk:   4%|██▌                                                        | 1/23 [2:07:04<46:35:48, 7624.94s/it, now=None]"
     ]
    },
    {
     "name": "stdout",
     "output_type": "stream",
     "text": [
      "MoviePy - Writing audio in Output\\Naruto_HD_Set_1_Disc_1-001\\Naruto_HD_Set_1_Disc_1-001_243500.mp3\n"
     ]
    },
    {
     "name": "stderr",
     "output_type": "stream",
     "text": [
      "\n",
      "chunk:   0%|                                                                          | 0/34 [00:00<?, ?it/s, now=None]\u001b[A\n",
      "chunk:  88%|████████████████████████████████████████████████████████▍       | 30/34 [00:00<00:00, 263.17it/s, now=None]\u001b[A\n",
      "chunk:   4%|██▌                                                        | 1/23 [2:07:05<46:35:52, 7625.09s/it, now=None]\u001b[A"
     ]
    },
    {
     "name": "stdout",
     "output_type": "stream",
     "text": [
      "MoviePy - Done.\n"
     ]
    },
    {
     "name": "stderr",
     "output_type": "stream",
     "text": [
      "chunk:   4%|██▌                                                        | 1/23 [2:07:06<46:36:16, 7626.19s/it, now=None]"
     ]
    },
    {
     "name": "stdout",
     "output_type": "stream",
     "text": [
      "MoviePy - Writing audio in Output\\Naruto_HD_Set_1_Disc_1-001\\Naruto_HD_Set_1_Disc_1-001_246000.mp3\n"
     ]
    },
    {
     "name": "stderr",
     "output_type": "stream",
     "text": [
      "\n",
      "chunk:   0%|                                                                          | 0/56 [00:00<?, ?it/s, now=None]\u001b[A\n",
      "chunk:  54%|██████████████████████████████████▎                             | 30/56 [00:00<00:00, 272.73it/s, now=None]\u001b[A\n",
      "chunk:   4%|██▌                                                        | 1/23 [2:07:06<46:36:19, 7626.36s/it, now=None]\u001b[A"
     ]
    },
    {
     "name": "stdout",
     "output_type": "stream",
     "text": [
      "MoviePy - Done.\n"
     ]
    },
    {
     "name": "stderr",
     "output_type": "stream",
     "text": [
      "chunk:   4%|██▌                                                        | 1/23 [2:07:07<46:36:43, 7627.41s/it, now=None]"
     ]
    },
    {
     "name": "stdout",
     "output_type": "stream",
     "text": [
      "MoviePy - Writing audio in Output\\Naruto_HD_Set_1_Disc_1-001\\Naruto_HD_Set_1_Disc_1-001_247500.mp3\n"
     ]
    },
    {
     "name": "stderr",
     "output_type": "stream",
     "text": [
      "\n",
      "chunk:   0%|                                                                          | 0/34 [00:00<?, ?it/s, now=None]\u001b[A\n",
      "chunk:  88%|████████████████████████████████████████████████████████▍       | 30/34 [00:00<00:00, 272.74it/s, now=None]\u001b[A\n",
      "chunk:   4%|██▌                                                        | 1/23 [2:07:07<46:36:46, 7627.56s/it, now=None]\u001b[A"
     ]
    },
    {
     "name": "stdout",
     "output_type": "stream",
     "text": [
      "MoviePy - Done.\n"
     ]
    },
    {
     "name": "stderr",
     "output_type": "stream",
     "text": [
      "chunk:   4%|██▌                                                        | 1/23 [2:07:08<46:37:00, 7628.19s/it, now=None]"
     ]
    },
    {
     "name": "stdout",
     "output_type": "stream",
     "text": [
      "MoviePy - Writing audio in Output\\Naruto_HD_Set_1_Disc_1-001\\Naruto_HD_Set_1_Disc_1-001_248500.mp3\n"
     ]
    },
    {
     "name": "stderr",
     "output_type": "stream",
     "text": [
      "\n",
      "chunk:   0%|                                                                          | 0/34 [00:00<?, ?it/s, now=None]\u001b[A\n",
      "chunk:   4%|██▌                                                        | 1/23 [2:07:08<46:37:02, 7628.31s/it, now=None]\u001b[A"
     ]
    },
    {
     "name": "stdout",
     "output_type": "stream",
     "text": [
      "MoviePy - Done.\n"
     ]
    },
    {
     "name": "stderr",
     "output_type": "stream",
     "text": [
      "chunk:   4%|██▌                                                        | 1/23 [2:07:08<46:37:17, 7628.97s/it, now=None]"
     ]
    },
    {
     "name": "stdout",
     "output_type": "stream",
     "text": [
      "MoviePy - Writing audio in Output\\Naruto_HD_Set_1_Disc_1-001\\Naruto_HD_Set_1_Disc_1-001_249500.mp3\n"
     ]
    },
    {
     "name": "stderr",
     "output_type": "stream",
     "text": [
      "\n",
      "chunk:   0%|                                                                          | 0/34 [00:00<?, ?it/s, now=None]\u001b[A\n",
      "chunk:  88%|████████████████████████████████████████████████████████▍       | 30/34 [00:00<00:00, 265.48it/s, now=None]\u001b[A\n",
      "chunk:   4%|██▌                                                        | 1/23 [2:07:09<46:37:20, 7629.13s/it, now=None]\u001b[A"
     ]
    },
    {
     "name": "stdout",
     "output_type": "stream",
     "text": [
      "MoviePy - Done.\n"
     ]
    },
    {
     "name": "stderr",
     "output_type": "stream",
     "text": [
      "chunk:   4%|██▌                                                        | 1/23 [2:07:09<46:37:35, 7629.81s/it, now=None]"
     ]
    },
    {
     "name": "stdout",
     "output_type": "stream",
     "text": [
      "MoviePy - Writing audio in Output\\Naruto_HD_Set_1_Disc_1-001\\Naruto_HD_Set_1_Disc_1-001_250500.mp3\n"
     ]
    },
    {
     "name": "stderr",
     "output_type": "stream",
     "text": [
      "\n",
      "chunk:   0%|                                                                          | 0/34 [00:00<?, ?it/s, now=None]\u001b[A\n",
      "chunk:   4%|██▌                                                        | 1/23 [2:07:09<46:37:38, 7629.93s/it, now=None]\u001b[A"
     ]
    },
    {
     "name": "stdout",
     "output_type": "stream",
     "text": [
      "MoviePy - Done.\n"
     ]
    },
    {
     "name": "stderr",
     "output_type": "stream",
     "text": [
      "chunk:   4%|██▌                                                        | 1/23 [2:07:10<46:37:50, 7630.49s/it, now=None]"
     ]
    },
    {
     "name": "stdout",
     "output_type": "stream",
     "text": [
      "MoviePy - Writing audio in Output\\Naruto_HD_Set_1_Disc_1-001\\Naruto_HD_Set_1_Disc_1-001_251500.mp3\n"
     ]
    },
    {
     "name": "stderr",
     "output_type": "stream",
     "text": [
      "\n",
      "chunk:   0%|                                                                          | 0/34 [00:00<?, ?it/s, now=None]\u001b[A\n",
      "chunk:   4%|██▌                                                        | 1/23 [2:07:10<46:37:53, 7630.64s/it, now=None]\u001b[A"
     ]
    },
    {
     "name": "stdout",
     "output_type": "stream",
     "text": [
      "MoviePy - Done.\n"
     ]
    },
    {
     "name": "stderr",
     "output_type": "stream",
     "text": [
      "chunk:   4%|██▌                                                        | 1/23 [2:07:11<46:38:07, 7631.25s/it, now=None]"
     ]
    },
    {
     "name": "stdout",
     "output_type": "stream",
     "text": [
      "MoviePy - Writing audio in Output\\Naruto_HD_Set_1_Disc_1-001\\Naruto_HD_Set_1_Disc_1-001_252500.mp3\n"
     ]
    },
    {
     "name": "stderr",
     "output_type": "stream",
     "text": [
      "\n",
      "chunk:   0%|                                                                          | 0/34 [00:00<?, ?it/s, now=None]\u001b[A\n",
      "chunk:   4%|██▌                                                        | 1/23 [2:07:11<46:38:10, 7631.37s/it, now=None]\u001b[A"
     ]
    },
    {
     "name": "stdout",
     "output_type": "stream",
     "text": [
      "MoviePy - Done.\n"
     ]
    },
    {
     "name": "stderr",
     "output_type": "stream",
     "text": [
      "chunk:   4%|██▌                                                        | 1/23 [2:07:11<46:38:23, 7632.00s/it, now=None]"
     ]
    },
    {
     "name": "stdout",
     "output_type": "stream",
     "text": [
      "MoviePy - Writing audio in Output\\Naruto_HD_Set_1_Disc_1-001\\Naruto_HD_Set_1_Disc_1-001_253500.mp3\n"
     ]
    },
    {
     "name": "stderr",
     "output_type": "stream",
     "text": [
      "\n",
      "chunk:   0%|                                                                          | 0/34 [00:00<?, ?it/s, now=None]\u001b[A\n",
      "chunk:   4%|██▌                                                        | 1/23 [2:07:12<46:38:26, 7632.12s/it, now=None]\u001b[A"
     ]
    },
    {
     "name": "stdout",
     "output_type": "stream",
     "text": [
      "MoviePy - Done.\n"
     ]
    },
    {
     "name": "stderr",
     "output_type": "stream",
     "text": [
      "chunk:   4%|██▌                                                        | 1/23 [2:07:12<46:38:40, 7632.77s/it, now=None]"
     ]
    },
    {
     "name": "stdout",
     "output_type": "stream",
     "text": [
      "MoviePy - Writing audio in Output\\Naruto_HD_Set_1_Disc_1-001\\Naruto_HD_Set_1_Disc_1-001_254500.mp3\n"
     ]
    },
    {
     "name": "stderr",
     "output_type": "stream",
     "text": [
      "\n",
      "chunk:   0%|                                                                          | 0/34 [00:00<?, ?it/s, now=None]\u001b[A\n",
      "chunk:  88%|████████████████████████████████████████████████████████▍       | 30/34 [00:00<00:00, 278.58it/s, now=None]\u001b[A\n",
      "chunk:   4%|██▌                                                        | 1/23 [2:07:12<46:38:44, 7632.91s/it, now=None]\u001b[A"
     ]
    },
    {
     "name": "stdout",
     "output_type": "stream",
     "text": [
      "MoviePy - Done.\n"
     ]
    },
    {
     "name": "stderr",
     "output_type": "stream",
     "text": [
      "chunk:   4%|██▌                                                        | 1/23 [2:07:13<46:38:57, 7633.51s/it, now=None]"
     ]
    },
    {
     "name": "stdout",
     "output_type": "stream",
     "text": [
      "MoviePy - Writing audio in Output\\Naruto_HD_Set_1_Disc_1-001\\Naruto_HD_Set_1_Disc_1-001_255500.mp3\n"
     ]
    },
    {
     "name": "stderr",
     "output_type": "stream",
     "text": [
      "\n",
      "chunk:   0%|                                                                          | 0/34 [00:00<?, ?it/s, now=None]\u001b[A\n",
      "chunk:   4%|██▌                                                        | 1/23 [2:07:13<46:38:59, 7633.63s/it, now=None]\u001b[A"
     ]
    },
    {
     "name": "stdout",
     "output_type": "stream",
     "text": [
      "MoviePy - Done.\n"
     ]
    },
    {
     "name": "stderr",
     "output_type": "stream",
     "text": [
      "chunk:   4%|██▌                                                        | 1/23 [2:07:14<46:39:14, 7634.29s/it, now=None]"
     ]
    },
    {
     "name": "stdout",
     "output_type": "stream",
     "text": [
      "MoviePy - Writing audio in Output\\Naruto_HD_Set_1_Disc_1-001\\Naruto_HD_Set_1_Disc_1-001_256500.mp3\n"
     ]
    },
    {
     "name": "stderr",
     "output_type": "stream",
     "text": [
      "\n",
      "chunk:   0%|                                                                          | 0/34 [00:00<?, ?it/s, now=None]\u001b[A\n",
      "chunk:  88%|████████████████████████████████████████████████████████▍       | 30/34 [00:00<00:00, 265.48it/s, now=None]\u001b[A\n",
      "chunk:   4%|██▌                                                        | 1/23 [2:07:14<46:39:17, 7634.44s/it, now=None]\u001b[A"
     ]
    },
    {
     "name": "stdout",
     "output_type": "stream",
     "text": [
      "MoviePy - Done.\n"
     ]
    },
    {
     "name": "stderr",
     "output_type": "stream",
     "text": [
      "chunk:   4%|██▌                                                        | 1/23 [2:07:15<46:39:31, 7635.08s/it, now=None]"
     ]
    },
    {
     "name": "stdout",
     "output_type": "stream",
     "text": [
      "MoviePy - Writing audio in Output\\Naruto_HD_Set_1_Disc_1-001\\Naruto_HD_Set_1_Disc_1-001_258000.mp3\n"
     ]
    },
    {
     "name": "stderr",
     "output_type": "stream",
     "text": [
      "\n",
      "chunk:   0%|                                                                          | 0/56 [00:00<?, ?it/s, now=None]\u001b[A\n",
      "chunk:  75%|████████████████████████████████████████████████                | 42/56 [00:00<00:00, 420.00it/s, now=None]\u001b[A\n",
      "chunk:   4%|██▌                                                        | 1/23 [2:07:15<46:39:35, 7635.24s/it, now=None]\u001b[A"
     ]
    },
    {
     "name": "stdout",
     "output_type": "stream",
     "text": [
      "MoviePy - Done.\n"
     ]
    },
    {
     "name": "stderr",
     "output_type": "stream",
     "text": [
      "chunk:   4%|██▌                                                        | 1/23 [2:07:16<46:40:07, 7636.71s/it, now=None]"
     ]
    },
    {
     "name": "stdout",
     "output_type": "stream",
     "text": [
      "MoviePy - Writing audio in Output\\Naruto_HD_Set_1_Disc_1-001\\Naruto_HD_Set_1_Disc_1-001_261000.mp3\n"
     ]
    },
    {
     "name": "stderr",
     "output_type": "stream",
     "text": [
      "\n",
      "chunk:   0%|                                                                          | 0/56 [00:00<?, ?it/s, now=None]\u001b[A\n",
      "chunk:  70%|████████████████████████████████████████████▌                   | 39/56 [00:00<00:00, 328.58it/s, now=None]\u001b[A\n",
      "chunk:   4%|██▌                                                        | 1/23 [2:07:16<46:40:11, 7636.87s/it, now=None]\u001b[A"
     ]
    },
    {
     "name": "stdout",
     "output_type": "stream",
     "text": [
      "MoviePy - Done.\n"
     ]
    },
    {
     "name": "stderr",
     "output_type": "stream",
     "text": [
      "chunk:   4%|██▌                                                        | 1/23 [2:07:17<46:40:34, 7637.93s/it, now=None]"
     ]
    },
    {
     "name": "stdout",
     "output_type": "stream",
     "text": [
      "MoviePy - Writing audio in Output\\Naruto_HD_Set_1_Disc_1-001\\Naruto_HD_Set_1_Disc_1-001_262500.mp3\n"
     ]
    },
    {
     "name": "stderr",
     "output_type": "stream",
     "text": [
      "\n",
      "chunk:   0%|                                                                          | 0/34 [00:00<?, ?it/s, now=None]\u001b[A\n",
      "chunk:   4%|██▌                                                        | 1/23 [2:07:18<46:40:37, 7638.05s/it, now=None]\u001b[A"
     ]
    },
    {
     "name": "stdout",
     "output_type": "stream",
     "text": [
      "MoviePy - Done.\n"
     ]
    },
    {
     "name": "stderr",
     "output_type": "stream",
     "text": [
      "chunk:   4%|██▌                                                        | 1/23 [2:07:18<46:40:50, 7638.66s/it, now=None]"
     ]
    },
    {
     "name": "stdout",
     "output_type": "stream",
     "text": [
      "MoviePy - Writing audio in Output\\Naruto_HD_Set_1_Disc_1-001\\Naruto_HD_Set_1_Disc_1-001_267000.mp3\n"
     ]
    },
    {
     "name": "stderr",
     "output_type": "stream",
     "text": [
      "\n",
      "chunk:   0%|                                                                          | 0/56 [00:00<?, ?it/s, now=None]\u001b[A\n",
      "chunk:  75%|████████████████████████████████████████████████                | 42/56 [00:00<00:00, 415.84it/s, now=None]\u001b[A\n",
      "chunk:   4%|██▌                                                        | 1/23 [2:07:18<46:40:54, 7638.83s/it, now=None]\u001b[A"
     ]
    },
    {
     "name": "stdout",
     "output_type": "stream",
     "text": [
      "MoviePy - Done.\n"
     ]
    },
    {
     "name": "stderr",
     "output_type": "stream",
     "text": [
      "chunk:   4%|██▌                                                        | 1/23 [2:07:19<46:41:17, 7639.89s/it, now=None]"
     ]
    },
    {
     "name": "stdout",
     "output_type": "stream",
     "text": [
      "MoviePy - Writing audio in Output\\Naruto_HD_Set_1_Disc_1-001\\Naruto_HD_Set_1_Disc_1-001_268500.mp3\n"
     ]
    },
    {
     "name": "stderr",
     "output_type": "stream",
     "text": [
      "\n",
      "chunk:   0%|                                                                          | 0/34 [00:00<?, ?it/s, now=None]\u001b[A\n",
      "chunk:   4%|██▌                                                        | 1/23 [2:07:20<46:41:20, 7640.01s/it, now=None]\u001b[A"
     ]
    },
    {
     "name": "stdout",
     "output_type": "stream",
     "text": [
      "MoviePy - Done.\n"
     ]
    },
    {
     "name": "stderr",
     "output_type": "stream",
     "text": [
      "chunk:   4%|██▌                                                        | 1/23 [2:07:20<46:41:33, 7640.63s/it, now=None]"
     ]
    },
    {
     "name": "stdout",
     "output_type": "stream",
     "text": [
      "MoviePy - Writing audio in Output\\Naruto_HD_Set_1_Disc_1-001\\Naruto_HD_Set_1_Disc_1-001_269500.mp3\n"
     ]
    },
    {
     "name": "stderr",
     "output_type": "stream",
     "text": [
      "\n",
      "chunk:   0%|                                                                          | 0/34 [00:00<?, ?it/s, now=None]\u001b[A\n",
      "chunk:   4%|██▌                                                        | 1/23 [2:07:20<46:41:36, 7640.76s/it, now=None]\u001b[A"
     ]
    },
    {
     "name": "stdout",
     "output_type": "stream",
     "text": [
      "MoviePy - Done.\n"
     ]
    },
    {
     "name": "stderr",
     "output_type": "stream",
     "text": [
      "chunk:   4%|██▌                                                        | 1/23 [2:07:21<46:42:01, 7641.89s/it, now=None]"
     ]
    },
    {
     "name": "stdout",
     "output_type": "stream",
     "text": [
      "MoviePy - Writing audio in Output\\Naruto_HD_Set_1_Disc_1-001\\Naruto_HD_Set_1_Disc_1-001_271500.mp3\n"
     ]
    },
    {
     "name": "stderr",
     "output_type": "stream",
     "text": [
      "\n",
      "chunk:   0%|                                                                          | 0/34 [00:00<?, ?it/s, now=None]\u001b[A\n",
      "chunk:   4%|██▌                                                        | 1/23 [2:07:22<46:42:04, 7642.02s/it, now=None]\u001b[A"
     ]
    },
    {
     "name": "stdout",
     "output_type": "stream",
     "text": [
      "MoviePy - Done.\n"
     ]
    },
    {
     "name": "stderr",
     "output_type": "stream",
     "text": [
      "chunk:   4%|██▌                                                        | 1/23 [2:07:22<46:42:17, 7642.62s/it, now=None]"
     ]
    },
    {
     "name": "stdout",
     "output_type": "stream",
     "text": [
      "MoviePy - Writing audio in Output\\Naruto_HD_Set_1_Disc_1-001\\Naruto_HD_Set_1_Disc_1-001_272500.mp3\n"
     ]
    },
    {
     "name": "stderr",
     "output_type": "stream",
     "text": [
      "\n",
      "chunk:   0%|                                                                          | 0/34 [00:00<?, ?it/s, now=None]\u001b[A\n",
      "chunk:   4%|██▌                                                        | 1/23 [2:07:22<46:42:20, 7642.74s/it, now=None]\u001b[A"
     ]
    },
    {
     "name": "stdout",
     "output_type": "stream",
     "text": [
      "MoviePy - Done.\n"
     ]
    },
    {
     "name": "stderr",
     "output_type": "stream",
     "text": [
      "chunk:   4%|██▌                                                        | 1/23 [2:07:23<46:42:32, 7643.28s/it, now=None]"
     ]
    },
    {
     "name": "stdout",
     "output_type": "stream",
     "text": [
      "MoviePy - Writing audio in Output\\Naruto_HD_Set_1_Disc_1-001\\Naruto_HD_Set_1_Disc_1-001_285500.mp3\n"
     ]
    },
    {
     "name": "stderr",
     "output_type": "stream",
     "text": [
      "\n",
      "chunk:   0%|                                                                          | 0/34 [00:00<?, ?it/s, now=None]\u001b[A\n",
      "chunk:   6%|███▉                                                              | 2/34 [00:00<00:01, 19.23it/s, now=None]\u001b[A\n",
      "chunk:   4%|██▌                                                        | 1/23 [2:07:23<46:42:35, 7643.45s/it, now=None]\u001b[A"
     ]
    },
    {
     "name": "stdout",
     "output_type": "stream",
     "text": [
      "MoviePy - Done.\n"
     ]
    },
    {
     "name": "stderr",
     "output_type": "stream",
     "text": [
      "chunk:   4%|██▌                                                        | 1/23 [2:07:24<46:42:59, 7644.54s/it, now=None]"
     ]
    },
    {
     "name": "stdout",
     "output_type": "stream",
     "text": [
      "MoviePy - Writing audio in Output\\Naruto_HD_Set_1_Disc_1-001\\Naruto_HD_Set_1_Disc_1-001_287500.mp3\n"
     ]
    },
    {
     "name": "stderr",
     "output_type": "stream",
     "text": [
      "\n",
      "chunk:   0%|                                                                          | 0/34 [00:00<?, ?it/s, now=None]\u001b[A\n",
      "chunk:  88%|████████████████████████████████████████████████████████▍       | 30/34 [00:00<00:00, 280.38it/s, now=None]\u001b[A\n",
      "chunk:   4%|██▌                                                        | 1/23 [2:07:24<46:43:03, 7644.68s/it, now=None]\u001b[A"
     ]
    },
    {
     "name": "stdout",
     "output_type": "stream",
     "text": [
      "MoviePy - Done.\n"
     ]
    },
    {
     "name": "stderr",
     "output_type": "stream",
     "text": [
      "chunk:   4%|██▌                                                        | 1/23 [2:07:25<46:43:16, 7645.32s/it, now=None]"
     ]
    },
    {
     "name": "stdout",
     "output_type": "stream",
     "text": [
      "MoviePy - Writing audio in Output\\Naruto_HD_Set_1_Disc_1-001\\Naruto_HD_Set_1_Disc_1-001_289000.mp3\n"
     ]
    },
    {
     "name": "stderr",
     "output_type": "stream",
     "text": [
      "\n",
      "chunk:   0%|                                                                          | 0/56 [00:00<?, ?it/s, now=None]\u001b[A\n",
      "chunk:  66%|██████████████████████████████████████████▎                     | 37/56 [00:00<00:00, 324.57it/s, now=None]\u001b[A\n",
      "chunk:   4%|██▌                                                        | 1/23 [2:07:25<46:43:20, 7645.47s/it, now=None]\u001b[A"
     ]
    },
    {
     "name": "stdout",
     "output_type": "stream",
     "text": [
      "MoviePy - Done.\n"
     ]
    },
    {
     "name": "stderr",
     "output_type": "stream",
     "text": [
      "chunk:   4%|██▌                                                        | 1/23 [2:07:27<46:43:55, 7647.05s/it, now=None]"
     ]
    },
    {
     "name": "stdout",
     "output_type": "stream",
     "text": [
      "MoviePy - Writing audio in Output\\Naruto_HD_Set_1_Disc_1-001\\Naruto_HD_Set_1_Disc_1-001_292500.mp3\n"
     ]
    },
    {
     "name": "stderr",
     "output_type": "stream",
     "text": [
      "\n",
      "chunk:   0%|                                                                          | 0/78 [00:00<?, ?it/s, now=None]\u001b[A\n",
      "chunk:  37%|███████████████████████▊                                        | 29/78 [00:00<00:00, 256.65it/s, now=None]\u001b[A\n",
      "chunk:   4%|██▌                                                        | 1/23 [2:07:27<46:43:59, 7647.25s/it, now=None]\u001b[A"
     ]
    },
    {
     "name": "stdout",
     "output_type": "stream",
     "text": [
      "MoviePy - Done.\n"
     ]
    },
    {
     "name": "stderr",
     "output_type": "stream",
     "text": [
      "chunk:   4%|██▌                                                        | 1/23 [2:07:28<46:44:32, 7648.76s/it, now=None]"
     ]
    },
    {
     "name": "stdout",
     "output_type": "stream",
     "text": [
      "MoviePy - Writing audio in Output\\Naruto_HD_Set_1_Disc_1-001\\Naruto_HD_Set_1_Disc_1-001_295000.mp3\n"
     ]
    },
    {
     "name": "stderr",
     "output_type": "stream",
     "text": [
      "\n",
      "chunk:   0%|                                                                          | 0/56 [00:00<?, ?it/s, now=None]\u001b[A\n",
      "chunk:  82%|████████████████████████████████████████████████████▌           | 46/56 [00:00<00:00, 460.00it/s, now=None]\u001b[A\n",
      "chunk:   4%|██▌                                                        | 1/23 [2:07:28<46:44:36, 7648.92s/it, now=None]\u001b[A"
     ]
    },
    {
     "name": "stdout",
     "output_type": "stream",
     "text": [
      "MoviePy - Done.\n"
     ]
    },
    {
     "name": "stderr",
     "output_type": "stream",
     "text": [
      "chunk:   4%|██▌                                                        | 1/23 [2:07:29<46:44:48, 7649.47s/it, now=None]"
     ]
    },
    {
     "name": "stdout",
     "output_type": "stream",
     "text": [
      "MoviePy - Writing audio in Output\\Naruto_HD_Set_1_Disc_1-001\\Naruto_HD_Set_1_Disc_1-001_302500.mp3\n"
     ]
    },
    {
     "name": "stderr",
     "output_type": "stream",
     "text": [
      "\n",
      "chunk:   0%|                                                                          | 0/34 [00:00<?, ?it/s, now=None]\u001b[A\n",
      "chunk:   4%|██▌                                                        | 1/23 [2:07:29<46:44:51, 7649.59s/it, now=None]\u001b[A"
     ]
    },
    {
     "name": "stdout",
     "output_type": "stream",
     "text": [
      "MoviePy - Done.\n"
     ]
    },
    {
     "name": "stderr",
     "output_type": "stream",
     "text": [
      "chunk:   4%|██▌                                                        | 1/23 [2:07:30<46:45:04, 7650.21s/it, now=None]"
     ]
    },
    {
     "name": "stdout",
     "output_type": "stream",
     "text": [
      "MoviePy - Writing audio in Output\\Naruto_HD_Set_1_Disc_1-001\\Naruto_HD_Set_1_Disc_1-001_304000.mp3\n"
     ]
    },
    {
     "name": "stderr",
     "output_type": "stream",
     "text": [
      "\n",
      "chunk:   0%|                                                                          | 0/56 [00:00<?, ?it/s, now=None]\u001b[A\n",
      "chunk:  75%|████████████████████████████████████████████████                | 42/56 [00:00<00:00, 415.85it/s, now=None]\u001b[A\n",
      "chunk:   4%|██▌                                                        | 1/23 [2:07:30<46:45:07, 7650.36s/it, now=None]\u001b[A"
     ]
    },
    {
     "name": "stdout",
     "output_type": "stream",
     "text": [
      "MoviePy - Done.\n"
     ]
    },
    {
     "name": "stderr",
     "output_type": "stream",
     "text": [
      "chunk:   4%|██▌                                                        | 1/23 [2:07:31<46:45:31, 7651.45s/it, now=None]"
     ]
    },
    {
     "name": "stdout",
     "output_type": "stream",
     "text": [
      "MoviePy - Writing audio in Output\\Naruto_HD_Set_1_Disc_1-001\\Naruto_HD_Set_1_Disc_1-001_306500.mp3\n"
     ]
    },
    {
     "name": "stderr",
     "output_type": "stream",
     "text": [
      "\n",
      "chunk:   0%|                                                                          | 0/78 [00:00<?, ?it/s, now=None]\u001b[A\n",
      "chunk:  46%|█████████████████████████████▌                                  | 36/78 [00:00<00:00, 321.41it/s, now=None]\u001b[A\n",
      "chunk:   4%|██▌                                                        | 1/23 [2:07:31<46:45:35, 7651.63s/it, now=None]\u001b[A"
     ]
    },
    {
     "name": "stdout",
     "output_type": "stream",
     "text": [
      "MoviePy - Done.\n"
     ]
    },
    {
     "name": "stderr",
     "output_type": "stream",
     "text": [
      "chunk:   4%|██▌                                                        | 1/23 [2:07:32<46:45:46, 7652.11s/it, now=None]"
     ]
    },
    {
     "name": "stdout",
     "output_type": "stream",
     "text": [
      "MoviePy - Writing audio in Output\\Naruto_HD_Set_1_Disc_1-001\\Naruto_HD_Set_1_Disc_1-001_312000.mp3\n"
     ]
    },
    {
     "name": "stderr",
     "output_type": "stream",
     "text": [
      "\n",
      "chunk:   0%|                                                                          | 0/56 [00:00<?, ?it/s, now=None]\u001b[A\n",
      "chunk:  61%|██████████████████████████████████████▊                         | 34/56 [00:00<00:00, 336.65it/s, now=None]\u001b[A\n",
      "chunk:   4%|██▌                                                        | 1/23 [2:07:32<46:45:50, 7652.28s/it, now=None]\u001b[A"
     ]
    },
    {
     "name": "stdout",
     "output_type": "stream",
     "text": [
      "MoviePy - Done.\n"
     ]
    },
    {
     "name": "stderr",
     "output_type": "stream",
     "text": [
      "chunk:   4%|██▌                                                        | 1/23 [2:07:33<46:46:14, 7653.39s/it, now=None]"
     ]
    },
    {
     "name": "stdout",
     "output_type": "stream",
     "text": [
      "MoviePy - Writing audio in Output\\Naruto_HD_Set_1_Disc_1-001\\Naruto_HD_Set_1_Disc_1-001_314000.mp3\n"
     ]
    },
    {
     "name": "stderr",
     "output_type": "stream",
     "text": [
      "\n",
      "chunk:   0%|                                                                          | 0/56 [00:00<?, ?it/s, now=None]\u001b[A\n",
      "chunk:  80%|███████████████████████████████████████████████████▍            | 45/56 [00:00<00:00, 445.56it/s, now=None]\u001b[A\n",
      "chunk:   4%|██▌                                                        | 1/23 [2:07:33<46:46:17, 7653.53s/it, now=None]\u001b[A"
     ]
    },
    {
     "name": "stdout",
     "output_type": "stream",
     "text": [
      "MoviePy - Done.\n"
     ]
    },
    {
     "name": "stderr",
     "output_type": "stream",
     "text": [
      "chunk:   4%|██▌                                                        | 1/23 [2:07:34<46:46:41, 7654.62s/it, now=None]"
     ]
    },
    {
     "name": "stdout",
     "output_type": "stream",
     "text": [
      "MoviePy - Writing audio in Output\\Naruto_HD_Set_1_Disc_1-001\\Naruto_HD_Set_1_Disc_1-001_316000.mp3\n"
     ]
    },
    {
     "name": "stderr",
     "output_type": "stream",
     "text": [
      "\n",
      "chunk:   0%|                                                                          | 0/56 [00:00<?, ?it/s, now=None]\u001b[A\n",
      "chunk:  54%|██████████████████████████████████▎                             | 30/56 [00:00<00:00, 272.73it/s, now=None]\u001b[A\n",
      "chunk:   4%|██▌                                                        | 1/23 [2:07:34<46:46:45, 7654.78s/it, now=None]\u001b[A"
     ]
    },
    {
     "name": "stdout",
     "output_type": "stream",
     "text": [
      "MoviePy - Done.\n"
     ]
    },
    {
     "name": "stderr",
     "output_type": "stream",
     "text": [
      "chunk:   4%|██▌                                                        | 1/23 [2:07:35<46:47:07, 7655.80s/it, now=None]"
     ]
    },
    {
     "name": "stdout",
     "output_type": "stream",
     "text": [
      "MoviePy - Writing audio in Output\\Naruto_HD_Set_1_Disc_1-001\\Naruto_HD_Set_1_Disc_1-001_317500.mp3\n"
     ]
    },
    {
     "name": "stderr",
     "output_type": "stream",
     "text": [
      "\n",
      "chunk:   0%|                                                                          | 0/34 [00:00<?, ?it/s, now=None]\u001b[A\n",
      "chunk:  88%|████████████████████████████████████████████████████████▍       | 30/34 [00:00<00:00, 270.27it/s, now=None]\u001b[A\n",
      "chunk:   4%|██▌                                                        | 1/23 [2:07:35<46:47:10, 7655.95s/it, now=None]\u001b[A"
     ]
    },
    {
     "name": "stdout",
     "output_type": "stream",
     "text": [
      "MoviePy - Done.\n"
     ]
    },
    {
     "name": "stderr",
     "output_type": "stream",
     "text": [
      "chunk:   4%|██▌                                                        | 1/23 [2:07:36<46:47:23, 7656.54s/it, now=None]"
     ]
    },
    {
     "name": "stdout",
     "output_type": "stream",
     "text": [
      "MoviePy - Writing audio in Output\\Naruto_HD_Set_1_Disc_1-001\\Naruto_HD_Set_1_Disc_1-001_318500.mp3\n"
     ]
    },
    {
     "name": "stderr",
     "output_type": "stream",
     "text": [
      "\n",
      "chunk:   0%|                                                                          | 0/34 [00:00<?, ?it/s, now=None]\u001b[A\n",
      "chunk:   4%|██▌                                                        | 1/23 [2:07:36<46:47:26, 7656.65s/it, now=None]\u001b[A"
     ]
    },
    {
     "name": "stdout",
     "output_type": "stream",
     "text": [
      "MoviePy - Done.\n"
     ]
    },
    {
     "name": "stderr",
     "output_type": "stream",
     "text": [
      "chunk:   4%|██▌                                                        | 1/23 [2:07:37<46:47:40, 7657.30s/it, now=None]"
     ]
    },
    {
     "name": "stdout",
     "output_type": "stream",
     "text": [
      "MoviePy - Writing audio in Output\\Naruto_HD_Set_1_Disc_1-001\\Naruto_HD_Set_1_Disc_1-001_319500.mp3\n"
     ]
    },
    {
     "name": "stderr",
     "output_type": "stream",
     "text": [
      "\n",
      "chunk:   0%|                                                                          | 0/34 [00:00<?, ?it/s, now=None]\u001b[A\n",
      "chunk:  88%|████████████████████████████████████████████████████████▍       | 30/34 [00:00<00:00, 270.27it/s, now=None]\u001b[A\n",
      "chunk:   4%|██▌                                                        | 1/23 [2:07:37<46:47:43, 7657.44s/it, now=None]\u001b[A"
     ]
    },
    {
     "name": "stdout",
     "output_type": "stream",
     "text": [
      "MoviePy - Done.\n"
     ]
    },
    {
     "name": "stderr",
     "output_type": "stream",
     "text": [
      "chunk:   4%|██▌                                                        | 1/23 [2:07:38<46:47:57, 7658.07s/it, now=None]"
     ]
    },
    {
     "name": "stdout",
     "output_type": "stream",
     "text": [
      "MoviePy - Writing audio in Output\\Naruto_HD_Set_1_Disc_1-001\\Naruto_HD_Set_1_Disc_1-001_321000.mp3\n"
     ]
    },
    {
     "name": "stderr",
     "output_type": "stream",
     "text": [
      "\n",
      "chunk:   0%|                                                                          | 0/56 [00:00<?, ?it/s, now=None]\u001b[A\n",
      "chunk:  66%|██████████████████████████████████████████▎                     | 37/56 [00:00<00:00, 369.99it/s, now=None]\u001b[A\n",
      "chunk:   4%|██▌                                                        | 1/23 [2:07:38<46:48:01, 7658.24s/it, now=None]\u001b[A"
     ]
    },
    {
     "name": "stdout",
     "output_type": "stream",
     "text": [
      "MoviePy - Done.\n"
     ]
    },
    {
     "name": "stderr",
     "output_type": "stream",
     "text": [
      "chunk:   4%|██▌                                                        | 1/23 [2:07:39<46:48:24, 7659.31s/it, now=None]"
     ]
    },
    {
     "name": "stdout",
     "output_type": "stream",
     "text": [
      "MoviePy - Writing audio in Output\\Naruto_HD_Set_1_Disc_1-001\\Naruto_HD_Set_1_Disc_1-001_322500.mp3\n"
     ]
    },
    {
     "name": "stderr",
     "output_type": "stream",
     "text": [
      "\n",
      "chunk:   0%|                                                                          | 0/34 [00:00<?, ?it/s, now=None]\u001b[A\n",
      "chunk:   4%|██▌                                                        | 1/23 [2:07:39<46:48:27, 7659.43s/it, now=None]\u001b[A"
     ]
    },
    {
     "name": "stdout",
     "output_type": "stream",
     "text": [
      "MoviePy - Done.\n"
     ]
    },
    {
     "name": "stderr",
     "output_type": "stream",
     "text": [
      "chunk:   4%|██▌                                                        | 1/23 [2:07:40<46:48:41, 7660.06s/it, now=None]"
     ]
    },
    {
     "name": "stdout",
     "output_type": "stream",
     "text": [
      "MoviePy - Writing audio in Output\\Naruto_HD_Set_1_Disc_1-001\\Naruto_HD_Set_1_Disc_1-001_324000.mp3\n"
     ]
    },
    {
     "name": "stderr",
     "output_type": "stream",
     "text": [
      "\n",
      "chunk:   0%|                                                                          | 0/56 [00:00<?, ?it/s, now=None]\u001b[A\n",
      "chunk:  73%|██████████████████████████████████████████████▊                 | 41/56 [00:00<00:00, 338.85it/s, now=None]\u001b[A\n",
      "chunk:   4%|██▌                                                        | 1/23 [2:07:40<46:48:44, 7660.22s/it, now=None]\u001b[A"
     ]
    },
    {
     "name": "stdout",
     "output_type": "stream",
     "text": [
      "MoviePy - Done.\n"
     ]
    },
    {
     "name": "stderr",
     "output_type": "stream",
     "text": [
      "chunk:   4%|██▌                                                        | 1/23 [2:07:41<46:49:07, 7661.27s/it, now=None]"
     ]
    },
    {
     "name": "stdout",
     "output_type": "stream",
     "text": [
      "MoviePy - Writing audio in Output\\Naruto_HD_Set_1_Disc_1-001\\Naruto_HD_Set_1_Disc_1-001_325500.mp3\n"
     ]
    },
    {
     "name": "stderr",
     "output_type": "stream",
     "text": [
      "\n",
      "chunk:   0%|                                                                          | 0/34 [00:00<?, ?it/s, now=None]\u001b[A\n",
      "chunk:   4%|██▌                                                        | 1/23 [2:07:41<46:49:10, 7661.38s/it, now=None]\u001b[A"
     ]
    },
    {
     "name": "stdout",
     "output_type": "stream",
     "text": [
      "MoviePy - Done.\n"
     ]
    },
    {
     "name": "stderr",
     "output_type": "stream",
     "text": [
      "chunk:   4%|██▌                                                        | 1/23 [2:07:42<46:49:24, 7662.01s/it, now=None]"
     ]
    },
    {
     "name": "stdout",
     "output_type": "stream",
     "text": [
      "MoviePy - Writing audio in Output\\Naruto_HD_Set_1_Disc_1-001\\Naruto_HD_Set_1_Disc_1-001_326500.mp3\n"
     ]
    },
    {
     "name": "stderr",
     "output_type": "stream",
     "text": [
      "\n",
      "chunk:   0%|                                                                          | 0/34 [00:00<?, ?it/s, now=None]\u001b[A\n",
      "chunk:  88%|████████████████████████████████████████████████████████▍       | 30/34 [00:00<00:00, 265.50it/s, now=None]\u001b[A\n",
      "chunk:   4%|██▌                                                        | 1/23 [2:07:42<46:49:27, 7662.16s/it, now=None]\u001b[A"
     ]
    },
    {
     "name": "stdout",
     "output_type": "stream",
     "text": [
      "MoviePy - Done.\n"
     ]
    },
    {
     "name": "stderr",
     "output_type": "stream",
     "text": [
      "chunk:   4%|██▌                                                        | 1/23 [2:07:42<46:49:41, 7662.78s/it, now=None]"
     ]
    },
    {
     "name": "stdout",
     "output_type": "stream",
     "text": [
      "MoviePy - Writing audio in Output\\Naruto_HD_Set_1_Disc_1-001\\Naruto_HD_Set_1_Disc_1-001_328000.mp3\n"
     ]
    },
    {
     "name": "stderr",
     "output_type": "stream",
     "text": [
      "\n",
      "chunk:   0%|                                                                          | 0/56 [00:00<?, ?it/s, now=None]\u001b[A\n",
      "chunk:  84%|█████████████████████████████████████████████████████▋          | 47/56 [00:00<00:00, 469.99it/s, now=None]\u001b[A\n",
      "chunk:   4%|██▌                                                        | 1/23 [2:07:42<46:49:44, 7662.94s/it, now=None]\u001b[A"
     ]
    },
    {
     "name": "stdout",
     "output_type": "stream",
     "text": [
      "MoviePy - Done.\n"
     ]
    },
    {
     "name": "stderr",
     "output_type": "stream",
     "text": [
      "chunk:   4%|██▌                                                        | 1/23 [2:07:43<46:50:07, 7663.98s/it, now=None]"
     ]
    },
    {
     "name": "stdout",
     "output_type": "stream",
     "text": [
      "MoviePy - Writing audio in Output\\Naruto_HD_Set_1_Disc_1-001\\Naruto_HD_Set_1_Disc_1-001_330000.mp3\n"
     ]
    },
    {
     "name": "stderr",
     "output_type": "stream",
     "text": [
      "\n",
      "chunk:   0%|                                                                          | 0/56 [00:00<?, ?it/s, now=None]\u001b[A\n",
      "chunk:  86%|██████████████████████████████████████████████████████▊         | 48/56 [00:00<00:00, 475.26it/s, now=None]\u001b[A\n",
      "chunk:   4%|██▌                                                        | 1/23 [2:07:44<46:50:10, 7664.12s/it, now=None]\u001b[A"
     ]
    },
    {
     "name": "stdout",
     "output_type": "stream",
     "text": [
      "MoviePy - Done.\n"
     ]
    },
    {
     "name": "stderr",
     "output_type": "stream",
     "text": [
      "chunk:   4%|██▌                                                        | 1/23 [2:07:45<46:50:45, 7665.70s/it, now=None]"
     ]
    },
    {
     "name": "stdout",
     "output_type": "stream",
     "text": [
      "MoviePy - Writing audio in Output\\Naruto_HD_Set_1_Disc_1-001\\Naruto_HD_Set_1_Disc_1-001_333000.mp3\n"
     ]
    },
    {
     "name": "stderr",
     "output_type": "stream",
     "text": [
      "\n",
      "chunk:   0%|                                                                          | 0/56 [00:00<?, ?it/s, now=None]\u001b[A\n",
      "chunk:  80%|███████████████████████████████████████████████████▍            | 45/56 [00:00<00:00, 445.54it/s, now=None]\u001b[A\n",
      "chunk:   4%|██▌                                                        | 1/23 [2:07:45<46:50:49, 7665.87s/it, now=None]\u001b[A"
     ]
    },
    {
     "name": "stdout",
     "output_type": "stream",
     "text": [
      "MoviePy - Done.\n"
     ]
    },
    {
     "name": "stderr",
     "output_type": "stream",
     "text": [
      "chunk:   4%|██▌                                                        | 1/23 [2:07:47<46:51:14, 7667.03s/it, now=None]"
     ]
    },
    {
     "name": "stdout",
     "output_type": "stream",
     "text": [
      "MoviePy - Writing audio in Output\\Naruto_HD_Set_1_Disc_1-001\\Naruto_HD_Set_1_Disc_1-001_334500.mp3\n"
     ]
    },
    {
     "name": "stderr",
     "output_type": "stream",
     "text": [
      "\n",
      "chunk:   0%|                                                                          | 0/34 [00:00<?, ?it/s, now=None]\u001b[A\n",
      "chunk:   4%|██▌                                                        | 1/23 [2:07:47<46:51:17, 7667.16s/it, now=None]\u001b[A"
     ]
    },
    {
     "name": "stdout",
     "output_type": "stream",
     "text": [
      "MoviePy - Done.\n"
     ]
    },
    {
     "name": "stderr",
     "output_type": "stream",
     "text": [
      "chunk:   4%|██▌                                                        | 1/23 [2:07:47<46:51:31, 7667.78s/it, now=None]"
     ]
    },
    {
     "name": "stdout",
     "output_type": "stream",
     "text": [
      "MoviePy - Writing audio in Output\\Naruto_HD_Set_1_Disc_1-001\\Naruto_HD_Set_1_Disc_1-001_336000.mp3\n"
     ]
    },
    {
     "name": "stderr",
     "output_type": "stream",
     "text": [
      "\n",
      "chunk:   0%|                                                                          | 0/56 [00:00<?, ?it/s, now=None]\u001b[A\n",
      "chunk:  64%|█████████████████████████████████████████▏                      | 36/56 [00:00<00:00, 321.44it/s, now=None]\u001b[A\n",
      "chunk:   4%|██▌                                                        | 1/23 [2:07:47<46:51:34, 7667.94s/it, now=None]\u001b[A"
     ]
    },
    {
     "name": "stdout",
     "output_type": "stream",
     "text": [
      "MoviePy - Done.\n"
     ]
    },
    {
     "name": "stderr",
     "output_type": "stream",
     "text": [
      "chunk:   4%|██▌                                                        | 1/23 [2:07:48<46:51:57, 7669.00s/it, now=None]"
     ]
    },
    {
     "name": "stdout",
     "output_type": "stream",
     "text": [
      "MoviePy - Writing audio in Output\\Naruto_HD_Set_1_Disc_1-001\\Naruto_HD_Set_1_Disc_1-001_337500.mp3\n"
     ]
    },
    {
     "name": "stderr",
     "output_type": "stream",
     "text": [
      "\n",
      "chunk:   0%|                                                                          | 0/34 [00:00<?, ?it/s, now=None]\u001b[A\n",
      "chunk:   4%|██▌                                                        | 1/23 [2:07:49<46:52:00, 7669.12s/it, now=None]\u001b[A"
     ]
    },
    {
     "name": "stdout",
     "output_type": "stream",
     "text": [
      "MoviePy - Done.\n"
     ]
    },
    {
     "name": "stderr",
     "output_type": "stream",
     "text": [
      "chunk:   4%|██▌                                                        | 1/23 [2:07:49<46:52:14, 7669.75s/it, now=None]"
     ]
    },
    {
     "name": "stdout",
     "output_type": "stream",
     "text": [
      "MoviePy - Writing audio in Output\\Naruto_HD_Set_1_Disc_1-001\\Naruto_HD_Set_1_Disc_1-001_338500.mp3\n"
     ]
    },
    {
     "name": "stderr",
     "output_type": "stream",
     "text": [
      "\n",
      "chunk:   0%|                                                                          | 0/34 [00:00<?, ?it/s, now=None]\u001b[A\n",
      "chunk:  88%|████████████████████████████████████████████████████████▍       | 30/34 [00:00<00:00, 280.38it/s, now=None]\u001b[A\n",
      "chunk:   4%|██▌                                                        | 1/23 [2:07:49<46:52:17, 7669.89s/it, now=None]\u001b[A"
     ]
    },
    {
     "name": "stdout",
     "output_type": "stream",
     "text": [
      "MoviePy - Done.\n"
     ]
    },
    {
     "name": "stderr",
     "output_type": "stream",
     "text": [
      "chunk:   4%|██▌                                                        | 1/23 [2:07:50<46:52:32, 7670.55s/it, now=None]"
     ]
    },
    {
     "name": "stdout",
     "output_type": "stream",
     "text": [
      "MoviePy - Writing audio in Output\\Naruto_HD_Set_1_Disc_1-001\\Naruto_HD_Set_1_Disc_1-001_339500.mp3\n"
     ]
    },
    {
     "name": "stderr",
     "output_type": "stream",
     "text": [
      "\n",
      "chunk:   0%|                                                                          | 0/34 [00:00<?, ?it/s, now=None]\u001b[A\n",
      "chunk:   4%|██▌                                                        | 1/23 [2:07:50<46:52:34, 7670.67s/it, now=None]\u001b[A"
     ]
    },
    {
     "name": "stdout",
     "output_type": "stream",
     "text": [
      "MoviePy - Done.\n"
     ]
    },
    {
     "name": "stderr",
     "output_type": "stream",
     "text": [
      "chunk:   4%|██▌                                                        | 1/23 [2:07:51<46:52:47, 7671.26s/it, now=None]"
     ]
    },
    {
     "name": "stdout",
     "output_type": "stream",
     "text": [
      "MoviePy - Writing audio in Output\\Naruto_HD_Set_1_Disc_1-001\\Naruto_HD_Set_1_Disc_1-001_340500.mp3\n"
     ]
    },
    {
     "name": "stderr",
     "output_type": "stream",
     "text": [
      "\n",
      "chunk:   0%|                                                                          | 0/34 [00:00<?, ?it/s, now=None]\u001b[A\n",
      "chunk:  88%|████████████████████████████████████████████████████████▍       | 30/34 [00:00<00:00, 270.40it/s, now=None]\u001b[A\n",
      "chunk:   4%|██▌                                                        | 1/23 [2:07:51<46:52:50, 7671.41s/it, now=None]\u001b[A"
     ]
    },
    {
     "name": "stdout",
     "output_type": "stream",
     "text": [
      "MoviePy - Done.\n"
     ]
    },
    {
     "name": "stderr",
     "output_type": "stream",
     "text": [
      "chunk:   4%|██▌                                                        | 1/23 [2:07:52<46:53:04, 7672.01s/it, now=None]"
     ]
    },
    {
     "name": "stdout",
     "output_type": "stream",
     "text": [
      "MoviePy - Writing audio in Output\\Naruto_HD_Set_1_Disc_1-001\\Naruto_HD_Set_1_Disc_1-001_341500.mp3\n"
     ]
    },
    {
     "name": "stderr",
     "output_type": "stream",
     "text": [
      "\n",
      "chunk:   0%|                                                                          | 0/34 [00:00<?, ?it/s, now=None]\u001b[A\n",
      "chunk:   4%|██▌                                                        | 1/23 [2:07:52<46:53:06, 7672.13s/it, now=None]\u001b[A"
     ]
    },
    {
     "name": "stdout",
     "output_type": "stream",
     "text": [
      "MoviePy - Done.\n"
     ]
    },
    {
     "name": "stderr",
     "output_type": "stream",
     "text": [
      "chunk:   4%|██▌                                                        | 1/23 [2:07:52<46:53:20, 7672.76s/it, now=None]"
     ]
    },
    {
     "name": "stdout",
     "output_type": "stream",
     "text": [
      "MoviePy - Writing audio in Output\\Naruto_HD_Set_1_Disc_1-001\\Naruto_HD_Set_1_Disc_1-001_342500.mp3\n"
     ]
    },
    {
     "name": "stderr",
     "output_type": "stream",
     "text": [
      "\n",
      "chunk:   0%|                                                                          | 0/34 [00:00<?, ?it/s, now=None]\u001b[A\n",
      "chunk: 100%|████████████████████████████████████████████████████████████████| 34/34 [00:00<00:00, 309.08it/s, now=None]\u001b[A\n",
      "chunk:   4%|██▌                                                        | 1/23 [2:07:52<46:53:23, 7672.90s/it, now=None]\u001b[A"
     ]
    },
    {
     "name": "stdout",
     "output_type": "stream",
     "text": [
      "MoviePy - Done.\n"
     ]
    },
    {
     "name": "stderr",
     "output_type": "stream",
     "text": [
      "chunk:   4%|██▌                                                        | 1/23 [2:07:53<46:53:38, 7673.57s/it, now=None]"
     ]
    },
    {
     "name": "stdout",
     "output_type": "stream",
     "text": [
      "MoviePy - Writing audio in Output\\Naruto_HD_Set_1_Disc_1-001\\Naruto_HD_Set_1_Disc_1-001_343500.mp3\n"
     ]
    },
    {
     "name": "stderr",
     "output_type": "stream",
     "text": [
      "\n",
      "chunk:   0%|                                                                          | 0/34 [00:00<?, ?it/s, now=None]\u001b[A\n",
      "chunk:   4%|██▌                                                        | 1/23 [2:07:53<46:53:41, 7673.69s/it, now=None]\u001b[A"
     ]
    },
    {
     "name": "stdout",
     "output_type": "stream",
     "text": [
      "MoviePy - Done.\n"
     ]
    },
    {
     "name": "stderr",
     "output_type": "stream",
     "text": [
      "chunk:   4%|██▌                                                        | 1/23 [2:07:54<46:53:55, 7674.33s/it, now=None]"
     ]
    },
    {
     "name": "stdout",
     "output_type": "stream",
     "text": [
      "MoviePy - Writing audio in Output\\Naruto_HD_Set_1_Disc_1-001\\Naruto_HD_Set_1_Disc_1-001_345000.mp3\n"
     ]
    },
    {
     "name": "stderr",
     "output_type": "stream",
     "text": [
      "\n",
      "chunk:   0%|                                                                          | 0/56 [00:00<?, ?it/s, now=None]\u001b[A\n",
      "chunk:  71%|█████████████████████████████████████████████▋                  | 40/56 [00:00<00:00, 346.21it/s, now=None]\u001b[A\n",
      "chunk:   4%|██▌                                                        | 1/23 [2:07:54<46:53:58, 7674.49s/it, now=None]\u001b[A"
     ]
    },
    {
     "name": "stdout",
     "output_type": "stream",
     "text": [
      "MoviePy - Done.\n"
     ]
    },
    {
     "name": "stderr",
     "output_type": "stream",
     "text": [
      "chunk:   4%|██▌                                                        | 1/23 [2:07:55<46:54:22, 7675.59s/it, now=None]"
     ]
    },
    {
     "name": "stdout",
     "output_type": "stream",
     "text": [
      "MoviePy - Writing audio in Output\\Naruto_HD_Set_1_Disc_1-001\\Naruto_HD_Set_1_Disc_1-001_347000.mp3\n"
     ]
    },
    {
     "name": "stderr",
     "output_type": "stream",
     "text": [
      "\n",
      "chunk:   0%|                                                                          | 0/56 [00:00<?, ?it/s, now=None]\u001b[A\n",
      "chunk:  82%|████████████████████████████████████████████████████▌           | 46/56 [00:00<00:00, 389.84it/s, now=None]\u001b[A\n",
      "chunk:   4%|██▌                                                        | 1/23 [2:07:55<46:54:26, 7675.74s/it, now=None]\u001b[A"
     ]
    },
    {
     "name": "stdout",
     "output_type": "stream",
     "text": [
      "MoviePy - Done.\n"
     ]
    },
    {
     "name": "stderr",
     "output_type": "stream",
     "text": [
      "chunk:   4%|██▌                                                        | 1/23 [2:07:56<46:54:49, 7676.78s/it, now=None]"
     ]
    },
    {
     "name": "stdout",
     "output_type": "stream",
     "text": [
      "MoviePy - Writing audio in Output\\Naruto_HD_Set_1_Disc_1-001\\Naruto_HD_Set_1_Disc_1-001_349000.mp3\n"
     ]
    },
    {
     "name": "stderr",
     "output_type": "stream",
     "text": [
      "\n",
      "chunk:   0%|                                                                          | 0/56 [00:00<?, ?it/s, now=None]\u001b[A\n",
      "chunk:  82%|████████████████████████████████████████████████████▌           | 46/56 [00:00<00:00, 455.47it/s, now=None]\u001b[A\n",
      "chunk:   4%|██▌                                                        | 1/23 [2:07:56<46:54:52, 7676.94s/it, now=None]\u001b[A"
     ]
    },
    {
     "name": "stdout",
     "output_type": "stream",
     "text": [
      "MoviePy - Done.\n"
     ]
    },
    {
     "name": "stderr",
     "output_type": "stream",
     "text": [
      "chunk:   4%|██▌                                                        | 1/23 [2:07:58<46:55:17, 7678.09s/it, now=None]"
     ]
    },
    {
     "name": "stdout",
     "output_type": "stream",
     "text": [
      "MoviePy - Writing audio in Output\\Naruto_HD_Set_1_Disc_1-001\\Naruto_HD_Set_1_Disc_1-001_350500.mp3\n"
     ]
    },
    {
     "name": "stderr",
     "output_type": "stream",
     "text": [
      "\n",
      "chunk:   0%|                                                                          | 0/34 [00:00<?, ?it/s, now=None]\u001b[A\n",
      "chunk:   4%|██▌                                                        | 1/23 [2:07:58<46:55:20, 7678.21s/it, now=None]\u001b[A"
     ]
    },
    {
     "name": "stdout",
     "output_type": "stream",
     "text": [
      "MoviePy - Done.\n"
     ]
    },
    {
     "name": "stderr",
     "output_type": "stream",
     "text": [
      "chunk:   4%|██▌                                                        | 1/23 [2:07:58<46:55:34, 7678.86s/it, now=None]"
     ]
    },
    {
     "name": "stdout",
     "output_type": "stream",
     "text": [
      "MoviePy - Writing audio in Output\\Naruto_HD_Set_1_Disc_1-001\\Naruto_HD_Set_1_Disc_1-001_352000.mp3\n"
     ]
    },
    {
     "name": "stderr",
     "output_type": "stream",
     "text": [
      "\n",
      "chunk:   0%|                                                                          | 0/56 [00:00<?, ?it/s, now=None]\u001b[A\n",
      "chunk:  64%|█████████████████████████████████████████▏                      | 36/56 [00:00<00:00, 321.43it/s, now=None]\u001b[A\n",
      "chunk:   4%|██▌                                                        | 1/23 [2:07:59<46:55:38, 7679.02s/it, now=None]\u001b[A"
     ]
    },
    {
     "name": "stdout",
     "output_type": "stream",
     "text": [
      "MoviePy - Done.\n"
     ]
    },
    {
     "name": "stderr",
     "output_type": "stream",
     "text": [
      "chunk:   4%|██▌                                                        | 1/23 [2:08:00<46:56:02, 7680.13s/it, now=None]"
     ]
    },
    {
     "name": "stdout",
     "output_type": "stream",
     "text": [
      "MoviePy - Writing audio in Output\\Naruto_HD_Set_1_Disc_1-001\\Naruto_HD_Set_1_Disc_1-001_353500.mp3\n"
     ]
    },
    {
     "name": "stderr",
     "output_type": "stream",
     "text": [
      "\n",
      "chunk:   0%|                                                                          | 0/34 [00:00<?, ?it/s, now=None]\u001b[A\n",
      "chunk:   4%|██▌                                                        | 1/23 [2:08:00<46:56:05, 7680.26s/it, now=None]\u001b[A"
     ]
    },
    {
     "name": "stdout",
     "output_type": "stream",
     "text": [
      "MoviePy - Done.\n"
     ]
    },
    {
     "name": "stderr",
     "output_type": "stream",
     "text": [
      "chunk:   4%|██▌                                                        | 1/23 [2:08:00<46:56:20, 7680.92s/it, now=None]"
     ]
    },
    {
     "name": "stdout",
     "output_type": "stream",
     "text": [
      "MoviePy - Writing audio in Output\\Naruto_HD_Set_1_Disc_1-001\\Naruto_HD_Set_1_Disc_1-001_356000.mp3\n"
     ]
    },
    {
     "name": "stderr",
     "output_type": "stream",
     "text": [
      "\n",
      "chunk:   0%|                                                                         | 0/100 [00:00<?, ?it/s, now=None]\u001b[A\n",
      "chunk:  29%|██████████████████▎                                            | 29/100 [00:00<00:00, 258.93it/s, now=None]\u001b[A\n",
      "chunk:   4%|██▌                                                        | 1/23 [2:08:01<46:56:25, 7681.14s/it, now=None]\u001b[A"
     ]
    },
    {
     "name": "stdout",
     "output_type": "stream",
     "text": [
      "MoviePy - Done.\n"
     ]
    },
    {
     "name": "stderr",
     "output_type": "stream",
     "text": [
      "chunk:   4%|██▌                                                        | 1/23 [2:08:01<46:56:38, 7681.73s/it, now=None]"
     ]
    },
    {
     "name": "stdout",
     "output_type": "stream",
     "text": [
      "MoviePy - Writing audio in Output\\Naruto_HD_Set_1_Disc_1-001\\Naruto_HD_Set_1_Disc_1-001_358500.mp3\n"
     ]
    },
    {
     "name": "stderr",
     "output_type": "stream",
     "text": [
      "\n",
      "chunk:   0%|                                                                          | 0/34 [00:00<?, ?it/s, now=None]\u001b[A\n",
      "chunk: 100%|████████████████████████████████████████████████████████████████| 34/34 [00:00<00:00, 306.30it/s, now=None]\u001b[A\n",
      "chunk:   4%|██▌                                                        | 1/23 [2:08:01<46:56:41, 7681.88s/it, now=None]\u001b[A"
     ]
    },
    {
     "name": "stdout",
     "output_type": "stream",
     "text": [
      "MoviePy - Done.\n"
     ]
    },
    {
     "name": "stderr",
     "output_type": "stream",
     "text": [
      "chunk:   4%|██▌                                                        | 1/23 [2:08:02<46:56:54, 7682.49s/it, now=None]"
     ]
    },
    {
     "name": "stdout",
     "output_type": "stream",
     "text": [
      "MoviePy - Writing audio in Output\\Naruto_HD_Set_1_Disc_1-001\\Naruto_HD_Set_1_Disc_1-001_359500.mp3\n"
     ]
    },
    {
     "name": "stderr",
     "output_type": "stream",
     "text": [
      "\n",
      "chunk:   0%|                                                                          | 0/34 [00:00<?, ?it/s, now=None]\u001b[A\n",
      "chunk:   4%|██▌                                                        | 1/23 [2:08:02<46:56:57, 7682.61s/it, now=None]\u001b[A"
     ]
    },
    {
     "name": "stdout",
     "output_type": "stream",
     "text": [
      "MoviePy - Done.\n"
     ]
    },
    {
     "name": "stderr",
     "output_type": "stream",
     "text": [
      "chunk:   4%|██▌                                                        | 1/23 [2:08:04<46:57:32, 7684.23s/it, now=None]"
     ]
    },
    {
     "name": "stdout",
     "output_type": "stream",
     "text": [
      "MoviePy - Writing audio in Output\\Naruto_HD_Set_1_Disc_1-001\\Naruto_HD_Set_1_Disc_1-001_362500.mp3\n"
     ]
    },
    {
     "name": "stderr",
     "output_type": "stream",
     "text": [
      "\n",
      "chunk:   0%|                                                                          | 0/34 [00:00<?, ?it/s, now=None]\u001b[A\n",
      "chunk:   4%|██▌                                                        | 1/23 [2:08:04<46:57:35, 7684.35s/it, now=None]\u001b[A"
     ]
    },
    {
     "name": "stdout",
     "output_type": "stream",
     "text": [
      "MoviePy - Done.\n"
     ]
    },
    {
     "name": "stderr",
     "output_type": "stream",
     "text": [
      "chunk:   4%|██▌                                                        | 1/23 [2:08:05<46:57:50, 7685.00s/it, now=None]"
     ]
    },
    {
     "name": "stdout",
     "output_type": "stream",
     "text": [
      "MoviePy - Writing audio in Output\\Naruto_HD_Set_1_Disc_1-001\\Naruto_HD_Set_1_Disc_1-001_364000.mp3\n"
     ]
    },
    {
     "name": "stderr",
     "output_type": "stream",
     "text": [
      "\n",
      "chunk:   0%|                                                                          | 0/56 [00:00<?, ?it/s, now=None]\u001b[A\n",
      "chunk:  80%|███████████████████████████████████████████████████▍            | 45/56 [00:00<00:00, 445.55it/s, now=None]\u001b[A\n",
      "chunk:   4%|██▌                                                        | 1/23 [2:08:05<46:57:53, 7685.15s/it, now=None]\u001b[A"
     ]
    },
    {
     "name": "stdout",
     "output_type": "stream",
     "text": [
      "MoviePy - Done.\n"
     ]
    },
    {
     "name": "stderr",
     "output_type": "stream",
     "text": [
      "chunk:   4%|██▌                                                        | 1/23 [2:08:06<46:58:17, 7686.27s/it, now=None]"
     ]
    },
    {
     "name": "stdout",
     "output_type": "stream",
     "text": [
      "MoviePy - Writing audio in Output\\Naruto_HD_Set_1_Disc_1-001\\Naruto_HD_Set_1_Disc_1-001_365500.mp3\n"
     ]
    },
    {
     "name": "stderr",
     "output_type": "stream",
     "text": [
      "\n",
      "chunk:   0%|                                                                          | 0/34 [00:00<?, ?it/s, now=None]\u001b[A\n",
      "chunk:   4%|██▌                                                        | 1/23 [2:08:06<46:58:20, 7686.39s/it, now=None]\u001b[A"
     ]
    },
    {
     "name": "stdout",
     "output_type": "stream",
     "text": [
      "MoviePy - Done.\n"
     ]
    },
    {
     "name": "stderr",
     "output_type": "stream",
     "text": [
      "chunk:   4%|██▌                                                        | 1/23 [2:08:07<46:58:34, 7687.02s/it, now=None]"
     ]
    },
    {
     "name": "stdout",
     "output_type": "stream",
     "text": [
      "MoviePy - Writing audio in Output\\Naruto_HD_Set_1_Disc_1-001\\Naruto_HD_Set_1_Disc_1-001_367000.mp3\n"
     ]
    },
    {
     "name": "stderr",
     "output_type": "stream",
     "text": [
      "\n",
      "chunk:   0%|                                                                          | 0/56 [00:00<?, ?it/s, now=None]\u001b[A\n",
      "chunk:  54%|██████████████████████████████████▎                             | 30/56 [00:00<00:00, 270.27it/s, now=None]\u001b[A\n",
      "chunk:   4%|██▌                                                        | 1/23 [2:08:07<46:58:38, 7687.19s/it, now=None]\u001b[A"
     ]
    },
    {
     "name": "stdout",
     "output_type": "stream",
     "text": [
      "MoviePy - Done.\n"
     ]
    },
    {
     "name": "stderr",
     "output_type": "stream",
     "text": [
      "chunk:   4%|██▌                                                        | 1/23 [2:08:08<46:59:03, 7688.35s/it, now=None]"
     ]
    },
    {
     "name": "stdout",
     "output_type": "stream",
     "text": [
      "MoviePy - Writing audio in Output\\Naruto_HD_Set_1_Disc_1-001\\Naruto_HD_Set_1_Disc_1-001_369000.mp3\n"
     ]
    },
    {
     "name": "stderr",
     "output_type": "stream",
     "text": [
      "\n",
      "chunk:   0%|                                                                          | 0/56 [00:00<?, ?it/s, now=None]\u001b[A\n",
      "chunk:  54%|██████████████████████████████████▎                             | 30/56 [00:00<00:00, 277.78it/s, now=None]\u001b[A\n",
      "chunk:   4%|██▌                                                        | 1/23 [2:08:08<46:59:07, 7688.51s/it, now=None]\u001b[A"
     ]
    },
    {
     "name": "stdout",
     "output_type": "stream",
     "text": [
      "MoviePy - Done.\n"
     ]
    },
    {
     "name": "stderr",
     "output_type": "stream",
     "text": [
      "chunk:   4%|██▌                                                        | 1/23 [2:08:09<46:59:32, 7689.65s/it, now=None]"
     ]
    },
    {
     "name": "stdout",
     "output_type": "stream",
     "text": [
      "MoviePy - Writing audio in Output\\Naruto_HD_Set_1_Disc_1-001\\Naruto_HD_Set_1_Disc_1-001_370500.mp3\n"
     ]
    },
    {
     "name": "stderr",
     "output_type": "stream",
     "text": [
      "\n",
      "chunk:   0%|                                                                          | 0/34 [00:00<?, ?it/s, now=None]\u001b[A\n",
      "chunk:  88%|████████████████████████████████████████████████████████▍       | 30/34 [00:00<00:00, 270.26it/s, now=None]\u001b[A\n",
      "chunk:   4%|██▌                                                        | 1/23 [2:08:09<46:59:35, 7689.80s/it, now=None]\u001b[A"
     ]
    },
    {
     "name": "stdout",
     "output_type": "stream",
     "text": [
      "MoviePy - Done.\n"
     ]
    },
    {
     "name": "stderr",
     "output_type": "stream",
     "text": [
      "chunk:   4%|██▌                                                        | 1/23 [2:08:10<46:59:59, 7690.90s/it, now=None]"
     ]
    },
    {
     "name": "stdout",
     "output_type": "stream",
     "text": [
      "MoviePy - Writing audio in Output\\Naruto_HD_Set_1_Disc_1-001\\Naruto_HD_Set_1_Disc_1-001_372500.mp3\n"
     ]
    },
    {
     "name": "stderr",
     "output_type": "stream",
     "text": [
      "\n",
      "chunk:   0%|                                                                          | 0/34 [00:00<?, ?it/s, now=None]\u001b[A\n",
      "chunk: 100%|████████████████████████████████████████████████████████████████| 34/34 [00:00<00:00, 300.89it/s, now=None]\u001b[A\n",
      "chunk:   4%|██▌                                                        | 1/23 [2:08:11<47:00:02, 7691.04s/it, now=None]\u001b[A"
     ]
    },
    {
     "name": "stdout",
     "output_type": "stream",
     "text": [
      "MoviePy - Done.\n"
     ]
    },
    {
     "name": "stderr",
     "output_type": "stream",
     "text": [
      "chunk:   4%|██▌                                                        | 1/23 [2:08:11<47:00:16, 7691.67s/it, now=None]"
     ]
    },
    {
     "name": "stdout",
     "output_type": "stream",
     "text": [
      "MoviePy - Writing audio in Output\\Naruto_HD_Set_1_Disc_1-001\\Naruto_HD_Set_1_Disc_1-001_374000.mp3\n"
     ]
    },
    {
     "name": "stderr",
     "output_type": "stream",
     "text": [
      "\n",
      "chunk:   0%|                                                                          | 0/56 [00:00<?, ?it/s, now=None]\u001b[A\n",
      "chunk:  80%|███████████████████████████████████████████████████▍            | 45/56 [00:00<00:00, 445.54it/s, now=None]\u001b[A\n",
      "chunk:   4%|██▌                                                        | 1/23 [2:08:11<47:00:19, 7691.82s/it, now=None]\u001b[A"
     ]
    },
    {
     "name": "stdout",
     "output_type": "stream",
     "text": [
      "MoviePy - Done.\n"
     ]
    },
    {
     "name": "stderr",
     "output_type": "stream",
     "text": [
      "chunk:   4%|██▌                                                        | 1/23 [2:08:12<47:00:44, 7692.92s/it, now=None]"
     ]
    },
    {
     "name": "stdout",
     "output_type": "stream",
     "text": [
      "MoviePy - Writing audio in Output\\Naruto_HD_Set_1_Disc_1-001\\Naruto_HD_Set_1_Disc_1-001_375500.mp3\n"
     ]
    },
    {
     "name": "stderr",
     "output_type": "stream",
     "text": [
      "\n",
      "chunk:   0%|                                                                          | 0/34 [00:00<?, ?it/s, now=None]\u001b[A\n",
      "chunk:  88%|████████████████████████████████████████████████████████▍       | 30/34 [00:00<00:00, 263.15it/s, now=None]\u001b[A\n",
      "chunk:   4%|██▌                                                        | 1/23 [2:08:13<47:00:47, 7693.07s/it, now=None]\u001b[A"
     ]
    },
    {
     "name": "stdout",
     "output_type": "stream",
     "text": [
      "MoviePy - Done.\n"
     ]
    },
    {
     "name": "stderr",
     "output_type": "stream",
     "text": [
      "chunk:   4%|██▌                                                        | 1/23 [2:08:13<47:01:01, 7693.70s/it, now=None]"
     ]
    },
    {
     "name": "stdout",
     "output_type": "stream",
     "text": [
      "MoviePy - Writing audio in Output\\Naruto_HD_Set_1_Disc_1-001\\Naruto_HD_Set_1_Disc_1-001_377000.mp3\n"
     ]
    },
    {
     "name": "stderr",
     "output_type": "stream",
     "text": [
      "\n",
      "chunk:   0%|                                                                          | 0/56 [00:00<?, ?it/s, now=None]\u001b[A\n",
      "chunk:  84%|█████████████████████████████████████████████████████▋          | 47/56 [00:00<00:00, 388.43it/s, now=None]\u001b[A\n",
      "chunk:   4%|██▌                                                        | 1/23 [2:08:13<47:01:04, 7693.85s/it, now=None]\u001b[A"
     ]
    },
    {
     "name": "stdout",
     "output_type": "stream",
     "text": [
      "MoviePy - Done.\n"
     ]
    },
    {
     "name": "stderr",
     "output_type": "stream",
     "text": [
      "chunk:   4%|██▌                                                        | 1/23 [2:08:14<47:01:29, 7694.98s/it, now=None]"
     ]
    },
    {
     "name": "stdout",
     "output_type": "stream",
     "text": [
      "MoviePy - Writing audio in Output\\Naruto_HD_Set_1_Disc_1-001\\Naruto_HD_Set_1_Disc_1-001_378500.mp3\n"
     ]
    },
    {
     "name": "stderr",
     "output_type": "stream",
     "text": [
      "\n",
      "chunk:   0%|                                                                          | 0/34 [00:00<?, ?it/s, now=None]\u001b[A\n",
      "chunk:   4%|██▌                                                        | 1/23 [2:08:15<47:01:32, 7695.10s/it, now=None]\u001b[A"
     ]
    },
    {
     "name": "stdout",
     "output_type": "stream",
     "text": [
      "MoviePy - Done.\n"
     ]
    },
    {
     "name": "stderr",
     "output_type": "stream",
     "text": [
      "chunk:   4%|██▌                                                        | 1/23 [2:08:15<47:01:43, 7695.62s/it, now=None]"
     ]
    },
    {
     "name": "stdout",
     "output_type": "stream",
     "text": [
      "MoviePy - Writing audio in Output\\Naruto_HD_Set_1_Disc_1-001\\Naruto_HD_Set_1_Disc_1-001_382500.mp3\n"
     ]
    },
    {
     "name": "stderr",
     "output_type": "stream",
     "text": [
      "\n",
      "chunk:   0%|                                                                          | 0/34 [00:00<?, ?it/s, now=None]\u001b[A\n",
      "chunk:   4%|██▌                                                        | 1/23 [2:08:15<47:01:46, 7695.74s/it, now=None]\u001b[A"
     ]
    },
    {
     "name": "stdout",
     "output_type": "stream",
     "text": [
      "MoviePy - Done.\n"
     ]
    },
    {
     "name": "stderr",
     "output_type": "stream",
     "text": [
      "chunk:   4%|██▌                                                        | 1/23 [2:08:16<47:02:00, 7696.40s/it, now=None]"
     ]
    },
    {
     "name": "stdout",
     "output_type": "stream",
     "text": [
      "MoviePy - Writing audio in Output\\Naruto_HD_Set_1_Disc_1-001\\Naruto_HD_Set_1_Disc_1-001_383500.mp3\n"
     ]
    },
    {
     "name": "stderr",
     "output_type": "stream",
     "text": [
      "\n",
      "chunk:   0%|                                                                          | 0/34 [00:00<?, ?it/s, now=None]\u001b[A\n",
      "chunk:   4%|██▌                                                        | 1/23 [2:08:16<47:02:03, 7696.53s/it, now=None]\u001b[A"
     ]
    },
    {
     "name": "stdout",
     "output_type": "stream",
     "text": [
      "MoviePy - Done.\n"
     ]
    },
    {
     "name": "stderr",
     "output_type": "stream",
     "text": [
      "chunk:   4%|██▌                                                        | 1/23 [2:08:17<47:02:16, 7697.11s/it, now=None]"
     ]
    },
    {
     "name": "stdout",
     "output_type": "stream",
     "text": [
      "MoviePy - Writing audio in Output\\Naruto_HD_Set_1_Disc_1-001\\Naruto_HD_Set_1_Disc_1-001_384500.mp3\n"
     ]
    },
    {
     "name": "stderr",
     "output_type": "stream",
     "text": [
      "\n",
      "chunk:   0%|                                                                          | 0/34 [00:00<?, ?it/s, now=None]\u001b[A\n",
      "chunk:   4%|██▌                                                        | 1/23 [2:08:17<47:02:19, 7697.24s/it, now=None]\u001b[A"
     ]
    },
    {
     "name": "stdout",
     "output_type": "stream",
     "text": [
      "MoviePy - Done.\n"
     ]
    },
    {
     "name": "stderr",
     "output_type": "stream",
     "text": [
      "chunk:   4%|██▌                                                        | 1/23 [2:08:17<47:02:31, 7697.79s/it, now=None]"
     ]
    },
    {
     "name": "stdout",
     "output_type": "stream",
     "text": [
      "MoviePy - Writing audio in Output\\Naruto_HD_Set_1_Disc_1-001\\Naruto_HD_Set_1_Disc_1-001_391000.mp3\n"
     ]
    },
    {
     "name": "stderr",
     "output_type": "stream",
     "text": [
      "\n",
      "chunk:   0%|                                                                          | 0/56 [00:00<?, ?it/s, now=None]\u001b[A\n",
      "chunk:  77%|█████████████████████████████████████████████████▏              | 43/56 [00:00<00:00, 425.75it/s, now=None]\u001b[A\n",
      "chunk:   4%|██▌                                                        | 1/23 [2:08:17<47:02:34, 7697.95s/it, now=None]\u001b[A"
     ]
    },
    {
     "name": "stdout",
     "output_type": "stream",
     "text": [
      "MoviePy - Done.\n"
     ]
    },
    {
     "name": "stderr",
     "output_type": "stream",
     "text": [
      "chunk:   4%|██▌                                                        | 1/23 [2:08:18<47:02:45, 7698.44s/it, now=None]"
     ]
    },
    {
     "name": "stdout",
     "output_type": "stream",
     "text": [
      "MoviePy - Writing audio in Output\\Naruto_HD_Set_1_Disc_1-001\\Naruto_HD_Set_1_Disc_1-001_397500.mp3\n"
     ]
    },
    {
     "name": "stderr",
     "output_type": "stream",
     "text": [
      "\n",
      "chunk:   0%|                                                                          | 0/34 [00:00<?, ?it/s, now=None]\u001b[A\n",
      "chunk:   4%|██▌                                                        | 1/23 [2:08:18<47:02:48, 7698.56s/it, now=None]\u001b[A"
     ]
    },
    {
     "name": "stdout",
     "output_type": "stream",
     "text": [
      "MoviePy - Done.\n"
     ]
    },
    {
     "name": "stderr",
     "output_type": "stream",
     "text": [
      "chunk:   4%|██▌                                                        | 1/23 [2:08:19<47:03:02, 7699.19s/it, now=None]"
     ]
    },
    {
     "name": "stdout",
     "output_type": "stream",
     "text": [
      "MoviePy - Writing audio in Output\\Naruto_HD_Set_1_Disc_1-001\\Naruto_HD_Set_1_Disc_1-001_402500.mp3\n"
     ]
    },
    {
     "name": "stderr",
     "output_type": "stream",
     "text": [
      "\n",
      "chunk:   0%|                                                                          | 0/34 [00:00<?, ?it/s, now=None]\u001b[A\n",
      "chunk:   4%|██▌                                                        | 1/23 [2:08:19<47:03:04, 7699.31s/it, now=None]\u001b[A"
     ]
    },
    {
     "name": "stdout",
     "output_type": "stream",
     "text": [
      "MoviePy - Done.\n"
     ]
    },
    {
     "name": "stderr",
     "output_type": "stream",
     "text": [
      "chunk:   4%|██▌                                                        | 1/23 [2:08:19<47:03:17, 7699.91s/it, now=None]"
     ]
    },
    {
     "name": "stdout",
     "output_type": "stream",
     "text": [
      "MoviePy - Writing audio in Output\\Naruto_HD_Set_1_Disc_1-001\\Naruto_HD_Set_1_Disc_1-001_404000.mp3\n"
     ]
    },
    {
     "name": "stderr",
     "output_type": "stream",
     "text": [
      "\n",
      "chunk:   0%|                                                                          | 0/56 [00:00<?, ?it/s, now=None]\u001b[A\n",
      "chunk:  82%|████████████████████████████████████████████████████▌           | 46/56 [00:00<00:00, 455.47it/s, now=None]\u001b[A\n",
      "chunk:   4%|██▌                                                        | 1/23 [2:08:20<47:03:21, 7700.05s/it, now=None]\u001b[A"
     ]
    },
    {
     "name": "stdout",
     "output_type": "stream",
     "text": [
      "MoviePy - Done.\n"
     ]
    },
    {
     "name": "stderr",
     "output_type": "stream",
     "text": [
      "chunk:   4%|██▌                                                        | 1/23 [2:08:21<47:03:44, 7701.10s/it, now=None]"
     ]
    },
    {
     "name": "stdout",
     "output_type": "stream",
     "text": [
      "MoviePy - Writing audio in Output\\Naruto_HD_Set_1_Disc_1-001\\Naruto_HD_Set_1_Disc_1-001_406500.mp3\n"
     ]
    },
    {
     "name": "stderr",
     "output_type": "stream",
     "text": [
      "\n",
      "chunk:   0%|                                                                          | 0/78 [00:00<?, ?it/s, now=None]\u001b[A\n",
      "chunk:  46%|█████████████████████████████▌                                  | 36/78 [00:00<00:00, 315.80it/s, now=None]\u001b[A\n",
      "chunk:   4%|██▌                                                        | 1/23 [2:08:21<47:03:48, 7701.29s/it, now=None]\u001b[A"
     ]
    },
    {
     "name": "stdout",
     "output_type": "stream",
     "text": [
      "MoviePy - Done.\n"
     ]
    },
    {
     "name": "stderr",
     "output_type": "stream",
     "text": [
      "chunk:   4%|██▌                                                        | 1/23 [2:08:22<47:04:21, 7702.78s/it, now=None]"
     ]
    },
    {
     "name": "stdout",
     "output_type": "stream",
     "text": [
      "MoviePy - Writing audio in Output\\Naruto_HD_Set_1_Disc_1-001\\Naruto_HD_Set_1_Disc_1-001_409000.mp3\n"
     ]
    },
    {
     "name": "stderr",
     "output_type": "stream",
     "text": [
      "\n",
      "chunk:   0%|                                                                          | 0/56 [00:00<?, ?it/s, now=None]\u001b[A\n",
      "chunk:  54%|██████████████████████████████████▎                             | 30/56 [00:00<00:00, 270.26it/s, now=None]\u001b[A\n",
      "chunk:   4%|██▌                                                        | 1/23 [2:08:22<47:04:24, 7702.94s/it, now=None]\u001b[A"
     ]
    },
    {
     "name": "stdout",
     "output_type": "stream",
     "text": [
      "MoviePy - Done.\n"
     ]
    },
    {
     "name": "stderr",
     "output_type": "stream",
     "text": [
      "chunk:   4%|██▌                                                        | 1/23 [2:08:24<47:04:48, 7704.00s/it, now=None]"
     ]
    },
    {
     "name": "stdout",
     "output_type": "stream",
     "text": [
      "MoviePy - Writing audio in Output\\Naruto_HD_Set_1_Disc_1-001\\Naruto_HD_Set_1_Disc_1-001_410500.mp3\n"
     ]
    },
    {
     "name": "stderr",
     "output_type": "stream",
     "text": [
      "\n",
      "chunk:   0%|                                                                          | 0/34 [00:00<?, ?it/s, now=None]\u001b[A\n",
      "chunk:  88%|████████████████████████████████████████████████████████▍       | 30/34 [00:00<00:00, 272.72it/s, now=None]\u001b[A\n",
      "chunk:   4%|██▌                                                        | 1/23 [2:08:24<47:04:51, 7704.15s/it, now=None]\u001b[A"
     ]
    },
    {
     "name": "stdout",
     "output_type": "stream",
     "text": [
      "MoviePy - Done.\n"
     ]
    },
    {
     "name": "stderr",
     "output_type": "stream",
     "text": [
      "chunk:   4%|██▌                                                        | 1/23 [2:08:24<47:05:05, 7704.78s/it, now=None]"
     ]
    },
    {
     "name": "stdout",
     "output_type": "stream",
     "text": [
      "MoviePy - Writing audio in Output\\Naruto_HD_Set_1_Disc_1-001\\Naruto_HD_Set_1_Disc_1-001_411500.mp3\n"
     ]
    },
    {
     "name": "stderr",
     "output_type": "stream",
     "text": [
      "\n",
      "chunk:   0%|                                                                          | 0/34 [00:00<?, ?it/s, now=None]\u001b[A\n",
      "chunk:   4%|██▌                                                        | 1/23 [2:08:24<47:05:07, 7704.90s/it, now=None]\u001b[A"
     ]
    },
    {
     "name": "stdout",
     "output_type": "stream",
     "text": [
      "MoviePy - Done.\n"
     ]
    },
    {
     "name": "stderr",
     "output_type": "stream",
     "text": [
      "chunk:   4%|██▌                                                        | 1/23 [2:08:25<47:05:22, 7705.55s/it, now=None]"
     ]
    },
    {
     "name": "stdout",
     "output_type": "stream",
     "text": [
      "MoviePy - Writing audio in Output\\Naruto_HD_Set_1_Disc_1-001\\Naruto_HD_Set_1_Disc_1-001_412500.mp3\n"
     ]
    },
    {
     "name": "stderr",
     "output_type": "stream",
     "text": [
      "\n",
      "chunk:   0%|                                                                          | 0/34 [00:00<?, ?it/s, now=None]\u001b[A\n",
      "chunk: 100%|████████████████████████████████████████████████████████████████| 34/34 [00:00<00:00, 309.09it/s, now=None]\u001b[A\n",
      "chunk:   4%|██▌                                                        | 1/23 [2:08:25<47:05:25, 7705.69s/it, now=None]\u001b[A"
     ]
    },
    {
     "name": "stdout",
     "output_type": "stream",
     "text": [
      "MoviePy - Done.\n"
     ]
    },
    {
     "name": "stderr",
     "output_type": "stream",
     "text": [
      "chunk:   4%|██▌                                                        | 1/23 [2:08:26<47:05:40, 7706.37s/it, now=None]"
     ]
    },
    {
     "name": "stdout",
     "output_type": "stream",
     "text": [
      "MoviePy - Writing audio in Output\\Naruto_HD_Set_1_Disc_1-001\\Naruto_HD_Set_1_Disc_1-001_413500.mp3\n"
     ]
    },
    {
     "name": "stderr",
     "output_type": "stream",
     "text": [
      "\n",
      "chunk:   0%|                                                                          | 0/34 [00:00<?, ?it/s, now=None]\u001b[A\n",
      "chunk:   4%|██▌                                                        | 1/23 [2:08:26<47:05:42, 7706.49s/it, now=None]\u001b[A"
     ]
    },
    {
     "name": "stdout",
     "output_type": "stream",
     "text": [
      "MoviePy - Done.\n"
     ]
    },
    {
     "name": "stderr",
     "output_type": "stream",
     "text": [
      "chunk:   4%|██▌                                                        | 1/23 [2:08:27<47:05:57, 7707.17s/it, now=None]"
     ]
    },
    {
     "name": "stdout",
     "output_type": "stream",
     "text": [
      "MoviePy - Writing audio in Output\\Naruto_HD_Set_1_Disc_1-001\\Naruto_HD_Set_1_Disc_1-001_415000.mp3\n"
     ]
    },
    {
     "name": "stderr",
     "output_type": "stream",
     "text": [
      "\n",
      "chunk:   0%|                                                                          | 0/56 [00:00<?, ?it/s, now=None]\u001b[A\n",
      "chunk:  71%|█████████████████████████████████████████████▋                  | 40/56 [00:00<00:00, 344.84it/s, now=None]\u001b[A\n",
      "chunk:   4%|██▌                                                        | 1/23 [2:08:27<47:06:01, 7707.34s/it, now=None]\u001b[A"
     ]
    },
    {
     "name": "stdout",
     "output_type": "stream",
     "text": [
      "MoviePy - Done.\n"
     ]
    },
    {
     "name": "stderr",
     "output_type": "stream",
     "text": [
      "chunk:   4%|██▌                                                        | 1/23 [2:08:28<47:06:25, 7708.45s/it, now=None]"
     ]
    },
    {
     "name": "stdout",
     "output_type": "stream",
     "text": [
      "MoviePy - Writing audio in Output\\Naruto_HD_Set_1_Disc_1-001\\Naruto_HD_Set_1_Disc_1-001_416500.mp3\n"
     ]
    },
    {
     "name": "stderr",
     "output_type": "stream",
     "text": [
      "\n",
      "chunk:   0%|                                                                          | 0/34 [00:00<?, ?it/s, now=None]\u001b[A\n",
      "chunk:   4%|██▌                                                        | 1/23 [2:08:28<47:06:28, 7708.57s/it, now=None]\u001b[A"
     ]
    },
    {
     "name": "stdout",
     "output_type": "stream",
     "text": [
      "MoviePy - Done.\n"
     ]
    },
    {
     "name": "stderr",
     "output_type": "stream",
     "text": [
      "chunk:   4%|██▌                                                        | 1/23 [2:08:29<47:06:43, 7709.23s/it, now=None]"
     ]
    },
    {
     "name": "stdout",
     "output_type": "stream",
     "text": [
      "MoviePy - Writing audio in Output\\Naruto_HD_Set_1_Disc_1-001\\Naruto_HD_Set_1_Disc_1-001_417500.mp3\n"
     ]
    },
    {
     "name": "stderr",
     "output_type": "stream",
     "text": [
      "\n",
      "chunk:   0%|                                                                          | 0/34 [00:00<?, ?it/s, now=None]\u001b[A\n",
      "chunk:  88%|████████████████████████████████████████████████████████▍       | 30/34 [00:00<00:00, 280.38it/s, now=None]\u001b[A\n",
      "chunk:   4%|██▌                                                        | 1/23 [2:08:29<47:06:46, 7709.38s/it, now=None]\u001b[A"
     ]
    },
    {
     "name": "stdout",
     "output_type": "stream",
     "text": [
      "MoviePy - Done.\n"
     ]
    },
    {
     "name": "stderr",
     "output_type": "stream",
     "text": [
      "chunk:   4%|██▌                                                        | 1/23 [2:08:29<47:06:59, 7709.96s/it, now=None]"
     ]
    },
    {
     "name": "stdout",
     "output_type": "stream",
     "text": [
      "MoviePy - Writing audio in Output\\Naruto_HD_Set_1_Disc_1-001\\Naruto_HD_Set_1_Disc_1-001_418500.mp3\n"
     ]
    },
    {
     "name": "stderr",
     "output_type": "stream",
     "text": [
      "\n",
      "chunk:   0%|                                                                          | 0/34 [00:00<?, ?it/s, now=None]\u001b[A\n",
      "chunk:   4%|██▌                                                        | 1/23 [2:08:30<47:07:01, 7710.08s/it, now=None]\u001b[A"
     ]
    },
    {
     "name": "stdout",
     "output_type": "stream",
     "text": [
      "MoviePy - Done.\n"
     ]
    },
    {
     "name": "stderr",
     "output_type": "stream",
     "text": [
      "chunk:   4%|██▌                                                        | 1/23 [2:08:30<47:07:15, 7710.72s/it, now=None]"
     ]
    },
    {
     "name": "stdout",
     "output_type": "stream",
     "text": [
      "MoviePy - Writing audio in Output\\Naruto_HD_Set_1_Disc_1-001\\Naruto_HD_Set_1_Disc_1-001_419500.mp3\n"
     ]
    },
    {
     "name": "stderr",
     "output_type": "stream",
     "text": [
      "\n",
      "chunk:   0%|                                                                          | 0/34 [00:00<?, ?it/s, now=None]\u001b[A\n",
      "chunk:  91%|██████████████████████████████████████████████████████████▎     | 31/34 [00:00<00:00, 281.83it/s, now=None]\u001b[A\n",
      "chunk:   4%|██▌                                                        | 1/23 [2:08:30<47:07:19, 7710.87s/it, now=None]\u001b[A"
     ]
    },
    {
     "name": "stdout",
     "output_type": "stream",
     "text": [
      "MoviePy - Done.\n"
     ]
    },
    {
     "name": "stderr",
     "output_type": "stream",
     "text": [
      "chunk:   4%|██▌                                                        | 1/23 [2:08:31<47:07:33, 7711.50s/it, now=None]"
     ]
    },
    {
     "name": "stdout",
     "output_type": "stream",
     "text": [
      "MoviePy - Writing audio in Output\\Naruto_HD_Set_1_Disc_1-001\\Naruto_HD_Set_1_Disc_1-001_420500.mp3\n"
     ]
    },
    {
     "name": "stderr",
     "output_type": "stream",
     "text": [
      "\n",
      "chunk:   0%|                                                                          | 0/34 [00:00<?, ?it/s, now=None]\u001b[A\n",
      "chunk:   4%|██▌                                                        | 1/23 [2:08:31<47:07:35, 7711.62s/it, now=None]\u001b[A"
     ]
    },
    {
     "name": "stdout",
     "output_type": "stream",
     "text": [
      "MoviePy - Done.\n"
     ]
    },
    {
     "name": "stderr",
     "output_type": "stream",
     "text": [
      "chunk:   4%|██▌                                                        | 1/23 [2:08:32<47:07:50, 7712.29s/it, now=None]"
     ]
    },
    {
     "name": "stdout",
     "output_type": "stream",
     "text": [
      "MoviePy - Writing audio in Output\\Naruto_HD_Set_1_Disc_1-001\\Naruto_HD_Set_1_Disc_1-001_421500.mp3\n"
     ]
    },
    {
     "name": "stderr",
     "output_type": "stream",
     "text": [
      "\n",
      "chunk:   0%|                                                                          | 0/34 [00:00<?, ?it/s, now=None]\u001b[A\n",
      "chunk:   4%|██▌                                                        | 1/23 [2:08:32<47:07:53, 7712.41s/it, now=None]\u001b[A"
     ]
    },
    {
     "name": "stdout",
     "output_type": "stream",
     "text": [
      "MoviePy - Done.\n"
     ]
    },
    {
     "name": "stderr",
     "output_type": "stream",
     "text": [
      "chunk:   4%|██▌                                                        | 1/23 [2:08:33<47:08:17, 7713.51s/it, now=None]"
     ]
    },
    {
     "name": "stdout",
     "output_type": "stream",
     "text": [
      "MoviePy - Writing audio in Output\\Naruto_HD_Set_1_Disc_1-001\\Naruto_HD_Set_1_Disc_1-001_423500.mp3\n"
     ]
    },
    {
     "name": "stderr",
     "output_type": "stream",
     "text": [
      "\n",
      "chunk:   0%|                                                                          | 0/34 [00:00<?, ?it/s, now=None]\u001b[A\n",
      "chunk:   4%|██▌                                                        | 1/23 [2:08:33<47:08:19, 7713.63s/it, now=None]\u001b[A"
     ]
    },
    {
     "name": "stdout",
     "output_type": "stream",
     "text": [
      "MoviePy - Done.\n"
     ]
    },
    {
     "name": "stderr",
     "output_type": "stream",
     "text": [
      "chunk:   4%|██▌                                                        | 1/23 [2:08:34<47:08:33, 7714.26s/it, now=None]"
     ]
    },
    {
     "name": "stdout",
     "output_type": "stream",
     "text": [
      "MoviePy - Writing audio in Output\\Naruto_HD_Set_1_Disc_1-001\\Naruto_HD_Set_1_Disc_1-001_425000.mp3\n"
     ]
    },
    {
     "name": "stderr",
     "output_type": "stream",
     "text": [
      "\n",
      "chunk:   0%|                                                                          | 0/56 [00:00<?, ?it/s, now=None]\u001b[A\n",
      "chunk:  86%|██████████████████████████████████████████████████████▊         | 48/56 [00:00<00:00, 480.00it/s, now=None]\u001b[A\n",
      "chunk:   4%|██▌                                                        | 1/23 [2:08:34<47:08:36, 7714.40s/it, now=None]\u001b[A"
     ]
    },
    {
     "name": "stdout",
     "output_type": "stream",
     "text": [
      "MoviePy - Done.\n"
     ]
    },
    {
     "name": "stderr",
     "output_type": "stream",
     "text": [
      "chunk:   4%|██▌                                                        | 1/23 [2:08:35<47:08:59, 7715.44s/it, now=None]"
     ]
    },
    {
     "name": "stdout",
     "output_type": "stream",
     "text": [
      "MoviePy - Writing audio in Output\\Naruto_HD_Set_1_Disc_1-001\\Naruto_HD_Set_1_Disc_1-001_426500.mp3\n"
     ]
    },
    {
     "name": "stderr",
     "output_type": "stream",
     "text": [
      "\n",
      "chunk:   0%|                                                                          | 0/34 [00:00<?, ?it/s, now=None]\u001b[A\n",
      "chunk:   4%|██▌                                                        | 1/23 [2:08:35<47:09:02, 7715.56s/it, now=None]\u001b[A"
     ]
    },
    {
     "name": "stdout",
     "output_type": "stream",
     "text": [
      "MoviePy - Done.\n"
     ]
    },
    {
     "name": "stderr",
     "output_type": "stream",
     "text": [
      "chunk:   4%|██▌                                                        | 1/23 [2:08:36<47:09:15, 7716.18s/it, now=None]"
     ]
    },
    {
     "name": "stdout",
     "output_type": "stream",
     "text": [
      "MoviePy - Writing audio in Output\\Naruto_HD_Set_1_Disc_1-001\\Naruto_HD_Set_1_Disc_1-001_427500.mp3\n"
     ]
    },
    {
     "name": "stderr",
     "output_type": "stream",
     "text": [
      "\n",
      "chunk:   0%|                                                                          | 0/34 [00:00<?, ?it/s, now=None]\u001b[A\n",
      "chunk:  88%|████████████████████████████████████████████████████████▍       | 30/34 [00:00<00:00, 277.77it/s, now=None]\u001b[A\n",
      "chunk:   4%|██▌                                                        | 1/23 [2:08:36<47:09:19, 7716.32s/it, now=None]\u001b[A"
     ]
    },
    {
     "name": "stdout",
     "output_type": "stream",
     "text": [
      "MoviePy - Done.\n"
     ]
    },
    {
     "name": "stderr",
     "output_type": "stream",
     "text": [
      "chunk:   4%|██▌                                                        | 1/23 [2:08:36<47:09:33, 7716.96s/it, now=None]"
     ]
    },
    {
     "name": "stdout",
     "output_type": "stream",
     "text": [
      "MoviePy - Writing audio in Output\\Naruto_HD_Set_1_Disc_1-001\\Naruto_HD_Set_1_Disc_1-001_428500.mp3\n"
     ]
    },
    {
     "name": "stderr",
     "output_type": "stream",
     "text": [
      "\n",
      "chunk:   0%|                                                                          | 0/34 [00:00<?, ?it/s, now=None]\u001b[A\n",
      "chunk:   4%|██▌                                                        | 1/23 [2:08:37<47:09:35, 7717.08s/it, now=None]\u001b[A"
     ]
    },
    {
     "name": "stdout",
     "output_type": "stream",
     "text": [
      "MoviePy - Done.\n"
     ]
    },
    {
     "name": "stderr",
     "output_type": "stream",
     "text": [
      "chunk:   4%|██▌                                                        | 1/23 [2:08:37<47:09:50, 7717.73s/it, now=None]"
     ]
    },
    {
     "name": "stdout",
     "output_type": "stream",
     "text": [
      "MoviePy - Writing audio in Output\\Naruto_HD_Set_1_Disc_1-001\\Naruto_HD_Set_1_Disc_1-001_430000.mp3\n"
     ]
    },
    {
     "name": "stderr",
     "output_type": "stream",
     "text": [
      "\n",
      "chunk:   0%|                                                                          | 0/56 [00:00<?, ?it/s, now=None]\u001b[A\n",
      "chunk:  54%|██████████████████████████████████▎                             | 30/56 [00:00<00:00, 272.72it/s, now=None]\u001b[A\n",
      "chunk:   4%|██▌                                                        | 1/23 [2:08:37<47:09:53, 7717.90s/it, now=None]\u001b[A"
     ]
    },
    {
     "name": "stdout",
     "output_type": "stream",
     "text": [
      "MoviePy - Done.\n"
     ]
    },
    {
     "name": "stderr",
     "output_type": "stream",
     "text": [
      "chunk:   4%|██▌                                                        | 1/23 [2:08:38<47:10:04, 7718.39s/it, now=None]"
     ]
    },
    {
     "name": "stdout",
     "output_type": "stream",
     "text": [
      "MoviePy - Writing audio in Output\\Naruto_HD_Set_1_Disc_1-001\\Naruto_HD_Set_1_Disc_1-001_439500.mp3\n"
     ]
    },
    {
     "name": "stderr",
     "output_type": "stream",
     "text": [
      "\n",
      "chunk:   0%|                                                                          | 0/34 [00:00<?, ?it/s, now=None]\u001b[A\n",
      "chunk:  88%|████████████████████████████████████████████████████████▍       | 30/34 [00:00<00:00, 256.41it/s, now=None]\u001b[A\n",
      "chunk:   4%|██▌                                                        | 1/23 [2:08:38<47:10:07, 7718.55s/it, now=None]\u001b[A"
     ]
    },
    {
     "name": "stdout",
     "output_type": "stream",
     "text": [
      "MoviePy - Done.\n"
     ]
    },
    {
     "name": "stderr",
     "output_type": "stream",
     "text": [
      "chunk:   4%|██▌                                                        | 1/23 [2:08:39<47:10:22, 7719.21s/it, now=None]"
     ]
    },
    {
     "name": "stdout",
     "output_type": "stream",
     "text": [
      "MoviePy - Writing audio in Output\\Naruto_HD_Set_1_Disc_1-001\\Naruto_HD_Set_1_Disc_1-001_440500.mp3\n"
     ]
    },
    {
     "name": "stderr",
     "output_type": "stream",
     "text": [
      "\n",
      "chunk:   0%|                                                                          | 0/34 [00:00<?, ?it/s, now=None]\u001b[A\n",
      "chunk:   4%|██▌                                                        | 1/23 [2:08:39<47:10:25, 7719.34s/it, now=None]\u001b[A"
     ]
    },
    {
     "name": "stdout",
     "output_type": "stream",
     "text": [
      "MoviePy - Done.\n"
     ]
    },
    {
     "name": "stderr",
     "output_type": "stream",
     "text": [
      "chunk:   4%|██▌                                                        | 1/23 [2:08:39<47:10:38, 7719.92s/it, now=None]"
     ]
    },
    {
     "name": "stdout",
     "output_type": "stream",
     "text": [
      "MoviePy - Writing audio in Output\\Naruto_HD_Set_1_Disc_1-001\\Naruto_HD_Set_1_Disc_1-001_441500.mp3\n"
     ]
    },
    {
     "name": "stderr",
     "output_type": "stream",
     "text": [
      "\n",
      "chunk:   0%|                                                                          | 0/34 [00:00<?, ?it/s, now=None]\u001b[A\n",
      "chunk:   4%|██▌                                                        | 1/23 [2:08:40<47:10:41, 7720.05s/it, now=None]\u001b[A"
     ]
    },
    {
     "name": "stdout",
     "output_type": "stream",
     "text": [
      "MoviePy - Done.\n"
     ]
    },
    {
     "name": "stderr",
     "output_type": "stream",
     "text": [
      "chunk:   4%|██▌                                                        | 1/23 [2:08:40<47:10:55, 7720.71s/it, now=None]"
     ]
    },
    {
     "name": "stdout",
     "output_type": "stream",
     "text": [
      "MoviePy - Writing audio in Output\\Naruto_HD_Set_1_Disc_1-001\\Naruto_HD_Set_1_Disc_1-001_442500.mp3\n"
     ]
    },
    {
     "name": "stderr",
     "output_type": "stream",
     "text": [
      "\n",
      "chunk:   0%|                                                                          | 0/34 [00:00<?, ?it/s, now=None]\u001b[A\n",
      "chunk:   4%|██▌                                                        | 1/23 [2:08:40<47:10:58, 7720.83s/it, now=None]\u001b[A"
     ]
    },
    {
     "name": "stdout",
     "output_type": "stream",
     "text": [
      "MoviePy - Done.\n"
     ]
    },
    {
     "name": "stderr",
     "output_type": "stream",
     "text": [
      "chunk:   4%|██▌                                                        | 1/23 [2:08:41<47:11:11, 7721.43s/it, now=None]"
     ]
    },
    {
     "name": "stdout",
     "output_type": "stream",
     "text": [
      "MoviePy - Writing audio in Output\\Naruto_HD_Set_1_Disc_1-001\\Naruto_HD_Set_1_Disc_1-001_443500.mp3\n"
     ]
    },
    {
     "name": "stderr",
     "output_type": "stream",
     "text": [
      "\n",
      "chunk:   0%|                                                                          | 0/34 [00:00<?, ?it/s, now=None]\u001b[A\n",
      "chunk:  88%|████████████████████████████████████████████████████████▍       | 30/34 [00:00<00:00, 263.15it/s, now=None]\u001b[A\n",
      "chunk:   4%|██▌                                                        | 1/23 [2:08:41<47:11:14, 7721.58s/it, now=None]\u001b[A"
     ]
    },
    {
     "name": "stdout",
     "output_type": "stream",
     "text": [
      "MoviePy - Done.\n"
     ]
    },
    {
     "name": "stderr",
     "output_type": "stream",
     "text": [
      "chunk:   4%|██▌                                                        | 1/23 [2:08:42<47:11:38, 7722.67s/it, now=None]"
     ]
    },
    {
     "name": "stdout",
     "output_type": "stream",
     "text": [
      "MoviePy - Writing audio in Output\\Naruto_HD_Set_1_Disc_1-001\\Naruto_HD_Set_1_Disc_1-001_445500.mp3\n"
     ]
    },
    {
     "name": "stderr",
     "output_type": "stream",
     "text": [
      "\n",
      "chunk:   0%|                                                                          | 0/34 [00:00<?, ?it/s, now=None]\u001b[A\n",
      "chunk:  88%|████████████████████████████████████████████████████████▍       | 30/34 [00:00<00:00, 265.48it/s, now=None]\u001b[A\n",
      "chunk:   4%|██▌                                                        | 1/23 [2:08:42<47:11:41, 7722.82s/it, now=None]\u001b[A"
     ]
    },
    {
     "name": "stdout",
     "output_type": "stream",
     "text": [
      "MoviePy - Done.\n"
     ]
    },
    {
     "name": "stderr",
     "output_type": "stream",
     "text": [
      "chunk:   4%|██▌                                                        | 1/23 [2:08:43<47:11:56, 7723.47s/it, now=None]"
     ]
    },
    {
     "name": "stdout",
     "output_type": "stream",
     "text": [
      "MoviePy - Writing audio in Output\\Naruto_HD_Set_1_Disc_1-001\\Naruto_HD_Set_1_Disc_1-001_446500.mp3\n"
     ]
    },
    {
     "name": "stderr",
     "output_type": "stream",
     "text": [
      "\n",
      "chunk:   0%|                                                                          | 0/34 [00:00<?, ?it/s, now=None]\u001b[A\n",
      "chunk:   4%|██▌                                                        | 1/23 [2:08:43<47:11:59, 7723.60s/it, now=None]\u001b[A"
     ]
    },
    {
     "name": "stdout",
     "output_type": "stream",
     "text": [
      "MoviePy - Done.\n"
     ]
    },
    {
     "name": "stderr",
     "output_type": "stream",
     "text": [
      "chunk:   4%|██▌                                                        | 1/23 [2:08:44<47:12:12, 7724.19s/it, now=None]"
     ]
    },
    {
     "name": "stdout",
     "output_type": "stream",
     "text": [
      "MoviePy - Writing audio in Output\\Naruto_HD_Set_1_Disc_1-001\\Naruto_HD_Set_1_Disc_1-001_447500.mp3\n"
     ]
    },
    {
     "name": "stderr",
     "output_type": "stream",
     "text": [
      "\n",
      "chunk:   0%|                                                                          | 0/34 [00:00<?, ?it/s, now=None]\u001b[A\n",
      "chunk:  88%|████████████████████████████████████████████████████████▍       | 30/34 [00:00<00:00, 263.12it/s, now=None]\u001b[A\n",
      "chunk:   4%|██▌                                                        | 1/23 [2:08:44<47:12:15, 7724.34s/it, now=None]\u001b[A"
     ]
    },
    {
     "name": "stdout",
     "output_type": "stream",
     "text": [
      "MoviePy - Done.\n"
     ]
    },
    {
     "name": "stderr",
     "output_type": "stream",
     "text": [
      "chunk:   4%|██▌                                                        | 1/23 [2:08:44<47:12:29, 7724.99s/it, now=None]"
     ]
    },
    {
     "name": "stdout",
     "output_type": "stream",
     "text": [
      "MoviePy - Writing audio in Output\\Naruto_HD_Set_1_Disc_1-001\\Naruto_HD_Set_1_Disc_1-001_448500.mp3\n"
     ]
    },
    {
     "name": "stderr",
     "output_type": "stream",
     "text": [
      "\n",
      "chunk:   0%|                                                                          | 0/34 [00:00<?, ?it/s, now=None]\u001b[A\n",
      "chunk:   4%|██▌                                                        | 1/23 [2:08:45<47:12:32, 7725.12s/it, now=None]\u001b[A"
     ]
    },
    {
     "name": "stdout",
     "output_type": "stream",
     "text": [
      "MoviePy - Done.\n"
     ]
    },
    {
     "name": "stderr",
     "output_type": "stream",
     "text": [
      "chunk:   4%|██▌                                                        | 1/23 [2:08:45<47:12:47, 7725.80s/it, now=None]"
     ]
    },
    {
     "name": "stdout",
     "output_type": "stream",
     "text": [
      "MoviePy - Writing audio in Output\\Naruto_HD_Set_1_Disc_1-001\\Naruto_HD_Set_1_Disc_1-001_449500.mp3\n"
     ]
    },
    {
     "name": "stderr",
     "output_type": "stream",
     "text": [
      "\n",
      "chunk:   0%|                                                                          | 0/34 [00:00<?, ?it/s, now=None]\u001b[A\n",
      "chunk:   4%|██▌                                                        | 1/23 [2:08:45<47:12:50, 7725.95s/it, now=None]\u001b[A"
     ]
    },
    {
     "name": "stdout",
     "output_type": "stream",
     "text": [
      "MoviePy - Done.\n"
     ]
    },
    {
     "name": "stderr",
     "output_type": "stream",
     "text": [
      "chunk:   4%|██▌                                                        | 1/23 [2:08:46<47:13:04, 7726.59s/it, now=None]"
     ]
    },
    {
     "name": "stdout",
     "output_type": "stream",
     "text": [
      "MoviePy - Writing audio in Output\\Naruto_HD_Set_1_Disc_1-001\\Naruto_HD_Set_1_Disc_1-001_451000.mp3\n"
     ]
    },
    {
     "name": "stderr",
     "output_type": "stream",
     "text": [
      "\n",
      "chunk:   0%|                                                                          | 0/56 [00:00<?, ?it/s, now=None]\u001b[A\n",
      "chunk:  68%|███████████████████████████████████████████▍                    | 38/56 [00:00<00:00, 379.99it/s, now=None]\u001b[A\n",
      "chunk:   4%|██▌                                                        | 1/23 [2:08:46<47:13:08, 7726.73s/it, now=None]\u001b[A"
     ]
    },
    {
     "name": "stdout",
     "output_type": "stream",
     "text": [
      "MoviePy - Done.\n"
     ]
    },
    {
     "name": "stderr",
     "output_type": "stream",
     "text": [
      "chunk:   4%|██▌                                                        | 1/23 [2:08:47<47:13:30, 7727.76s/it, now=None]"
     ]
    },
    {
     "name": "stdout",
     "output_type": "stream",
     "text": [
      "MoviePy - Writing audio in Output\\Naruto_HD_Set_1_Disc_1-001\\Naruto_HD_Set_1_Disc_1-001_453000.mp3\n"
     ]
    },
    {
     "name": "stderr",
     "output_type": "stream",
     "text": [
      "\n",
      "chunk:   0%|                                                                          | 0/56 [00:00<?, ?it/s, now=None]\u001b[A\n",
      "chunk:  54%|██████████████████████████████████▎                             | 30/56 [00:00<00:00, 263.15it/s, now=None]\u001b[A\n",
      "chunk:   4%|██▌                                                        | 1/23 [2:08:47<47:13:34, 7727.93s/it, now=None]\u001b[A"
     ]
    },
    {
     "name": "stdout",
     "output_type": "stream",
     "text": [
      "MoviePy - Done.\n"
     ]
    },
    {
     "name": "stderr",
     "output_type": "stream",
     "text": [
      "chunk:   4%|██▌                                                        | 1/23 [2:08:49<47:13:58, 7729.04s/it, now=None]"
     ]
    },
    {
     "name": "stdout",
     "output_type": "stream",
     "text": [
      "MoviePy - Writing audio in Output\\Naruto_HD_Set_1_Disc_1-001\\Naruto_HD_Set_1_Disc_1-001_455000.mp3\n"
     ]
    },
    {
     "name": "stderr",
     "output_type": "stream",
     "text": [
      "\n",
      "chunk:   0%|                                                                          | 0/56 [00:00<?, ?it/s, now=None]\u001b[A\n",
      "chunk:  54%|██████████████████████████████████▎                             | 30/56 [00:00<00:00, 256.41it/s, now=None]\u001b[A\n",
      "chunk:   4%|██▌                                                        | 1/23 [2:08:49<47:14:02, 7729.22s/it, now=None]\u001b[A"
     ]
    },
    {
     "name": "stdout",
     "output_type": "stream",
     "text": [
      "MoviePy - Done.\n"
     ]
    },
    {
     "name": "stderr",
     "output_type": "stream",
     "text": [
      "chunk:   4%|██▌                                                        | 1/23 [2:08:50<47:14:25, 7730.27s/it, now=None]"
     ]
    },
    {
     "name": "stdout",
     "output_type": "stream",
     "text": [
      "MoviePy - Writing audio in Output\\Naruto_HD_Set_1_Disc_1-001\\Naruto_HD_Set_1_Disc_1-001_456500.mp3\n"
     ]
    },
    {
     "name": "stderr",
     "output_type": "stream",
     "text": [
      "\n",
      "chunk:   0%|                                                                          | 0/34 [00:00<?, ?it/s, now=None]\u001b[A\n",
      "chunk:  94%|████████████████████████████████████████████████████████████▏   | 32/34 [00:00<00:00, 271.19it/s, now=None]\u001b[A\n",
      "chunk:   4%|██▌                                                        | 1/23 [2:08:50<47:14:29, 7730.43s/it, now=None]\u001b[A"
     ]
    },
    {
     "name": "stdout",
     "output_type": "stream",
     "text": [
      "MoviePy - Done.\n"
     ]
    },
    {
     "name": "stderr",
     "output_type": "stream",
     "text": [
      "chunk:   4%|██▌                                                        | 1/23 [2:08:51<47:14:43, 7731.06s/it, now=None]"
     ]
    },
    {
     "name": "stdout",
     "output_type": "stream",
     "text": [
      "MoviePy - Writing audio in Output\\Naruto_HD_Set_1_Disc_1-001\\Naruto_HD_Set_1_Disc_1-001_457500.mp3\n"
     ]
    },
    {
     "name": "stderr",
     "output_type": "stream",
     "text": [
      "\n",
      "chunk:   0%|                                                                          | 0/34 [00:00<?, ?it/s, now=None]\u001b[A\n",
      "chunk:   4%|██▌                                                        | 1/23 [2:08:51<47:14:46, 7731.19s/it, now=None]\u001b[A"
     ]
    },
    {
     "name": "stdout",
     "output_type": "stream",
     "text": [
      "MoviePy - Done.\n"
     ]
    },
    {
     "name": "stderr",
     "output_type": "stream",
     "text": [
      "chunk:   4%|██▌                                                        | 1/23 [2:08:51<47:14:59, 7731.80s/it, now=None]"
     ]
    },
    {
     "name": "stdout",
     "output_type": "stream",
     "text": [
      "MoviePy - Writing audio in Output\\Naruto_HD_Set_1_Disc_1-001\\Naruto_HD_Set_1_Disc_1-001_459000.mp3\n"
     ]
    },
    {
     "name": "stderr",
     "output_type": "stream",
     "text": [
      "\n",
      "chunk:   0%|                                                                          | 0/56 [00:00<?, ?it/s, now=None]\u001b[A\n",
      "chunk:  68%|███████████████████████████████████████████▍                    | 38/56 [00:00<00:00, 316.66it/s, now=None]\u001b[A\n",
      "chunk:   4%|██▌                                                        | 1/23 [2:08:51<47:15:03, 7731.97s/it, now=None]\u001b[A"
     ]
    },
    {
     "name": "stdout",
     "output_type": "stream",
     "text": [
      "MoviePy - Done.\n"
     ]
    },
    {
     "name": "stderr",
     "output_type": "stream",
     "text": [
      "chunk:   4%|██▌                                                        | 1/23 [2:08:53<47:15:26, 7733.00s/it, now=None]"
     ]
    },
    {
     "name": "stdout",
     "output_type": "stream",
     "text": [
      "MoviePy - Writing audio in Output\\Naruto_HD_Set_1_Disc_1-001\\Naruto_HD_Set_1_Disc_1-001_460500.mp3\n"
     ]
    },
    {
     "name": "stderr",
     "output_type": "stream",
     "text": [
      "\n",
      "chunk:   0%|                                                                          | 0/34 [00:00<?, ?it/s, now=None]\u001b[A\n",
      "chunk: 100%|████████████████████████████████████████████████████████████████| 34/34 [00:00<00:00, 340.00it/s, now=None]\u001b[A\n",
      "chunk:   4%|██▌                                                        | 1/23 [2:08:53<47:15:29, 7733.14s/it, now=None]\u001b[A"
     ]
    },
    {
     "name": "stdout",
     "output_type": "stream",
     "text": [
      "MoviePy - Done.\n"
     ]
    },
    {
     "name": "stderr",
     "output_type": "stream",
     "text": [
      "chunk:   4%|██▌                                                        | 1/23 [2:08:53<47:15:42, 7733.75s/it, now=None]"
     ]
    },
    {
     "name": "stdout",
     "output_type": "stream",
     "text": [
      "MoviePy - Writing audio in Output\\Naruto_HD_Set_1_Disc_1-001\\Naruto_HD_Set_1_Disc_1-001_461500.mp3\n"
     ]
    },
    {
     "name": "stderr",
     "output_type": "stream",
     "text": [
      "\n",
      "chunk:   0%|                                                                          | 0/34 [00:00<?, ?it/s, now=None]\u001b[A\n",
      "chunk:  88%|████████████████████████████████████████████████████████▍       | 30/34 [00:00<00:00, 263.16it/s, now=None]\u001b[A\n",
      "chunk:   4%|██▌                                                        | 1/23 [2:08:53<47:15:45, 7733.90s/it, now=None]\u001b[A"
     ]
    },
    {
     "name": "stdout",
     "output_type": "stream",
     "text": [
      "MoviePy - Done.\n"
     ]
    },
    {
     "name": "stderr",
     "output_type": "stream",
     "text": [
      "chunk:   4%|██▌                                                        | 1/23 [2:08:54<47:15:58, 7734.47s/it, now=None]"
     ]
    },
    {
     "name": "stdout",
     "output_type": "stream",
     "text": [
      "MoviePy - Writing audio in Output\\Naruto_HD_Set_1_Disc_1-001\\Naruto_HD_Set_1_Disc_1-001_462500.mp3\n"
     ]
    },
    {
     "name": "stderr",
     "output_type": "stream",
     "text": [
      "\n",
      "chunk:   0%|                                                                          | 0/34 [00:00<?, ?it/s, now=None]\u001b[A\n",
      "chunk:   4%|██▌                                                        | 1/23 [2:08:54<47:16:01, 7734.60s/it, now=None]\u001b[A"
     ]
    },
    {
     "name": "stdout",
     "output_type": "stream",
     "text": [
      "MoviePy - Done.\n"
     ]
    },
    {
     "name": "stderr",
     "output_type": "stream",
     "text": [
      "chunk:   4%|██▌                                                        | 1/23 [2:08:55<47:16:14, 7735.19s/it, now=None]"
     ]
    },
    {
     "name": "stdout",
     "output_type": "stream",
     "text": [
      "MoviePy - Writing audio in Output\\Naruto_HD_Set_1_Disc_1-001\\Naruto_HD_Set_1_Disc_1-001_463500.mp3\n"
     ]
    },
    {
     "name": "stderr",
     "output_type": "stream",
     "text": [
      "\n",
      "chunk:   0%|                                                                          | 0/34 [00:00<?, ?it/s, now=None]\u001b[A\n",
      "chunk:  88%|████████████████████████████████████████████████████████▍       | 30/34 [00:00<00:00, 273.33it/s, now=None]\u001b[A\n",
      "chunk:   4%|██▌                                                        | 1/23 [2:08:55<47:16:17, 7735.34s/it, now=None]\u001b[A"
     ]
    },
    {
     "name": "stdout",
     "output_type": "stream",
     "text": [
      "MoviePy - Done.\n"
     ]
    },
    {
     "name": "stderr",
     "output_type": "stream",
     "text": [
      "chunk:   4%|██▌                                                        | 1/23 [2:08:55<47:16:29, 7735.90s/it, now=None]"
     ]
    },
    {
     "name": "stdout",
     "output_type": "stream",
     "text": [
      "MoviePy - Writing audio in Output\\Naruto_HD_Set_1_Disc_1-001\\Naruto_HD_Set_1_Disc_1-001_464500.mp3\n"
     ]
    },
    {
     "name": "stderr",
     "output_type": "stream",
     "text": [
      "\n",
      "chunk:   0%|                                                                          | 0/34 [00:00<?, ?it/s, now=None]\u001b[A\n",
      "chunk:   4%|██▌                                                        | 1/23 [2:08:56<47:16:32, 7736.02s/it, now=None]\u001b[A"
     ]
    },
    {
     "name": "stdout",
     "output_type": "stream",
     "text": [
      "MoviePy - Done.\n"
     ]
    },
    {
     "name": "stderr",
     "output_type": "stream",
     "text": [
      "chunk:   4%|██▌                                                        | 1/23 [2:08:56<47:16:45, 7736.60s/it, now=None]"
     ]
    },
    {
     "name": "stdout",
     "output_type": "stream",
     "text": [
      "MoviePy - Writing audio in Output\\Naruto_HD_Set_1_Disc_1-001\\Naruto_HD_Set_1_Disc_1-001_465500.mp3\n"
     ]
    },
    {
     "name": "stderr",
     "output_type": "stream",
     "text": [
      "\n",
      "chunk:   0%|                                                                          | 0/34 [00:00<?, ?it/s, now=None]\u001b[A\n",
      "chunk:   4%|██▌                                                        | 1/23 [2:08:56<47:16:47, 7736.72s/it, now=None]\u001b[A"
     ]
    },
    {
     "name": "stdout",
     "output_type": "stream",
     "text": [
      "MoviePy - Done.\n"
     ]
    },
    {
     "name": "stderr",
     "output_type": "stream",
     "text": [
      "chunk:   4%|██▌                                                        | 1/23 [2:08:57<47:16:57, 7737.14s/it, now=None]"
     ]
    },
    {
     "name": "stdout",
     "output_type": "stream",
     "text": [
      "MoviePy - Writing audio in Output\\Naruto_HD_Set_1_Disc_1-001\\Naruto_HD_Set_1_Disc_1-001_473000.mp3\n"
     ]
    },
    {
     "name": "stderr",
     "output_type": "stream",
     "text": [
      "\n",
      "chunk:   0%|                                                                          | 0/56 [00:00<?, ?it/s, now=None]\u001b[A\n",
      "chunk:  54%|██████████████████████████████████▎                             | 30/56 [00:00<00:00, 285.73it/s, now=None]\u001b[A\n",
      "chunk:   4%|██▌                                                        | 1/23 [2:08:57<47:17:01, 7737.32s/it, now=None]\u001b[A"
     ]
    },
    {
     "name": "stdout",
     "output_type": "stream",
     "text": [
      "MoviePy - Done.\n"
     ]
    },
    {
     "name": "stderr",
     "output_type": "stream",
     "text": [
      "chunk:   4%|██▌                                                        | 1/23 [2:08:58<47:17:33, 7738.79s/it, now=None]"
     ]
    },
    {
     "name": "stdout",
     "output_type": "stream",
     "text": [
      "MoviePy - Writing audio in Output\\Naruto_HD_Set_1_Disc_1-001\\Naruto_HD_Set_1_Disc_1-001_476000.mp3\n"
     ]
    },
    {
     "name": "stderr",
     "output_type": "stream",
     "text": [
      "\n",
      "chunk:   0%|                                                                          | 0/56 [00:00<?, ?it/s, now=None]\u001b[A\n",
      "chunk:  64%|█████████████████████████████████████████▏                      | 36/56 [00:00<00:00, 310.34it/s, now=None]\u001b[A\n",
      "chunk:   4%|██▌                                                        | 1/23 [2:08:58<47:17:36, 7738.95s/it, now=None]\u001b[A"
     ]
    },
    {
     "name": "stdout",
     "output_type": "stream",
     "text": [
      "MoviePy - Done.\n"
     ]
    },
    {
     "name": "stderr",
     "output_type": "stream",
     "text": [
      "chunk:   4%|██▌                                                        | 1/23 [2:09:00<47:18:00, 7740.04s/it, now=None]"
     ]
    },
    {
     "name": "stdout",
     "output_type": "stream",
     "text": [
      "MoviePy - Writing audio in Output\\Naruto_HD_Set_1_Disc_1-001\\Naruto_HD_Set_1_Disc_1-001_477500.mp3\n"
     ]
    },
    {
     "name": "stderr",
     "output_type": "stream",
     "text": [
      "\n",
      "chunk:   0%|                                                                          | 0/34 [00:00<?, ?it/s, now=None]\u001b[A\n",
      "chunk:   4%|██▌                                                        | 1/23 [2:09:00<47:18:03, 7740.17s/it, now=None]\u001b[A"
     ]
    },
    {
     "name": "stdout",
     "output_type": "stream",
     "text": [
      "MoviePy - Done.\n"
     ]
    },
    {
     "name": "stderr",
     "output_type": "stream",
     "text": [
      "chunk:   4%|██▌                                                        | 1/23 [2:09:00<47:18:13, 7740.64s/it, now=None]"
     ]
    },
    {
     "name": "stdout",
     "output_type": "stream",
     "text": [
      "MoviePy - Writing audio in Output\\Naruto_HD_Set_1_Disc_1-001\\Naruto_HD_Set_1_Disc_1-001_485000.mp3\n"
     ]
    },
    {
     "name": "stderr",
     "output_type": "stream",
     "text": [
      "\n",
      "chunk:   0%|                                                                          | 0/56 [00:00<?, ?it/s, now=None]\u001b[A\n",
      "chunk:  66%|██████████████████████████████████████████▎                     | 37/56 [00:00<00:00, 370.00it/s, now=None]\u001b[A\n",
      "chunk:   4%|██▌                                                        | 1/23 [2:09:00<47:18:17, 7740.81s/it, now=None]\u001b[A"
     ]
    },
    {
     "name": "stdout",
     "output_type": "stream",
     "text": [
      "MoviePy - Done.\n"
     ]
    },
    {
     "name": "stderr",
     "output_type": "stream",
     "text": [
      "chunk:   4%|██▌                                                        | 1/23 [2:09:01<47:18:41, 7741.88s/it, now=None]"
     ]
    },
    {
     "name": "stdout",
     "output_type": "stream",
     "text": [
      "MoviePy - Writing audio in Output\\Naruto_HD_Set_1_Disc_1-001\\Naruto_HD_Set_1_Disc_1-001_486500.mp3\n"
     ]
    },
    {
     "name": "stderr",
     "output_type": "stream",
     "text": [
      "\n",
      "chunk:   0%|                                                                          | 0/34 [00:00<?, ?it/s, now=None]\u001b[A\n",
      "chunk:   4%|██▌                                                        | 1/23 [2:09:01<47:18:43, 7742.00s/it, now=None]\u001b[A"
     ]
    },
    {
     "name": "stdout",
     "output_type": "stream",
     "text": [
      "MoviePy - Done.\n"
     ]
    },
    {
     "name": "stderr",
     "output_type": "stream",
     "text": [
      "chunk:   4%|██▌                                                        | 1/23 [2:09:02<47:18:58, 7742.65s/it, now=None]"
     ]
    },
    {
     "name": "stdout",
     "output_type": "stream",
     "text": [
      "MoviePy - Writing audio in Output\\Naruto_HD_Set_1_Disc_1-001\\Naruto_HD_Set_1_Disc_1-001_487500.mp3\n"
     ]
    },
    {
     "name": "stderr",
     "output_type": "stream",
     "text": [
      "\n",
      "chunk:   0%|                                                                          | 0/34 [00:00<?, ?it/s, now=None]\u001b[A\n",
      "chunk:   4%|██▌                                                        | 1/23 [2:09:02<47:19:01, 7742.77s/it, now=None]\u001b[A"
     ]
    },
    {
     "name": "stdout",
     "output_type": "stream",
     "text": [
      "MoviePy - Done.\n"
     ]
    },
    {
     "name": "stderr",
     "output_type": "stream",
     "text": [
      "chunk:   4%|██▌                                                        | 1/23 [2:09:03<47:19:16, 7743.47s/it, now=None]"
     ]
    },
    {
     "name": "stdout",
     "output_type": "stream",
     "text": [
      "MoviePy - Writing audio in Output\\Naruto_HD_Set_1_Disc_1-001\\Naruto_HD_Set_1_Disc_1-001_488500.mp3\n"
     ]
    },
    {
     "name": "stderr",
     "output_type": "stream",
     "text": [
      "\n",
      "chunk:   0%|                                                                          | 0/34 [00:00<?, ?it/s, now=None]\u001b[A\n",
      "chunk:  88%|████████████████████████████████████████████████████████▍       | 30/34 [00:00<00:00, 265.49it/s, now=None]\u001b[A\n",
      "chunk:   4%|██▌                                                        | 1/23 [2:09:03<47:19:19, 7743.62s/it, now=None]\u001b[A"
     ]
    },
    {
     "name": "stdout",
     "output_type": "stream",
     "text": [
      "MoviePy - Done.\n"
     ]
    },
    {
     "name": "stderr",
     "output_type": "stream",
     "text": [
      "chunk:   4%|██▌                                                        | 1/23 [2:09:04<47:19:34, 7744.29s/it, now=None]"
     ]
    },
    {
     "name": "stdout",
     "output_type": "stream",
     "text": [
      "MoviePy - Writing audio in Output\\Naruto_HD_Set_1_Disc_1-001\\Naruto_HD_Set_1_Disc_1-001_490000.mp3\n"
     ]
    },
    {
     "name": "stderr",
     "output_type": "stream",
     "text": [
      "\n",
      "chunk:   0%|                                                                          | 0/56 [00:00<?, ?it/s, now=None]\u001b[A\n",
      "chunk:  77%|█████████████████████████████████████████████████▏              | 43/56 [00:00<00:00, 361.34it/s, now=None]\u001b[A\n",
      "chunk:   4%|██▌                                                        | 1/23 [2:09:04<47:19:37, 7744.45s/it, now=None]\u001b[A"
     ]
    },
    {
     "name": "stdout",
     "output_type": "stream",
     "text": [
      "MoviePy - Done.\n"
     ]
    },
    {
     "name": "stderr",
     "output_type": "stream",
     "text": [
      "chunk:   4%|██▌                                                        | 1/23 [2:09:05<47:20:00, 7745.49s/it, now=None]"
     ]
    },
    {
     "name": "stdout",
     "output_type": "stream",
     "text": [
      "MoviePy - Writing audio in Output\\Naruto_HD_Set_1_Disc_1-001\\Naruto_HD_Set_1_Disc_1-001_492000.mp3\n"
     ]
    },
    {
     "name": "stderr",
     "output_type": "stream",
     "text": [
      "\n",
      "chunk:   0%|                                                                          | 0/56 [00:00<?, ?it/s, now=None]\u001b[A\n",
      "chunk:  75%|████████████████████████████████████████████████                | 42/56 [00:00<00:00, 419.99it/s, now=None]\u001b[A\n",
      "chunk:   4%|██▌                                                        | 1/23 [2:09:05<47:20:04, 7745.66s/it, now=None]\u001b[A"
     ]
    },
    {
     "name": "stdout",
     "output_type": "stream",
     "text": [
      "MoviePy - Done.\n"
     ]
    },
    {
     "name": "stderr",
     "output_type": "stream",
     "text": [
      "chunk:   4%|██▌                                                        | 1/23 [2:09:06<47:20:28, 7746.74s/it, now=None]"
     ]
    },
    {
     "name": "stdout",
     "output_type": "stream",
     "text": [
      "MoviePy - Writing audio in Output\\Naruto_HD_Set_1_Disc_1-001\\Naruto_HD_Set_1_Disc_1-001_493500.mp3\n"
     ]
    },
    {
     "name": "stderr",
     "output_type": "stream",
     "text": [
      "\n",
      "chunk:   0%|                                                                          | 0/34 [00:00<?, ?it/s, now=None]\u001b[A\n",
      "chunk:   4%|██▌                                                        | 1/23 [2:09:06<47:20:30, 7746.86s/it, now=None]\u001b[A"
     ]
    },
    {
     "name": "stdout",
     "output_type": "stream",
     "text": [
      "MoviePy - Done.\n"
     ]
    },
    {
     "name": "stderr",
     "output_type": "stream",
     "text": [
      "chunk:   4%|██▌                                                        | 1/23 [2:09:07<47:20:44, 7747.49s/it, now=None]"
     ]
    },
    {
     "name": "stdout",
     "output_type": "stream",
     "text": [
      "MoviePy - Writing audio in Output\\Naruto_HD_Set_1_Disc_1-001\\Naruto_HD_Set_1_Disc_1-001_495000.mp3\n"
     ]
    },
    {
     "name": "stderr",
     "output_type": "stream",
     "text": [
      "\n",
      "chunk:   0%|                                                                          | 0/56 [00:00<?, ?it/s, now=None]\u001b[A\n",
      "chunk:  59%|█████████████████████████████████████▋                          | 33/56 [00:00<00:00, 297.28it/s, now=None]\u001b[A\n",
      "chunk:   4%|██▌                                                        | 1/23 [2:09:07<47:20:48, 7747.65s/it, now=None]\u001b[A"
     ]
    },
    {
     "name": "stdout",
     "output_type": "stream",
     "text": [
      "MoviePy - Done.\n"
     ]
    },
    {
     "name": "stderr",
     "output_type": "stream",
     "text": [
      "chunk:   4%|██▌                                                        | 1/23 [2:09:08<47:21:12, 7748.75s/it, now=None]"
     ]
    },
    {
     "name": "stdout",
     "output_type": "stream",
     "text": [
      "MoviePy - Writing audio in Output\\Naruto_HD_Set_1_Disc_1-001\\Naruto_HD_Set_1_Disc_1-001_497000.mp3\n"
     ]
    },
    {
     "name": "stderr",
     "output_type": "stream",
     "text": [
      "\n",
      "chunk:   0%|                                                                          | 0/56 [00:00<?, ?it/s, now=None]\u001b[A\n",
      "chunk:  70%|████████████████████████████████████████████▌                   | 39/56 [00:00<00:00, 333.27it/s, now=None]\u001b[A\n",
      "chunk:   4%|██▌                                                        | 1/23 [2:09:08<47:21:15, 7748.91s/it, now=None]\u001b[A"
     ]
    },
    {
     "name": "stdout",
     "output_type": "stream",
     "text": [
      "MoviePy - Done.\n"
     ]
    },
    {
     "name": "stderr",
     "output_type": "stream",
     "text": [
      "chunk:   4%|██▌                                                        | 1/23 [2:09:09<47:21:39, 7749.97s/it, now=None]"
     ]
    },
    {
     "name": "stdout",
     "output_type": "stream",
     "text": [
      "MoviePy - Writing audio in Output\\Naruto_HD_Set_1_Disc_1-001\\Naruto_HD_Set_1_Disc_1-001_499000.mp3\n"
     ]
    },
    {
     "name": "stderr",
     "output_type": "stream",
     "text": [
      "\n",
      "chunk:   0%|                                                                          | 0/56 [00:00<?, ?it/s, now=None]\u001b[A\n",
      "chunk:  79%|██████████████████████████████████████████████████▎             | 44/56 [00:00<00:00, 439.99it/s, now=None]\u001b[A\n",
      "chunk:   4%|██▌                                                        | 1/23 [2:09:10<47:21:42, 7750.13s/it, now=None]\u001b[A"
     ]
    },
    {
     "name": "stdout",
     "output_type": "stream",
     "text": [
      "MoviePy - Done.\n"
     ]
    },
    {
     "name": "stderr",
     "output_type": "stream",
     "text": [
      "chunk:   4%|██▌                                                        | 1/23 [2:09:11<47:22:06, 7751.22s/it, now=None]"
     ]
    },
    {
     "name": "stdout",
     "output_type": "stream",
     "text": [
      "MoviePy - Writing audio in Output\\Naruto_HD_Set_1_Disc_1-001\\Naruto_HD_Set_1_Disc_1-001_501000.mp3\n"
     ]
    },
    {
     "name": "stderr",
     "output_type": "stream",
     "text": [
      "\n",
      "chunk:   0%|                                                                          | 0/56 [00:00<?, ?it/s, now=None]\u001b[A\n",
      "chunk:  82%|████████████████████████████████████████████████████▌           | 46/56 [00:00<00:00, 460.00it/s, now=None]\u001b[A\n",
      "chunk:   4%|██▌                                                        | 1/23 [2:09:11<47:22:10, 7751.38s/it, now=None]\u001b[A"
     ]
    },
    {
     "name": "stdout",
     "output_type": "stream",
     "text": [
      "MoviePy - Done.\n"
     ]
    },
    {
     "name": "stderr",
     "output_type": "stream",
     "text": [
      "chunk:   4%|██▌                                                        | 1/23 [2:09:12<47:22:33, 7752.43s/it, now=None]"
     ]
    },
    {
     "name": "stdout",
     "output_type": "stream",
     "text": [
      "MoviePy - Writing audio in Output\\Naruto_HD_Set_1_Disc_1-001\\Naruto_HD_Set_1_Disc_1-001_503000.mp3\n"
     ]
    },
    {
     "name": "stderr",
     "output_type": "stream",
     "text": [
      "\n",
      "chunk:   0%|                                                                          | 0/56 [00:00<?, ?it/s, now=None]\u001b[A\n",
      "chunk:  84%|█████████████████████████████████████████████████████▋          | 47/56 [00:00<00:00, 465.35it/s, now=None]\u001b[A\n",
      "chunk:   4%|██▌                                                        | 1/23 [2:09:12<47:22:36, 7752.59s/it, now=None]\u001b[A"
     ]
    },
    {
     "name": "stdout",
     "output_type": "stream",
     "text": [
      "MoviePy - Done.\n"
     ]
    },
    {
     "name": "stderr",
     "output_type": "stream",
     "text": [
      "chunk:   4%|██▌                                                        | 1/23 [2:09:13<47:23:00, 7753.68s/it, now=None]"
     ]
    },
    {
     "name": "stdout",
     "output_type": "stream",
     "text": [
      "MoviePy - Writing audio in Output\\Naruto_HD_Set_1_Disc_1-001\\Naruto_HD_Set_1_Disc_1-001_505000.mp3\n"
     ]
    },
    {
     "name": "stderr",
     "output_type": "stream",
     "text": [
      "\n",
      "chunk:   0%|                                                                          | 0/56 [00:00<?, ?it/s, now=None]\u001b[A\n",
      "chunk:  70%|████████████████████████████████████████████▌                   | 39/56 [00:00<00:00, 390.00it/s, now=None]\u001b[A\n",
      "chunk:   4%|██▌                                                        | 1/23 [2:09:13<47:23:04, 7753.82s/it, now=None]\u001b[A"
     ]
    },
    {
     "name": "stdout",
     "output_type": "stream",
     "text": [
      "MoviePy - Done.\n"
     ]
    },
    {
     "name": "stderr",
     "output_type": "stream",
     "text": [
      "chunk:   4%|██▌                                                        | 1/23 [2:09:14<47:23:26, 7754.85s/it, now=None]"
     ]
    },
    {
     "name": "stdout",
     "output_type": "stream",
     "text": [
      "MoviePy - Writing audio in Output\\Naruto_HD_Set_1_Disc_1-001\\Naruto_HD_Set_1_Disc_1-001_508000.mp3\n"
     ]
    },
    {
     "name": "stderr",
     "output_type": "stream",
     "text": [
      "\n",
      "chunk:   0%|                                                                         | 0/100 [00:00<?, ?it/s, now=None]\u001b[A\n",
      "chunk:  29%|██████████████████▎                                            | 29/100 [00:00<00:00, 258.93it/s, now=None]\u001b[A\n",
      "chunk:   4%|██▌                                                        | 1/23 [2:09:15<47:23:31, 7755.06s/it, now=None]\u001b[A"
     ]
    },
    {
     "name": "stdout",
     "output_type": "stream",
     "text": [
      "MoviePy - Done.\n"
     ]
    },
    {
     "name": "stderr",
     "output_type": "stream",
     "text": [
      "chunk:   4%|██▌                                                        | 1/23 [2:09:15<47:23:42, 7755.55s/it, now=None]"
     ]
    },
    {
     "name": "stdout",
     "output_type": "stream",
     "text": [
      "MoviePy - Writing audio in Output\\Naruto_HD_Set_1_Disc_1-001\\Naruto_HD_Set_1_Disc_1-001_511000.mp3\n"
     ]
    },
    {
     "name": "stderr",
     "output_type": "stream",
     "text": [
      "\n",
      "chunk:   0%|                                                                          | 0/56 [00:00<?, ?it/s, now=None]\u001b[A\n",
      "chunk:  57%|████████████████████████████████████▌                           | 32/56 [00:00<00:00, 293.58it/s, now=None]\u001b[A\n",
      "chunk:   4%|██▌                                                        | 1/23 [2:09:15<47:23:45, 7755.71s/it, now=None]\u001b[A"
     ]
    },
    {
     "name": "stdout",
     "output_type": "stream",
     "text": [
      "MoviePy - Done.\n"
     ]
    },
    {
     "name": "stderr",
     "output_type": "stream",
     "text": [
      "chunk:   4%|██▌                                                        | 1/23 [2:09:16<47:24:08, 7756.73s/it, now=None]"
     ]
    },
    {
     "name": "stdout",
     "output_type": "stream",
     "text": [
      "MoviePy - Writing audio in Output\\Naruto_HD_Set_1_Disc_1-001\\Naruto_HD_Set_1_Disc_1-001_512500.mp3\n"
     ]
    },
    {
     "name": "stderr",
     "output_type": "stream",
     "text": [
      "\n",
      "chunk:   0%|                                                                          | 0/34 [00:00<?, ?it/s, now=None]\u001b[A\n",
      "chunk:   4%|██▌                                                        | 1/23 [2:09:16<47:24:10, 7756.85s/it, now=None]\u001b[A"
     ]
    },
    {
     "name": "stdout",
     "output_type": "stream",
     "text": [
      "MoviePy - Done.\n"
     ]
    },
    {
     "name": "stderr",
     "output_type": "stream",
     "text": [
      "chunk:   4%|██▌                                                        | 1/23 [2:09:17<47:24:24, 7757.47s/it, now=None]"
     ]
    },
    {
     "name": "stdout",
     "output_type": "stream",
     "text": [
      "MoviePy - Writing audio in Output\\Naruto_HD_Set_1_Disc_1-001\\Naruto_HD_Set_1_Disc_1-001_514000.mp3\n"
     ]
    },
    {
     "name": "stderr",
     "output_type": "stream",
     "text": [
      "\n",
      "chunk:   0%|                                                                          | 0/56 [00:00<?, ?it/s, now=None]\u001b[A\n",
      "chunk:  54%|██████████████████████████████████▎                             | 30/56 [00:00<00:00, 267.87it/s, now=None]\u001b[A\n",
      "chunk:   4%|██▌                                                        | 1/23 [2:09:17<47:24:27, 7757.63s/it, now=None]\u001b[A"
     ]
    },
    {
     "name": "stdout",
     "output_type": "stream",
     "text": [
      "MoviePy - Done.\n"
     ]
    },
    {
     "name": "stderr",
     "output_type": "stream",
     "text": [
      "chunk:   4%|██▌                                                        | 1/23 [2:09:19<47:25:00, 7759.13s/it, now=None]"
     ]
    },
    {
     "name": "stdout",
     "output_type": "stream",
     "text": [
      "MoviePy - Writing audio in Output\\Naruto_HD_Set_1_Disc_1-001\\Naruto_HD_Set_1_Disc_1-001_517500.mp3\n"
     ]
    },
    {
     "name": "stderr",
     "output_type": "stream",
     "text": [
      "\n",
      "chunk:   0%|                                                                          | 0/78 [00:00<?, ?it/s, now=None]\u001b[A\n",
      "chunk:  38%|████████████████████████▌                                       | 30/78 [00:00<00:00, 297.03it/s, now=None]\u001b[A\n",
      "chunk:   4%|██▌                                                        | 1/23 [2:09:19<47:25:05, 7759.32s/it, now=None]\u001b[A"
     ]
    },
    {
     "name": "stdout",
     "output_type": "stream",
     "text": [
      "MoviePy - Done.\n"
     ]
    },
    {
     "name": "stderr",
     "output_type": "stream",
     "text": [
      "chunk:   4%|██▌                                                        | 1/23 [2:09:20<47:25:38, 7760.86s/it, now=None]"
     ]
    },
    {
     "name": "stdout",
     "output_type": "stream",
     "text": [
      "MoviePy - Writing audio in Output\\Naruto_HD_Set_1_Disc_1-001\\Naruto_HD_Set_1_Disc_1-001_520000.mp3\n"
     ]
    },
    {
     "name": "stderr",
     "output_type": "stream",
     "text": [
      "\n",
      "chunk:   0%|                                                                          | 0/56 [00:00<?, ?it/s, now=None]\u001b[A\n",
      "chunk:  64%|█████████████████████████████████████████▏                      | 36/56 [00:00<00:00, 305.09it/s, now=None]\u001b[A\n",
      "chunk:   4%|██▌                                                        | 1/23 [2:09:21<47:25:42, 7761.03s/it, now=None]\u001b[A"
     ]
    },
    {
     "name": "stdout",
     "output_type": "stream",
     "text": [
      "MoviePy - Done.\n"
     ]
    },
    {
     "name": "stderr",
     "output_type": "stream",
     "text": [
      "chunk:   4%|██▌                                                        | 1/23 [2:09:22<47:26:07, 7762.17s/it, now=None]"
     ]
    },
    {
     "name": "stdout",
     "output_type": "stream",
     "text": [
      "MoviePy - Writing audio in Output\\Naruto_HD_Set_1_Disc_1-001\\Naruto_HD_Set_1_Disc_1-001_522000.mp3\n"
     ]
    },
    {
     "name": "stderr",
     "output_type": "stream",
     "text": [
      "\n",
      "chunk:   0%|                                                                          | 0/56 [00:00<?, ?it/s, now=None]\u001b[A\n",
      "chunk:  75%|████████████████████████████████████████████████                | 42/56 [00:00<00:00, 358.99it/s, now=None]\u001b[A\n",
      "chunk:   4%|██▌                                                        | 1/23 [2:09:22<47:26:11, 7762.33s/it, now=None]\u001b[A"
     ]
    },
    {
     "name": "stdout",
     "output_type": "stream",
     "text": [
      "MoviePy - Done.\n"
     ]
    },
    {
     "name": "stderr",
     "output_type": "stream",
     "text": [
      "chunk:   4%|██▌                                                        | 1/23 [2:09:23<47:26:35, 7763.41s/it, now=None]"
     ]
    },
    {
     "name": "stdout",
     "output_type": "stream",
     "text": [
      "MoviePy - Writing audio in Output\\Naruto_HD_Set_1_Disc_1-001\\Naruto_HD_Set_1_Disc_1-001_524000.mp3\n"
     ]
    },
    {
     "name": "stderr",
     "output_type": "stream",
     "text": [
      "\n",
      "chunk:   0%|                                                                          | 0/56 [00:00<?, ?it/s, now=None]\u001b[A\n",
      "chunk:  82%|████████████████████████████████████████████████████▌           | 46/56 [00:00<00:00, 459.98it/s, now=None]\u001b[A\n",
      "chunk:   4%|██▌                                                        | 1/23 [2:09:23<47:26:38, 7763.58s/it, now=None]\u001b[A"
     ]
    },
    {
     "name": "stdout",
     "output_type": "stream",
     "text": [
      "MoviePy - Done.\n"
     ]
    },
    {
     "name": "stderr",
     "output_type": "stream",
     "text": [
      "chunk:   4%|██▌                                                        | 1/23 [2:09:24<47:27:01, 7764.63s/it, now=None]"
     ]
    },
    {
     "name": "stdout",
     "output_type": "stream",
     "text": [
      "MoviePy - Writing audio in Output\\Naruto_HD_Set_1_Disc_1-001\\Naruto_HD_Set_1_Disc_1-001_525500.mp3\n"
     ]
    },
    {
     "name": "stderr",
     "output_type": "stream",
     "text": [
      "\n",
      "chunk:   0%|                                                                          | 0/34 [00:00<?, ?it/s, now=None]\u001b[A\n",
      "chunk:   4%|██▌                                                        | 1/23 [2:09:24<47:27:04, 7764.75s/it, now=None]\u001b[A"
     ]
    },
    {
     "name": "stdout",
     "output_type": "stream",
     "text": [
      "MoviePy - Done.\n"
     ]
    },
    {
     "name": "stderr",
     "output_type": "stream",
     "text": [
      "chunk:   4%|██▌                                                        | 1/23 [2:09:25<47:27:17, 7765.35s/it, now=None]"
     ]
    },
    {
     "name": "stdout",
     "output_type": "stream",
     "text": [
      "MoviePy - Writing audio in Output\\Naruto_HD_Set_1_Disc_1-001\\Naruto_HD_Set_1_Disc_1-001_527000.mp3\n"
     ]
    },
    {
     "name": "stderr",
     "output_type": "stream",
     "text": [
      "\n",
      "chunk:   0%|                                                                          | 0/56 [00:00<?, ?it/s, now=None]\u001b[A\n",
      "chunk:  57%|████████████████████████████████████▌                           | 32/56 [00:00<00:00, 293.59it/s, now=None]\u001b[A\n",
      "chunk:   4%|██▌                                                        | 1/23 [2:09:25<47:27:21, 7765.51s/it, now=None]\u001b[A"
     ]
    },
    {
     "name": "stdout",
     "output_type": "stream",
     "text": [
      "MoviePy - Done.\n"
     ]
    },
    {
     "name": "stderr",
     "output_type": "stream",
     "text": [
      "chunk:   4%|██▌                                                        | 1/23 [2:09:26<47:27:44, 7766.55s/it, now=None]"
     ]
    },
    {
     "name": "stdout",
     "output_type": "stream",
     "text": [
      "MoviePy - Writing audio in Output\\Naruto_HD_Set_1_Disc_1-001\\Naruto_HD_Set_1_Disc_1-001_528500.mp3\n"
     ]
    },
    {
     "name": "stderr",
     "output_type": "stream",
     "text": [
      "\n",
      "chunk:   0%|                                                                          | 0/34 [00:00<?, ?it/s, now=None]\u001b[A\n",
      "chunk:   4%|██▌                                                        | 1/23 [2:09:26<47:27:46, 7766.67s/it, now=None]\u001b[A"
     ]
    },
    {
     "name": "stdout",
     "output_type": "stream",
     "text": [
      "MoviePy - Done.\n"
     ]
    },
    {
     "name": "stderr",
     "output_type": "stream",
     "text": [
      "chunk:   4%|██▌                                                        | 1/23 [2:09:27<47:28:00, 7767.29s/it, now=None]"
     ]
    },
    {
     "name": "stdout",
     "output_type": "stream",
     "text": [
      "MoviePy - Writing audio in Output\\Naruto_HD_Set_1_Disc_1-001\\Naruto_HD_Set_1_Disc_1-001_529500.mp3\n"
     ]
    },
    {
     "name": "stderr",
     "output_type": "stream",
     "text": [
      "\n",
      "chunk:   0%|                                                                          | 0/34 [00:00<?, ?it/s, now=None]\u001b[A\n",
      "chunk:  88%|████████████████████████████████████████████████████████▍       | 30/34 [00:00<00:00, 267.86it/s, now=None]\u001b[A\n",
      "chunk:   4%|██▌                                                        | 1/23 [2:09:27<47:28:03, 7767.44s/it, now=None]\u001b[A"
     ]
    },
    {
     "name": "stdout",
     "output_type": "stream",
     "text": [
      "MoviePy - Done.\n"
     ]
    },
    {
     "name": "stderr",
     "output_type": "stream",
     "text": [
      "chunk:   4%|██▌                                                        | 1/23 [2:09:28<47:28:17, 7768.06s/it, now=None]"
     ]
    },
    {
     "name": "stdout",
     "output_type": "stream",
     "text": [
      "MoviePy - Writing audio in Output\\Naruto_HD_Set_1_Disc_1-001\\Naruto_HD_Set_1_Disc_1-001_531000.mp3\n"
     ]
    },
    {
     "name": "stderr",
     "output_type": "stream",
     "text": [
      "\n",
      "chunk:   0%|                                                                          | 0/56 [00:00<?, ?it/s, now=None]\u001b[A\n",
      "chunk:  62%|████████████████████████████████████████                        | 35/56 [00:00<00:00, 350.00it/s, now=None]\u001b[A\n",
      "chunk:   4%|██▌                                                        | 1/23 [2:09:28<47:28:21, 7768.23s/it, now=None]\u001b[A"
     ]
    },
    {
     "name": "stdout",
     "output_type": "stream",
     "text": [
      "MoviePy - Done.\n"
     ]
    },
    {
     "name": "stderr",
     "output_type": "stream",
     "text": [
      "chunk:   4%|██▌                                                        | 1/23 [2:09:29<47:28:44, 7769.28s/it, now=None]"
     ]
    },
    {
     "name": "stdout",
     "output_type": "stream",
     "text": [
      "MoviePy - Writing audio in Output\\Naruto_HD_Set_1_Disc_1-001\\Naruto_HD_Set_1_Disc_1-001_532500.mp3\n"
     ]
    },
    {
     "name": "stderr",
     "output_type": "stream",
     "text": [
      "\n",
      "chunk:   0%|                                                                          | 0/34 [00:00<?, ?it/s, now=None]\u001b[A\n",
      "chunk:   4%|██▌                                                        | 1/23 [2:09:29<47:28:46, 7769.40s/it, now=None]\u001b[A"
     ]
    },
    {
     "name": "stdout",
     "output_type": "stream",
     "text": [
      "MoviePy - Done.\n"
     ]
    },
    {
     "name": "stderr",
     "output_type": "stream",
     "text": [
      "chunk:   4%|██▌                                                        | 1/23 [2:09:30<47:29:00, 7770.02s/it, now=None]"
     ]
    },
    {
     "name": "stdout",
     "output_type": "stream",
     "text": [
      "MoviePy - Writing audio in Output\\Naruto_HD_Set_1_Disc_1-001\\Naruto_HD_Set_1_Disc_1-001_533500.mp3\n"
     ]
    },
    {
     "name": "stderr",
     "output_type": "stream",
     "text": [
      "\n",
      "chunk:   0%|                                                                          | 0/34 [00:00<?, ?it/s, now=None]\u001b[A\n",
      "chunk:  88%|████████████████████████████████████████████████████████▍       | 30/34 [00:00<00:00, 252.11it/s, now=None]\u001b[A\n",
      "chunk:   4%|██▌                                                        | 1/23 [2:09:30<47:29:03, 7770.18s/it, now=None]\u001b[A"
     ]
    },
    {
     "name": "stdout",
     "output_type": "stream",
     "text": [
      "MoviePy - Done.\n"
     ]
    },
    {
     "name": "stderr",
     "output_type": "stream",
     "text": [
      "chunk:   4%|██▌                                                        | 1/23 [2:09:30<47:29:17, 7770.78s/it, now=None]"
     ]
    },
    {
     "name": "stdout",
     "output_type": "stream",
     "text": [
      "MoviePy - Writing audio in Output\\Naruto_HD_Set_1_Disc_1-001\\Naruto_HD_Set_1_Disc_1-001_534500.mp3\n"
     ]
    },
    {
     "name": "stderr",
     "output_type": "stream",
     "text": [
      "\n",
      "chunk:   0%|                                                                          | 0/34 [00:00<?, ?it/s, now=None]\u001b[A\n",
      "chunk:   4%|██▌                                                        | 1/23 [2:09:30<47:29:19, 7770.91s/it, now=None]\u001b[A"
     ]
    },
    {
     "name": "stdout",
     "output_type": "stream",
     "text": [
      "MoviePy - Done.\n"
     ]
    },
    {
     "name": "stderr",
     "output_type": "stream",
     "text": [
      "chunk:   4%|██▌                                                        | 1/23 [2:09:31<47:29:29, 7771.33s/it, now=None]"
     ]
    },
    {
     "name": "stdout",
     "output_type": "stream",
     "text": [
      "MoviePy - Writing audio in Output\\Naruto_HD_Set_1_Disc_1-001\\Naruto_HD_Set_1_Disc_1-001_542500.mp3\n"
     ]
    },
    {
     "name": "stderr",
     "output_type": "stream",
     "text": [
      "\n",
      "chunk:   0%|                                                                          | 0/34 [00:00<?, ?it/s, now=None]\u001b[A\n",
      "chunk:  88%|████████████████████████████████████████████████████████▍       | 30/34 [00:00<00:00, 291.27it/s, now=None]\u001b[A\n",
      "chunk:   4%|██▌                                                        | 1/23 [2:09:31<47:29:32, 7771.47s/it, now=None]\u001b[A"
     ]
    },
    {
     "name": "stdout",
     "output_type": "stream",
     "text": [
      "MoviePy - Done.\n"
     ]
    },
    {
     "name": "stderr",
     "output_type": "stream",
     "text": [
      "chunk:   4%|██▌                                                        | 1/23 [2:09:32<47:29:47, 7772.16s/it, now=None]"
     ]
    },
    {
     "name": "stdout",
     "output_type": "stream",
     "text": [
      "MoviePy - Writing audio in Output\\Naruto_HD_Set_1_Disc_1-001\\Naruto_HD_Set_1_Disc_1-001_543500.mp3\n"
     ]
    },
    {
     "name": "stderr",
     "output_type": "stream",
     "text": [
      "\n",
      "chunk:   0%|                                                                          | 0/34 [00:00<?, ?it/s, now=None]\u001b[A\n",
      "chunk:   4%|██▌                                                        | 1/23 [2:09:32<47:29:50, 7772.29s/it, now=None]\u001b[A"
     ]
    },
    {
     "name": "stdout",
     "output_type": "stream",
     "text": [
      "MoviePy - Done.\n"
     ]
    },
    {
     "name": "stderr",
     "output_type": "stream",
     "text": [
      "chunk:   4%|██▌                                                        | 1/23 [2:09:32<47:30:03, 7772.90s/it, now=None]"
     ]
    },
    {
     "name": "stdout",
     "output_type": "stream",
     "text": [
      "MoviePy - Writing audio in Output\\Naruto_HD_Set_1_Disc_1-001\\Naruto_HD_Set_1_Disc_1-001_545000.mp3\n"
     ]
    },
    {
     "name": "stderr",
     "output_type": "stream",
     "text": [
      "\n",
      "chunk:   0%|                                                                          | 0/56 [00:00<?, ?it/s, now=None]\u001b[A\n",
      "chunk:  68%|███████████████████████████████████████████▍                    | 38/56 [00:00<00:00, 376.23it/s, now=None]\u001b[A\n",
      "chunk:   4%|██▌                                                        | 1/23 [2:09:33<47:30:07, 7773.05s/it, now=None]\u001b[A"
     ]
    },
    {
     "name": "stdout",
     "output_type": "stream",
     "text": [
      "MoviePy - Done.\n"
     ]
    },
    {
     "name": "stderr",
     "output_type": "stream",
     "text": [
      "chunk:   4%|██▌                                                        | 1/23 [2:09:33<47:30:17, 7773.54s/it, now=None]"
     ]
    },
    {
     "name": "stdout",
     "output_type": "stream",
     "text": [
      "MoviePy - Writing audio in Output\\Naruto_HD_Set_1_Disc_1-001\\Naruto_HD_Set_1_Disc_1-001_549500.mp3\n"
     ]
    },
    {
     "name": "stderr",
     "output_type": "stream",
     "text": [
      "\n",
      "chunk:   0%|                                                                          | 0/34 [00:00<?, ?it/s, now=None]\u001b[A\n",
      "chunk:   4%|██▌                                                        | 1/23 [2:09:33<47:30:20, 7773.67s/it, now=None]\u001b[A"
     ]
    },
    {
     "name": "stdout",
     "output_type": "stream",
     "text": [
      "MoviePy - Done.\n"
     ]
    },
    {
     "name": "stderr",
     "output_type": "stream",
     "text": [
      "chunk:   4%|██▌                                                        | 1/23 [2:09:34<47:30:34, 7774.28s/it, now=None]"
     ]
    },
    {
     "name": "stdout",
     "output_type": "stream",
     "text": [
      "MoviePy - Writing audio in Output\\Naruto_HD_Set_1_Disc_1-001\\Naruto_HD_Set_1_Disc_1-001_550500.mp3\n"
     ]
    },
    {
     "name": "stderr",
     "output_type": "stream",
     "text": [
      "\n",
      "chunk:   0%|                                                                          | 0/34 [00:00<?, ?it/s, now=None]\u001b[A\n",
      "chunk:   4%|██▌                                                        | 1/23 [2:09:34<47:30:36, 7774.40s/it, now=None]\u001b[A"
     ]
    },
    {
     "name": "stdout",
     "output_type": "stream",
     "text": [
      "MoviePy - Done.\n"
     ]
    },
    {
     "name": "stderr",
     "output_type": "stream",
     "text": [
      "chunk:   4%|██▌                                                        | 1/23 [2:09:35<47:31:09, 7775.91s/it, now=None]"
     ]
    },
    {
     "name": "stdout",
     "output_type": "stream",
     "text": [
      "MoviePy - Writing audio in Output\\Naruto_HD_Set_1_Disc_1-001\\Naruto_HD_Set_1_Disc_1-001_554000.mp3\n"
     ]
    },
    {
     "name": "stderr",
     "output_type": "stream",
     "text": [
      "\n",
      "chunk:   0%|                                                                          | 0/56 [00:00<?, ?it/s, now=None]\u001b[A\n",
      "chunk:  54%|██████████████████████████████████▎                             | 30/56 [00:00<00:00, 260.88it/s, now=None]\u001b[A\n",
      "chunk:   4%|██▌                                                        | 1/23 [2:09:36<47:31:13, 7776.07s/it, now=None]\u001b[A"
     ]
    },
    {
     "name": "stdout",
     "output_type": "stream",
     "text": [
      "MoviePy - Done.\n"
     ]
    },
    {
     "name": "stderr",
     "output_type": "stream",
     "text": [
      "chunk:   4%|██▌                                                        | 1/23 [2:09:37<47:31:36, 7777.11s/it, now=None]"
     ]
    },
    {
     "name": "stdout",
     "output_type": "stream",
     "text": [
      "MoviePy - Writing audio in Output\\Naruto_HD_Set_1_Disc_1-001\\Naruto_HD_Set_1_Disc_1-001_555500.mp3\n"
     ]
    },
    {
     "name": "stderr",
     "output_type": "stream",
     "text": [
      "\n",
      "chunk:   0%|                                                                          | 0/34 [00:00<?, ?it/s, now=None]\u001b[A\n",
      "chunk:  88%|████████████████████████████████████████████████████████▍       | 30/34 [00:00<00:00, 267.86it/s, now=None]\u001b[A\n",
      "chunk:   4%|██▌                                                        | 1/23 [2:09:37<47:31:39, 7777.27s/it, now=None]\u001b[A"
     ]
    },
    {
     "name": "stdout",
     "output_type": "stream",
     "text": [
      "MoviePy - Done.\n"
     ]
    },
    {
     "name": "stderr",
     "output_type": "stream",
     "text": [
      "chunk:   4%|██▌                                                        | 1/23 [2:09:37<47:31:52, 7777.85s/it, now=None]"
     ]
    },
    {
     "name": "stdout",
     "output_type": "stream",
     "text": [
      "MoviePy - Writing audio in Output\\Naruto_HD_Set_1_Disc_1-001\\Naruto_HD_Set_1_Disc_1-001_556500.mp3\n"
     ]
    },
    {
     "name": "stderr",
     "output_type": "stream",
     "text": [
      "\n",
      "chunk:   0%|                                                                          | 0/34 [00:00<?, ?it/s, now=None]\u001b[A\n",
      "chunk:   4%|██▌                                                        | 1/23 [2:09:37<47:31:55, 7777.98s/it, now=None]\u001b[A"
     ]
    },
    {
     "name": "stdout",
     "output_type": "stream",
     "text": [
      "MoviePy - Done.\n"
     ]
    },
    {
     "name": "stderr",
     "output_type": "stream",
     "text": [
      "chunk:   4%|██▌                                                        | 1/23 [2:09:39<47:32:20, 7779.09s/it, now=None]"
     ]
    },
    {
     "name": "stdout",
     "output_type": "stream",
     "text": [
      "MoviePy - Writing audio in Output\\Naruto_HD_Set_1_Disc_1-001\\Naruto_HD_Set_1_Disc_1-001_558500.mp3\n"
     ]
    },
    {
     "name": "stderr",
     "output_type": "stream",
     "text": [
      "\n",
      "chunk:   0%|                                                                          | 0/34 [00:00<?, ?it/s, now=None]\u001b[A\n",
      "chunk:  88%|████████████████████████████████████████████████████████▍       | 30/34 [00:00<00:00, 260.87it/s, now=None]\u001b[A\n",
      "chunk:   4%|██▌                                                        | 1/23 [2:09:39<47:32:23, 7779.24s/it, now=None]\u001b[A"
     ]
    },
    {
     "name": "stdout",
     "output_type": "stream",
     "text": [
      "MoviePy - Done.\n"
     ]
    },
    {
     "name": "stderr",
     "output_type": "stream",
     "text": [
      "chunk:   4%|██▌                                                        | 1/23 [2:09:39<47:32:36, 7779.82s/it, now=None]"
     ]
    },
    {
     "name": "stdout",
     "output_type": "stream",
     "text": [
      "MoviePy - Writing audio in Output\\Naruto_HD_Set_1_Disc_1-001\\Naruto_HD_Set_1_Disc_1-001_559500.mp3\n"
     ]
    },
    {
     "name": "stderr",
     "output_type": "stream",
     "text": [
      "\n",
      "chunk:   0%|                                                                          | 0/34 [00:00<?, ?it/s, now=None]\u001b[A\n",
      "chunk: 100%|████████████████████████████████████████████████████████████████| 34/34 [00:00<00:00, 309.10it/s, now=None]\u001b[A\n",
      "chunk:   4%|██▌                                                        | 1/23 [2:09:39<47:32:39, 7779.97s/it, now=None]\u001b[A"
     ]
    },
    {
     "name": "stdout",
     "output_type": "stream",
     "text": [
      "MoviePy - Done.\n"
     ]
    },
    {
     "name": "stderr",
     "output_type": "stream",
     "text": [
      "chunk:   4%|██▌                                                        | 1/23 [2:09:40<47:32:52, 7780.57s/it, now=None]"
     ]
    },
    {
     "name": "stdout",
     "output_type": "stream",
     "text": [
      "MoviePy - Writing audio in Output\\Naruto_HD_Set_1_Disc_1-001\\Naruto_HD_Set_1_Disc_1-001_560500.mp3\n"
     ]
    },
    {
     "name": "stderr",
     "output_type": "stream",
     "text": [
      "\n",
      "chunk:   0%|                                                                          | 0/34 [00:00<?, ?it/s, now=None]\u001b[A\n",
      "chunk:   4%|██▌                                                        | 1/23 [2:09:40<47:32:55, 7780.69s/it, now=None]\u001b[A"
     ]
    },
    {
     "name": "stdout",
     "output_type": "stream",
     "text": [
      "MoviePy - Done.\n"
     ]
    },
    {
     "name": "stderr",
     "output_type": "stream",
     "text": [
      "chunk:   4%|██▌                                                        | 1/23 [2:09:41<47:33:09, 7781.32s/it, now=None]"
     ]
    },
    {
     "name": "stdout",
     "output_type": "stream",
     "text": [
      "MoviePy - Writing audio in Output\\Naruto_HD_Set_1_Disc_1-001\\Naruto_HD_Set_1_Disc_1-001_561500.mp3\n"
     ]
    },
    {
     "name": "stderr",
     "output_type": "stream",
     "text": [
      "\n",
      "chunk:   0%|                                                                          | 0/34 [00:00<?, ?it/s, now=None]\u001b[A\n",
      "chunk:   4%|██▌                                                        | 1/23 [2:09:41<47:33:11, 7781.44s/it, now=None]\u001b[A"
     ]
    },
    {
     "name": "stdout",
     "output_type": "stream",
     "text": [
      "MoviePy - Done.\n"
     ]
    },
    {
     "name": "stderr",
     "output_type": "stream",
     "text": [
      "chunk:   4%|██▌                                                        | 1/23 [2:09:42<47:33:35, 7782.53s/it, now=None]"
     ]
    },
    {
     "name": "stdout",
     "output_type": "stream",
     "text": [
      "MoviePy - Writing audio in Output\\Naruto_HD_Set_1_Disc_1-001\\Naruto_HD_Set_1_Disc_1-001_564000.mp3\n"
     ]
    },
    {
     "name": "stderr",
     "output_type": "stream",
     "text": [
      "\n",
      "chunk:   0%|                                                                          | 0/56 [00:00<?, ?it/s, now=None]\u001b[A\n",
      "chunk:  64%|█████████████████████████████████████████▏                      | 36/56 [00:00<00:00, 356.45it/s, now=None]\u001b[A\n",
      "chunk:   4%|██▌                                                        | 1/23 [2:09:42<47:33:39, 7782.70s/it, now=None]\u001b[A"
     ]
    },
    {
     "name": "stdout",
     "output_type": "stream",
     "text": [
      "MoviePy - Done.\n"
     ]
    },
    {
     "name": "stderr",
     "output_type": "stream",
     "text": [
      "chunk:   4%|██▌                                                        | 1/23 [2:09:43<47:33:51, 7783.25s/it, now=None]"
     ]
    },
    {
     "name": "stdout",
     "output_type": "stream",
     "text": [
      "MoviePy - Writing audio in Output\\Naruto_HD_Set_1_Disc_1-001\\Naruto_HD_Set_1_Disc_1-001_567500.mp3\n"
     ]
    },
    {
     "name": "stderr",
     "output_type": "stream",
     "text": [
      "\n",
      "chunk:   0%|                                                                          | 0/34 [00:00<?, ?it/s, now=None]\u001b[A\n",
      "chunk:  88%|████████████████████████████████████████████████████████▍       | 30/34 [00:00<00:00, 263.17it/s, now=None]\u001b[A\n",
      "chunk:   4%|██▌                                                        | 1/23 [2:09:43<47:33:54, 7783.40s/it, now=None]\u001b[A"
     ]
    },
    {
     "name": "stdout",
     "output_type": "stream",
     "text": [
      "MoviePy - Done.\n"
     ]
    },
    {
     "name": "stderr",
     "output_type": "stream",
     "text": [
      "chunk:   4%|██▌                                                        | 1/23 [2:09:43<47:34:07, 7783.98s/it, now=None]"
     ]
    },
    {
     "name": "stdout",
     "output_type": "stream",
     "text": [
      "MoviePy - Writing audio in Output\\Naruto_HD_Set_1_Disc_1-001\\Naruto_HD_Set_1_Disc_1-001_568500.mp3\n"
     ]
    },
    {
     "name": "stderr",
     "output_type": "stream",
     "text": [
      "\n",
      "chunk:   0%|                                                                          | 0/34 [00:00<?, ?it/s, now=None]\u001b[A\n",
      "chunk:   4%|██▌                                                        | 1/23 [2:09:44<47:34:10, 7784.10s/it, now=None]\u001b[A"
     ]
    },
    {
     "name": "stdout",
     "output_type": "stream",
     "text": [
      "MoviePy - Done.\n"
     ]
    },
    {
     "name": "stderr",
     "output_type": "stream",
     "text": [
      "chunk:   4%|██▌                                                        | 1/23 [2:09:44<47:34:23, 7784.71s/it, now=None]"
     ]
    },
    {
     "name": "stdout",
     "output_type": "stream",
     "text": [
      "MoviePy - Writing audio in Output\\Naruto_HD_Set_1_Disc_1-001\\Naruto_HD_Set_1_Disc_1-001_569500.mp3\n"
     ]
    },
    {
     "name": "stderr",
     "output_type": "stream",
     "text": [
      "\n",
      "chunk:   0%|                                                                          | 0/34 [00:00<?, ?it/s, now=None]\u001b[A\n",
      "chunk:  88%|████████████████████████████████████████████████████████▍       | 30/34 [00:00<00:00, 265.49it/s, now=None]\u001b[A\n",
      "chunk:   4%|██▌                                                        | 1/23 [2:09:44<47:34:26, 7784.86s/it, now=None]\u001b[A"
     ]
    },
    {
     "name": "stdout",
     "output_type": "stream",
     "text": [
      "MoviePy - Done.\n"
     ]
    },
    {
     "name": "stderr",
     "output_type": "stream",
     "text": [
      "chunk:   4%|██▌                                                        | 1/23 [2:09:45<47:34:40, 7785.50s/it, now=None]"
     ]
    },
    {
     "name": "stdout",
     "output_type": "stream",
     "text": [
      "MoviePy - Writing audio in Output\\Naruto_HD_Set_1_Disc_1-001\\Naruto_HD_Set_1_Disc_1-001_571500.mp3\n"
     ]
    },
    {
     "name": "stderr",
     "output_type": "stream",
     "text": [
      "\n",
      "chunk:   0%|                                                                          | 0/78 [00:00<?, ?it/s, now=None]\u001b[A\n",
      "chunk:  60%|██████████████████████████████████████▌                         | 47/78 [00:00<00:00, 465.36it/s, now=None]\u001b[A\n",
      "chunk:   4%|██▌                                                        | 1/23 [2:09:45<47:34:44, 7785.68s/it, now=None]\u001b[A"
     ]
    },
    {
     "name": "stdout",
     "output_type": "stream",
     "text": [
      "MoviePy - Done.\n"
     ]
    },
    {
     "name": "stderr",
     "output_type": "stream",
     "text": [
      "chunk:   4%|██▌                                                        | 1/23 [2:09:46<47:34:58, 7786.29s/it, now=None]"
     ]
    },
    {
     "name": "stdout",
     "output_type": "stream",
     "text": [
      "MoviePy - Writing audio in Output\\Naruto_HD_Set_1_Disc_1-001\\Naruto_HD_Set_1_Disc_1-001_574500.mp3\n"
     ]
    },
    {
     "name": "stderr",
     "output_type": "stream",
     "text": [
      "\n",
      "chunk:   0%|                                                                          | 0/34 [00:00<?, ?it/s, now=None]\u001b[A\n",
      "chunk:  88%|████████████████████████████████████████████████████████▍       | 30/34 [00:00<00:00, 275.23it/s, now=None]\u001b[A\n",
      "chunk:   4%|██▌                                                        | 1/23 [2:09:46<47:35:01, 7786.44s/it, now=None]\u001b[A"
     ]
    },
    {
     "name": "stdout",
     "output_type": "stream",
     "text": [
      "MoviePy - Done.\n"
     ]
    },
    {
     "name": "stderr",
     "output_type": "stream",
     "text": [
      "chunk:   4%|██▌                                                        | 1/23 [2:09:47<47:35:15, 7787.05s/it, now=None]"
     ]
    },
    {
     "name": "stdout",
     "output_type": "stream",
     "text": [
      "MoviePy - Writing audio in Output\\Naruto_HD_Set_1_Disc_1-001\\Naruto_HD_Set_1_Disc_1-001_576000.mp3\n"
     ]
    },
    {
     "name": "stderr",
     "output_type": "stream",
     "text": [
      "\n",
      "chunk:   0%|                                                                          | 0/56 [00:00<?, ?it/s, now=None]\u001b[A\n",
      "chunk:  62%|████████████████████████████████████████                        | 35/56 [00:00<00:00, 346.55it/s, now=None]\u001b[A\n",
      "chunk:   4%|██▌                                                        | 1/23 [2:09:47<47:35:19, 7787.23s/it, now=None]\u001b[A"
     ]
    },
    {
     "name": "stdout",
     "output_type": "stream",
     "text": [
      "MoviePy - Done.\n"
     ]
    },
    {
     "name": "stderr",
     "output_type": "stream",
     "text": [
      "chunk:   4%|██▌                                                        | 1/23 [2:09:48<47:35:41, 7788.25s/it, now=None]"
     ]
    },
    {
     "name": "stdout",
     "output_type": "stream",
     "text": [
      "MoviePy - Writing audio in Output\\Naruto_HD_Set_1_Disc_1-001\\Naruto_HD_Set_1_Disc_1-001_577500.mp3\n"
     ]
    },
    {
     "name": "stderr",
     "output_type": "stream",
     "text": [
      "\n",
      "chunk:   0%|                                                                          | 0/34 [00:00<?, ?it/s, now=None]\u001b[A\n",
      "chunk:   4%|██▌                                                        | 1/23 [2:09:48<47:35:44, 7788.38s/it, now=None]\u001b[A"
     ]
    },
    {
     "name": "stdout",
     "output_type": "stream",
     "text": [
      "MoviePy - Done.\n"
     ]
    },
    {
     "name": "stderr",
     "output_type": "stream",
     "text": [
      "chunk:   4%|██▌                                                        | 1/23 [2:09:48<47:35:57, 7788.98s/it, now=None]"
     ]
    },
    {
     "name": "stdout",
     "output_type": "stream",
     "text": [
      "MoviePy - Writing audio in Output\\Naruto_HD_Set_1_Disc_1-001\\Naruto_HD_Set_1_Disc_1-001_578500.mp3\n"
     ]
    },
    {
     "name": "stderr",
     "output_type": "stream",
     "text": [
      "\n",
      "chunk:   0%|                                                                          | 0/34 [00:00<?, ?it/s, now=None]\u001b[A\n",
      "chunk:  88%|████████████████████████████████████████████████████████▍       | 30/34 [00:00<00:00, 263.17it/s, now=None]\u001b[A\n",
      "chunk:   4%|██▌                                                        | 1/23 [2:09:49<47:36:00, 7789.13s/it, now=None]\u001b[A"
     ]
    },
    {
     "name": "stdout",
     "output_type": "stream",
     "text": [
      "MoviePy - Done.\n"
     ]
    },
    {
     "name": "stderr",
     "output_type": "stream",
     "text": [
      "chunk:   4%|██▌                                                        | 1/23 [2:09:49<47:36:15, 7789.78s/it, now=None]"
     ]
    },
    {
     "name": "stdout",
     "output_type": "stream",
     "text": [
      "MoviePy - Writing audio in Output\\Naruto_HD_Set_1_Disc_1-001\\Naruto_HD_Set_1_Disc_1-001_579500.mp3\n"
     ]
    },
    {
     "name": "stderr",
     "output_type": "stream",
     "text": [
      "\n",
      "chunk:   0%|                                                                          | 0/34 [00:00<?, ?it/s, now=None]\u001b[A\n",
      "chunk:   4%|██▌                                                        | 1/23 [2:09:49<47:36:18, 7789.91s/it, now=None]\u001b[A"
     ]
    },
    {
     "name": "stdout",
     "output_type": "stream",
     "text": [
      "MoviePy - Done.\n"
     ]
    },
    {
     "name": "stderr",
     "output_type": "stream",
     "text": [
      "chunk:   4%|██▌                                                        | 1/23 [2:09:50<47:36:32, 7790.58s/it, now=None]"
     ]
    },
    {
     "name": "stdout",
     "output_type": "stream",
     "text": [
      "MoviePy - Writing audio in Output\\Naruto_HD_Set_1_Disc_1-001\\Naruto_HD_Set_1_Disc_1-001_580500.mp3\n"
     ]
    },
    {
     "name": "stderr",
     "output_type": "stream",
     "text": [
      "\n",
      "chunk:   0%|                                                                          | 0/34 [00:00<?, ?it/s, now=None]\u001b[A\n",
      "chunk:  91%|██████████████████████████████████████████████████████████▎     | 31/34 [00:00<00:00, 264.96it/s, now=None]\u001b[A\n",
      "chunk:   4%|██▌                                                        | 1/23 [2:09:50<47:36:36, 7790.73s/it, now=None]\u001b[A"
     ]
    },
    {
     "name": "stdout",
     "output_type": "stream",
     "text": [
      "MoviePy - Done.\n"
     ]
    },
    {
     "name": "stderr",
     "output_type": "stream",
     "text": [
      "chunk:   4%|██▌                                                        | 1/23 [2:09:51<47:36:50, 7791.40s/it, now=None]"
     ]
    },
    {
     "name": "stdout",
     "output_type": "stream",
     "text": [
      "MoviePy - Writing audio in Output\\Naruto_HD_Set_1_Disc_1-001\\Naruto_HD_Set_1_Disc_1-001_581500.mp3\n"
     ]
    },
    {
     "name": "stderr",
     "output_type": "stream",
     "text": [
      "\n",
      "chunk:   0%|                                                                          | 0/34 [00:00<?, ?it/s, now=None]\u001b[A\n",
      "chunk:   4%|██▌                                                        | 1/23 [2:09:51<47:36:53, 7791.52s/it, now=None]\u001b[A"
     ]
    },
    {
     "name": "stdout",
     "output_type": "stream",
     "text": [
      "MoviePy - Done.\n"
     ]
    },
    {
     "name": "stderr",
     "output_type": "stream",
     "text": [
      "chunk:   4%|██▌                                                        | 1/23 [2:09:52<47:37:06, 7792.11s/it, now=None]"
     ]
    },
    {
     "name": "stdout",
     "output_type": "stream",
     "text": [
      "MoviePy - Writing audio in Output\\Naruto_HD_Set_1_Disc_1-001\\Naruto_HD_Set_1_Disc_1-001_582500.mp3\n"
     ]
    },
    {
     "name": "stderr",
     "output_type": "stream",
     "text": [
      "\n",
      "chunk:   0%|                                                                          | 0/34 [00:00<?, ?it/s, now=None]\u001b[A\n",
      "chunk:   4%|██▌                                                        | 1/23 [2:09:52<47:37:09, 7792.24s/it, now=None]\u001b[A"
     ]
    },
    {
     "name": "stdout",
     "output_type": "stream",
     "text": [
      "MoviePy - Done.\n"
     ]
    },
    {
     "name": "stderr",
     "output_type": "stream",
     "text": [
      "chunk:   4%|██▌                                                        | 1/23 [2:09:52<47:37:22, 7792.86s/it, now=None]"
     ]
    },
    {
     "name": "stdout",
     "output_type": "stream",
     "text": [
      "MoviePy - Writing audio in Output\\Naruto_HD_Set_1_Disc_1-001\\Naruto_HD_Set_1_Disc_1-001_583500.mp3\n"
     ]
    },
    {
     "name": "stderr",
     "output_type": "stream",
     "text": [
      "\n",
      "chunk:   0%|                                                                          | 0/34 [00:00<?, ?it/s, now=None]\u001b[A\n",
      "chunk:  88%|████████████████████████████████████████████████████████▍       | 30/34 [00:00<00:00, 263.16it/s, now=None]\u001b[A\n",
      "chunk:   4%|██▌                                                        | 1/23 [2:09:53<47:37:26, 7793.01s/it, now=None]\u001b[A"
     ]
    },
    {
     "name": "stdout",
     "output_type": "stream",
     "text": [
      "MoviePy - Done.\n"
     ]
    },
    {
     "name": "stderr",
     "output_type": "stream",
     "text": [
      "chunk:   4%|██▌                                                        | 1/23 [2:09:53<47:37:39, 7793.63s/it, now=None]"
     ]
    },
    {
     "name": "stdout",
     "output_type": "stream",
     "text": [
      "MoviePy - Writing audio in Output\\Naruto_HD_Set_1_Disc_1-001\\Naruto_HD_Set_1_Disc_1-001_584500.mp3\n"
     ]
    },
    {
     "name": "stderr",
     "output_type": "stream",
     "text": [
      "\n",
      "chunk:   0%|                                                                          | 0/34 [00:00<?, ?it/s, now=None]\u001b[A\n",
      "chunk:   4%|██▌                                                        | 1/23 [2:09:53<47:37:42, 7793.75s/it, now=None]\u001b[A"
     ]
    },
    {
     "name": "stdout",
     "output_type": "stream",
     "text": [
      "MoviePy - Done.\n"
     ]
    },
    {
     "name": "stderr",
     "output_type": "stream",
     "text": [
      "chunk:   4%|██▌                                                        | 1/23 [2:09:54<47:37:55, 7794.36s/it, now=None]"
     ]
    },
    {
     "name": "stdout",
     "output_type": "stream",
     "text": [
      "MoviePy - Writing audio in Output\\Naruto_HD_Set_1_Disc_1-001\\Naruto_HD_Set_1_Disc_1-001_586000.mp3\n"
     ]
    },
    {
     "name": "stderr",
     "output_type": "stream",
     "text": [
      "\n",
      "chunk:   0%|                                                                          | 0/56 [00:00<?, ?it/s, now=None]\u001b[A\n",
      "chunk:  54%|██████████████████████████████████▎                             | 30/56 [00:00<00:00, 267.86it/s, now=None]\u001b[A\n",
      "chunk:   4%|██▌                                                        | 1/23 [2:09:54<47:37:59, 7794.53s/it, now=None]\u001b[A"
     ]
    },
    {
     "name": "stdout",
     "output_type": "stream",
     "text": [
      "MoviePy - Done.\n"
     ]
    },
    {
     "name": "stderr",
     "output_type": "stream",
     "text": [
      "chunk:   4%|██▌                                                        | 1/23 [2:09:55<47:38:23, 7795.59s/it, now=None]"
     ]
    },
    {
     "name": "stdout",
     "output_type": "stream",
     "text": [
      "MoviePy - Writing audio in Output\\Naruto_HD_Set_1_Disc_1-001\\Naruto_HD_Set_1_Disc_1-001_587500.mp3\n"
     ]
    },
    {
     "name": "stderr",
     "output_type": "stream",
     "text": [
      "\n",
      "chunk:   0%|                                                                          | 0/34 [00:00<?, ?it/s, now=None]\u001b[A\n",
      "chunk:  88%|████████████████████████████████████████████████████████▍       | 30/34 [00:00<00:00, 267.87it/s, now=None]\u001b[A\n",
      "chunk:   4%|██▌                                                        | 1/23 [2:09:55<47:38:26, 7795.74s/it, now=None]\u001b[A"
     ]
    },
    {
     "name": "stdout",
     "output_type": "stream",
     "text": [
      "MoviePy - Done.\n"
     ]
    },
    {
     "name": "stderr",
     "output_type": "stream",
     "text": [
      "chunk:   4%|██▌                                                        | 1/23 [2:09:56<47:38:39, 7796.33s/it, now=None]"
     ]
    },
    {
     "name": "stdout",
     "output_type": "stream",
     "text": [
      "MoviePy - Writing audio in Output\\Naruto_HD_Set_1_Disc_1-001\\Naruto_HD_Set_1_Disc_1-001_588500.mp3\n"
     ]
    },
    {
     "name": "stderr",
     "output_type": "stream",
     "text": [
      "\n",
      "chunk:   0%|                                                                          | 0/34 [00:00<?, ?it/s, now=None]\u001b[A\n",
      "chunk:   4%|██▌                                                        | 1/23 [2:09:56<47:38:42, 7796.46s/it, now=None]\u001b[A"
     ]
    },
    {
     "name": "stdout",
     "output_type": "stream",
     "text": [
      "MoviePy - Done.\n"
     ]
    },
    {
     "name": "stderr",
     "output_type": "stream",
     "text": [
      "chunk:   4%|██▌                                                        | 1/23 [2:09:57<47:38:56, 7797.10s/it, now=None]"
     ]
    },
    {
     "name": "stdout",
     "output_type": "stream",
     "text": [
      "MoviePy - Writing audio in Output\\Naruto_HD_Set_1_Disc_1-001\\Naruto_HD_Set_1_Disc_1-001_589500.mp3\n"
     ]
    },
    {
     "name": "stderr",
     "output_type": "stream",
     "text": [
      "\n",
      "chunk:   0%|                                                                          | 0/34 [00:00<?, ?it/s, now=None]\u001b[A\n",
      "chunk:   4%|██▌                                                        | 1/23 [2:09:57<47:38:59, 7797.25s/it, now=None]\u001b[A"
     ]
    },
    {
     "name": "stdout",
     "output_type": "stream",
     "text": [
      "MoviePy - Done.\n"
     ]
    },
    {
     "name": "stderr",
     "output_type": "stream",
     "text": [
      "chunk:   4%|██▌                                                        | 1/23 [2:09:57<47:39:13, 7797.91s/it, now=None]"
     ]
    },
    {
     "name": "stdout",
     "output_type": "stream",
     "text": [
      "MoviePy - Writing audio in Output\\Naruto_HD_Set_1_Disc_1-001\\Naruto_HD_Set_1_Disc_1-001_590500.mp3\n"
     ]
    },
    {
     "name": "stderr",
     "output_type": "stream",
     "text": [
      "\n",
      "chunk:   0%|                                                                          | 0/34 [00:00<?, ?it/s, now=None]\u001b[A\n",
      "chunk:   4%|██▌                                                        | 1/23 [2:09:58<47:39:16, 7798.03s/it, now=None]\u001b[A"
     ]
    },
    {
     "name": "stdout",
     "output_type": "stream",
     "text": [
      "MoviePy - Done.\n"
     ]
    },
    {
     "name": "stderr",
     "output_type": "stream",
     "text": [
      "chunk:   4%|██▌                                                        | 1/23 [2:09:58<47:39:31, 7798.72s/it, now=None]"
     ]
    },
    {
     "name": "stdout",
     "output_type": "stream",
     "text": [
      "MoviePy - Writing audio in Output\\Naruto_HD_Set_1_Disc_1-001\\Naruto_HD_Set_1_Disc_1-001_591500.mp3\n"
     ]
    },
    {
     "name": "stderr",
     "output_type": "stream",
     "text": [
      "\n",
      "chunk:   0%|                                                                          | 0/34 [00:00<?, ?it/s, now=None]\u001b[A\n",
      "chunk:   4%|██▌                                                        | 1/23 [2:09:58<47:39:34, 7798.85s/it, now=None]\u001b[A"
     ]
    },
    {
     "name": "stdout",
     "output_type": "stream",
     "text": [
      "MoviePy - Done.\n"
     ]
    },
    {
     "name": "stderr",
     "output_type": "stream",
     "text": [
      "chunk:   4%|██▌                                                        | 1/23 [2:10:00<47:40:10, 7800.46s/it, now=None]"
     ]
    },
    {
     "name": "stdout",
     "output_type": "stream",
     "text": [
      "MoviePy - Writing audio in Output\\Naruto_HD_Set_1_Disc_1-001\\Naruto_HD_Set_1_Disc_1-001_595000.mp3\n"
     ]
    },
    {
     "name": "stderr",
     "output_type": "stream",
     "text": [
      "\n",
      "chunk:   0%|                                                                          | 0/56 [00:00<?, ?it/s, now=None]\u001b[A\n",
      "chunk:  77%|█████████████████████████████████████████████████▏              | 43/56 [00:00<00:00, 429.99it/s, now=None]\u001b[A\n",
      "chunk:   4%|██▌                                                        | 1/23 [2:10:00<47:40:13, 7800.63s/it, now=None]\u001b[A"
     ]
    },
    {
     "name": "stdout",
     "output_type": "stream",
     "text": [
      "MoviePy - Done.\n"
     ]
    },
    {
     "name": "stderr",
     "output_type": "stream",
     "text": [
      "chunk:   4%|██▌                                                        | 1/23 [2:10:01<47:40:39, 7801.78s/it, now=None]"
     ]
    },
    {
     "name": "stdout",
     "output_type": "stream",
     "text": [
      "MoviePy - Writing audio in Output\\Naruto_HD_Set_1_Disc_1-001\\Naruto_HD_Set_1_Disc_1-001_596500.mp3\n"
     ]
    },
    {
     "name": "stderr",
     "output_type": "stream",
     "text": [
      "\n",
      "chunk:   0%|                                                                          | 0/34 [00:00<?, ?it/s, now=None]\u001b[A\n",
      "chunk:   4%|██▌                                                        | 1/23 [2:10:01<47:40:41, 7801.90s/it, now=None]\u001b[A"
     ]
    },
    {
     "name": "stdout",
     "output_type": "stream",
     "text": [
      "MoviePy - Done.\n"
     ]
    },
    {
     "name": "stderr",
     "output_type": "stream",
     "text": [
      "chunk:   4%|██▌                                                        | 1/23 [2:10:02<47:40:52, 7802.40s/it, now=None]"
     ]
    },
    {
     "name": "stdout",
     "output_type": "stream",
     "text": [
      "MoviePy - Writing audio in Output\\Naruto_HD_Set_1_Disc_1-001\\Naruto_HD_Set_1_Disc_1-001_606000.mp3\n"
     ]
    },
    {
     "name": "stderr",
     "output_type": "stream",
     "text": [
      "\n",
      "chunk:   0%|                                                                          | 0/56 [00:00<?, ?it/s, now=None]\u001b[A\n",
      "chunk:  54%|██████████████████████████████████▎                             | 30/56 [00:00<00:00, 260.88it/s, now=None]\u001b[A\n",
      "chunk:   4%|██▌                                                        | 1/23 [2:10:02<47:40:56, 7802.59s/it, now=None]\u001b[A"
     ]
    },
    {
     "name": "stdout",
     "output_type": "stream",
     "text": [
      "MoviePy - Done.\n"
     ]
    },
    {
     "name": "stderr",
     "output_type": "stream",
     "text": [
      "chunk:   4%|██▌                                                        | 1/23 [2:10:03<47:41:21, 7803.70s/it, now=None]"
     ]
    },
    {
     "name": "stdout",
     "output_type": "stream",
     "text": [
      "MoviePy - Writing audio in Output\\Naruto_HD_Set_1_Disc_1-001\\Naruto_HD_Set_1_Disc_1-001_608000.mp3\n"
     ]
    },
    {
     "name": "stderr",
     "output_type": "stream",
     "text": [
      "\n",
      "chunk:   0%|                                                                          | 0/56 [00:00<?, ?it/s, now=None]\u001b[A\n",
      "chunk:  77%|█████████████████████████████████████████████████▏              | 43/56 [00:00<00:00, 425.75it/s, now=None]\u001b[A\n",
      "chunk:   4%|██▌                                                        | 1/23 [2:10:03<47:41:24, 7803.84s/it, now=None]\u001b[A"
     ]
    },
    {
     "name": "stdout",
     "output_type": "stream",
     "text": [
      "MoviePy - Done.\n"
     ]
    },
    {
     "name": "stderr",
     "output_type": "stream",
     "text": [
      "chunk:   4%|██▌                                                        | 1/23 [2:10:04<47:41:34, 7804.28s/it, now=None]"
     ]
    },
    {
     "name": "stdout",
     "output_type": "stream",
     "text": [
      "MoviePy - Writing audio in Output\\Naruto_HD_Set_1_Disc_1-001\\Naruto_HD_Set_1_Disc_1-001_617500.mp3\n"
     ]
    },
    {
     "name": "stderr",
     "output_type": "stream",
     "text": [
      "\n",
      "chunk:   0%|                                                                          | 0/34 [00:00<?, ?it/s, now=None]\u001b[A\n",
      "chunk:  24%|███████████████▌                                                  | 8/34 [00:00<00:00, 79.21it/s, now=None]\u001b[A\n",
      "chunk:   4%|██▌                                                        | 1/23 [2:10:04<47:41:37, 7804.45s/it, now=None]\u001b[A"
     ]
    },
    {
     "name": "stdout",
     "output_type": "stream",
     "text": [
      "MoviePy - Done.\n"
     ]
    },
    {
     "name": "stderr",
     "output_type": "stream",
     "text": [
      "chunk:   4%|██▌                                                        | 1/23 [2:10:05<47:41:51, 7805.06s/it, now=None]"
     ]
    },
    {
     "name": "stdout",
     "output_type": "stream",
     "text": [
      "MoviePy - Writing audio in Output\\Naruto_HD_Set_1_Disc_1-001\\Naruto_HD_Set_1_Disc_1-001_618500.mp3\n"
     ]
    },
    {
     "name": "stderr",
     "output_type": "stream",
     "text": [
      "\n",
      "chunk:   0%|                                                                          | 0/34 [00:00<?, ?it/s, now=None]\u001b[A\n",
      "chunk:  88%|████████████████████████████████████████████████████████▍       | 30/34 [00:00<00:00, 294.12it/s, now=None]\u001b[A\n",
      "chunk:   4%|██▌                                                        | 1/23 [2:10:05<47:41:54, 7805.20s/it, now=None]\u001b[A"
     ]
    },
    {
     "name": "stdout",
     "output_type": "stream",
     "text": [
      "MoviePy - Done.\n"
     ]
    },
    {
     "name": "stderr",
     "output_type": "stream",
     "text": [
      "chunk:   4%|██▌                                                        | 1/23 [2:10:05<47:42:08, 7805.83s/it, now=None]"
     ]
    },
    {
     "name": "stdout",
     "output_type": "stream",
     "text": [
      "MoviePy - Writing audio in Output\\Naruto_HD_Set_1_Disc_1-001\\Naruto_HD_Set_1_Disc_1-001_619500.mp3\n"
     ]
    },
    {
     "name": "stderr",
     "output_type": "stream",
     "text": [
      "\n",
      "chunk:   0%|                                                                          | 0/34 [00:00<?, ?it/s, now=None]\u001b[A\n",
      "chunk:   4%|██▌                                                        | 1/23 [2:10:05<47:42:11, 7805.96s/it, now=None]\u001b[A"
     ]
    },
    {
     "name": "stdout",
     "output_type": "stream",
     "text": [
      "MoviePy - Done.\n"
     ]
    },
    {
     "name": "stderr",
     "output_type": "stream",
     "text": [
      "chunk:   4%|██▌                                                        | 1/23 [2:10:06<47:42:23, 7806.53s/it, now=None]"
     ]
    },
    {
     "name": "stdout",
     "output_type": "stream",
     "text": [
      "MoviePy - Writing audio in Output\\Naruto_HD_Set_1_Disc_1-001\\Naruto_HD_Set_1_Disc_1-001_620500.mp3\n"
     ]
    },
    {
     "name": "stderr",
     "output_type": "stream",
     "text": [
      "\n",
      "chunk:   0%|                                                                          | 0/34 [00:00<?, ?it/s, now=None]\u001b[A\n",
      "chunk:   4%|██▌                                                        | 1/23 [2:10:06<47:42:26, 7806.66s/it, now=None]\u001b[A"
     ]
    },
    {
     "name": "stdout",
     "output_type": "stream",
     "text": [
      "MoviePy - Done.\n"
     ]
    },
    {
     "name": "stderr",
     "output_type": "stream",
     "text": [
      "chunk:   4%|██▌                                                        | 1/23 [2:10:07<47:42:39, 7807.24s/it, now=None]"
     ]
    },
    {
     "name": "stdout",
     "output_type": "stream",
     "text": [
      "MoviePy - Writing audio in Output\\Naruto_HD_Set_1_Disc_1-001\\Naruto_HD_Set_1_Disc_1-001_622000.mp3\n"
     ]
    },
    {
     "name": "stderr",
     "output_type": "stream",
     "text": [
      "\n",
      "chunk:   0%|                                                                          | 0/56 [00:00<?, ?it/s, now=None]\u001b[A\n",
      "chunk:  54%|██████████████████████████████████▎                             | 30/56 [00:00<00:00, 265.48it/s, now=None]\u001b[A\n",
      "chunk:   4%|██▌                                                        | 1/23 [2:10:07<47:42:43, 7807.41s/it, now=None]\u001b[A"
     ]
    },
    {
     "name": "stdout",
     "output_type": "stream",
     "text": [
      "MoviePy - Done.\n"
     ]
    },
    {
     "name": "stderr",
     "output_type": "stream",
     "text": [
      "chunk:   4%|██▌                                                        | 1/23 [2:10:08<47:43:05, 7808.43s/it, now=None]"
     ]
    },
    {
     "name": "stdout",
     "output_type": "stream",
     "text": [
      "MoviePy - Writing audio in Output\\Naruto_HD_Set_1_Disc_1-001\\Naruto_HD_Set_1_Disc_1-001_623500.mp3\n"
     ]
    },
    {
     "name": "stderr",
     "output_type": "stream",
     "text": [
      "\n",
      "chunk:   0%|                                                                          | 0/34 [00:00<?, ?it/s, now=None]\u001b[A\n",
      "chunk:  88%|████████████████████████████████████████████████████████▍       | 30/34 [00:00<00:00, 263.18it/s, now=None]\u001b[A\n",
      "chunk:   4%|██▌                                                        | 1/23 [2:10:08<47:43:08, 7808.58s/it, now=None]\u001b[A"
     ]
    },
    {
     "name": "stdout",
     "output_type": "stream",
     "text": [
      "MoviePy - Done.\n"
     ]
    },
    {
     "name": "stderr",
     "output_type": "stream",
     "text": [
      "chunk:   4%|██▌                                                        | 1/23 [2:10:09<47:43:21, 7809.16s/it, now=None]"
     ]
    },
    {
     "name": "stdout",
     "output_type": "stream",
     "text": [
      "MoviePy - Writing audio in Output\\Naruto_HD_Set_1_Disc_1-001\\Naruto_HD_Set_1_Disc_1-001_624500.mp3\n"
     ]
    },
    {
     "name": "stderr",
     "output_type": "stream",
     "text": [
      "\n",
      "chunk:   0%|                                                                          | 0/34 [00:00<?, ?it/s, now=None]\u001b[A\n",
      "chunk:   4%|██▌                                                        | 1/23 [2:10:09<47:43:24, 7809.29s/it, now=None]\u001b[A"
     ]
    },
    {
     "name": "stdout",
     "output_type": "stream",
     "text": [
      "MoviePy - Done.\n"
     ]
    },
    {
     "name": "stderr",
     "output_type": "stream",
     "text": [
      "chunk:   4%|██▌                                                        | 1/23 [2:10:09<47:43:37, 7809.87s/it, now=None]"
     ]
    },
    {
     "name": "stdout",
     "output_type": "stream",
     "text": [
      "MoviePy - Writing audio in Output\\Naruto_HD_Set_1_Disc_1-001\\Naruto_HD_Set_1_Disc_1-001_635500.mp3\n"
     ]
    },
    {
     "name": "stderr",
     "output_type": "stream",
     "text": [
      "\n",
      "chunk:   0%|                                                                          | 0/34 [00:00<?, ?it/s, now=None]\u001b[A\n",
      "chunk:  35%|██████████████████████▌                                         | 12/34 [00:00<00:00, 118.82it/s, now=None]\u001b[A\n",
      "chunk:   4%|██▌                                                        | 1/23 [2:10:10<47:43:40, 7810.03s/it, now=None]\u001b[A"
     ]
    },
    {
     "name": "stdout",
     "output_type": "stream",
     "text": [
      "MoviePy - Done.\n"
     ]
    },
    {
     "name": "stderr",
     "output_type": "stream",
     "text": [
      "chunk:   4%|██▌                                                        | 1/23 [2:10:10<47:43:53, 7810.63s/it, now=None]"
     ]
    },
    {
     "name": "stdout",
     "output_type": "stream",
     "text": [
      "MoviePy - Writing audio in Output\\Naruto_HD_Set_1_Disc_1-001\\Naruto_HD_Set_1_Disc_1-001_636500.mp3\n"
     ]
    },
    {
     "name": "stderr",
     "output_type": "stream",
     "text": [
      "\n",
      "chunk:   0%|                                                                          | 0/34 [00:00<?, ?it/s, now=None]\u001b[A\n",
      "chunk:  94%|████████████████████████████████████████████████████████████▏   | 32/34 [00:00<00:00, 316.83it/s, now=None]\u001b[A\n",
      "chunk:   4%|██▌                                                        | 1/23 [2:10:10<47:43:56, 7810.77s/it, now=None]\u001b[A"
     ]
    },
    {
     "name": "stdout",
     "output_type": "stream",
     "text": [
      "MoviePy - Done.\n"
     ]
    },
    {
     "name": "stderr",
     "output_type": "stream",
     "text": [
      "chunk:   4%|██▌                                                        | 1/23 [2:10:11<47:44:08, 7811.31s/it, now=None]"
     ]
    },
    {
     "name": "stdout",
     "output_type": "stream",
     "text": [
      "MoviePy - Writing audio in Output\\Naruto_HD_Set_1_Disc_1-001\\Naruto_HD_Set_1_Disc_1-001_642000.mp3\n"
     ]
    },
    {
     "name": "stderr",
     "output_type": "stream",
     "text": [
      "\n",
      "chunk:   0%|                                                                          | 0/56 [00:00<?, ?it/s, now=None]\u001b[A\n",
      "chunk:  84%|█████████████████████████████████████████████████████▋          | 47/56 [00:00<00:00, 465.35it/s, now=None]\u001b[A\n",
      "chunk:   4%|██▌                                                        | 1/23 [2:10:11<47:44:12, 7811.47s/it, now=None]\u001b[A"
     ]
    },
    {
     "name": "stdout",
     "output_type": "stream",
     "text": [
      "MoviePy - Done.\n"
     ]
    },
    {
     "name": "stderr",
     "output_type": "stream",
     "text": [
      "chunk:   4%|██▌                                                        | 1/23 [2:10:12<47:44:36, 7812.57s/it, now=None]"
     ]
    },
    {
     "name": "stdout",
     "output_type": "stream",
     "text": [
      "MoviePy - Writing audio in Output\\Naruto_HD_Set_1_Disc_1-001\\Naruto_HD_Set_1_Disc_1-001_643500.mp3\n"
     ]
    },
    {
     "name": "stderr",
     "output_type": "stream",
     "text": [
      "\n",
      "chunk:   0%|                                                                          | 0/34 [00:00<?, ?it/s, now=None]\u001b[A\n",
      "chunk:   4%|██▌                                                        | 1/23 [2:10:12<47:44:39, 7812.69s/it, now=None]\u001b[A"
     ]
    },
    {
     "name": "stdout",
     "output_type": "stream",
     "text": [
      "MoviePy - Done.\n"
     ]
    },
    {
     "name": "stderr",
     "output_type": "stream",
     "text": [
      "chunk:   4%|██▌                                                        | 1/23 [2:10:13<47:44:53, 7813.35s/it, now=None]"
     ]
    },
    {
     "name": "stdout",
     "output_type": "stream",
     "text": [
      "MoviePy - Writing audio in Output\\Naruto_HD_Set_1_Disc_1-001\\Naruto_HD_Set_1_Disc_1-001_645000.mp3\n"
     ]
    },
    {
     "name": "stderr",
     "output_type": "stream",
     "text": [
      "\n",
      "chunk:   0%|                                                                          | 0/56 [00:00<?, ?it/s, now=None]\u001b[A\n",
      "chunk:  64%|█████████████████████████████████████████▏                      | 36/56 [00:00<00:00, 310.32it/s, now=None]\u001b[A\n",
      "chunk:   4%|██▌                                                        | 1/23 [2:10:13<47:44:57, 7813.52s/it, now=None]\u001b[A"
     ]
    },
    {
     "name": "stdout",
     "output_type": "stream",
     "text": [
      "MoviePy - Done.\n"
     ]
    },
    {
     "name": "stderr",
     "output_type": "stream",
     "text": [
      "chunk:   4%|██▌                                                        | 1/23 [2:10:14<47:45:21, 7814.63s/it, now=None]"
     ]
    },
    {
     "name": "stdout",
     "output_type": "stream",
     "text": [
      "MoviePy - Writing audio in Output\\Naruto_HD_Set_1_Disc_1-001\\Naruto_HD_Set_1_Disc_1-001_647000.mp3\n"
     ]
    },
    {
     "name": "stderr",
     "output_type": "stream",
     "text": [
      "\n",
      "chunk:   0%|                                                                          | 0/56 [00:00<?, ?it/s, now=None]\u001b[A\n",
      "chunk:  75%|████████████████████████████████████████████████                | 42/56 [00:00<00:00, 347.11it/s, now=None]\u001b[A\n",
      "chunk:   4%|██▌                                                        | 1/23 [2:10:14<47:45:25, 7814.79s/it, now=None]\u001b[A"
     ]
    },
    {
     "name": "stdout",
     "output_type": "stream",
     "text": [
      "MoviePy - Done.\n"
     ]
    },
    {
     "name": "stderr",
     "output_type": "stream",
     "text": [
      "chunk:   4%|██▌                                                        | 1/23 [2:10:16<47:45:59, 7816.35s/it, now=None]"
     ]
    },
    {
     "name": "stdout",
     "output_type": "stream",
     "text": [
      "MoviePy - Writing audio in Output\\Naruto_HD_Set_1_Disc_1-001\\Naruto_HD_Set_1_Disc_1-001_649500.mp3\n"
     ]
    },
    {
     "name": "stderr",
     "output_type": "stream",
     "text": [
      "\n",
      "chunk:   0%|                                                                          | 0/34 [00:00<?, ?it/s, now=None]\u001b[A\n",
      "chunk:  88%|████████████████████████████████████████████████████████▍       | 30/34 [00:00<00:00, 267.86it/s, now=None]\u001b[A\n",
      "chunk:   4%|██▌                                                        | 1/23 [2:10:16<47:46:02, 7816.50s/it, now=None]\u001b[A"
     ]
    },
    {
     "name": "stdout",
     "output_type": "stream",
     "text": [
      "MoviePy - Done.\n"
     ]
    },
    {
     "name": "stderr",
     "output_type": "stream",
     "text": [
      "chunk:   4%|██▌                                                        | 1/23 [2:10:17<47:46:17, 7817.15s/it, now=None]"
     ]
    },
    {
     "name": "stdout",
     "output_type": "stream",
     "text": [
      "MoviePy - Writing audio in Output\\Naruto_HD_Set_1_Disc_1-001\\Naruto_HD_Set_1_Disc_1-001_650500.mp3\n"
     ]
    },
    {
     "name": "stderr",
     "output_type": "stream",
     "text": [
      "\n",
      "chunk:   0%|                                                                          | 0/34 [00:00<?, ?it/s, now=None]\u001b[A\n",
      "chunk:   4%|██▌                                                        | 1/23 [2:10:17<47:46:20, 7817.28s/it, now=None]\u001b[A"
     ]
    },
    {
     "name": "stdout",
     "output_type": "stream",
     "text": [
      "MoviePy - Done.\n"
     ]
    },
    {
     "name": "stderr",
     "output_type": "stream",
     "text": [
      "chunk:   4%|██▌                                                        | 1/23 [2:10:17<47:46:33, 7817.90s/it, now=None]"
     ]
    },
    {
     "name": "stdout",
     "output_type": "stream",
     "text": [
      "MoviePy - Writing audio in Output\\Naruto_HD_Set_1_Disc_1-001\\Naruto_HD_Set_1_Disc_1-001_652000.mp3\n"
     ]
    },
    {
     "name": "stderr",
     "output_type": "stream",
     "text": [
      "\n",
      "chunk:   0%|                                                                          | 0/56 [00:00<?, ?it/s, now=None]\u001b[A\n",
      "chunk:  57%|████████████████████████████████████▌                           | 32/56 [00:00<00:00, 280.70it/s, now=None]\u001b[A\n",
      "chunk:   4%|██▌                                                        | 1/23 [2:10:18<47:46:37, 7818.07s/it, now=None]\u001b[A"
     ]
    },
    {
     "name": "stdout",
     "output_type": "stream",
     "text": [
      "MoviePy - Done.\n"
     ]
    },
    {
     "name": "stderr",
     "output_type": "stream",
     "text": [
      "chunk:   4%|██▌                                                        | 1/23 [2:10:19<47:47:02, 7819.18s/it, now=None]"
     ]
    },
    {
     "name": "stdout",
     "output_type": "stream",
     "text": [
      "MoviePy - Writing audio in Output\\Naruto_HD_Set_1_Disc_1-001\\Naruto_HD_Set_1_Disc_1-001_653500.mp3\n"
     ]
    },
    {
     "name": "stderr",
     "output_type": "stream",
     "text": [
      "\n",
      "chunk:   0%|                                                                          | 0/34 [00:00<?, ?it/s, now=None]\u001b[A\n",
      "chunk:   4%|██▌                                                        | 1/23 [2:10:19<47:47:04, 7819.30s/it, now=None]\u001b[A"
     ]
    },
    {
     "name": "stdout",
     "output_type": "stream",
     "text": [
      "MoviePy - Done.\n"
     ]
    },
    {
     "name": "stderr",
     "output_type": "stream",
     "text": [
      "chunk:   4%|██▌                                                        | 1/23 [2:10:19<47:47:18, 7819.91s/it, now=None]"
     ]
    },
    {
     "name": "stdout",
     "output_type": "stream",
     "text": [
      "MoviePy - Writing audio in Output\\Naruto_HD_Set_1_Disc_1-001\\Naruto_HD_Set_1_Disc_1-001_655000.mp3\n"
     ]
    },
    {
     "name": "stderr",
     "output_type": "stream",
     "text": [
      "\n",
      "chunk:   0%|                                                                          | 0/56 [00:00<?, ?it/s, now=None]\u001b[A\n",
      "chunk:  54%|██████████████████████████████████▎                             | 30/56 [00:00<00:00, 267.86it/s, now=None]\u001b[A\n",
      "chunk:   4%|██▌                                                        | 1/23 [2:10:20<47:47:21, 7820.08s/it, now=None]\u001b[A"
     ]
    },
    {
     "name": "stdout",
     "output_type": "stream",
     "text": [
      "MoviePy - Done.\n"
     ]
    },
    {
     "name": "stderr",
     "output_type": "stream",
     "text": [
      "chunk:   4%|██▌                                                        | 1/23 [2:10:21<47:47:45, 7821.16s/it, now=None]"
     ]
    },
    {
     "name": "stdout",
     "output_type": "stream",
     "text": [
      "MoviePy - Writing audio in Output\\Naruto_HD_Set_1_Disc_1-001\\Naruto_HD_Set_1_Disc_1-001_656500.mp3\n"
     ]
    },
    {
     "name": "stderr",
     "output_type": "stream",
     "text": [
      "\n",
      "chunk:   0%|                                                                          | 0/34 [00:00<?, ?it/s, now=None]\u001b[A\n",
      "chunk:  88%|████████████████████████████████████████████████████████▍       | 30/34 [00:00<00:00, 267.86it/s, now=None]\u001b[A\n",
      "chunk:   4%|██▌                                                        | 1/23 [2:10:21<47:47:48, 7821.31s/it, now=None]\u001b[A"
     ]
    },
    {
     "name": "stdout",
     "output_type": "stream",
     "text": [
      "MoviePy - Done.\n"
     ]
    },
    {
     "name": "stderr",
     "output_type": "stream",
     "text": [
      "chunk:   4%|██▌                                                        | 1/23 [2:10:22<47:48:04, 7822.00s/it, now=None]"
     ]
    },
    {
     "name": "stdout",
     "output_type": "stream",
     "text": [
      "MoviePy - Writing audio in Output\\Naruto_HD_Set_1_Disc_1-001\\Naruto_HD_Set_1_Disc_1-001_657500.mp3\n"
     ]
    },
    {
     "name": "stderr",
     "output_type": "stream",
     "text": [
      "\n",
      "chunk:   0%|                                                                          | 0/34 [00:00<?, ?it/s, now=None]\u001b[A\n",
      "chunk:   4%|██▌                                                        | 1/23 [2:10:22<47:48:06, 7822.12s/it, now=None]\u001b[A"
     ]
    },
    {
     "name": "stdout",
     "output_type": "stream",
     "text": [
      "MoviePy - Done.\n"
     ]
    },
    {
     "name": "stderr",
     "output_type": "stream",
     "text": [
      "chunk:   4%|██▌                                                        | 1/23 [2:10:22<47:48:22, 7822.85s/it, now=None]"
     ]
    },
    {
     "name": "stdout",
     "output_type": "stream",
     "text": [
      "MoviePy - Writing audio in Output\\Naruto_HD_Set_1_Disc_1-001\\Naruto_HD_Set_1_Disc_1-001_658500.mp3\n"
     ]
    },
    {
     "name": "stderr",
     "output_type": "stream",
     "text": [
      "\n",
      "chunk:   0%|                                                                          | 0/34 [00:00<?, ?it/s, now=None]\u001b[A\n",
      "chunk: 100%|████████████████████████████████████████████████████████████████| 34/34 [00:00<00:00, 340.00it/s, now=None]\u001b[A\n",
      "chunk:   4%|██▌                                                        | 1/23 [2:10:22<47:48:25, 7822.99s/it, now=None]\u001b[A"
     ]
    },
    {
     "name": "stdout",
     "output_type": "stream",
     "text": [
      "MoviePy - Done.\n"
     ]
    },
    {
     "name": "stderr",
     "output_type": "stream",
     "text": [
      "chunk:   4%|██▌                                                        | 1/23 [2:10:23<47:48:38, 7823.58s/it, now=None]"
     ]
    },
    {
     "name": "stdout",
     "output_type": "stream",
     "text": [
      "MoviePy - Writing audio in Output\\Naruto_HD_Set_1_Disc_1-001\\Naruto_HD_Set_1_Disc_1-001_659500.mp3\n"
     ]
    },
    {
     "name": "stderr",
     "output_type": "stream",
     "text": [
      "\n",
      "chunk:   0%|                                                                          | 0/34 [00:00<?, ?it/s, now=None]\u001b[A\n",
      "chunk:   4%|██▌                                                        | 1/23 [2:10:23<47:48:41, 7823.70s/it, now=None]\u001b[A"
     ]
    },
    {
     "name": "stdout",
     "output_type": "stream",
     "text": [
      "MoviePy - Done.\n"
     ]
    },
    {
     "name": "stderr",
     "output_type": "stream",
     "text": [
      "chunk:   4%|██▌                                                        | 1/23 [2:10:24<47:48:55, 7824.33s/it, now=None]"
     ]
    },
    {
     "name": "stdout",
     "output_type": "stream",
     "text": [
      "MoviePy - Writing audio in Output\\Naruto_HD_Set_1_Disc_1-001\\Naruto_HD_Set_1_Disc_1-001_660500.mp3\n"
     ]
    },
    {
     "name": "stderr",
     "output_type": "stream",
     "text": [
      "\n",
      "chunk:   0%|                                                                          | 0/34 [00:00<?, ?it/s, now=None]\u001b[A\n",
      "chunk:   4%|██▌                                                        | 1/23 [2:10:24<47:48:58, 7824.46s/it, now=None]\u001b[A"
     ]
    },
    {
     "name": "stdout",
     "output_type": "stream",
     "text": [
      "MoviePy - Done.\n"
     ]
    },
    {
     "name": "stderr",
     "output_type": "stream",
     "text": [
      "chunk:   4%|██▌                                                        | 1/23 [2:10:25<47:49:12, 7825.09s/it, now=None]"
     ]
    },
    {
     "name": "stdout",
     "output_type": "stream",
     "text": [
      "MoviePy - Writing audio in Output\\Naruto_HD_Set_1_Disc_1-001\\Naruto_HD_Set_1_Disc_1-001_661500.mp3\n"
     ]
    },
    {
     "name": "stderr",
     "output_type": "stream",
     "text": [
      "\n",
      "chunk:   0%|                                                                          | 0/34 [00:00<?, ?it/s, now=None]\u001b[A\n",
      "chunk:  88%|████████████████████████████████████████████████████████▍       | 30/34 [00:00<00:00, 252.10it/s, now=None]\u001b[A\n",
      "chunk:   4%|██▌                                                        | 1/23 [2:10:25<47:49:15, 7825.25s/it, now=None]\u001b[A"
     ]
    },
    {
     "name": "stdout",
     "output_type": "stream",
     "text": [
      "MoviePy - Done.\n"
     ]
    },
    {
     "name": "stderr",
     "output_type": "stream",
     "text": [
      "chunk:   4%|██▌                                                        | 1/23 [2:10:25<47:49:29, 7825.87s/it, now=None]"
     ]
    },
    {
     "name": "stdout",
     "output_type": "stream",
     "text": [
      "MoviePy - Writing audio in Output\\Naruto_HD_Set_1_Disc_1-001\\Naruto_HD_Set_1_Disc_1-001_662500.mp3\n"
     ]
    },
    {
     "name": "stderr",
     "output_type": "stream",
     "text": [
      "\n",
      "chunk:   0%|                                                                          | 0/34 [00:00<?, ?it/s, now=None]\u001b[A\n",
      "chunk:   4%|██▌                                                        | 1/23 [2:10:25<47:49:31, 7825.99s/it, now=None]\u001b[A"
     ]
    },
    {
     "name": "stdout",
     "output_type": "stream",
     "text": [
      "MoviePy - Done.\n"
     ]
    },
    {
     "name": "stderr",
     "output_type": "stream",
     "text": [
      "chunk:   4%|██▌                                                        | 1/23 [2:10:26<47:49:44, 7826.56s/it, now=None]"
     ]
    },
    {
     "name": "stdout",
     "output_type": "stream",
     "text": [
      "MoviePy - Writing audio in Output\\Naruto_HD_Set_1_Disc_1-001\\Naruto_HD_Set_1_Disc_1-001_663500.mp3\n"
     ]
    },
    {
     "name": "stderr",
     "output_type": "stream",
     "text": [
      "\n",
      "chunk:   0%|                                                                          | 0/34 [00:00<?, ?it/s, now=None]\u001b[A\n",
      "chunk:  88%|████████████████████████████████████████████████████████▍       | 30/34 [00:00<00:00, 270.26it/s, now=None]\u001b[A\n",
      "chunk:   4%|██▌                                                        | 1/23 [2:10:26<47:49:47, 7826.71s/it, now=None]\u001b[A"
     ]
    },
    {
     "name": "stdout",
     "output_type": "stream",
     "text": [
      "MoviePy - Done.\n"
     ]
    },
    {
     "name": "stderr",
     "output_type": "stream",
     "text": [
      "chunk:   4%|██▌                                                        | 1/23 [2:10:27<47:50:00, 7827.29s/it, now=None]"
     ]
    },
    {
     "name": "stdout",
     "output_type": "stream",
     "text": [
      "MoviePy - Writing audio in Output\\Naruto_HD_Set_1_Disc_1-001\\Naruto_HD_Set_1_Disc_1-001_665000.mp3\n"
     ]
    },
    {
     "name": "stderr",
     "output_type": "stream",
     "text": [
      "\n",
      "chunk:   0%|                                                                          | 0/56 [00:00<?, ?it/s, now=None]\u001b[A\n",
      "chunk:  77%|█████████████████████████████████████████████████▏              | 43/56 [00:00<00:00, 429.99it/s, now=None]\u001b[A\n",
      "chunk:   4%|██▌                                                        | 1/23 [2:10:27<47:50:04, 7827.46s/it, now=None]\u001b[A"
     ]
    },
    {
     "name": "stdout",
     "output_type": "stream",
     "text": [
      "MoviePy - Done.\n"
     ]
    },
    {
     "name": "stderr",
     "output_type": "stream",
     "text": [
      "chunk:   4%|██▌                                                        | 1/23 [2:10:28<47:50:26, 7828.49s/it, now=None]"
     ]
    },
    {
     "name": "stdout",
     "output_type": "stream",
     "text": [
      "MoviePy - Writing audio in Output\\Naruto_HD_Set_1_Disc_1-001\\Naruto_HD_Set_1_Disc_1-001_667000.mp3\n"
     ]
    },
    {
     "name": "stderr",
     "output_type": "stream",
     "text": [
      "\n",
      "chunk:   0%|                                                                          | 0/56 [00:00<?, ?it/s, now=None]\u001b[A\n",
      "chunk:  77%|█████████████████████████████████████████████████▏              | 43/56 [00:00<00:00, 430.00it/s, now=None]\u001b[A\n",
      "chunk:   4%|██▌                                                        | 1/23 [2:10:28<47:50:30, 7828.66s/it, now=None]\u001b[A"
     ]
    },
    {
     "name": "stdout",
     "output_type": "stream",
     "text": [
      "MoviePy - Done.\n"
     ]
    },
    {
     "name": "stderr",
     "output_type": "stream",
     "text": [
      "chunk:   4%|██▌                                                        | 1/23 [2:10:29<47:50:54, 7829.74s/it, now=None]"
     ]
    },
    {
     "name": "stdout",
     "output_type": "stream",
     "text": [
      "MoviePy - Writing audio in Output\\Naruto_HD_Set_1_Disc_1-001\\Naruto_HD_Set_1_Disc_1-001_669000.mp3\n"
     ]
    },
    {
     "name": "stderr",
     "output_type": "stream",
     "text": [
      "\n",
      "chunk:   0%|                                                                          | 0/56 [00:00<?, ?it/s, now=None]\u001b[A\n",
      "chunk:  84%|█████████████████████████████████████████████████████▋          | 47/56 [00:00<00:00, 465.36it/s, now=None]\u001b[A\n",
      "chunk:   4%|██▌                                                        | 1/23 [2:10:29<47:50:57, 7829.88s/it, now=None]\u001b[A"
     ]
    },
    {
     "name": "stdout",
     "output_type": "stream",
     "text": [
      "MoviePy - Done.\n"
     ]
    },
    {
     "name": "stderr",
     "output_type": "stream",
     "text": [
      "chunk:   4%|██▌                                                        | 1/23 [2:10:30<47:51:20, 7830.94s/it, now=None]"
     ]
    },
    {
     "name": "stdout",
     "output_type": "stream",
     "text": [
      "MoviePy - Writing audio in Output\\Naruto_HD_Set_1_Disc_1-001\\Naruto_HD_Set_1_Disc_1-001_671000.mp3\n"
     ]
    },
    {
     "name": "stderr",
     "output_type": "stream",
     "text": [
      "\n",
      "chunk:   0%|                                                                          | 0/56 [00:00<?, ?it/s, now=None]\u001b[A\n",
      "chunk:  54%|██████████████████████████████████▎                             | 30/56 [00:00<00:00, 270.27it/s, now=None]\u001b[A\n",
      "chunk:   4%|██▌                                                        | 1/23 [2:10:31<47:51:24, 7831.10s/it, now=None]\u001b[A"
     ]
    },
    {
     "name": "stdout",
     "output_type": "stream",
     "text": [
      "MoviePy - Done.\n"
     ]
    },
    {
     "name": "stderr",
     "output_type": "stream",
     "text": [
      "chunk:   4%|██▌                                                        | 1/23 [2:10:32<47:51:47, 7832.16s/it, now=None]"
     ]
    },
    {
     "name": "stdout",
     "output_type": "stream",
     "text": [
      "MoviePy - Writing audio in Output\\Naruto_HD_Set_1_Disc_1-001\\Naruto_HD_Set_1_Disc_1-001_672500.mp3\n"
     ]
    },
    {
     "name": "stderr",
     "output_type": "stream",
     "text": [
      "\n",
      "chunk:   0%|                                                                          | 0/34 [00:00<?, ?it/s, now=None]\u001b[A\n",
      "chunk:  88%|████████████████████████████████████████████████████████▍       | 30/34 [00:00<00:00, 270.24it/s, now=None]\u001b[A\n",
      "chunk:   4%|██▌                                                        | 1/23 [2:10:32<47:51:50, 7832.30s/it, now=None]\u001b[A"
     ]
    },
    {
     "name": "stdout",
     "output_type": "stream",
     "text": [
      "MoviePy - Done.\n"
     ]
    },
    {
     "name": "stderr",
     "output_type": "stream",
     "text": [
      "chunk:   4%|██▌                                                        | 1/23 [2:10:32<47:52:03, 7832.88s/it, now=None]"
     ]
    },
    {
     "name": "stdout",
     "output_type": "stream",
     "text": [
      "MoviePy - Writing audio in Output\\Naruto_HD_Set_1_Disc_1-001\\Naruto_HD_Set_1_Disc_1-001_673500.mp3\n"
     ]
    },
    {
     "name": "stderr",
     "output_type": "stream",
     "text": [
      "\n",
      "chunk:   0%|                                                                          | 0/34 [00:00<?, ?it/s, now=None]\u001b[A\n",
      "chunk:   4%|██▌                                                        | 1/23 [2:10:33<47:52:06, 7833.01s/it, now=None]\u001b[A"
     ]
    },
    {
     "name": "stdout",
     "output_type": "stream",
     "text": [
      "MoviePy - Done.\n"
     ]
    },
    {
     "name": "stderr",
     "output_type": "stream",
     "text": [
      "chunk:   4%|██▌                                                        | 1/23 [2:10:33<47:52:19, 7833.62s/it, now=None]"
     ]
    },
    {
     "name": "stdout",
     "output_type": "stream",
     "text": [
      "MoviePy - Writing audio in Output\\Naruto_HD_Set_1_Disc_1-001\\Naruto_HD_Set_1_Disc_1-001_674500.mp3\n"
     ]
    },
    {
     "name": "stderr",
     "output_type": "stream",
     "text": [
      "\n",
      "chunk:   0%|                                                                          | 0/34 [00:00<?, ?it/s, now=None]\u001b[A\n",
      "chunk:  94%|████████████████████████████████████████████████████████████▏   | 32/34 [00:00<00:00, 288.28it/s, now=None]\u001b[A\n",
      "chunk:   4%|██▌                                                        | 1/23 [2:10:33<47:52:22, 7833.76s/it, now=None]\u001b[A"
     ]
    },
    {
     "name": "stdout",
     "output_type": "stream",
     "text": [
      "MoviePy - Done.\n"
     ]
    },
    {
     "name": "stderr",
     "output_type": "stream",
     "text": [
      "chunk:   4%|██▌                                                        | 1/23 [2:10:34<47:52:35, 7834.35s/it, now=None]"
     ]
    },
    {
     "name": "stdout",
     "output_type": "stream",
     "text": [
      "MoviePy - Writing audio in Output\\Naruto_HD_Set_1_Disc_1-001\\Naruto_HD_Set_1_Disc_1-001_675500.mp3\n"
     ]
    },
    {
     "name": "stderr",
     "output_type": "stream",
     "text": [
      "\n",
      "chunk:   0%|                                                                          | 0/34 [00:00<?, ?it/s, now=None]\u001b[A\n",
      "chunk:   4%|██▌                                                        | 1/23 [2:10:34<47:52:38, 7834.47s/it, now=None]\u001b[A"
     ]
    },
    {
     "name": "stdout",
     "output_type": "stream",
     "text": [
      "MoviePy - Done.\n"
     ]
    },
    {
     "name": "stderr",
     "output_type": "stream",
     "text": [
      "chunk:   4%|██▌                                                        | 1/23 [2:10:34<47:52:49, 7834.99s/it, now=None]"
     ]
    },
    {
     "name": "stdout",
     "output_type": "stream",
     "text": [
      "MoviePy - Writing audio in Output\\Naruto_HD_Set_1_Disc_1-001\\Naruto_HD_Set_1_Disc_1-001_679500.mp3\n"
     ]
    },
    {
     "name": "stderr",
     "output_type": "stream",
     "text": [
      "\n",
      "chunk:   0%|                                                                          | 0/34 [00:00<?, ?it/s, now=None]\u001b[A\n",
      "chunk:   4%|██▌                                                        | 1/23 [2:10:35<47:52:52, 7835.11s/it, now=None]\u001b[A"
     ]
    },
    {
     "name": "stdout",
     "output_type": "stream",
     "text": [
      "MoviePy - Done.\n"
     ]
    },
    {
     "name": "stderr",
     "output_type": "stream",
     "text": [
      "chunk:   4%|██▌                                                        | 1/23 [2:10:35<47:53:02, 7835.58s/it, now=None]"
     ]
    },
    {
     "name": "stdout",
     "output_type": "stream",
     "text": [
      "MoviePy - Writing audio in Output\\Naruto_HD_Set_1_Disc_1-001\\Naruto_HD_Set_1_Disc_1-001_686000.mp3\n"
     ]
    },
    {
     "name": "stderr",
     "output_type": "stream",
     "text": [
      "\n",
      "chunk:   0%|                                                                          | 0/56 [00:00<?, ?it/s, now=None]\u001b[A\n",
      "chunk:  75%|████████████████████████████████████████████████                | 42/56 [00:00<00:00, 415.85it/s, now=None]\u001b[A\n",
      "chunk:   4%|██▌                                                        | 1/23 [2:10:35<47:53:06, 7835.74s/it, now=None]\u001b[A"
     ]
    },
    {
     "name": "stdout",
     "output_type": "stream",
     "text": [
      "MoviePy - Done.\n"
     ]
    },
    {
     "name": "stderr",
     "output_type": "stream",
     "text": [
      "chunk:   4%|██▌                                                        | 1/23 [2:10:37<47:53:40, 7837.28s/it, now=None]"
     ]
    },
    {
     "name": "stdout",
     "output_type": "stream",
     "text": [
      "MoviePy - Writing audio in Output\\Naruto_HD_Set_1_Disc_1-001\\Naruto_HD_Set_1_Disc_1-001_688500.mp3\n"
     ]
    },
    {
     "name": "stderr",
     "output_type": "stream",
     "text": [
      "\n",
      "chunk:   0%|                                                                          | 0/34 [00:00<?, ?it/s, now=None]\u001b[A\n",
      "chunk:   4%|██▌                                                        | 1/23 [2:10:37<47:53:42, 7837.40s/it, now=None]\u001b[A"
     ]
    },
    {
     "name": "stdout",
     "output_type": "stream",
     "text": [
      "MoviePy - Done.\n"
     ]
    },
    {
     "name": "stderr",
     "output_type": "stream",
     "text": [
      "chunk:   4%|██▌                                                        | 1/23 [2:10:38<47:53:56, 7838.00s/it, now=None]"
     ]
    },
    {
     "name": "stdout",
     "output_type": "stream",
     "text": [
      "MoviePy - Writing audio in Output\\Naruto_HD_Set_1_Disc_1-001\\Naruto_HD_Set_1_Disc_1-001_690000.mp3\n"
     ]
    },
    {
     "name": "stderr",
     "output_type": "stream",
     "text": [
      "\n",
      "chunk:   0%|                                                                          | 0/56 [00:00<?, ?it/s, now=None]\u001b[A\n",
      "chunk:  54%|██████████████████████████████████▎                             | 30/56 [00:00<00:00, 272.72it/s, now=None]\u001b[A\n",
      "chunk:   4%|██▌                                                        | 1/23 [2:10:38<47:53:59, 7838.17s/it, now=None]\u001b[A"
     ]
    },
    {
     "name": "stdout",
     "output_type": "stream",
     "text": [
      "MoviePy - Done.\n"
     ]
    },
    {
     "name": "stderr",
     "output_type": "stream",
     "text": [
      "chunk:   4%|██▌                                                        | 1/23 [2:10:38<47:54:11, 7838.70s/it, now=None]"
     ]
    },
    {
     "name": "stdout",
     "output_type": "stream",
     "text": [
      "MoviePy - Writing audio in Output\\Naruto_HD_Set_1_Disc_1-001\\Naruto_HD_Set_1_Disc_1-001_695000.mp3\n"
     ]
    },
    {
     "name": "stderr",
     "output_type": "stream",
     "text": [
      "\n",
      "chunk:   0%|                                                                          | 0/56 [00:00<?, ?it/s, now=None]\u001b[A\n",
      "chunk:  80%|███████████████████████████████████████████████████▍            | 45/56 [00:00<00:00, 445.55it/s, now=None]\u001b[A\n",
      "chunk:   4%|██▌                                                        | 1/23 [2:10:38<47:54:15, 7838.87s/it, now=None]\u001b[A"
     ]
    },
    {
     "name": "stdout",
     "output_type": "stream",
     "text": [
      "MoviePy - Done.\n"
     ]
    },
    {
     "name": "stderr",
     "output_type": "stream",
     "text": [
      "chunk:   4%|██▌                                                        | 1/23 [2:10:39<47:54:38, 7839.91s/it, now=None]"
     ]
    },
    {
     "name": "stdout",
     "output_type": "stream",
     "text": [
      "MoviePy - Writing audio in Output\\Naruto_HD_Set_1_Disc_1-001\\Naruto_HD_Set_1_Disc_1-001_696500.mp3\n"
     ]
    },
    {
     "name": "stderr",
     "output_type": "stream",
     "text": [
      "\n",
      "chunk:   0%|                                                                          | 0/34 [00:00<?, ?it/s, now=None]\u001b[A\n",
      "chunk:   4%|██▌                                                        | 1/23 [2:10:40<47:54:40, 7840.04s/it, now=None]\u001b[A"
     ]
    },
    {
     "name": "stdout",
     "output_type": "stream",
     "text": [
      "MoviePy - Done.\n"
     ]
    },
    {
     "name": "stderr",
     "output_type": "stream",
     "text": [
      "chunk:   4%|██▌                                                        | 1/23 [2:10:40<47:54:54, 7840.66s/it, now=None]"
     ]
    },
    {
     "name": "stdout",
     "output_type": "stream",
     "text": [
      "MoviePy - Writing audio in Output\\Naruto_HD_Set_1_Disc_1-001\\Naruto_HD_Set_1_Disc_1-001_697500.mp3\n"
     ]
    },
    {
     "name": "stderr",
     "output_type": "stream",
     "text": [
      "\n",
      "chunk:   0%|                                                                          | 0/34 [00:00<?, ?it/s, now=None]\u001b[A\n",
      "chunk:   4%|██▌                                                        | 1/23 [2:10:40<47:54:57, 7840.77s/it, now=None]\u001b[A"
     ]
    },
    {
     "name": "stdout",
     "output_type": "stream",
     "text": [
      "MoviePy - Done.\n"
     ]
    },
    {
     "name": "stderr",
     "output_type": "stream",
     "text": [
      "chunk:   4%|██▌                                                        | 1/23 [2:10:41<47:55:10, 7841.39s/it, now=None]"
     ]
    },
    {
     "name": "stdout",
     "output_type": "stream",
     "text": [
      "MoviePy - Writing audio in Output\\Naruto_HD_Set_1_Disc_1-001\\Naruto_HD_Set_1_Disc_1-001_698500.mp3\n"
     ]
    },
    {
     "name": "stderr",
     "output_type": "stream",
     "text": [
      "\n",
      "chunk:   0%|                                                                          | 0/34 [00:00<?, ?it/s, now=None]\u001b[A\n",
      "chunk:  88%|████████████████████████████████████████████████████████▍       | 30/34 [00:00<00:00, 260.87it/s, now=None]\u001b[A\n",
      "chunk:   4%|██▌                                                        | 1/23 [2:10:41<47:55:13, 7841.54s/it, now=None]\u001b[A"
     ]
    },
    {
     "name": "stdout",
     "output_type": "stream",
     "text": [
      "MoviePy - Done.\n"
     ]
    },
    {
     "name": "stderr",
     "output_type": "stream",
     "text": [
      "chunk:   4%|██▌                                                        | 1/23 [2:10:42<47:55:28, 7842.19s/it, now=None]"
     ]
    },
    {
     "name": "stdout",
     "output_type": "stream",
     "text": [
      "MoviePy - Writing audio in Output\\Naruto_HD_Set_1_Disc_1-001\\Naruto_HD_Set_1_Disc_1-001_699500.mp3\n"
     ]
    },
    {
     "name": "stderr",
     "output_type": "stream",
     "text": [
      "\n",
      "chunk:   0%|                                                                          | 0/34 [00:00<?, ?it/s, now=None]\u001b[A\n",
      "chunk:   4%|██▌                                                        | 1/23 [2:10:42<47:55:31, 7842.32s/it, now=None]\u001b[A"
     ]
    },
    {
     "name": "stdout",
     "output_type": "stream",
     "text": [
      "MoviePy - Done.\n"
     ]
    },
    {
     "name": "stderr",
     "output_type": "stream",
     "text": [
      "chunk:   4%|██▌                                                        | 1/23 [2:10:42<47:55:45, 7842.97s/it, now=None]"
     ]
    },
    {
     "name": "stdout",
     "output_type": "stream",
     "text": [
      "MoviePy - Writing audio in Output\\Naruto_HD_Set_1_Disc_1-001\\Naruto_HD_Set_1_Disc_1-001_700500.mp3\n"
     ]
    },
    {
     "name": "stderr",
     "output_type": "stream",
     "text": [
      "\n",
      "chunk:   0%|                                                                          | 0/34 [00:00<?, ?it/s, now=None]\u001b[A\n",
      "chunk:  88%|████████████████████████████████████████████████████████▍       | 30/34 [00:00<00:00, 263.16it/s, now=None]\u001b[A\n",
      "chunk:   4%|██▌                                                        | 1/23 [2:10:43<47:55:48, 7843.13s/it, now=None]\u001b[A"
     ]
    },
    {
     "name": "stdout",
     "output_type": "stream",
     "text": [
      "MoviePy - Done.\n"
     ]
    },
    {
     "name": "stderr",
     "output_type": "stream",
     "text": [
      "chunk:   4%|██▌                                                        | 1/23 [2:10:44<47:56:23, 7844.70s/it, now=None]"
     ]
    },
    {
     "name": "stdout",
     "output_type": "stream",
     "text": [
      "MoviePy - Writing audio in Output\\Naruto_HD_Set_1_Disc_1-001\\Naruto_HD_Set_1_Disc_1-001_703500.mp3\n"
     ]
    },
    {
     "name": "stderr",
     "output_type": "stream",
     "text": [
      "\n",
      "chunk:   0%|                                                                          | 0/34 [00:00<?, ?it/s, now=None]\u001b[A\n",
      "chunk:  88%|████████████████████████████████████████████████████████▍       | 30/34 [00:00<00:00, 270.27it/s, now=None]\u001b[A\n",
      "chunk:   4%|██▌                                                        | 1/23 [2:10:44<47:56:26, 7844.85s/it, now=None]\u001b[A"
     ]
    },
    {
     "name": "stdout",
     "output_type": "stream",
     "text": [
      "MoviePy - Done.\n"
     ]
    },
    {
     "name": "stderr",
     "output_type": "stream",
     "text": [
      "chunk:   4%|██▌                                                        | 1/23 [2:10:45<47:56:39, 7845.44s/it, now=None]"
     ]
    },
    {
     "name": "stdout",
     "output_type": "stream",
     "text": [
      "MoviePy - Writing audio in Output\\Naruto_HD_Set_1_Disc_1-001\\Naruto_HD_Set_1_Disc_1-001_704500.mp3\n"
     ]
    },
    {
     "name": "stderr",
     "output_type": "stream",
     "text": [
      "\n",
      "chunk:   0%|                                                                          | 0/34 [00:00<?, ?it/s, now=None]\u001b[A\n",
      "chunk: 100%|████████████████████████████████████████████████████████████████| 34/34 [00:00<00:00, 303.06it/s, now=None]\u001b[A\n",
      "chunk:   4%|██▌                                                        | 1/23 [2:10:45<47:56:43, 7845.59s/it, now=None]\u001b[A"
     ]
    },
    {
     "name": "stdout",
     "output_type": "stream",
     "text": [
      "MoviePy - Done.\n"
     ]
    },
    {
     "name": "stderr",
     "output_type": "stream",
     "text": [
      "chunk:   4%|██▌                                                        | 1/23 [2:10:46<47:56:57, 7846.23s/it, now=None]"
     ]
    },
    {
     "name": "stdout",
     "output_type": "stream",
     "text": [
      "MoviePy - Writing audio in Output\\Naruto_HD_Set_1_Disc_1-001\\Naruto_HD_Set_1_Disc_1-001_705500.mp3\n"
     ]
    },
    {
     "name": "stderr",
     "output_type": "stream",
     "text": [
      "\n",
      "chunk:   0%|                                                                          | 0/34 [00:00<?, ?it/s, now=None]\u001b[A\n",
      "chunk:   4%|██▌                                                        | 1/23 [2:10:46<47:56:59, 7846.35s/it, now=None]\u001b[A"
     ]
    },
    {
     "name": "stdout",
     "output_type": "stream",
     "text": [
      "MoviePy - Done.\n"
     ]
    },
    {
     "name": "stderr",
     "output_type": "stream",
     "text": [
      "chunk:   4%|██▌                                                        | 1/23 [2:10:46<47:57:13, 7846.97s/it, now=None]"
     ]
    },
    {
     "name": "stdout",
     "output_type": "stream",
     "text": [
      "MoviePy - Writing audio in Output\\Naruto_HD_Set_1_Disc_1-001\\Naruto_HD_Set_1_Disc_1-001_706500.mp3\n"
     ]
    },
    {
     "name": "stderr",
     "output_type": "stream",
     "text": [
      "\n",
      "chunk:   0%|                                                                          | 0/34 [00:00<?, ?it/s, now=None]\u001b[A\n",
      "chunk:   4%|██▌                                                        | 1/23 [2:10:47<47:57:16, 7847.09s/it, now=None]\u001b[A"
     ]
    },
    {
     "name": "stdout",
     "output_type": "stream",
     "text": [
      "MoviePy - Done.\n"
     ]
    },
    {
     "name": "stderr",
     "output_type": "stream",
     "text": [
      "chunk:   4%|██▌                                                        | 1/23 [2:10:47<47:57:29, 7847.73s/it, now=None]"
     ]
    },
    {
     "name": "stdout",
     "output_type": "stream",
     "text": [
      "MoviePy - Writing audio in Output\\Naruto_HD_Set_1_Disc_1-001\\Naruto_HD_Set_1_Disc_1-001_707500.mp3\n"
     ]
    },
    {
     "name": "stderr",
     "output_type": "stream",
     "text": [
      "\n",
      "chunk:   0%|                                                                          | 0/34 [00:00<?, ?it/s, now=None]\u001b[A\n",
      "chunk:  88%|████████████████████████████████████████████████████████▍       | 30/34 [00:00<00:00, 275.22it/s, now=None]\u001b[A\n",
      "chunk:   4%|██▌                                                        | 1/23 [2:10:47<47:57:33, 7847.87s/it, now=None]\u001b[A"
     ]
    },
    {
     "name": "stdout",
     "output_type": "stream",
     "text": [
      "MoviePy - Done.\n"
     ]
    },
    {
     "name": "stderr",
     "output_type": "stream",
     "text": [
      "chunk:   4%|██▌                                                        | 1/23 [2:10:48<47:57:45, 7848.45s/it, now=None]"
     ]
    },
    {
     "name": "stdout",
     "output_type": "stream",
     "text": [
      "MoviePy - Writing audio in Output\\Naruto_HD_Set_1_Disc_1-001\\Naruto_HD_Set_1_Disc_1-001_708500.mp3\n"
     ]
    },
    {
     "name": "stderr",
     "output_type": "stream",
     "text": [
      "\n",
      "chunk:   0%|                                                                          | 0/34 [00:00<?, ?it/s, now=None]\u001b[A\n",
      "chunk:   4%|██▌                                                        | 1/23 [2:10:48<47:57:48, 7848.58s/it, now=None]\u001b[A"
     ]
    },
    {
     "name": "stdout",
     "output_type": "stream",
     "text": [
      "MoviePy - Done.\n"
     ]
    },
    {
     "name": "stderr",
     "output_type": "stream",
     "text": [
      "chunk:   4%|██▌                                                        | 1/23 [2:10:49<47:58:01, 7849.17s/it, now=None]"
     ]
    },
    {
     "name": "stdout",
     "output_type": "stream",
     "text": [
      "MoviePy - Writing audio in Output\\Naruto_HD_Set_1_Disc_1-001\\Naruto_HD_Set_1_Disc_1-001_709500.mp3\n"
     ]
    },
    {
     "name": "stderr",
     "output_type": "stream",
     "text": [
      "\n",
      "chunk:   0%|                                                                          | 0/34 [00:00<?, ?it/s, now=None]\u001b[A\n",
      "chunk:  88%|████████████████████████████████████████████████████████▍       | 30/34 [00:00<00:00, 275.22it/s, now=None]\u001b[A\n",
      "chunk:   4%|██▌                                                        | 1/23 [2:10:49<47:58:04, 7849.32s/it, now=None]\u001b[A"
     ]
    },
    {
     "name": "stdout",
     "output_type": "stream",
     "text": [
      "MoviePy - Done.\n"
     ]
    },
    {
     "name": "stderr",
     "output_type": "stream",
     "text": [
      "chunk:   4%|██▌                                                        | 1/23 [2:10:49<47:58:18, 7849.92s/it, now=None]"
     ]
    },
    {
     "name": "stdout",
     "output_type": "stream",
     "text": [
      "MoviePy - Writing audio in Output\\Naruto_HD_Set_1_Disc_1-001\\Naruto_HD_Set_1_Disc_1-001_710500.mp3\n"
     ]
    },
    {
     "name": "stderr",
     "output_type": "stream",
     "text": [
      "\n",
      "chunk:   0%|                                                                          | 0/34 [00:00<?, ?it/s, now=None]\u001b[A\n",
      "chunk:   4%|██▌                                                        | 1/23 [2:10:50<47:58:20, 7850.04s/it, now=None]\u001b[A"
     ]
    },
    {
     "name": "stdout",
     "output_type": "stream",
     "text": [
      "MoviePy - Done.\n"
     ]
    },
    {
     "name": "stderr",
     "output_type": "stream",
     "text": [
      "chunk:   4%|██▌                                                        | 1/23 [2:10:50<47:58:34, 7850.67s/it, now=None]"
     ]
    },
    {
     "name": "stdout",
     "output_type": "stream",
     "text": [
      "MoviePy - Writing audio in Output\\Naruto_HD_Set_1_Disc_1-001\\Naruto_HD_Set_1_Disc_1-001_711500.mp3\n"
     ]
    },
    {
     "name": "stderr",
     "output_type": "stream",
     "text": [
      "\n",
      "chunk:   0%|                                                                          | 0/34 [00:00<?, ?it/s, now=None]\u001b[A\n",
      "chunk:  94%|████████████████████████████████████████████████████████████▏   | 32/34 [00:00<00:00, 285.71it/s, now=None]\u001b[A\n",
      "chunk:   4%|██▌                                                        | 1/23 [2:10:50<47:58:37, 7850.82s/it, now=None]\u001b[A"
     ]
    },
    {
     "name": "stdout",
     "output_type": "stream",
     "text": [
      "MoviePy - Done.\n"
     ]
    },
    {
     "name": "stderr",
     "output_type": "stream",
     "text": [
      "chunk:   4%|██▌                                                        | 1/23 [2:10:51<47:58:51, 7851.43s/it, now=None]"
     ]
    },
    {
     "name": "stdout",
     "output_type": "stream",
     "text": [
      "MoviePy - Writing audio in Output\\Naruto_HD_Set_1_Disc_1-001\\Naruto_HD_Set_1_Disc_1-001_712500.mp3\n"
     ]
    },
    {
     "name": "stderr",
     "output_type": "stream",
     "text": [
      "\n",
      "chunk:   0%|                                                                          | 0/34 [00:00<?, ?it/s, now=None]\u001b[A\n",
      "chunk:   4%|██▌                                                        | 1/23 [2:10:51<47:58:54, 7851.56s/it, now=None]\u001b[A"
     ]
    },
    {
     "name": "stdout",
     "output_type": "stream",
     "text": [
      "MoviePy - Done.\n"
     ]
    },
    {
     "name": "stderr",
     "output_type": "stream",
     "text": [
      "chunk:   4%|██▌                                                        | 1/23 [2:10:52<47:59:07, 7852.17s/it, now=None]"
     ]
    },
    {
     "name": "stdout",
     "output_type": "stream",
     "text": [
      "MoviePy - Writing audio in Output\\Naruto_HD_Set_1_Disc_1-001\\Naruto_HD_Set_1_Disc_1-001_714000.mp3\n"
     ]
    },
    {
     "name": "stderr",
     "output_type": "stream",
     "text": [
      "\n",
      "chunk:   0%|                                                                          | 0/56 [00:00<?, ?it/s, now=None]\u001b[A\n",
      "chunk:  68%|███████████████████████████████████████████▍                    | 38/56 [00:00<00:00, 330.42it/s, now=None]\u001b[A\n",
      "chunk:   4%|██▌                                                        | 1/23 [2:10:52<47:59:11, 7852.34s/it, now=None]\u001b[A"
     ]
    },
    {
     "name": "stdout",
     "output_type": "stream",
     "text": [
      "MoviePy - Done.\n"
     ]
    },
    {
     "name": "stderr",
     "output_type": "stream",
     "text": [
      "chunk:   4%|██▌                                                        | 1/23 [2:10:52<47:59:22, 7852.82s/it, now=None]"
     ]
    },
    {
     "name": "stdout",
     "output_type": "stream",
     "text": [
      "MoviePy - Writing audio in Output\\Naruto_HD_Set_1_Disc_1-001\\Naruto_HD_Set_1_Disc_1-001_717500.mp3\n"
     ]
    },
    {
     "name": "stderr",
     "output_type": "stream",
     "text": [
      "\n",
      "chunk:   0%|                                                                          | 0/34 [00:00<?, ?it/s, now=None]\u001b[A\n",
      "chunk:   4%|██▌                                                        | 1/23 [2:10:52<47:59:24, 7852.94s/it, now=None]\u001b[A"
     ]
    },
    {
     "name": "stdout",
     "output_type": "stream",
     "text": [
      "MoviePy - Done.\n"
     ]
    },
    {
     "name": "stderr",
     "output_type": "stream",
     "text": [
      "chunk:   4%|██▌                                                        | 1/23 [2:10:53<47:59:38, 7853.55s/it, now=None]"
     ]
    },
    {
     "name": "stdout",
     "output_type": "stream",
     "text": [
      "MoviePy - Writing audio in Output\\Naruto_HD_Set_1_Disc_1-001\\Naruto_HD_Set_1_Disc_1-001_718500.mp3\n"
     ]
    },
    {
     "name": "stderr",
     "output_type": "stream",
     "text": [
      "\n",
      "chunk:   0%|                                                                          | 0/34 [00:00<?, ?it/s, now=None]\u001b[A\n",
      "chunk:   4%|██▌                                                        | 1/23 [2:10:53<47:59:40, 7853.67s/it, now=None]\u001b[A"
     ]
    },
    {
     "name": "stdout",
     "output_type": "stream",
     "text": [
      "MoviePy - Done.\n"
     ]
    },
    {
     "name": "stderr",
     "output_type": "stream",
     "text": [
      "chunk:   4%|██▌                                                        | 1/23 [2:10:54<47:59:54, 7854.29s/it, now=None]"
     ]
    },
    {
     "name": "stdout",
     "output_type": "stream",
     "text": [
      "MoviePy - Writing audio in Output\\Naruto_HD_Set_1_Disc_1-001\\Naruto_HD_Set_1_Disc_1-001_719500.mp3\n"
     ]
    },
    {
     "name": "stderr",
     "output_type": "stream",
     "text": [
      "\n",
      "chunk:   0%|                                                                          | 0/34 [00:00<?, ?it/s, now=None]\u001b[A\n",
      "chunk:   4%|██▌                                                        | 1/23 [2:10:54<47:59:57, 7854.41s/it, now=None]\u001b[A"
     ]
    },
    {
     "name": "stdout",
     "output_type": "stream",
     "text": [
      "MoviePy - Done.\n"
     ]
    },
    {
     "name": "stderr",
     "output_type": "stream",
     "text": [
      "chunk:   4%|██▌                                                        | 1/23 [2:10:55<48:00:10, 7855.03s/it, now=None]"
     ]
    },
    {
     "name": "stdout",
     "output_type": "stream",
     "text": [
      "MoviePy - Writing audio in Output\\Naruto_HD_Set_1_Disc_1-001\\Naruto_HD_Set_1_Disc_1-001_720500.mp3\n"
     ]
    },
    {
     "name": "stderr",
     "output_type": "stream",
     "text": [
      "\n",
      "chunk:   0%|                                                                          | 0/34 [00:00<?, ?it/s, now=None]\u001b[A\n",
      "chunk:   4%|██▌                                                        | 1/23 [2:10:55<48:00:13, 7855.16s/it, now=None]\u001b[A"
     ]
    },
    {
     "name": "stdout",
     "output_type": "stream",
     "text": [
      "MoviePy - Done.\n"
     ]
    },
    {
     "name": "stderr",
     "output_type": "stream",
     "text": [
      "chunk:   4%|██▌                                                        | 1/23 [2:10:55<48:00:25, 7855.71s/it, now=None]"
     ]
    },
    {
     "name": "stdout",
     "output_type": "stream",
     "text": [
      "MoviePy - Writing audio in Output\\Naruto_HD_Set_1_Disc_1-001\\Naruto_HD_Set_1_Disc_1-001_721500.mp3\n"
     ]
    },
    {
     "name": "stderr",
     "output_type": "stream",
     "text": [
      "\n",
      "chunk:   0%|                                                                          | 0/34 [00:00<?, ?it/s, now=None]\u001b[A\n",
      "chunk:  88%|████████████████████████████████████████████████████████▍       | 30/34 [00:00<00:00, 270.28it/s, now=None]\u001b[A\n",
      "chunk:   4%|██▌                                                        | 1/23 [2:10:55<48:00:28, 7855.86s/it, now=None]\u001b[A"
     ]
    },
    {
     "name": "stdout",
     "output_type": "stream",
     "text": [
      "MoviePy - Done.\n"
     ]
    },
    {
     "name": "stderr",
     "output_type": "stream",
     "text": [
      "chunk:   4%|██▌                                                        | 1/23 [2:10:56<48:00:41, 7856.45s/it, now=None]"
     ]
    },
    {
     "name": "stdout",
     "output_type": "stream",
     "text": [
      "MoviePy - Writing audio in Output\\Naruto_HD_Set_1_Disc_1-001\\Naruto_HD_Set_1_Disc_1-001_722500.mp3\n"
     ]
    },
    {
     "name": "stderr",
     "output_type": "stream",
     "text": [
      "\n",
      "chunk:   0%|                                                                          | 0/34 [00:00<?, ?it/s, now=None]\u001b[A\n",
      "chunk:   4%|██▌                                                        | 1/23 [2:10:56<48:00:44, 7856.57s/it, now=None]\u001b[A"
     ]
    },
    {
     "name": "stdout",
     "output_type": "stream",
     "text": [
      "MoviePy - Done.\n"
     ]
    },
    {
     "name": "stderr",
     "output_type": "stream",
     "text": [
      "chunk:   4%|██▌                                                        | 1/23 [2:10:58<48:01:18, 7858.10s/it, now=None]"
     ]
    },
    {
     "name": "stdout",
     "output_type": "stream",
     "text": [
      "MoviePy - Writing audio in Output\\Naruto_HD_Set_1_Disc_1-001\\Naruto_HD_Set_1_Disc_1-001_726000.mp3\n"
     ]
    },
    {
     "name": "stderr",
     "output_type": "stream",
     "text": [
      "\n",
      "chunk:   0%|                                                                          | 0/56 [00:00<?, ?it/s, now=None]\u001b[A\n",
      "chunk:  59%|█████████████████████████████████████▋                          | 33/56 [00:00<00:00, 326.76it/s, now=None]\u001b[A\n",
      "chunk:   4%|██▌                                                        | 1/23 [2:10:58<48:01:21, 7858.27s/it, now=None]\u001b[A"
     ]
    },
    {
     "name": "stdout",
     "output_type": "stream",
     "text": [
      "MoviePy - Done.\n"
     ]
    },
    {
     "name": "stderr",
     "output_type": "stream",
     "text": [
      "chunk:   4%|██▌                                                        | 1/23 [2:10:59<48:01:44, 7859.32s/it, now=None]"
     ]
    },
    {
     "name": "stdout",
     "output_type": "stream",
     "text": [
      "MoviePy - Writing audio in Output\\Naruto_HD_Set_1_Disc_1-001\\Naruto_HD_Set_1_Disc_1-001_727500.mp3\n"
     ]
    },
    {
     "name": "stderr",
     "output_type": "stream",
     "text": [
      "\n",
      "chunk:   0%|                                                                          | 0/34 [00:00<?, ?it/s, now=None]\u001b[A\n",
      "chunk:   4%|██▌                                                        | 1/23 [2:10:59<48:01:47, 7859.44s/it, now=None]\u001b[A"
     ]
    },
    {
     "name": "stdout",
     "output_type": "stream",
     "text": [
      "MoviePy - Done.\n"
     ]
    },
    {
     "name": "stderr",
     "output_type": "stream",
     "text": [
      "chunk:   4%|██▌                                                        | 1/23 [2:11:00<48:02:01, 7860.05s/it, now=None]"
     ]
    },
    {
     "name": "stdout",
     "output_type": "stream",
     "text": [
      "MoviePy - Writing audio in Output\\Naruto_HD_Set_1_Disc_1-001\\Naruto_HD_Set_1_Disc_1-001_728500.mp3\n"
     ]
    },
    {
     "name": "stderr",
     "output_type": "stream",
     "text": [
      "\n",
      "chunk:   0%|                                                                          | 0/34 [00:00<?, ?it/s, now=None]\u001b[A\n",
      "chunk:   4%|██▌                                                        | 1/23 [2:11:00<48:02:03, 7860.18s/it, now=None]\u001b[A"
     ]
    },
    {
     "name": "stdout",
     "output_type": "stream",
     "text": [
      "MoviePy - Done.\n"
     ]
    },
    {
     "name": "stderr",
     "output_type": "stream",
     "text": [
      "chunk:   4%|██▌                                                        | 1/23 [2:11:00<48:02:16, 7860.73s/it, now=None]"
     ]
    },
    {
     "name": "stdout",
     "output_type": "stream",
     "text": [
      "MoviePy - Writing audio in Output\\Naruto_HD_Set_1_Disc_1-001\\Naruto_HD_Set_1_Disc_1-001_729500.mp3\n"
     ]
    },
    {
     "name": "stderr",
     "output_type": "stream",
     "text": [
      "\n",
      "chunk:   0%|                                                                          | 0/34 [00:00<?, ?it/s, now=None]\u001b[A\n",
      "chunk:  88%|████████████████████████████████████████████████████████▍       | 30/34 [00:00<00:00, 263.16it/s, now=None]\u001b[A\n",
      "chunk:   4%|██▌                                                        | 1/23 [2:11:00<48:02:19, 7860.88s/it, now=None]\u001b[A"
     ]
    },
    {
     "name": "stdout",
     "output_type": "stream",
     "text": [
      "MoviePy - Done.\n"
     ]
    },
    {
     "name": "stderr",
     "output_type": "stream",
     "text": [
      "chunk:   4%|██▌                                                        | 1/23 [2:11:01<48:02:32, 7861.47s/it, now=None]"
     ]
    },
    {
     "name": "stdout",
     "output_type": "stream",
     "text": [
      "MoviePy - Writing audio in Output\\Naruto_HD_Set_1_Disc_1-001\\Naruto_HD_Set_1_Disc_1-001_730500.mp3\n"
     ]
    },
    {
     "name": "stderr",
     "output_type": "stream",
     "text": [
      "\n",
      "chunk:   0%|                                                                          | 0/34 [00:00<?, ?it/s, now=None]\u001b[A\n",
      "chunk:   4%|██▌                                                        | 1/23 [2:11:01<48:02:34, 7861.59s/it, now=None]\u001b[A"
     ]
    },
    {
     "name": "stdout",
     "output_type": "stream",
     "text": [
      "MoviePy - Done.\n"
     ]
    },
    {
     "name": "stderr",
     "output_type": "stream",
     "text": [
      "chunk:   4%|██▌                                                        | 1/23 [2:11:02<48:02:47, 7862.17s/it, now=None]"
     ]
    },
    {
     "name": "stdout",
     "output_type": "stream",
     "text": [
      "MoviePy - Writing audio in Output\\Naruto_HD_Set_1_Disc_1-001\\Naruto_HD_Set_1_Disc_1-001_731500.mp3\n"
     ]
    },
    {
     "name": "stderr",
     "output_type": "stream",
     "text": [
      "\n",
      "chunk:   0%|                                                                          | 0/34 [00:00<?, ?it/s, now=None]\u001b[A\n",
      "chunk:  88%|████████████████████████████████████████████████████████▍       | 30/34 [00:00<00:00, 270.27it/s, now=None]\u001b[A\n",
      "chunk:   4%|██▌                                                        | 1/23 [2:11:02<48:02:51, 7862.32s/it, now=None]\u001b[A"
     ]
    },
    {
     "name": "stdout",
     "output_type": "stream",
     "text": [
      "MoviePy - Done.\n"
     ]
    },
    {
     "name": "stderr",
     "output_type": "stream",
     "text": [
      "chunk:   4%|██▌                                                        | 1/23 [2:11:02<48:03:03, 7862.89s/it, now=None]"
     ]
    },
    {
     "name": "stdout",
     "output_type": "stream",
     "text": [
      "MoviePy - Writing audio in Output\\Naruto_HD_Set_1_Disc_1-001\\Naruto_HD_Set_1_Disc_1-001_733000.mp3\n"
     ]
    },
    {
     "name": "stderr",
     "output_type": "stream",
     "text": [
      "\n",
      "chunk:   0%|                                                                          | 0/56 [00:00<?, ?it/s, now=None]\u001b[A\n",
      "chunk:  79%|██████████████████████████████████████████████████▎             | 44/56 [00:00<00:00, 435.65it/s, now=None]\u001b[A\n",
      "chunk:   4%|██▌                                                        | 1/23 [2:11:03<48:03:07, 7863.05s/it, now=None]\u001b[A"
     ]
    },
    {
     "name": "stdout",
     "output_type": "stream",
     "text": [
      "MoviePy - Done.\n"
     ]
    },
    {
     "name": "stderr",
     "output_type": "stream",
     "text": [
      "chunk:   4%|██▌                                                        | 1/23 [2:11:04<48:03:32, 7864.20s/it, now=None]"
     ]
    },
    {
     "name": "stdout",
     "output_type": "stream",
     "text": [
      "MoviePy - Writing audio in Output\\Naruto_HD_Set_1_Disc_1-001\\Naruto_HD_Set_1_Disc_1-001_735000.mp3\n"
     ]
    },
    {
     "name": "stderr",
     "output_type": "stream",
     "text": [
      "\n",
      "chunk:   0%|                                                                          | 0/56 [00:00<?, ?it/s, now=None]\u001b[A\n",
      "chunk:  79%|██████████████████████████████████████████████████▎             | 44/56 [00:00<00:00, 435.63it/s, now=None]\u001b[A\n",
      "chunk:   4%|██▌                                                        | 1/23 [2:11:04<48:03:36, 7864.37s/it, now=None]\u001b[A"
     ]
    },
    {
     "name": "stdout",
     "output_type": "stream",
     "text": [
      "MoviePy - Done.\n"
     ]
    },
    {
     "name": "stderr",
     "output_type": "stream",
     "text": [
      "chunk:   4%|██▌                                                        | 1/23 [2:11:05<48:03:58, 7865.39s/it, now=None]"
     ]
    },
    {
     "name": "stdout",
     "output_type": "stream",
     "text": [
      "MoviePy - Writing audio in Output\\Naruto_HD_Set_1_Disc_1-001\\Naruto_HD_Set_1_Disc_1-001_736500.mp3\n"
     ]
    },
    {
     "name": "stderr",
     "output_type": "stream",
     "text": [
      "\n",
      "chunk:   0%|                                                                          | 0/34 [00:00<?, ?it/s, now=None]\u001b[A\n",
      "chunk:   4%|██▌                                                        | 1/23 [2:11:05<48:04:01, 7865.51s/it, now=None]\u001b[A"
     ]
    },
    {
     "name": "stdout",
     "output_type": "stream",
     "text": [
      "MoviePy - Done.\n"
     ]
    },
    {
     "name": "stderr",
     "output_type": "stream",
     "text": [
      "chunk:   4%|██▌                                                        | 1/23 [2:11:06<48:04:13, 7866.06s/it, now=None]"
     ]
    },
    {
     "name": "stdout",
     "output_type": "stream",
     "text": [
      "MoviePy - Writing audio in Output\\Naruto_HD_Set_1_Disc_1-001\\Naruto_HD_Set_1_Disc_1-001_737500.mp3\n"
     ]
    },
    {
     "name": "stderr",
     "output_type": "stream",
     "text": [
      "\n",
      "chunk:   0%|                                                                          | 0/34 [00:00<?, ?it/s, now=None]\u001b[A\n",
      "chunk:   4%|██▌                                                        | 1/23 [2:11:06<48:04:16, 7866.19s/it, now=None]\u001b[A"
     ]
    },
    {
     "name": "stdout",
     "output_type": "stream",
     "text": [
      "MoviePy - Done.\n"
     ]
    },
    {
     "name": "stderr",
     "output_type": "stream",
     "text": [
      "chunk:   4%|██▌                                                        | 1/23 [2:11:06<48:04:28, 7866.77s/it, now=None]"
     ]
    },
    {
     "name": "stdout",
     "output_type": "stream",
     "text": [
      "MoviePy - Writing audio in Output\\Naruto_HD_Set_1_Disc_1-001\\Naruto_HD_Set_1_Disc_1-001_738500.mp3\n"
     ]
    },
    {
     "name": "stderr",
     "output_type": "stream",
     "text": [
      "\n",
      "chunk:   0%|                                                                          | 0/34 [00:00<?, ?it/s, now=None]\u001b[A\n",
      "chunk:  88%|████████████████████████████████████████████████████████▍       | 30/34 [00:00<00:00, 272.74it/s, now=None]\u001b[A\n",
      "chunk:   4%|██▌                                                        | 1/23 [2:11:06<48:04:32, 7866.91s/it, now=None]\u001b[A"
     ]
    },
    {
     "name": "stdout",
     "output_type": "stream",
     "text": [
      "MoviePy - Done.\n"
     ]
    },
    {
     "name": "stderr",
     "output_type": "stream",
     "text": [
      "chunk:   4%|██▌                                                        | 1/23 [2:11:07<48:04:45, 7867.51s/it, now=None]"
     ]
    },
    {
     "name": "stdout",
     "output_type": "stream",
     "text": [
      "MoviePy - Writing audio in Output\\Naruto_HD_Set_1_Disc_1-001\\Naruto_HD_Set_1_Disc_1-001_739500.mp3\n"
     ]
    },
    {
     "name": "stderr",
     "output_type": "stream",
     "text": [
      "\n",
      "chunk:   0%|                                                                          | 0/34 [00:00<?, ?it/s, now=None]\u001b[A\n",
      "chunk:   4%|██▌                                                        | 1/23 [2:11:07<48:04:47, 7867.63s/it, now=None]\u001b[A"
     ]
    },
    {
     "name": "stdout",
     "output_type": "stream",
     "text": [
      "MoviePy - Done.\n"
     ]
    },
    {
     "name": "stderr",
     "output_type": "stream",
     "text": [
      "chunk:   4%|██▌                                                        | 1/23 [2:11:08<48:05:01, 7868.27s/it, now=None]"
     ]
    },
    {
     "name": "stdout",
     "output_type": "stream",
     "text": [
      "MoviePy - Writing audio in Output\\Naruto_HD_Set_1_Disc_1-001\\Naruto_HD_Set_1_Disc_1-001_740500.mp3\n"
     ]
    },
    {
     "name": "stderr",
     "output_type": "stream",
     "text": [
      "\n",
      "chunk:   0%|                                                                          | 0/34 [00:00<?, ?it/s, now=None]\u001b[A\n",
      "chunk:  88%|████████████████████████████████████████████████████████▍       | 30/34 [00:00<00:00, 260.87it/s, now=None]\u001b[A\n",
      "chunk:   4%|██▌                                                        | 1/23 [2:11:08<48:05:05, 7868.42s/it, now=None]\u001b[A"
     ]
    },
    {
     "name": "stdout",
     "output_type": "stream",
     "text": [
      "MoviePy - Done.\n"
     ]
    },
    {
     "name": "stderr",
     "output_type": "stream",
     "text": [
      "chunk:   4%|██▌                                                        | 1/23 [2:11:09<48:05:18, 7869.03s/it, now=None]"
     ]
    },
    {
     "name": "stdout",
     "output_type": "stream",
     "text": [
      "MoviePy - Writing audio in Output\\Naruto_HD_Set_1_Disc_1-001\\Naruto_HD_Set_1_Disc_1-001_741500.mp3\n"
     ]
    },
    {
     "name": "stderr",
     "output_type": "stream",
     "text": [
      "\n",
      "chunk:   0%|                                                                          | 0/34 [00:00<?, ?it/s, now=None]\u001b[A\n",
      "chunk:   4%|██▌                                                        | 1/23 [2:11:09<48:05:21, 7869.15s/it, now=None]\u001b[A"
     ]
    },
    {
     "name": "stdout",
     "output_type": "stream",
     "text": [
      "MoviePy - Done.\n"
     ]
    },
    {
     "name": "stderr",
     "output_type": "stream",
     "text": [
      "chunk:   4%|██▌                                                        | 1/23 [2:11:09<48:05:34, 7869.77s/it, now=None]"
     ]
    },
    {
     "name": "stdout",
     "output_type": "stream",
     "text": [
      "MoviePy - Writing audio in Output\\Naruto_HD_Set_1_Disc_1-001\\Naruto_HD_Set_1_Disc_1-001_742500.mp3\n"
     ]
    },
    {
     "name": "stderr",
     "output_type": "stream",
     "text": [
      "\n",
      "chunk:   0%|                                                                          | 0/34 [00:00<?, ?it/s, now=None]\u001b[A\n",
      "chunk:  94%|████████████████████████████████████████████████████████████▏   | 32/34 [00:00<00:00, 283.15it/s, now=None]\u001b[A\n",
      "chunk:   4%|██▌                                                        | 1/23 [2:11:09<48:05:38, 7869.92s/it, now=None]\u001b[A"
     ]
    },
    {
     "name": "stdout",
     "output_type": "stream",
     "text": [
      "MoviePy - Done.\n"
     ]
    },
    {
     "name": "stderr",
     "output_type": "stream",
     "text": [
      "chunk:   4%|██▌                                                        | 1/23 [2:11:10<48:05:51, 7870.53s/it, now=None]"
     ]
    },
    {
     "name": "stdout",
     "output_type": "stream",
     "text": [
      "MoviePy - Writing audio in Output\\Naruto_HD_Set_1_Disc_1-001\\Naruto_HD_Set_1_Disc_1-001_743500.mp3\n"
     ]
    },
    {
     "name": "stderr",
     "output_type": "stream",
     "text": [
      "\n",
      "chunk:   0%|                                                                          | 0/34 [00:00<?, ?it/s, now=None]\u001b[A\n",
      "chunk:   4%|██▌                                                        | 1/23 [2:11:10<48:05:54, 7870.65s/it, now=None]\u001b[A"
     ]
    },
    {
     "name": "stdout",
     "output_type": "stream",
     "text": [
      "MoviePy - Done.\n"
     ]
    },
    {
     "name": "stderr",
     "output_type": "stream",
     "text": [
      "chunk:   4%|██▌                                                        | 1/23 [2:11:11<48:06:07, 7871.26s/it, now=None]"
     ]
    },
    {
     "name": "stdout",
     "output_type": "stream",
     "text": [
      "MoviePy - Writing audio in Output\\Naruto_HD_Set_1_Disc_1-001\\Naruto_HD_Set_1_Disc_1-001_744500.mp3\n"
     ]
    },
    {
     "name": "stderr",
     "output_type": "stream",
     "text": [
      "\n",
      "chunk:   0%|                                                                          | 0/34 [00:00<?, ?it/s, now=None]\u001b[A\n",
      "chunk:   4%|██▌                                                        | 1/23 [2:11:11<48:06:10, 7871.38s/it, now=None]\u001b[A"
     ]
    },
    {
     "name": "stdout",
     "output_type": "stream",
     "text": [
      "MoviePy - Done.\n"
     ]
    },
    {
     "name": "stderr",
     "output_type": "stream",
     "text": [
      "chunk:   4%|██▌                                                        | 1/23 [2:11:11<48:06:22, 7871.93s/it, now=None]"
     ]
    },
    {
     "name": "stdout",
     "output_type": "stream",
     "text": [
      "MoviePy - Writing audio in Output\\Naruto_HD_Set_1_Disc_1-001\\Naruto_HD_Set_1_Disc_1-001_745500.mp3\n"
     ]
    },
    {
     "name": "stderr",
     "output_type": "stream",
     "text": [
      "\n",
      "chunk:   0%|                                                                          | 0/34 [00:00<?, ?it/s, now=None]\u001b[A\n",
      "chunk:  88%|████████████████████████████████████████████████████████▍       | 30/34 [00:00<00:00, 260.87it/s, now=None]\u001b[A\n",
      "chunk:   4%|██▌                                                        | 1/23 [2:11:12<48:06:25, 7872.08s/it, now=None]\u001b[A"
     ]
    },
    {
     "name": "stdout",
     "output_type": "stream",
     "text": [
      "MoviePy - Done.\n"
     ]
    },
    {
     "name": "stderr",
     "output_type": "stream",
     "text": [
      "chunk:   4%|██▌                                                        | 1/23 [2:11:12<48:06:38, 7872.65s/it, now=None]"
     ]
    },
    {
     "name": "stdout",
     "output_type": "stream",
     "text": [
      "MoviePy - Writing audio in Output\\Naruto_HD_Set_1_Disc_1-001\\Naruto_HD_Set_1_Disc_1-001_746500.mp3\n"
     ]
    },
    {
     "name": "stderr",
     "output_type": "stream",
     "text": [
      "\n",
      "chunk:   0%|                                                                          | 0/34 [00:00<?, ?it/s, now=None]\u001b[A\n",
      "chunk:   4%|██▌                                                        | 1/23 [2:11:12<48:06:40, 7872.77s/it, now=None]\u001b[A"
     ]
    },
    {
     "name": "stdout",
     "output_type": "stream",
     "text": [
      "MoviePy - Done.\n"
     ]
    },
    {
     "name": "stderr",
     "output_type": "stream",
     "text": [
      "chunk:   4%|██▌                                                        | 1/23 [2:11:13<48:06:54, 7873.37s/it, now=None]"
     ]
    },
    {
     "name": "stdout",
     "output_type": "stream",
     "text": [
      "MoviePy - Writing audio in Output\\Naruto_HD_Set_1_Disc_1-001\\Naruto_HD_Set_1_Disc_1-001_748000.mp3\n"
     ]
    },
    {
     "name": "stderr",
     "output_type": "stream",
     "text": [
      "\n",
      "chunk:   0%|                                                                          | 0/56 [00:00<?, ?it/s, now=None]\u001b[A\n",
      "chunk:  54%|██████████████████████████████████▎                             | 30/56 [00:00<00:00, 270.26it/s, now=None]\u001b[A\n",
      "chunk:   4%|██▌                                                        | 1/23 [2:11:13<48:06:57, 7873.53s/it, now=None]\u001b[A"
     ]
    },
    {
     "name": "stdout",
     "output_type": "stream",
     "text": [
      "MoviePy - Done.\n"
     ]
    },
    {
     "name": "stderr",
     "output_type": "stream",
     "text": [
      "chunk:   4%|██▌                                                        | 1/23 [2:11:14<48:07:21, 7874.61s/it, now=None]"
     ]
    },
    {
     "name": "stdout",
     "output_type": "stream",
     "text": [
      "MoviePy - Writing audio in Output\\Naruto_HD_Set_1_Disc_1-001\\Naruto_HD_Set_1_Disc_1-001_749500.mp3\n"
     ]
    },
    {
     "name": "stderr",
     "output_type": "stream",
     "text": [
      "\n",
      "chunk:   0%|                                                                          | 0/34 [00:00<?, ?it/s, now=None]\u001b[A\n",
      "chunk:  88%|████████████████████████████████████████████████████████▍       | 30/34 [00:00<00:00, 269.25it/s, now=None]\u001b[A\n",
      "chunk:   4%|██▌                                                        | 1/23 [2:11:14<48:07:24, 7874.76s/it, now=None]\u001b[A"
     ]
    },
    {
     "name": "stdout",
     "output_type": "stream",
     "text": [
      "MoviePy - Done.\n"
     ]
    },
    {
     "name": "stderr",
     "output_type": "stream",
     "text": [
      "chunk:   4%|██▌                                                        | 1/23 [2:11:15<48:07:38, 7875.40s/it, now=None]"
     ]
    },
    {
     "name": "stdout",
     "output_type": "stream",
     "text": [
      "MoviePy - Writing audio in Output\\Naruto_HD_Set_1_Disc_1-001\\Naruto_HD_Set_1_Disc_1-001_750500.mp3\n"
     ]
    },
    {
     "name": "stderr",
     "output_type": "stream",
     "text": [
      "\n",
      "chunk:   0%|                                                                          | 0/34 [00:00<?, ?it/s, now=None]\u001b[A\n",
      "chunk:   4%|██▌                                                        | 1/23 [2:11:15<48:07:41, 7875.53s/it, now=None]\u001b[A"
     ]
    },
    {
     "name": "stdout",
     "output_type": "stream",
     "text": [
      "MoviePy - Done.\n"
     ]
    },
    {
     "name": "stderr",
     "output_type": "stream",
     "text": [
      "chunk:   4%|██▌                                                        | 1/23 [2:11:16<48:07:54, 7876.12s/it, now=None]"
     ]
    },
    {
     "name": "stdout",
     "output_type": "stream",
     "text": [
      "MoviePy - Writing audio in Output\\Naruto_HD_Set_1_Disc_1-001\\Naruto_HD_Set_1_Disc_1-001_751500.mp3\n"
     ]
    },
    {
     "name": "stderr",
     "output_type": "stream",
     "text": [
      "\n",
      "chunk:   0%|                                                                          | 0/34 [00:00<?, ?it/s, now=None]\u001b[A\n",
      "chunk:  88%|████████████████████████████████████████████████████████▍       | 30/34 [00:00<00:00, 299.94it/s, now=None]\u001b[A\n",
      "chunk:   4%|██▌                                                        | 1/23 [2:11:16<48:07:57, 7876.26s/it, now=None]\u001b[A"
     ]
    },
    {
     "name": "stdout",
     "output_type": "stream",
     "text": [
      "MoviePy - Done.\n"
     ]
    },
    {
     "name": "stderr",
     "output_type": "stream",
     "text": [
      "chunk:   4%|██▌                                                        | 1/23 [2:11:16<48:08:09, 7876.81s/it, now=None]"
     ]
    },
    {
     "name": "stdout",
     "output_type": "stream",
     "text": [
      "MoviePy - Writing audio in Output\\Naruto_HD_Set_1_Disc_1-001\\Naruto_HD_Set_1_Disc_1-001_752500.mp3\n"
     ]
    },
    {
     "name": "stderr",
     "output_type": "stream",
     "text": [
      "\n",
      "chunk:   0%|                                                                          | 0/34 [00:00<?, ?it/s, now=None]\u001b[A\n",
      "chunk:  88%|████████████████████████████████████████████████████████▍       | 30/34 [00:00<00:00, 252.10it/s, now=None]\u001b[A\n",
      "chunk:   4%|██▌                                                        | 1/23 [2:11:16<48:08:13, 7876.96s/it, now=None]\u001b[A"
     ]
    },
    {
     "name": "stdout",
     "output_type": "stream",
     "text": [
      "MoviePy - Done.\n"
     ]
    },
    {
     "name": "stderr",
     "output_type": "stream",
     "text": [
      "chunk:   4%|██▌                                                        | 1/23 [2:11:17<48:08:25, 7877.54s/it, now=None]"
     ]
    },
    {
     "name": "stdout",
     "output_type": "stream",
     "text": [
      "MoviePy - Writing audio in Output\\Naruto_HD_Set_1_Disc_1-001\\Naruto_HD_Set_1_Disc_1-001_753500.mp3\n"
     ]
    },
    {
     "name": "stderr",
     "output_type": "stream",
     "text": [
      "\n",
      "chunk:   0%|                                                                          | 0/34 [00:00<?, ?it/s, now=None]\u001b[A\n",
      "chunk:   4%|██▌                                                        | 1/23 [2:11:17<48:08:28, 7877.67s/it, now=None]\u001b[A"
     ]
    },
    {
     "name": "stdout",
     "output_type": "stream",
     "text": [
      "MoviePy - Done.\n"
     ]
    },
    {
     "name": "stderr",
     "output_type": "stream",
     "text": [
      "chunk:   4%|██▌                                                        | 1/23 [2:11:18<48:08:42, 7878.30s/it, now=None]"
     ]
    },
    {
     "name": "stdout",
     "output_type": "stream",
     "text": [
      "MoviePy - Writing audio in Output\\Naruto_HD_Set_1_Disc_1-001\\Naruto_HD_Set_1_Disc_1-001_754500.mp3\n"
     ]
    },
    {
     "name": "stderr",
     "output_type": "stream",
     "text": [
      "\n",
      "chunk:   0%|                                                                          | 0/34 [00:00<?, ?it/s, now=None]\u001b[A\n",
      "chunk:  88%|████████████████████████████████████████████████████████▍       | 30/34 [00:00<00:00, 263.16it/s, now=None]\u001b[A\n",
      "chunk:   4%|██▌                                                        | 1/23 [2:11:18<48:08:45, 7878.45s/it, now=None]\u001b[A"
     ]
    },
    {
     "name": "stdout",
     "output_type": "stream",
     "text": [
      "MoviePy - Done.\n"
     ]
    },
    {
     "name": "stderr",
     "output_type": "stream",
     "text": [
      "chunk:   4%|██▌                                                        | 1/23 [2:11:19<48:09:00, 7879.09s/it, now=None]"
     ]
    },
    {
     "name": "stdout",
     "output_type": "stream",
     "text": [
      "MoviePy - Writing audio in Output\\Naruto_HD_Set_1_Disc_1-001\\Naruto_HD_Set_1_Disc_1-001_755500.mp3\n"
     ]
    },
    {
     "name": "stderr",
     "output_type": "stream",
     "text": [
      "\n",
      "chunk:   0%|                                                                          | 0/34 [00:00<?, ?it/s, now=None]\u001b[A\n",
      "chunk:   4%|██▌                                                        | 1/23 [2:11:19<48:09:02, 7879.21s/it, now=None]\u001b[A"
     ]
    },
    {
     "name": "stdout",
     "output_type": "stream",
     "text": [
      "MoviePy - Done.\n"
     ]
    },
    {
     "name": "stderr",
     "output_type": "stream",
     "text": [
      "chunk:   4%|██▌                                                        | 1/23 [2:11:19<48:09:16, 7879.84s/it, now=None]"
     ]
    },
    {
     "name": "stdout",
     "output_type": "stream",
     "text": [
      "MoviePy - Writing audio in Output\\Naruto_HD_Set_1_Disc_1-001\\Naruto_HD_Set_1_Disc_1-001_756500.mp3\n"
     ]
    },
    {
     "name": "stderr",
     "output_type": "stream",
     "text": [
      "\n",
      "chunk:   0%|                                                                          | 0/34 [00:00<?, ?it/s, now=None]\u001b[A\n",
      "chunk:  88%|████████████████████████████████████████████████████████▍       | 30/34 [00:00<00:00, 265.48it/s, now=None]\u001b[A\n",
      "chunk:   4%|██▌                                                        | 1/23 [2:11:19<48:09:19, 7879.99s/it, now=None]\u001b[A"
     ]
    },
    {
     "name": "stdout",
     "output_type": "stream",
     "text": [
      "MoviePy - Done.\n"
     ]
    },
    {
     "name": "stderr",
     "output_type": "stream",
     "text": [
      "chunk:   4%|██▌                                                        | 1/23 [2:11:20<48:09:32, 7880.57s/it, now=None]"
     ]
    },
    {
     "name": "stdout",
     "output_type": "stream",
     "text": [
      "MoviePy - Writing audio in Output\\Naruto_HD_Set_1_Disc_1-001\\Naruto_HD_Set_1_Disc_1-001_757500.mp3\n"
     ]
    },
    {
     "name": "stderr",
     "output_type": "stream",
     "text": [
      "\n",
      "chunk:   0%|                                                                          | 0/34 [00:00<?, ?it/s, now=None]\u001b[A\n",
      "chunk:   4%|██▌                                                        | 1/23 [2:11:20<48:09:35, 7880.69s/it, now=None]\u001b[A"
     ]
    },
    {
     "name": "stdout",
     "output_type": "stream",
     "text": [
      "MoviePy - Done.\n"
     ]
    },
    {
     "name": "stderr",
     "output_type": "stream",
     "text": [
      "chunk:   4%|██▌                                                        | 1/23 [2:11:22<48:10:08, 7882.19s/it, now=None]"
     ]
    },
    {
     "name": "stdout",
     "output_type": "stream",
     "text": [
      "MoviePy - Writing audio in Output\\Naruto_HD_Set_1_Disc_1-001\\Naruto_HD_Set_1_Disc_1-001_761000.mp3\n"
     ]
    },
    {
     "name": "stderr",
     "output_type": "stream",
     "text": [
      "\n",
      "chunk:   0%|                                                                          | 0/56 [00:00<?, ?it/s, now=None]\u001b[A\n",
      "chunk:  68%|███████████████████████████████████████████▍                    | 38/56 [00:00<00:00, 376.25it/s, now=None]\u001b[A\n",
      "chunk:   4%|██▌                                                        | 1/23 [2:11:22<48:10:11, 7882.36s/it, now=None]\u001b[A"
     ]
    },
    {
     "name": "stdout",
     "output_type": "stream",
     "text": [
      "MoviePy - Done.\n"
     ]
    },
    {
     "name": "stderr",
     "output_type": "stream",
     "text": [
      "chunk:   4%|██▌                                                        | 1/23 [2:11:23<48:10:33, 7883.36s/it, now=None]"
     ]
    },
    {
     "name": "stdout",
     "output_type": "stream",
     "text": [
      "MoviePy - Writing audio in Output\\Naruto_HD_Set_1_Disc_1-001\\Naruto_HD_Set_1_Disc_1-001_762500.mp3\n"
     ]
    },
    {
     "name": "stderr",
     "output_type": "stream",
     "text": [
      "\n",
      "chunk:   0%|                                                                          | 0/34 [00:00<?, ?it/s, now=None]\u001b[A\n",
      "chunk:   4%|██▌                                                        | 1/23 [2:11:23<48:10:36, 7883.48s/it, now=None]\u001b[A"
     ]
    },
    {
     "name": "stdout",
     "output_type": "stream",
     "text": [
      "MoviePy - Done.\n"
     ]
    },
    {
     "name": "stderr",
     "output_type": "stream",
     "text": [
      "chunk:   4%|██▌                                                        | 1/23 [2:11:24<48:10:49, 7884.06s/it, now=None]"
     ]
    },
    {
     "name": "stdout",
     "output_type": "stream",
     "text": [
      "MoviePy - Writing audio in Output\\Naruto_HD_Set_1_Disc_1-001\\Naruto_HD_Set_1_Disc_1-001_763500.mp3\n"
     ]
    },
    {
     "name": "stderr",
     "output_type": "stream",
     "text": [
      "\n",
      "chunk:   0%|                                                                          | 0/34 [00:00<?, ?it/s, now=None]\u001b[A\n",
      "chunk:   4%|██▌                                                        | 1/23 [2:11:24<48:10:52, 7884.19s/it, now=None]\u001b[A"
     ]
    },
    {
     "name": "stdout",
     "output_type": "stream",
     "text": [
      "MoviePy - Done.\n"
     ]
    },
    {
     "name": "stderr",
     "output_type": "stream",
     "text": [
      "chunk:   4%|██▌                                                        | 1/23 [2:11:24<48:11:05, 7884.78s/it, now=None]"
     ]
    },
    {
     "name": "stdout",
     "output_type": "stream",
     "text": [
      "MoviePy - Writing audio in Output\\Naruto_HD_Set_1_Disc_1-001\\Naruto_HD_Set_1_Disc_1-001_764500.mp3\n"
     ]
    },
    {
     "name": "stderr",
     "output_type": "stream",
     "text": [
      "\n",
      "chunk:   0%|                                                                          | 0/34 [00:00<?, ?it/s, now=None]\u001b[A\n",
      "chunk:  88%|████████████████████████████████████████████████████████▍       | 30/34 [00:00<00:00, 265.48it/s, now=None]\u001b[A\n",
      "chunk:   4%|██▌                                                        | 1/23 [2:11:24<48:11:08, 7884.93s/it, now=None]\u001b[A"
     ]
    },
    {
     "name": "stdout",
     "output_type": "stream",
     "text": [
      "MoviePy - Done.\n"
     ]
    },
    {
     "name": "stderr",
     "output_type": "stream",
     "text": [
      "chunk:   4%|██▌                                                        | 1/23 [2:11:25<48:11:21, 7885.52s/it, now=None]"
     ]
    },
    {
     "name": "stdout",
     "output_type": "stream",
     "text": [
      "MoviePy - Writing audio in Output\\Naruto_HD_Set_1_Disc_1-001\\Naruto_HD_Set_1_Disc_1-001_766000.mp3\n"
     ]
    },
    {
     "name": "stderr",
     "output_type": "stream",
     "text": [
      "\n",
      "chunk:   0%|                                                                          | 0/56 [00:00<?, ?it/s, now=None]\u001b[A\n",
      "chunk:  71%|█████████████████████████████████████████████▋                  | 40/56 [00:00<00:00, 399.99it/s, now=None]\u001b[A\n",
      "chunk:   4%|██▌                                                        | 1/23 [2:11:25<48:11:25, 7885.69s/it, now=None]\u001b[A"
     ]
    },
    {
     "name": "stdout",
     "output_type": "stream",
     "text": [
      "MoviePy - Done.\n"
     ]
    },
    {
     "name": "stderr",
     "output_type": "stream",
     "text": [
      "chunk:   4%|██▌                                                        | 1/23 [2:11:26<48:11:48, 7886.76s/it, now=None]"
     ]
    },
    {
     "name": "stdout",
     "output_type": "stream",
     "text": [
      "MoviePy - Writing audio in Output\\Naruto_HD_Set_1_Disc_1-001\\Naruto_HD_Set_1_Disc_1-001_767500.mp3\n"
     ]
    },
    {
     "name": "stderr",
     "output_type": "stream",
     "text": [
      "\n",
      "chunk:   0%|                                                                          | 0/34 [00:00<?, ?it/s, now=None]\u001b[A\n",
      "chunk:   4%|██▌                                                        | 1/23 [2:11:26<48:11:51, 7886.88s/it, now=None]\u001b[A"
     ]
    },
    {
     "name": "stdout",
     "output_type": "stream",
     "text": [
      "MoviePy - Done.\n"
     ]
    },
    {
     "name": "stderr",
     "output_type": "stream",
     "text": [
      "chunk:   4%|██▌                                                        | 1/23 [2:11:27<48:12:04, 7887.49s/it, now=None]"
     ]
    },
    {
     "name": "stdout",
     "output_type": "stream",
     "text": [
      "MoviePy - Writing audio in Output\\Naruto_HD_Set_1_Disc_1-001\\Naruto_HD_Set_1_Disc_1-001_769000.mp3\n"
     ]
    },
    {
     "name": "stderr",
     "output_type": "stream",
     "text": [
      "\n",
      "chunk:   0%|                                                                          | 0/56 [00:00<?, ?it/s, now=None]\u001b[A\n",
      "chunk:  54%|██████████████████████████████████▎                             | 30/56 [00:00<00:00, 256.42it/s, now=None]\u001b[A\n",
      "chunk:   4%|██▌                                                        | 1/23 [2:11:27<48:12:08, 7887.66s/it, now=None]\u001b[A"
     ]
    },
    {
     "name": "stdout",
     "output_type": "stream",
     "text": [
      "MoviePy - Done.\n"
     ]
    },
    {
     "name": "stderr",
     "output_type": "stream",
     "text": [
      "chunk:   4%|██▌                                                        | 1/23 [2:11:28<48:12:32, 7888.73s/it, now=None]"
     ]
    },
    {
     "name": "stdout",
     "output_type": "stream",
     "text": [
      "MoviePy - Writing audio in Output\\Naruto_HD_Set_1_Disc_1-001\\Naruto_HD_Set_1_Disc_1-001_770500.mp3\n"
     ]
    },
    {
     "name": "stderr",
     "output_type": "stream",
     "text": [
      "\n",
      "chunk:   0%|                                                                          | 0/34 [00:00<?, ?it/s, now=None]\u001b[A\n",
      "chunk: 100%|████████████████████████████████████████████████████████████████| 34/34 [00:00<00:00, 288.13it/s, now=None]\u001b[A\n",
      "chunk:   4%|██▌                                                        | 1/23 [2:11:28<48:12:35, 7888.88s/it, now=None]\u001b[A"
     ]
    },
    {
     "name": "stdout",
     "output_type": "stream",
     "text": [
      "MoviePy - Done.\n"
     ]
    },
    {
     "name": "stderr",
     "output_type": "stream",
     "text": [
      "chunk:   4%|██▌                                                        | 1/23 [2:11:29<48:12:48, 7889.48s/it, now=None]"
     ]
    },
    {
     "name": "stdout",
     "output_type": "stream",
     "text": [
      "MoviePy - Writing audio in Output\\Naruto_HD_Set_1_Disc_1-001\\Naruto_HD_Set_1_Disc_1-001_772000.mp3\n"
     ]
    },
    {
     "name": "stderr",
     "output_type": "stream",
     "text": [
      "\n",
      "chunk:   0%|                                                                          | 0/56 [00:00<?, ?it/s, now=None]\u001b[A\n",
      "chunk:  79%|██████████████████████████████████████████████████▎             | 44/56 [00:00<00:00, 439.99it/s, now=None]\u001b[A\n",
      "chunk:   4%|██▌                                                        | 1/23 [2:11:29<48:12:51, 7889.63s/it, now=None]\u001b[A"
     ]
    },
    {
     "name": "stdout",
     "output_type": "stream",
     "text": [
      "MoviePy - Done.\n"
     ]
    },
    {
     "name": "stderr",
     "output_type": "stream",
     "text": [
      "chunk:   4%|██▌                                                        | 1/23 [2:11:30<48:13:16, 7890.75s/it, now=None]"
     ]
    },
    {
     "name": "stdout",
     "output_type": "stream",
     "text": [
      "MoviePy - Writing audio in Output\\Naruto_HD_Set_1_Disc_1-001\\Naruto_HD_Set_1_Disc_1-001_773500.mp3\n"
     ]
    },
    {
     "name": "stderr",
     "output_type": "stream",
     "text": [
      "\n",
      "chunk:   0%|                                                                          | 0/34 [00:00<?, ?it/s, now=None]\u001b[A\n",
      "chunk:  88%|████████████████████████████████████████████████████████▍       | 30/34 [00:00<00:00, 252.10it/s, now=None]\u001b[A\n",
      "chunk:   4%|██▌                                                        | 1/23 [2:11:30<48:13:19, 7890.90s/it, now=None]\u001b[A"
     ]
    },
    {
     "name": "stdout",
     "output_type": "stream",
     "text": [
      "MoviePy - Done.\n"
     ]
    },
    {
     "name": "stderr",
     "output_type": "stream",
     "text": [
      "chunk:   4%|██▌                                                        | 1/23 [2:11:31<48:13:34, 7891.58s/it, now=None]"
     ]
    },
    {
     "name": "stdout",
     "output_type": "stream",
     "text": [
      "MoviePy - Writing audio in Output\\Naruto_HD_Set_1_Disc_1-001\\Naruto_HD_Set_1_Disc_1-001_774500.mp3\n"
     ]
    },
    {
     "name": "stderr",
     "output_type": "stream",
     "text": [
      "\n",
      "chunk:   0%|                                                                          | 0/34 [00:00<?, ?it/s, now=None]\u001b[A\n",
      "chunk:   4%|██▌                                                        | 1/23 [2:11:31<48:13:37, 7891.70s/it, now=None]\u001b[A"
     ]
    },
    {
     "name": "stdout",
     "output_type": "stream",
     "text": [
      "MoviePy - Done.\n"
     ]
    },
    {
     "name": "stderr",
     "output_type": "stream",
     "text": [
      "chunk:   4%|██▌                                                        | 1/23 [2:11:32<48:13:52, 7892.38s/it, now=None]"
     ]
    },
    {
     "name": "stdout",
     "output_type": "stream",
     "text": [
      "MoviePy - Writing audio in Output\\Naruto_HD_Set_1_Disc_1-001\\Naruto_HD_Set_1_Disc_1-001_775500.mp3\n"
     ]
    },
    {
     "name": "stderr",
     "output_type": "stream",
     "text": [
      "\n",
      "chunk:   0%|                                                                          | 0/34 [00:00<?, ?it/s, now=None]\u001b[A\n",
      "chunk:  88%|████████████████████████████████████████████████████████▍       | 30/34 [00:00<00:00, 252.10it/s, now=None]\u001b[A\n",
      "chunk:   4%|██▌                                                        | 1/23 [2:11:32<48:13:55, 7892.53s/it, now=None]\u001b[A"
     ]
    },
    {
     "name": "stdout",
     "output_type": "stream",
     "text": [
      "MoviePy - Done.\n"
     ]
    },
    {
     "name": "stderr",
     "output_type": "stream",
     "text": [
      "chunk:   4%|██▌                                                        | 1/23 [2:11:33<48:14:08, 7893.13s/it, now=None]"
     ]
    },
    {
     "name": "stdout",
     "output_type": "stream",
     "text": [
      "MoviePy - Writing audio in Output\\Naruto_HD_Set_1_Disc_1-001\\Naruto_HD_Set_1_Disc_1-001_776500.mp3\n"
     ]
    },
    {
     "name": "stderr",
     "output_type": "stream",
     "text": [
      "\n",
      "chunk:   0%|                                                                          | 0/34 [00:00<?, ?it/s, now=None]\u001b[A\n",
      "chunk: 100%|████████████████████████████████████████████████████████████████| 34/34 [00:00<00:00, 340.00it/s, now=None]\u001b[A\n",
      "chunk:   4%|██▌                                                        | 1/23 [2:11:33<48:14:11, 7893.26s/it, now=None]\u001b[A"
     ]
    },
    {
     "name": "stdout",
     "output_type": "stream",
     "text": [
      "MoviePy - Done.\n"
     ]
    },
    {
     "name": "stderr",
     "output_type": "stream",
     "text": [
      "chunk:   4%|██▌                                                        | 1/23 [2:11:33<48:14:25, 7893.87s/it, now=None]"
     ]
    },
    {
     "name": "stdout",
     "output_type": "stream",
     "text": [
      "MoviePy - Writing audio in Output\\Naruto_HD_Set_1_Disc_1-001\\Naruto_HD_Set_1_Disc_1-001_777500.mp3\n"
     ]
    },
    {
     "name": "stderr",
     "output_type": "stream",
     "text": [
      "\n",
      "chunk:   0%|                                                                          | 0/34 [00:00<?, ?it/s, now=None]\u001b[A\n",
      "chunk:  94%|████████████████████████████████████████████████████████████▏   | 32/34 [00:00<00:00, 273.51it/s, now=None]\u001b[A\n",
      "chunk:   4%|██▌                                                        | 1/23 [2:11:34<48:14:28, 7894.02s/it, now=None]\u001b[A"
     ]
    },
    {
     "name": "stdout",
     "output_type": "stream",
     "text": [
      "MoviePy - Done.\n"
     ]
    },
    {
     "name": "stderr",
     "output_type": "stream",
     "text": [
      "chunk:   4%|██▌                                                        | 1/23 [2:11:35<48:14:52, 7895.13s/it, now=None]"
     ]
    },
    {
     "name": "stdout",
     "output_type": "stream",
     "text": [
      "MoviePy - Writing audio in Output\\Naruto_HD_Set_1_Disc_1-001\\Naruto_HD_Set_1_Disc_1-001_780000.mp3\n"
     ]
    },
    {
     "name": "stderr",
     "output_type": "stream",
     "text": [
      "\n",
      "chunk:   0%|                                                                          | 0/56 [00:00<?, ?it/s, now=None]\u001b[A\n",
      "chunk:  59%|█████████████████████████████████████▋                          | 33/56 [00:00<00:00, 329.99it/s, now=None]\u001b[A\n",
      "chunk:   4%|██▌                                                        | 1/23 [2:11:35<48:14:56, 7895.30s/it, now=None]\u001b[A"
     ]
    },
    {
     "name": "stdout",
     "output_type": "stream",
     "text": [
      "MoviePy - Done.\n"
     ]
    },
    {
     "name": "stderr",
     "output_type": "stream",
     "text": [
      "chunk:   4%|██▌                                                        | 1/23 [2:11:36<48:15:20, 7896.37s/it, now=None]"
     ]
    },
    {
     "name": "stdout",
     "output_type": "stream",
     "text": [
      "MoviePy - Writing audio in Output\\Naruto_HD_Set_1_Disc_1-001\\Naruto_HD_Set_1_Disc_1-001_782000.mp3\n"
     ]
    },
    {
     "name": "stderr",
     "output_type": "stream",
     "text": [
      "\n",
      "chunk:   0%|                                                                          | 0/56 [00:00<?, ?it/s, now=None]\u001b[A\n",
      "chunk:  79%|██████████████████████████████████████████████████▎             | 44/56 [00:00<00:00, 354.84it/s, now=None]\u001b[A\n",
      "chunk:   4%|██▌                                                        | 1/23 [2:11:36<48:15:23, 7896.53s/it, now=None]\u001b[A"
     ]
    },
    {
     "name": "stdout",
     "output_type": "stream",
     "text": [
      "MoviePy - Done.\n"
     ]
    },
    {
     "name": "stderr",
     "output_type": "stream",
     "text": [
      "chunk:   4%|██▌                                                        | 1/23 [2:11:37<48:15:47, 7897.62s/it, now=None]"
     ]
    },
    {
     "name": "stdout",
     "output_type": "stream",
     "text": [
      "MoviePy - Writing audio in Output\\Naruto_HD_Set_1_Disc_1-001\\Naruto_HD_Set_1_Disc_1-001_784000.mp3\n"
     ]
    },
    {
     "name": "stderr",
     "output_type": "stream",
     "text": [
      "\n",
      "chunk:   0%|                                                                          | 0/56 [00:00<?, ?it/s, now=None]\u001b[A\n",
      "chunk:  79%|██████████████████████████████████████████████████▎             | 44/56 [00:00<00:00, 435.66it/s, now=None]\u001b[A\n",
      "chunk:   4%|██▌                                                        | 1/23 [2:11:37<48:15:51, 7897.79s/it, now=None]\u001b[A"
     ]
    },
    {
     "name": "stdout",
     "output_type": "stream",
     "text": [
      "MoviePy - Done.\n"
     ]
    },
    {
     "name": "stderr",
     "output_type": "stream",
     "text": [
      "chunk:   4%|██▌                                                        | 1/23 [2:11:38<48:16:14, 7898.85s/it, now=None]"
     ]
    },
    {
     "name": "stdout",
     "output_type": "stream",
     "text": [
      "MoviePy - Writing audio in Output\\Naruto_HD_Set_1_Disc_1-001\\Naruto_HD_Set_1_Disc_1-001_785500.mp3\n"
     ]
    },
    {
     "name": "stderr",
     "output_type": "stream",
     "text": [
      "\n",
      "chunk:   0%|                                                                          | 0/34 [00:00<?, ?it/s, now=None]\u001b[A\n",
      "chunk:   4%|██▌                                                        | 1/23 [2:11:38<48:16:17, 7898.99s/it, now=None]\u001b[A"
     ]
    },
    {
     "name": "stdout",
     "output_type": "stream",
     "text": [
      "MoviePy - Done.\n"
     ]
    },
    {
     "name": "stderr",
     "output_type": "stream",
     "text": [
      "chunk:   4%|██▌                                                        | 1/23 [2:11:39<48:16:31, 7899.63s/it, now=None]"
     ]
    },
    {
     "name": "stdout",
     "output_type": "stream",
     "text": [
      "MoviePy - Writing audio in Output\\Naruto_HD_Set_1_Disc_1-001\\Naruto_HD_Set_1_Disc_1-001_786500.mp3\n"
     ]
    },
    {
     "name": "stderr",
     "output_type": "stream",
     "text": [
      "\n",
      "chunk:   0%|                                                                          | 0/34 [00:00<?, ?it/s, now=None]\u001b[A\n",
      "chunk: 100%|████████████████████████████████████████████████████████████████| 34/34 [00:00<00:00, 298.25it/s, now=None]\u001b[A\n",
      "chunk:   4%|██▌                                                        | 1/23 [2:11:39<48:16:35, 7899.77s/it, now=None]\u001b[A"
     ]
    },
    {
     "name": "stdout",
     "output_type": "stream",
     "text": [
      "MoviePy - Done.\n"
     ]
    },
    {
     "name": "stderr",
     "output_type": "stream",
     "text": [
      "chunk:   4%|██▌                                                        | 1/23 [2:11:40<48:16:48, 7900.40s/it, now=None]"
     ]
    },
    {
     "name": "stdout",
     "output_type": "stream",
     "text": [
      "MoviePy - Writing audio in Output\\Naruto_HD_Set_1_Disc_1-001\\Naruto_HD_Set_1_Disc_1-001_787500.mp3\n"
     ]
    },
    {
     "name": "stderr",
     "output_type": "stream",
     "text": [
      "\n",
      "chunk:   0%|                                                                          | 0/34 [00:00<?, ?it/s, now=None]\u001b[A\n",
      "chunk:   4%|██▌                                                        | 1/23 [2:11:40<48:16:51, 7900.53s/it, now=None]\u001b[A"
     ]
    },
    {
     "name": "stdout",
     "output_type": "stream",
     "text": [
      "MoviePy - Done.\n"
     ]
    },
    {
     "name": "stderr",
     "output_type": "stream",
     "text": [
      "chunk:   4%|██▌                                                        | 1/23 [2:11:41<48:17:04, 7901.12s/it, now=None]"
     ]
    },
    {
     "name": "stdout",
     "output_type": "stream",
     "text": [
      "MoviePy - Writing audio in Output\\Naruto_HD_Set_1_Disc_1-001\\Naruto_HD_Set_1_Disc_1-001_788500.mp3\n"
     ]
    },
    {
     "name": "stderr",
     "output_type": "stream",
     "text": [
      "\n",
      "chunk:   0%|                                                                          | 0/34 [00:00<?, ?it/s, now=None]\u001b[A\n",
      "chunk:   4%|██▌                                                        | 1/23 [2:11:41<48:17:07, 7901.24s/it, now=None]\u001b[A"
     ]
    },
    {
     "name": "stdout",
     "output_type": "stream",
     "text": [
      "MoviePy - Done.\n"
     ]
    },
    {
     "name": "stderr",
     "output_type": "stream",
     "text": [
      "chunk:   4%|██▌                                                        | 1/23 [2:11:41<48:17:20, 7901.86s/it, now=None]"
     ]
    },
    {
     "name": "stdout",
     "output_type": "stream",
     "text": [
      "MoviePy - Writing audio in Output\\Naruto_HD_Set_1_Disc_1-001\\Naruto_HD_Set_1_Disc_1-001_789500.mp3\n"
     ]
    },
    {
     "name": "stderr",
     "output_type": "stream",
     "text": [
      "\n",
      "chunk:   0%|                                                                          | 0/34 [00:00<?, ?it/s, now=None]\u001b[A\n",
      "chunk:  88%|████████████████████████████████████████████████████████▍       | 30/34 [00:00<00:00, 263.15it/s, now=None]\u001b[A\n",
      "chunk:   4%|██▌                                                        | 1/23 [2:11:42<48:17:24, 7902.01s/it, now=None]\u001b[A"
     ]
    },
    {
     "name": "stdout",
     "output_type": "stream",
     "text": [
      "MoviePy - Done.\n"
     ]
    },
    {
     "name": "stderr",
     "output_type": "stream",
     "text": [
      "chunk:   4%|██▌                                                        | 1/23 [2:11:42<48:17:38, 7902.64s/it, now=None]"
     ]
    },
    {
     "name": "stdout",
     "output_type": "stream",
     "text": [
      "MoviePy - Writing audio in Output\\Naruto_HD_Set_1_Disc_1-001\\Naruto_HD_Set_1_Disc_1-001_790500.mp3\n"
     ]
    },
    {
     "name": "stderr",
     "output_type": "stream",
     "text": [
      "\n",
      "chunk:   0%|                                                                          | 0/34 [00:00<?, ?it/s, now=None]\u001b[A\n",
      "chunk:   4%|██▌                                                        | 1/23 [2:11:42<48:17:40, 7902.76s/it, now=None]\u001b[A"
     ]
    },
    {
     "name": "stdout",
     "output_type": "stream",
     "text": [
      "MoviePy - Done.\n"
     ]
    },
    {
     "name": "stderr",
     "output_type": "stream",
     "text": [
      "chunk:   4%|██▌                                                        | 1/23 [2:11:43<48:17:55, 7903.42s/it, now=None]"
     ]
    },
    {
     "name": "stdout",
     "output_type": "stream",
     "text": [
      "MoviePy - Writing audio in Output\\Naruto_HD_Set_1_Disc_1-001\\Naruto_HD_Set_1_Disc_1-001_791500.mp3\n"
     ]
    },
    {
     "name": "stderr",
     "output_type": "stream",
     "text": [
      "\n",
      "chunk:   0%|                                                                          | 0/34 [00:00<?, ?it/s, now=None]\u001b[A\n",
      "chunk:  88%|████████████████████████████████████████████████████████▍       | 30/34 [00:00<00:00, 252.10it/s, now=None]\u001b[A\n",
      "chunk:   4%|██▌                                                        | 1/23 [2:11:43<48:17:58, 7903.58s/it, now=None]\u001b[A"
     ]
    },
    {
     "name": "stdout",
     "output_type": "stream",
     "text": [
      "MoviePy - Done.\n"
     ]
    },
    {
     "name": "stderr",
     "output_type": "stream",
     "text": [
      "chunk:   4%|██▌                                                        | 1/23 [2:11:44<48:18:14, 7904.31s/it, now=None]"
     ]
    },
    {
     "name": "stdout",
     "output_type": "stream",
     "text": [
      "MoviePy - Writing audio in Output\\Naruto_HD_Set_1_Disc_1-001\\Naruto_HD_Set_1_Disc_1-001_793000.mp3\n"
     ]
    },
    {
     "name": "stderr",
     "output_type": "stream",
     "text": [
      "\n",
      "chunk:   0%|                                                                          | 0/56 [00:00<?, ?it/s, now=None]\u001b[A\n",
      "chunk:  73%|██████████████████████████████████████████████▊                 | 41/56 [00:00<00:00, 409.99it/s, now=None]\u001b[A\n",
      "chunk:   4%|██▌                                                        | 1/23 [2:11:44<48:18:18, 7904.47s/it, now=None]\u001b[A"
     ]
    },
    {
     "name": "stdout",
     "output_type": "stream",
     "text": [
      "MoviePy - Done.\n"
     ]
    },
    {
     "name": "stderr",
     "output_type": "stream",
     "text": [
      "chunk:   4%|██▌                                                        | 1/23 [2:11:45<48:18:42, 7905.58s/it, now=None]"
     ]
    },
    {
     "name": "stdout",
     "output_type": "stream",
     "text": [
      "MoviePy - Writing audio in Output\\Naruto_HD_Set_1_Disc_1-001\\Naruto_HD_Set_1_Disc_1-001_794500.mp3\n"
     ]
    },
    {
     "name": "stderr",
     "output_type": "stream",
     "text": [
      "\n",
      "chunk:   0%|                                                                          | 0/34 [00:00<?, ?it/s, now=None]\u001b[A\n",
      "chunk:   4%|██▌                                                        | 1/23 [2:11:45<48:18:45, 7905.71s/it, now=None]\u001b[A"
     ]
    },
    {
     "name": "stdout",
     "output_type": "stream",
     "text": [
      "MoviePy - Done.\n"
     ]
    },
    {
     "name": "stderr",
     "output_type": "stream",
     "text": [
      "chunk:   4%|██▌                                                        | 1/23 [2:11:46<48:18:59, 7906.33s/it, now=None]"
     ]
    },
    {
     "name": "stdout",
     "output_type": "stream",
     "text": [
      "MoviePy - Writing audio in Output\\Naruto_HD_Set_1_Disc_1-001\\Naruto_HD_Set_1_Disc_1-001_795500.mp3\n"
     ]
    },
    {
     "name": "stderr",
     "output_type": "stream",
     "text": [
      "\n",
      "chunk:   0%|                                                                          | 0/34 [00:00<?, ?it/s, now=None]\u001b[A\n",
      "chunk:   4%|██▌                                                        | 1/23 [2:11:46<48:19:02, 7906.46s/it, now=None]\u001b[A"
     ]
    },
    {
     "name": "stdout",
     "output_type": "stream",
     "text": [
      "MoviePy - Done.\n"
     ]
    },
    {
     "name": "stderr",
     "output_type": "stream",
     "text": [
      "chunk:   4%|██▌                                                        | 1/23 [2:11:47<48:19:15, 7907.05s/it, now=None]"
     ]
    },
    {
     "name": "stdout",
     "output_type": "stream",
     "text": [
      "MoviePy - Writing audio in Output\\Naruto_HD_Set_1_Disc_1-001\\Naruto_HD_Set_1_Disc_1-001_796500.mp3\n"
     ]
    },
    {
     "name": "stderr",
     "output_type": "stream",
     "text": [
      "\n",
      "chunk:   0%|                                                                          | 0/34 [00:00<?, ?it/s, now=None]\u001b[A\n",
      "chunk:  88%|████████████████████████████████████████████████████████▍       | 30/34 [00:00<00:00, 256.63it/s, now=None]\u001b[A\n",
      "chunk:   4%|██▌                                                        | 1/23 [2:11:47<48:19:18, 7907.21s/it, now=None]\u001b[A"
     ]
    },
    {
     "name": "stdout",
     "output_type": "stream",
     "text": [
      "MoviePy - Done.\n"
     ]
    },
    {
     "name": "stderr",
     "output_type": "stream",
     "text": [
      "chunk:   4%|██▌                                                        | 1/23 [2:11:47<48:19:32, 7907.85s/it, now=None]"
     ]
    },
    {
     "name": "stdout",
     "output_type": "stream",
     "text": [
      "MoviePy - Writing audio in Output\\Naruto_HD_Set_1_Disc_1-001\\Naruto_HD_Set_1_Disc_1-001_797500.mp3\n"
     ]
    },
    {
     "name": "stderr",
     "output_type": "stream",
     "text": [
      "\n",
      "chunk:   0%|                                                                          | 0/34 [00:00<?, ?it/s, now=None]\u001b[A\n",
      "chunk:   4%|██▌                                                        | 1/23 [2:11:47<48:19:35, 7907.97s/it, now=None]\u001b[A"
     ]
    },
    {
     "name": "stdout",
     "output_type": "stream",
     "text": [
      "MoviePy - Done.\n"
     ]
    },
    {
     "name": "stderr",
     "output_type": "stream",
     "text": [
      "chunk:   4%|██▌                                                        | 1/23 [2:11:48<48:19:50, 7908.64s/it, now=None]"
     ]
    },
    {
     "name": "stdout",
     "output_type": "stream",
     "text": [
      "MoviePy - Writing audio in Output\\Naruto_HD_Set_1_Disc_1-001\\Naruto_HD_Set_1_Disc_1-001_798500.mp3\n"
     ]
    },
    {
     "name": "stderr",
     "output_type": "stream",
     "text": [
      "\n",
      "chunk:   0%|                                                                          | 0/34 [00:00<?, ?it/s, now=None]\u001b[A\n",
      "chunk:  88%|████████████████████████████████████████████████████████▍       | 30/34 [00:00<00:00, 254.24it/s, now=None]\u001b[A\n",
      "chunk:   4%|██▌                                                        | 1/23 [2:11:48<48:19:53, 7908.79s/it, now=None]\u001b[A"
     ]
    },
    {
     "name": "stdout",
     "output_type": "stream",
     "text": [
      "MoviePy - Done.\n"
     ]
    },
    {
     "name": "stderr",
     "output_type": "stream",
     "text": [
      "chunk:   4%|██▌                                                        | 1/23 [2:11:49<48:20:06, 7909.40s/it, now=None]"
     ]
    },
    {
     "name": "stdout",
     "output_type": "stream",
     "text": [
      "MoviePy - Writing audio in Output\\Naruto_HD_Set_1_Disc_1-001\\Naruto_HD_Set_1_Disc_1-001_799500.mp3\n"
     ]
    },
    {
     "name": "stderr",
     "output_type": "stream",
     "text": [
      "\n",
      "chunk:   0%|                                                                          | 0/34 [00:00<?, ?it/s, now=None]\u001b[A\n",
      "chunk:   4%|██▌                                                        | 1/23 [2:11:49<48:20:09, 7909.52s/it, now=None]\u001b[A"
     ]
    },
    {
     "name": "stdout",
     "output_type": "stream",
     "text": [
      "MoviePy - Done.\n"
     ]
    },
    {
     "name": "stderr",
     "output_type": "stream",
     "text": [
      "chunk:   4%|██▌                                                        | 1/23 [2:11:50<48:20:22, 7910.12s/it, now=None]"
     ]
    },
    {
     "name": "stdout",
     "output_type": "stream",
     "text": [
      "MoviePy - Writing audio in Output\\Naruto_HD_Set_1_Disc_1-001\\Naruto_HD_Set_1_Disc_1-001_800500.mp3\n"
     ]
    },
    {
     "name": "stderr",
     "output_type": "stream",
     "text": [
      "\n",
      "chunk:   0%|                                                                          | 0/34 [00:00<?, ?it/s, now=None]\u001b[A\n",
      "chunk:  97%|██████████████████████████████████████████████████████████████  | 33/34 [00:00<00:00, 326.73it/s, now=None]\u001b[A\n",
      "chunk:   4%|██▌                                                        | 1/23 [2:11:50<48:20:25, 7910.26s/it, now=None]\u001b[A"
     ]
    },
    {
     "name": "stdout",
     "output_type": "stream",
     "text": [
      "MoviePy - Done.\n"
     ]
    },
    {
     "name": "stderr",
     "output_type": "stream",
     "text": [
      "chunk:   4%|██▌                                                        | 1/23 [2:11:50<48:20:39, 7910.88s/it, now=None]"
     ]
    },
    {
     "name": "stdout",
     "output_type": "stream",
     "text": [
      "MoviePy - Writing audio in Output\\Naruto_HD_Set_1_Disc_1-001\\Naruto_HD_Set_1_Disc_1-001_801500.mp3\n"
     ]
    },
    {
     "name": "stderr",
     "output_type": "stream",
     "text": [
      "\n",
      "chunk:   0%|                                                                          | 0/34 [00:00<?, ?it/s, now=None]\u001b[A\n",
      "chunk:   4%|██▌                                                        | 1/23 [2:11:51<48:20:42, 7911.01s/it, now=None]\u001b[A"
     ]
    },
    {
     "name": "stdout",
     "output_type": "stream",
     "text": [
      "MoviePy - Done.\n"
     ]
    },
    {
     "name": "stderr",
     "output_type": "stream",
     "text": [
      "chunk:   4%|██▌                                                        | 1/23 [2:11:51<48:20:55, 7911.62s/it, now=None]"
     ]
    },
    {
     "name": "stdout",
     "output_type": "stream",
     "text": [
      "MoviePy - Writing audio in Output\\Naruto_HD_Set_1_Disc_1-001\\Naruto_HD_Set_1_Disc_1-001_803000.mp3\n"
     ]
    },
    {
     "name": "stderr",
     "output_type": "stream",
     "text": [
      "\n",
      "chunk:   0%|                                                                          | 0/56 [00:00<?, ?it/s, now=None]\u001b[A\n",
      "chunk:  64%|█████████████████████████████████████████▏                      | 36/56 [00:00<00:00, 297.53it/s, now=None]\u001b[A\n",
      "chunk:   4%|██▌                                                        | 1/23 [2:11:51<48:20:59, 7911.80s/it, now=None]\u001b[A"
     ]
    },
    {
     "name": "stdout",
     "output_type": "stream",
     "text": [
      "MoviePy - Done.\n"
     ]
    },
    {
     "name": "stderr",
     "output_type": "stream",
     "text": [
      "chunk:   4%|██▌                                                        | 1/23 [2:11:52<48:21:22, 7912.84s/it, now=None]"
     ]
    },
    {
     "name": "stdout",
     "output_type": "stream",
     "text": [
      "MoviePy - Writing audio in Output\\Naruto_HD_Set_1_Disc_1-001\\Naruto_HD_Set_1_Disc_1-001_804500.mp3\n"
     ]
    },
    {
     "name": "stderr",
     "output_type": "stream",
     "text": [
      "\n",
      "chunk:   0%|                                                                          | 0/34 [00:00<?, ?it/s, now=None]\u001b[A\n",
      "chunk:   4%|██▌                                                        | 1/23 [2:11:52<48:21:25, 7912.97s/it, now=None]\u001b[A"
     ]
    },
    {
     "name": "stdout",
     "output_type": "stream",
     "text": [
      "MoviePy - Done.\n"
     ]
    },
    {
     "name": "stderr",
     "output_type": "stream",
     "text": [
      "chunk:   4%|██▌                                                        | 1/23 [2:11:53<48:21:38, 7913.59s/it, now=None]"
     ]
    },
    {
     "name": "stdout",
     "output_type": "stream",
     "text": [
      "MoviePy - Writing audio in Output\\Naruto_HD_Set_1_Disc_1-001\\Naruto_HD_Set_1_Disc_1-001_805500.mp3\n"
     ]
    },
    {
     "name": "stderr",
     "output_type": "stream",
     "text": [
      "\n",
      "chunk:   0%|                                                                          | 0/34 [00:00<?, ?it/s, now=None]\u001b[A\n",
      "chunk:  88%|████████████████████████████████████████████████████████▍       | 30/34 [00:00<00:00, 249.98it/s, now=None]\u001b[A\n",
      "chunk:   4%|██▌                                                        | 1/23 [2:11:53<48:21:42, 7913.74s/it, now=None]\u001b[A"
     ]
    },
    {
     "name": "stdout",
     "output_type": "stream",
     "text": [
      "MoviePy - Done.\n"
     ]
    },
    {
     "name": "stderr",
     "output_type": "stream",
     "text": [
      "chunk:   4%|██▌                                                        | 1/23 [2:11:54<48:21:56, 7914.40s/it, now=None]"
     ]
    },
    {
     "name": "stdout",
     "output_type": "stream",
     "text": [
      "MoviePy - Writing audio in Output\\Naruto_HD_Set_1_Disc_1-001\\Naruto_HD_Set_1_Disc_1-001_806500.mp3\n"
     ]
    },
    {
     "name": "stderr",
     "output_type": "stream",
     "text": [
      "\n",
      "chunk:   0%|                                                                          | 0/34 [00:00<?, ?it/s, now=None]\u001b[A\n",
      "chunk:   4%|██▌                                                        | 1/23 [2:11:54<48:21:59, 7914.53s/it, now=None]\u001b[A"
     ]
    },
    {
     "name": "stdout",
     "output_type": "stream",
     "text": [
      "MoviePy - Done.\n"
     ]
    },
    {
     "name": "stderr",
     "output_type": "stream",
     "text": [
      "chunk:   4%|██▌                                                        | 1/23 [2:11:55<48:22:12, 7915.12s/it, now=None]"
     ]
    },
    {
     "name": "stdout",
     "output_type": "stream",
     "text": [
      "MoviePy - Writing audio in Output\\Naruto_HD_Set_1_Disc_1-001\\Naruto_HD_Set_1_Disc_1-001_807500.mp3\n"
     ]
    },
    {
     "name": "stderr",
     "output_type": "stream",
     "text": [
      "\n",
      "chunk:   0%|                                                                          | 0/34 [00:00<?, ?it/s, now=None]\u001b[A\n",
      "chunk:  88%|████████████████████████████████████████████████████████▍       | 30/34 [00:00<00:00, 245.91it/s, now=None]\u001b[A\n",
      "chunk:   4%|██▌                                                        | 1/23 [2:11:55<48:22:16, 7915.28s/it, now=None]\u001b[A"
     ]
    },
    {
     "name": "stdout",
     "output_type": "stream",
     "text": [
      "MoviePy - Done.\n"
     ]
    },
    {
     "name": "stderr",
     "output_type": "stream",
     "text": [
      "chunk:   4%|██▌                                                        | 1/23 [2:11:55<48:22:30, 7915.94s/it, now=None]"
     ]
    },
    {
     "name": "stdout",
     "output_type": "stream",
     "text": [
      "MoviePy - Writing audio in Output\\Naruto_HD_Set_1_Disc_1-001\\Naruto_HD_Set_1_Disc_1-001_809000.mp3\n"
     ]
    },
    {
     "name": "stderr",
     "output_type": "stream",
     "text": [
      "\n",
      "chunk:   0%|                                                                          | 0/56 [00:00<?, ?it/s, now=None]\u001b[A\n",
      "chunk:  70%|████████████████████████████████████████████▌                   | 39/56 [00:00<00:00, 386.14it/s, now=None]\u001b[A\n",
      "chunk:   4%|██▌                                                        | 1/23 [2:11:56<48:22:34, 7916.12s/it, now=None]\u001b[A"
     ]
    },
    {
     "name": "stdout",
     "output_type": "stream",
     "text": [
      "MoviePy - Done.\n"
     ]
    },
    {
     "name": "stderr",
     "output_type": "stream",
     "text": [
      "chunk:   4%|██▌                                                        | 1/23 [2:11:57<48:22:57, 7917.16s/it, now=None]"
     ]
    },
    {
     "name": "stdout",
     "output_type": "stream",
     "text": [
      "MoviePy - Writing audio in Output\\Naruto_HD_Set_1_Disc_1-001\\Naruto_HD_Set_1_Disc_1-001_811000.mp3\n"
     ]
    },
    {
     "name": "stderr",
     "output_type": "stream",
     "text": [
      "\n",
      "chunk:   0%|                                                                          | 0/56 [00:00<?, ?it/s, now=None]\u001b[A\n",
      "chunk:  54%|██████████████████████████████████▎                             | 30/56 [00:00<00:00, 297.03it/s, now=None]\u001b[A\n",
      "chunk:   4%|██▌                                                        | 1/23 [2:11:57<48:23:01, 7917.32s/it, now=None]\u001b[A"
     ]
    },
    {
     "name": "stdout",
     "output_type": "stream",
     "text": [
      "MoviePy - Done.\n"
     ]
    },
    {
     "name": "stderr",
     "output_type": "stream",
     "text": [
      "chunk:   4%|██▌                                                        | 1/23 [2:11:58<48:23:24, 7918.40s/it, now=None]"
     ]
    },
    {
     "name": "stdout",
     "output_type": "stream",
     "text": [
      "MoviePy - Writing audio in Output\\Naruto_HD_Set_1_Disc_1-001\\Naruto_HD_Set_1_Disc_1-001_813000.mp3\n"
     ]
    },
    {
     "name": "stderr",
     "output_type": "stream",
     "text": [
      "\n",
      "chunk:   0%|                                                                          | 0/56 [00:00<?, ?it/s, now=None]\u001b[A\n",
      "chunk:  54%|██████████████████████████████████▎                             | 30/56 [00:00<00:00, 254.24it/s, now=None]\u001b[A\n",
      "chunk:   4%|██▌                                                        | 1/23 [2:11:58<48:23:28, 7918.57s/it, now=None]\u001b[A"
     ]
    },
    {
     "name": "stdout",
     "output_type": "stream",
     "text": [
      "MoviePy - Done.\n"
     ]
    },
    {
     "name": "stderr",
     "output_type": "stream",
     "text": [
      "chunk:   4%|██▌                                                        | 1/23 [2:11:59<48:23:52, 7919.66s/it, now=None]"
     ]
    },
    {
     "name": "stdout",
     "output_type": "stream",
     "text": [
      "MoviePy - Writing audio in Output\\Naruto_HD_Set_1_Disc_1-001\\Naruto_HD_Set_1_Disc_1-001_814500.mp3\n"
     ]
    },
    {
     "name": "stderr",
     "output_type": "stream",
     "text": [
      "\n",
      "chunk:   0%|                                                                          | 0/34 [00:00<?, ?it/s, now=None]\u001b[A\n",
      "chunk:  88%|████████████████████████████████████████████████████████▍       | 30/34 [00:00<00:00, 263.17it/s, now=None]\u001b[A\n",
      "chunk:   4%|██▌                                                        | 1/23 [2:11:59<48:23:55, 7919.81s/it, now=None]\u001b[A"
     ]
    },
    {
     "name": "stdout",
     "output_type": "stream",
     "text": [
      "MoviePy - Done.\n"
     ]
    },
    {
     "name": "stderr",
     "output_type": "stream",
     "text": [
      "chunk:   4%|██▌                                                        | 1/23 [2:12:00<48:24:07, 7920.36s/it, now=None]"
     ]
    },
    {
     "name": "stdout",
     "output_type": "stream",
     "text": [
      "MoviePy - Writing audio in Output\\Naruto_HD_Set_1_Disc_1-001\\Naruto_HD_Set_1_Disc_1-001_815500.mp3\n"
     ]
    },
    {
     "name": "stderr",
     "output_type": "stream",
     "text": [
      "\n",
      "chunk:   0%|                                                                          | 0/34 [00:00<?, ?it/s, now=None]\u001b[A\n",
      "chunk:   4%|██▌                                                        | 1/23 [2:12:00<48:24:10, 7920.48s/it, now=None]\u001b[A"
     ]
    },
    {
     "name": "stdout",
     "output_type": "stream",
     "text": [
      "MoviePy - Done.\n"
     ]
    },
    {
     "name": "stderr",
     "output_type": "stream",
     "text": [
      "chunk:   4%|██▌                                                        | 1/23 [2:12:01<48:24:22, 7921.04s/it, now=None]"
     ]
    },
    {
     "name": "stdout",
     "output_type": "stream",
     "text": [
      "MoviePy - Writing audio in Output\\Naruto_HD_Set_1_Disc_1-001\\Naruto_HD_Set_1_Disc_1-001_816500.mp3\n"
     ]
    },
    {
     "name": "stderr",
     "output_type": "stream",
     "text": [
      "\n",
      "chunk:   0%|                                                                          | 0/34 [00:00<?, ?it/s, now=None]\u001b[A\n",
      "chunk:  94%|████████████████████████████████████████████████████████████▏   | 32/34 [00:00<00:00, 275.86it/s, now=None]\u001b[A\n",
      "chunk:   4%|██▌                                                        | 1/23 [2:12:01<48:24:26, 7921.20s/it, now=None]\u001b[A"
     ]
    },
    {
     "name": "stdout",
     "output_type": "stream",
     "text": [
      "MoviePy - Done.\n"
     ]
    },
    {
     "name": "stderr",
     "output_type": "stream",
     "text": [
      "chunk:   4%|██▌                                                        | 1/23 [2:12:01<48:24:38, 7921.76s/it, now=None]"
     ]
    },
    {
     "name": "stdout",
     "output_type": "stream",
     "text": [
      "MoviePy - Writing audio in Output\\Naruto_HD_Set_1_Disc_1-001\\Naruto_HD_Set_1_Disc_1-001_817500.mp3\n"
     ]
    },
    {
     "name": "stderr",
     "output_type": "stream",
     "text": [
      "\n",
      "chunk:   0%|                                                                          | 0/34 [00:00<?, ?it/s, now=None]\u001b[A\n",
      "chunk:   4%|██▌                                                        | 1/23 [2:12:01<48:24:41, 7921.89s/it, now=None]\u001b[A"
     ]
    },
    {
     "name": "stdout",
     "output_type": "stream",
     "text": [
      "MoviePy - Done.\n"
     ]
    },
    {
     "name": "stderr",
     "output_type": "stream",
     "text": [
      "chunk:   4%|██▌                                                        | 1/23 [2:12:02<48:24:53, 7922.45s/it, now=None]"
     ]
    },
    {
     "name": "stdout",
     "output_type": "stream",
     "text": [
      "MoviePy - Writing audio in Output\\Naruto_HD_Set_1_Disc_1-001\\Naruto_HD_Set_1_Disc_1-001_819000.mp3\n"
     ]
    },
    {
     "name": "stderr",
     "output_type": "stream",
     "text": [
      "\n",
      "chunk:   0%|                                                                          | 0/56 [00:00<?, ?it/s, now=None]\u001b[A\n",
      "chunk:  64%|█████████████████████████████████████████▏                      | 36/56 [00:00<00:00, 360.00it/s, now=None]\u001b[A\n",
      "chunk:   4%|██▌                                                        | 1/23 [2:12:02<48:24:57, 7922.62s/it, now=None]\u001b[A"
     ]
    },
    {
     "name": "stdout",
     "output_type": "stream",
     "text": [
      "MoviePy - Done.\n"
     ]
    },
    {
     "name": "stderr",
     "output_type": "stream",
     "text": [
      "chunk:   4%|██▌                                                        | 1/23 [2:12:03<48:25:22, 7923.75s/it, now=None]"
     ]
    },
    {
     "name": "stdout",
     "output_type": "stream",
     "text": [
      "MoviePy - Writing audio in Output\\Naruto_HD_Set_1_Disc_1-001\\Naruto_HD_Set_1_Disc_1-001_820500.mp3\n"
     ]
    },
    {
     "name": "stderr",
     "output_type": "stream",
     "text": [
      "\n",
      "chunk:   0%|                                                                          | 0/34 [00:00<?, ?it/s, now=None]\u001b[A\n",
      "chunk:   4%|██▌                                                        | 1/23 [2:12:03<48:25:25, 7923.87s/it, now=None]\u001b[A"
     ]
    },
    {
     "name": "stdout",
     "output_type": "stream",
     "text": [
      "MoviePy - Done.\n"
     ]
    },
    {
     "name": "stderr",
     "output_type": "stream",
     "text": [
      "chunk:   4%|██▌                                                        | 1/23 [2:12:04<48:25:40, 7924.55s/it, now=None]"
     ]
    },
    {
     "name": "stdout",
     "output_type": "stream",
     "text": [
      "MoviePy - Writing audio in Output\\Naruto_HD_Set_1_Disc_1-001\\Naruto_HD_Set_1_Disc_1-001_822500.mp3\n"
     ]
    },
    {
     "name": "stderr",
     "output_type": "stream",
     "text": [
      "\n",
      "chunk:   0%|                                                                          | 0/78 [00:00<?, ?it/s, now=None]\u001b[A\n",
      "chunk:  37%|███████████████████████▊                                        | 29/78 [00:00<00:00, 266.05it/s, now=None]\u001b[A\n",
      "chunk:   4%|██▌                                                        | 1/23 [2:12:04<48:25:44, 7924.76s/it, now=None]\u001b[A"
     ]
    },
    {
     "name": "stdout",
     "output_type": "stream",
     "text": [
      "MoviePy - Done.\n"
     ]
    },
    {
     "name": "stderr",
     "output_type": "stream",
     "text": [
      "chunk:   4%|██▌                                                        | 1/23 [2:12:06<48:26:17, 7926.27s/it, now=None]"
     ]
    },
    {
     "name": "stdout",
     "output_type": "stream",
     "text": [
      "MoviePy - Writing audio in Output\\Naruto_HD_Set_1_Disc_1-001\\Naruto_HD_Set_1_Disc_1-001_824500.mp3\n"
     ]
    },
    {
     "name": "stderr",
     "output_type": "stream",
     "text": [
      "\n",
      "chunk:   0%|                                                                          | 0/34 [00:00<?, ?it/s, now=None]\u001b[A\n",
      "chunk:   4%|██▌                                                        | 1/23 [2:12:06<48:26:20, 7926.39s/it, now=None]\u001b[A"
     ]
    },
    {
     "name": "stdout",
     "output_type": "stream",
     "text": [
      "MoviePy - Done.\n"
     ]
    },
    {
     "name": "stderr",
     "output_type": "stream",
     "text": [
      "chunk:   4%|██▌                                                        | 1/23 [2:12:07<48:26:34, 7927.00s/it, now=None]"
     ]
    },
    {
     "name": "stdout",
     "output_type": "stream",
     "text": [
      "MoviePy - Writing audio in Output\\Naruto_HD_Set_1_Disc_1-001\\Naruto_HD_Set_1_Disc_1-001_825500.mp3\n"
     ]
    },
    {
     "name": "stderr",
     "output_type": "stream",
     "text": [
      "\n",
      "chunk:   0%|                                                                          | 0/34 [00:00<?, ?it/s, now=None]\u001b[A\n",
      "chunk:   4%|██▌                                                        | 1/23 [2:12:07<48:26:37, 7927.15s/it, now=None]\u001b[A"
     ]
    },
    {
     "name": "stdout",
     "output_type": "stream",
     "text": [
      "MoviePy - Done.\n"
     ]
    },
    {
     "name": "stderr",
     "output_type": "stream",
     "text": [
      "chunk:   4%|██▌                                                        | 1/23 [2:12:07<48:26:47, 7927.60s/it, now=None]"
     ]
    },
    {
     "name": "stdout",
     "output_type": "stream",
     "text": [
      "MoviePy - Writing audio in Output\\Naruto_HD_Set_1_Disc_1-001\\Naruto_HD_Set_1_Disc_1-001_838000.mp3\n"
     ]
    },
    {
     "name": "stderr",
     "output_type": "stream",
     "text": [
      "\n",
      "chunk:   0%|                                                                          | 0/56 [00:00<?, ?it/s, now=None]\u001b[A\n",
      "chunk:  23%|██████████████▊                                                 | 13/56 [00:00<00:00, 128.71it/s, now=None]\u001b[A\n",
      "chunk:   4%|██▌                                                        | 1/23 [2:12:07<48:26:51, 7927.80s/it, now=None]\u001b[A"
     ]
    },
    {
     "name": "stdout",
     "output_type": "stream",
     "text": [
      "MoviePy - Done.\n"
     ]
    },
    {
     "name": "stderr",
     "output_type": "stream",
     "text": [
      "chunk:   4%|██▌                                                        | 1/23 [2:12:08<48:27:14, 7928.85s/it, now=None]"
     ]
    },
    {
     "name": "stdout",
     "output_type": "stream",
     "text": [
      "MoviePy - Writing audio in Output\\Naruto_HD_Set_1_Disc_1-001\\Naruto_HD_Set_1_Disc_1-001_840500.mp3\n"
     ]
    },
    {
     "name": "stderr",
     "output_type": "stream",
     "text": [
      "\n",
      "chunk:   0%|                                                                          | 0/78 [00:00<?, ?it/s, now=None]\u001b[A\n",
      "chunk:  62%|███████████████████████████████████████▍                        | 48/78 [00:00<00:00, 475.25it/s, now=None]\u001b[A\n",
      "chunk:   4%|██▌                                                        | 1/23 [2:12:09<48:27:18, 7929.03s/it, now=None]\u001b[A"
     ]
    },
    {
     "name": "stdout",
     "output_type": "stream",
     "text": [
      "MoviePy - Done.\n"
     ]
    },
    {
     "name": "stderr",
     "output_type": "stream",
     "text": [
      "chunk:   4%|██▌                                                        | 1/23 [2:12:10<48:27:52, 7930.56s/it, now=None]"
     ]
    },
    {
     "name": "stdout",
     "output_type": "stream",
     "text": [
      "MoviePy - Writing audio in Output\\Naruto_HD_Set_1_Disc_1-001\\Naruto_HD_Set_1_Disc_1-001_843000.mp3\n"
     ]
    },
    {
     "name": "stderr",
     "output_type": "stream",
     "text": [
      "\n",
      "chunk:   0%|                                                                          | 0/56 [00:00<?, ?it/s, now=None]\u001b[A\n",
      "chunk:  75%|████████████████████████████████████████████████                | 42/56 [00:00<00:00, 350.02it/s, now=None]\u001b[A\n",
      "chunk:   4%|██▌                                                        | 1/23 [2:12:10<48:27:55, 7930.72s/it, now=None]\u001b[A"
     ]
    },
    {
     "name": "stdout",
     "output_type": "stream",
     "text": [
      "MoviePy - Done.\n"
     ]
    },
    {
     "name": "stderr",
     "output_type": "stream",
     "text": [
      "chunk:   4%|██▌                                                        | 1/23 [2:12:11<48:28:20, 7931.84s/it, now=None]"
     ]
    },
    {
     "name": "stdout",
     "output_type": "stream",
     "text": [
      "MoviePy - Writing audio in Output\\Naruto_HD_Set_1_Disc_1-001\\Naruto_HD_Set_1_Disc_1-001_845000.mp3\n"
     ]
    },
    {
     "name": "stderr",
     "output_type": "stream",
     "text": [
      "\n",
      "chunk:   0%|                                                                          | 0/56 [00:00<?, ?it/s, now=None]\u001b[A\n",
      "chunk:  84%|█████████████████████████████████████████████████████▋          | 47/56 [00:00<00:00, 470.00it/s, now=None]\u001b[A\n",
      "chunk:   4%|██▌                                                        | 1/23 [2:12:12<48:28:24, 7932.00s/it, now=None]\u001b[A"
     ]
    },
    {
     "name": "stdout",
     "output_type": "stream",
     "text": [
      "MoviePy - Done.\n"
     ]
    },
    {
     "name": "stderr",
     "output_type": "stream",
     "text": [
      "chunk:   4%|██▌                                                        | 1/23 [2:12:13<48:28:48, 7933.10s/it, now=None]"
     ]
    },
    {
     "name": "stdout",
     "output_type": "stream",
     "text": [
      "MoviePy - Writing audio in Output\\Naruto_HD_Set_1_Disc_1-001\\Naruto_HD_Set_1_Disc_1-001_846500.mp3\n"
     ]
    },
    {
     "name": "stderr",
     "output_type": "stream",
     "text": [
      "\n",
      "chunk:   0%|                                                                          | 0/34 [00:00<?, ?it/s, now=None]\u001b[A\n",
      "chunk:   4%|██▌                                                        | 1/23 [2:12:13<48:28:50, 7933.23s/it, now=None]\u001b[A"
     ]
    },
    {
     "name": "stdout",
     "output_type": "stream",
     "text": [
      "MoviePy - Done.\n"
     ]
    },
    {
     "name": "stderr",
     "output_type": "stream",
     "text": [
      "chunk:   4%|██▌                                                        | 1/23 [2:12:13<48:29:04, 7933.85s/it, now=None]"
     ]
    },
    {
     "name": "stdout",
     "output_type": "stream",
     "text": [
      "MoviePy - Writing audio in Output\\Naruto_HD_Set_1_Disc_1-001\\Naruto_HD_Set_1_Disc_1-001_847500.mp3\n"
     ]
    },
    {
     "name": "stderr",
     "output_type": "stream",
     "text": [
      "\n",
      "chunk:   0%|                                                                          | 0/34 [00:00<?, ?it/s, now=None]\u001b[A\n",
      "chunk:  94%|████████████████████████████████████████████████████████████▏   | 32/34 [00:00<00:00, 264.46it/s, now=None]\u001b[A\n",
      "chunk:   4%|██▌                                                        | 1/23 [2:12:14<48:29:08, 7934.00s/it, now=None]\u001b[A"
     ]
    },
    {
     "name": "stdout",
     "output_type": "stream",
     "text": [
      "MoviePy - Done.\n"
     ]
    },
    {
     "name": "stderr",
     "output_type": "stream",
     "text": [
      "chunk:   4%|██▌                                                        | 1/23 [2:12:14<48:29:22, 7934.67s/it, now=None]"
     ]
    },
    {
     "name": "stdout",
     "output_type": "stream",
     "text": [
      "MoviePy - Writing audio in Output\\Naruto_HD_Set_1_Disc_1-001\\Naruto_HD_Set_1_Disc_1-001_848500.mp3\n"
     ]
    },
    {
     "name": "stderr",
     "output_type": "stream",
     "text": [
      "\n",
      "chunk:   0%|                                                                          | 0/34 [00:00<?, ?it/s, now=None]\u001b[A\n",
      "chunk:   4%|██▌                                                        | 1/23 [2:12:14<48:29:25, 7934.79s/it, now=None]\u001b[A"
     ]
    },
    {
     "name": "stdout",
     "output_type": "stream",
     "text": [
      "MoviePy - Done.\n"
     ]
    },
    {
     "name": "stderr",
     "output_type": "stream",
     "text": [
      "chunk:   4%|██▌                                                        | 1/23 [2:12:15<48:29:38, 7935.40s/it, now=None]"
     ]
    },
    {
     "name": "stdout",
     "output_type": "stream",
     "text": [
      "MoviePy - Writing audio in Output\\Naruto_HD_Set_1_Disc_1-001\\Naruto_HD_Set_1_Disc_1-001_849500.mp3\n"
     ]
    },
    {
     "name": "stderr",
     "output_type": "stream",
     "text": [
      "\n",
      "chunk:   0%|                                                                          | 0/34 [00:00<?, ?it/s, now=None]\u001b[A\n",
      "chunk:   4%|██▌                                                        | 1/23 [2:12:15<48:29:41, 7935.52s/it, now=None]\u001b[A"
     ]
    },
    {
     "name": "stdout",
     "output_type": "stream",
     "text": [
      "MoviePy - Done.\n"
     ]
    },
    {
     "name": "stderr",
     "output_type": "stream",
     "text": [
      "chunk:   4%|██▌                                                        | 1/23 [2:12:16<48:29:55, 7936.14s/it, now=None]"
     ]
    },
    {
     "name": "stdout",
     "output_type": "stream",
     "text": [
      "MoviePy - Writing audio in Output\\Naruto_HD_Set_1_Disc_1-001\\Naruto_HD_Set_1_Disc_1-001_850500.mp3\n"
     ]
    },
    {
     "name": "stderr",
     "output_type": "stream",
     "text": [
      "\n",
      "chunk:   0%|                                                                          | 0/34 [00:00<?, ?it/s, now=None]\u001b[A\n",
      "chunk:  88%|████████████████████████████████████████████████████████▍       | 30/34 [00:00<00:00, 247.93it/s, now=None]\u001b[A\n",
      "chunk:   4%|██▌                                                        | 1/23 [2:12:16<48:29:58, 7936.30s/it, now=None]\u001b[A"
     ]
    },
    {
     "name": "stdout",
     "output_type": "stream",
     "text": [
      "MoviePy - Done.\n"
     ]
    },
    {
     "name": "stderr",
     "output_type": "stream",
     "text": [
      "chunk:   4%|██▌                                                        | 1/23 [2:12:16<48:30:12, 7936.92s/it, now=None]"
     ]
    },
    {
     "name": "stdout",
     "output_type": "stream",
     "text": [
      "MoviePy - Writing audio in Output\\Naruto_HD_Set_1_Disc_1-001\\Naruto_HD_Set_1_Disc_1-001_852000.mp3\n"
     ]
    },
    {
     "name": "stderr",
     "output_type": "stream",
     "text": [
      "\n",
      "chunk:   0%|                                                                          | 0/56 [00:00<?, ?it/s, now=None]\u001b[A\n",
      "chunk:  77%|█████████████████████████████████████████████████▏              | 43/56 [00:00<00:00, 425.77it/s, now=None]\u001b[A\n",
      "chunk:   4%|██▌                                                        | 1/23 [2:12:17<48:30:16, 7937.09s/it, now=None]\u001b[A"
     ]
    },
    {
     "name": "stdout",
     "output_type": "stream",
     "text": [
      "MoviePy - Done.\n"
     ]
    },
    {
     "name": "stderr",
     "output_type": "stream",
     "text": [
      "chunk:   4%|██▌                                                        | 1/23 [2:12:18<48:30:40, 7938.21s/it, now=None]"
     ]
    },
    {
     "name": "stdout",
     "output_type": "stream",
     "text": [
      "MoviePy - Writing audio in Output\\Naruto_HD_Set_1_Disc_1-001\\Naruto_HD_Set_1_Disc_1-001_853500.mp3\n"
     ]
    },
    {
     "name": "stderr",
     "output_type": "stream",
     "text": [
      "\n",
      "chunk:   0%|                                                                          | 0/34 [00:00<?, ?it/s, now=None]\u001b[A\n",
      "chunk:   4%|██▌                                                        | 1/23 [2:12:18<48:30:43, 7938.33s/it, now=None]\u001b[A"
     ]
    },
    {
     "name": "stdout",
     "output_type": "stream",
     "text": [
      "MoviePy - Done.\n"
     ]
    },
    {
     "name": "stderr",
     "output_type": "stream",
     "text": [
      "chunk:   4%|██▌                                                        | 1/23 [2:12:18<48:30:56, 7938.92s/it, now=None]"
     ]
    },
    {
     "name": "stdout",
     "output_type": "stream",
     "text": [
      "MoviePy - Writing audio in Output\\Naruto_HD_Set_1_Disc_1-001\\Naruto_HD_Set_1_Disc_1-001_854500.mp3\n"
     ]
    },
    {
     "name": "stderr",
     "output_type": "stream",
     "text": [
      "\n",
      "chunk:   0%|                                                                          | 0/34 [00:00<?, ?it/s, now=None]\u001b[A\n",
      "chunk:  88%|████████████████████████████████████████████████████████▍       | 30/34 [00:00<00:00, 260.88it/s, now=None]\u001b[A\n",
      "chunk:   4%|██▌                                                        | 1/23 [2:12:19<48:30:59, 7939.07s/it, now=None]\u001b[A"
     ]
    },
    {
     "name": "stdout",
     "output_type": "stream",
     "text": [
      "MoviePy - Done.\n"
     ]
    },
    {
     "name": "stderr",
     "output_type": "stream",
     "text": [
      "chunk:   4%|██▌                                                        | 1/23 [2:12:19<48:31:12, 7939.67s/it, now=None]"
     ]
    },
    {
     "name": "stdout",
     "output_type": "stream",
     "text": [
      "MoviePy - Writing audio in Output\\Naruto_HD_Set_1_Disc_1-001\\Naruto_HD_Set_1_Disc_1-001_855500.mp3\n"
     ]
    },
    {
     "name": "stderr",
     "output_type": "stream",
     "text": [
      "\n",
      "chunk:   0%|                                                                          | 0/34 [00:00<?, ?it/s, now=None]\u001b[A\n",
      "chunk:   4%|██▌                                                        | 1/23 [2:12:19<48:31:15, 7939.79s/it, now=None]\u001b[A"
     ]
    },
    {
     "name": "stdout",
     "output_type": "stream",
     "text": [
      "MoviePy - Done.\n"
     ]
    },
    {
     "name": "stderr",
     "output_type": "stream",
     "text": [
      "chunk:   4%|██▌                                                        | 1/23 [2:12:20<48:31:29, 7940.45s/it, now=None]"
     ]
    },
    {
     "name": "stdout",
     "output_type": "stream",
     "text": [
      "MoviePy - Writing audio in Output\\Naruto_HD_Set_1_Disc_1-001\\Naruto_HD_Set_1_Disc_1-001_857500.mp3\n"
     ]
    },
    {
     "name": "stderr",
     "output_type": "stream",
     "text": [
      "\n",
      "chunk:   0%|                                                                          | 0/78 [00:00<?, ?it/s, now=None]\u001b[A\n",
      "chunk:  45%|████████████████████████████▋                                   | 35/78 [00:00<00:00, 312.49it/s, now=None]\u001b[A\n",
      "chunk:   4%|██▌                                                        | 1/23 [2:12:20<48:31:34, 7940.64s/it, now=None]\u001b[A"
     ]
    },
    {
     "name": "stdout",
     "output_type": "stream",
     "text": [
      "MoviePy - Done.\n"
     ]
    },
    {
     "name": "stderr",
     "output_type": "stream",
     "text": [
      "chunk:   4%|██▌                                                        | 1/23 [2:12:22<48:32:08, 7942.20s/it, now=None]"
     ]
    },
    {
     "name": "stdout",
     "output_type": "stream",
     "text": [
      "MoviePy - Writing audio in Output\\Naruto_HD_Set_1_Disc_1-001\\Naruto_HD_Set_1_Disc_1-001_860000.mp3\n"
     ]
    },
    {
     "name": "stderr",
     "output_type": "stream",
     "text": [
      "\n",
      "chunk:   0%|                                                                          | 0/56 [00:00<?, ?it/s, now=None]\u001b[A\n",
      "chunk:  54%|██████████████████████████████████▎                             | 30/56 [00:00<00:00, 265.48it/s, now=None]\u001b[A\n",
      "chunk:   4%|██▌                                                        | 1/23 [2:12:22<48:32:12, 7942.37s/it, now=None]\u001b[A"
     ]
    },
    {
     "name": "stdout",
     "output_type": "stream",
     "text": [
      "MoviePy - Done.\n"
     ]
    },
    {
     "name": "stderr",
     "output_type": "stream",
     "text": [
      "chunk:   4%|██▌                                                        | 1/23 [2:12:23<48:32:35, 7943.45s/it, now=None]"
     ]
    },
    {
     "name": "stdout",
     "output_type": "stream",
     "text": [
      "MoviePy - Writing audio in Output\\Naruto_HD_Set_1_Disc_1-001\\Naruto_HD_Set_1_Disc_1-001_861500.mp3\n"
     ]
    },
    {
     "name": "stderr",
     "output_type": "stream",
     "text": [
      "\n",
      "chunk:   0%|                                                                          | 0/34 [00:00<?, ?it/s, now=None]\u001b[A\n",
      "chunk:  88%|████████████████████████████████████████████████████████▍       | 30/34 [00:00<00:00, 260.86it/s, now=None]\u001b[A\n",
      "chunk:   4%|██▌                                                        | 1/23 [2:12:23<48:32:39, 7943.60s/it, now=None]\u001b[A"
     ]
    },
    {
     "name": "stdout",
     "output_type": "stream",
     "text": [
      "MoviePy - Done.\n"
     ]
    },
    {
     "name": "stderr",
     "output_type": "stream",
     "text": [
      "chunk:   4%|██▌                                                        | 1/23 [2:12:24<48:32:53, 7944.27s/it, now=None]"
     ]
    },
    {
     "name": "stdout",
     "output_type": "stream",
     "text": [
      "MoviePy - Writing audio in Output\\Naruto_HD_Set_1_Disc_1-001\\Naruto_HD_Set_1_Disc_1-001_862500.mp3\n"
     ]
    },
    {
     "name": "stderr",
     "output_type": "stream",
     "text": [
      "\n",
      "chunk:   0%|                                                                          | 0/34 [00:00<?, ?it/s, now=None]\u001b[A\n",
      "chunk:   4%|██▌                                                        | 1/23 [2:12:24<48:32:56, 7944.39s/it, now=None]\u001b[A"
     ]
    },
    {
     "name": "stdout",
     "output_type": "stream",
     "text": [
      "MoviePy - Done.\n"
     ]
    },
    {
     "name": "stderr",
     "output_type": "stream",
     "text": [
      "chunk:   4%|██▌                                                        | 1/23 [2:12:25<48:33:10, 7945.04s/it, now=None]"
     ]
    },
    {
     "name": "stdout",
     "output_type": "stream",
     "text": [
      "MoviePy - Writing audio in Output\\Naruto_HD_Set_1_Disc_1-001\\Naruto_HD_Set_1_Disc_1-001_863500.mp3\n"
     ]
    },
    {
     "name": "stderr",
     "output_type": "stream",
     "text": [
      "\n",
      "chunk:   0%|                                                                          | 0/34 [00:00<?, ?it/s, now=None]\u001b[A\n",
      "chunk:  97%|██████████████████████████████████████████████████████████████  | 33/34 [00:00<00:00, 282.05it/s, now=None]\u001b[A\n",
      "chunk:   4%|██▌                                                        | 1/23 [2:12:25<48:33:14, 7945.19s/it, now=None]\u001b[A"
     ]
    },
    {
     "name": "stdout",
     "output_type": "stream",
     "text": [
      "MoviePy - Done.\n"
     ]
    },
    {
     "name": "stderr",
     "output_type": "stream",
     "text": [
      "chunk:   4%|██▌                                                        | 1/23 [2:12:26<48:33:37, 7946.26s/it, now=None]"
     ]
    },
    {
     "name": "stdout",
     "output_type": "stream",
     "text": [
      "MoviePy - Writing audio in Output\\Naruto_HD_Set_1_Disc_1-001\\Naruto_HD_Set_1_Disc_1-001_866000.mp3\n"
     ]
    },
    {
     "name": "stderr",
     "output_type": "stream",
     "text": [
      "\n",
      "chunk:   0%|                                                                          | 0/56 [00:00<?, ?it/s, now=None]\u001b[A\n",
      "chunk:  68%|███████████████████████████████████████████▍                    | 38/56 [00:00<00:00, 376.25it/s, now=None]\u001b[A\n",
      "chunk:   4%|██▌                                                        | 1/23 [2:12:26<48:33:41, 7946.43s/it, now=None]\u001b[A"
     ]
    },
    {
     "name": "stdout",
     "output_type": "stream",
     "text": [
      "MoviePy - Done.\n"
     ]
    },
    {
     "name": "stderr",
     "output_type": "stream",
     "text": [
      "chunk:   4%|██▌                                                        | 1/23 [2:12:26<48:33:51, 7946.87s/it, now=None]"
     ]
    },
    {
     "name": "stdout",
     "output_type": "stream",
     "text": [
      "MoviePy - Writing audio in Output\\Naruto_HD_Set_1_Disc_1-001\\Naruto_HD_Set_1_Disc_1-001_871000.mp3\n"
     ]
    },
    {
     "name": "stderr",
     "output_type": "stream",
     "text": [
      "\n",
      "chunk:   0%|                                                                          | 0/56 [00:00<?, ?it/s, now=None]\u001b[A\n",
      "chunk:  75%|████████████████████████████████████████████████                | 42/56 [00:00<00:00, 415.85it/s, now=None]\u001b[A\n",
      "chunk:   4%|██▌                                                        | 1/23 [2:12:27<48:33:54, 7947.04s/it, now=None]\u001b[A"
     ]
    },
    {
     "name": "stdout",
     "output_type": "stream",
     "text": [
      "MoviePy - Done.\n"
     ]
    },
    {
     "name": "stderr",
     "output_type": "stream",
     "text": [
      "chunk:   4%|██▌                                                        | 1/23 [2:12:27<48:34:06, 7947.57s/it, now=None]"
     ]
    },
    {
     "name": "stdout",
     "output_type": "stream",
     "text": [
      "MoviePy - Writing audio in Output\\Naruto_HD_Set_1_Disc_1-001\\Naruto_HD_Set_1_Disc_1-001_874500.mp3\n"
     ]
    },
    {
     "name": "stderr",
     "output_type": "stream",
     "text": [
      "\n",
      "chunk:   0%|                                                                          | 0/34 [00:00<?, ?it/s, now=None]\u001b[A\n",
      "chunk:  88%|████████████████████████████████████████████████████████▍       | 30/34 [00:00<00:00, 265.48it/s, now=None]\u001b[A\n",
      "chunk:   4%|██▌                                                        | 1/23 [2:12:27<48:34:09, 7947.72s/it, now=None]\u001b[A"
     ]
    },
    {
     "name": "stdout",
     "output_type": "stream",
     "text": [
      "MoviePy - Done.\n"
     ]
    },
    {
     "name": "stderr",
     "output_type": "stream",
     "text": [
      "chunk:   4%|██▌                                                        | 1/23 [2:12:28<48:34:24, 7948.38s/it, now=None]"
     ]
    },
    {
     "name": "stdout",
     "output_type": "stream",
     "text": [
      "MoviePy - Writing audio in Output\\Naruto_HD_Set_1_Disc_1-001\\Naruto_HD_Set_1_Disc_1-001_875500.mp3\n"
     ]
    },
    {
     "name": "stderr",
     "output_type": "stream",
     "text": [
      "\n",
      "chunk:   0%|                                                                          | 0/34 [00:00<?, ?it/s, now=None]\u001b[A\n",
      "chunk:   4%|██▌                                                        | 1/23 [2:12:28<48:34:27, 7948.51s/it, now=None]\u001b[A"
     ]
    },
    {
     "name": "stdout",
     "output_type": "stream",
     "text": [
      "MoviePy - Done.\n"
     ]
    },
    {
     "name": "stderr",
     "output_type": "stream",
     "text": [
      "chunk:   4%|██▌                                                        | 1/23 [2:12:29<48:34:51, 7949.60s/it, now=None]"
     ]
    },
    {
     "name": "stdout",
     "output_type": "stream",
     "text": [
      "MoviePy - Writing audio in Output\\Naruto_HD_Set_1_Disc_1-001\\Naruto_HD_Set_1_Disc_1-001_878000.mp3\n"
     ]
    },
    {
     "name": "stderr",
     "output_type": "stream",
     "text": [
      "\n",
      "chunk:   0%|                                                                          | 0/56 [00:00<?, ?it/s, now=None]\u001b[A\n",
      "chunk:  70%|████████████████████████████████████████████▌                   | 39/56 [00:00<00:00, 388.03it/s, now=None]\u001b[A\n",
      "chunk:   4%|██▌                                                        | 1/23 [2:12:29<48:34:55, 7949.77s/it, now=None]\u001b[A"
     ]
    },
    {
     "name": "stdout",
     "output_type": "stream",
     "text": [
      "MoviePy - Done.\n"
     ]
    },
    {
     "name": "stderr",
     "output_type": "stream",
     "text": [
      "chunk:   4%|██▌                                                        | 1/23 [2:12:31<48:35:29, 7951.32s/it, now=None]"
     ]
    },
    {
     "name": "stdout",
     "output_type": "stream",
     "text": [
      "MoviePy - Writing audio in Output\\Naruto_HD_Set_1_Disc_1-001\\Naruto_HD_Set_1_Disc_1-001_881000.mp3\n"
     ]
    },
    {
     "name": "stderr",
     "output_type": "stream",
     "text": [
      "\n",
      "chunk:   0%|                                                                          | 0/56 [00:00<?, ?it/s, now=None]\u001b[A\n",
      "chunk:  64%|█████████████████████████████████████████▏                      | 36/56 [00:00<00:00, 300.01it/s, now=None]\u001b[A\n",
      "chunk:   4%|██▌                                                        | 1/23 [2:12:31<48:35:32, 7951.49s/it, now=None]\u001b[A"
     ]
    },
    {
     "name": "stdout",
     "output_type": "stream",
     "text": [
      "MoviePy - Done.\n"
     ]
    },
    {
     "name": "stderr",
     "output_type": "stream",
     "text": [
      "chunk:   4%|██▌                                                        | 1/23 [2:12:33<48:36:07, 7953.06s/it, now=None]"
     ]
    },
    {
     "name": "stdout",
     "output_type": "stream",
     "text": [
      "MoviePy - Writing audio in Output\\Naruto_HD_Set_1_Disc_1-001\\Naruto_HD_Set_1_Disc_1-001_883500.mp3\n"
     ]
    },
    {
     "name": "stderr",
     "output_type": "stream",
     "text": [
      "\n",
      "chunk:   0%|                                                                          | 0/34 [00:00<?, ?it/s, now=None]\u001b[A\n",
      "chunk:  88%|████████████████████████████████████████████████████████▍       | 30/34 [00:00<00:00, 245.90it/s, now=None]\u001b[A\n",
      "chunk:   4%|██▌                                                        | 1/23 [2:12:33<48:36:10, 7953.22s/it, now=None]\u001b[A"
     ]
    },
    {
     "name": "stdout",
     "output_type": "stream",
     "text": [
      "MoviePy - Done.\n"
     ]
    },
    {
     "name": "stderr",
     "output_type": "stream",
     "text": [
      "chunk:   4%|██▌                                                        | 1/23 [2:12:33<48:36:24, 7953.86s/it, now=None]"
     ]
    },
    {
     "name": "stdout",
     "output_type": "stream",
     "text": [
      "MoviePy - Writing audio in Output\\Naruto_HD_Set_1_Disc_1-001\\Naruto_HD_Set_1_Disc_1-001_884500.mp3\n"
     ]
    },
    {
     "name": "stderr",
     "output_type": "stream",
     "text": [
      "\n",
      "chunk:   0%|                                                                          | 0/34 [00:00<?, ?it/s, now=None]\u001b[A\n",
      "chunk:   4%|██▌                                                        | 1/23 [2:12:33<48:36:27, 7953.98s/it, now=None]\u001b[A"
     ]
    },
    {
     "name": "stdout",
     "output_type": "stream",
     "text": [
      "MoviePy - Done.\n"
     ]
    },
    {
     "name": "stderr",
     "output_type": "stream",
     "text": [
      "chunk:   4%|██▌                                                        | 1/23 [2:12:35<48:36:51, 7955.06s/it, now=None]"
     ]
    },
    {
     "name": "stdout",
     "output_type": "stream",
     "text": [
      "MoviePy - Writing audio in Output\\Naruto_HD_Set_1_Disc_1-001\\Naruto_HD_Set_1_Disc_1-001_887000.mp3\n"
     ]
    },
    {
     "name": "stderr",
     "output_type": "stream",
     "text": [
      "\n",
      "chunk:   0%|                                                                          | 0/56 [00:00<?, ?it/s, now=None]\u001b[A\n",
      "chunk:  54%|██████████████████████████████████▎                             | 30/56 [00:00<00:00, 265.48it/s, now=None]\u001b[A\n",
      "chunk:   4%|██▌                                                        | 1/23 [2:12:35<48:36:55, 7955.26s/it, now=None]\u001b[A"
     ]
    },
    {
     "name": "stdout",
     "output_type": "stream",
     "text": [
      "MoviePy - Done.\n"
     ]
    },
    {
     "name": "stderr",
     "output_type": "stream",
     "text": [
      "chunk:   4%|██▌                                                        | 1/23 [2:12:36<48:37:19, 7956.34s/it, now=None]"
     ]
    },
    {
     "name": "stdout",
     "output_type": "stream",
     "text": [
      "MoviePy - Writing audio in Output\\Naruto_HD_Set_1_Disc_1-001\\Naruto_HD_Set_1_Disc_1-001_888500.mp3\n"
     ]
    },
    {
     "name": "stderr",
     "output_type": "stream",
     "text": [
      "\n",
      "chunk:   0%|                                                                          | 0/34 [00:00<?, ?it/s, now=None]\u001b[A\n",
      "chunk:   4%|██▌                                                        | 1/23 [2:12:36<48:37:22, 7956.46s/it, now=None]\u001b[A"
     ]
    },
    {
     "name": "stdout",
     "output_type": "stream",
     "text": [
      "MoviePy - Done.\n"
     ]
    },
    {
     "name": "stderr",
     "output_type": "stream",
     "text": [
      "chunk:   4%|██▌                                                        | 1/23 [2:12:37<48:37:36, 7957.11s/it, now=None]"
     ]
    },
    {
     "name": "stdout",
     "output_type": "stream",
     "text": [
      "MoviePy - Writing audio in Output\\Naruto_HD_Set_1_Disc_1-001\\Naruto_HD_Set_1_Disc_1-001_889500.mp3\n"
     ]
    },
    {
     "name": "stderr",
     "output_type": "stream",
     "text": [
      "\n",
      "chunk:   0%|                                                                          | 0/34 [00:00<?, ?it/s, now=None]\u001b[A\n",
      "chunk:   4%|██▌                                                        | 1/23 [2:12:37<48:37:39, 7957.24s/it, now=None]\u001b[A"
     ]
    },
    {
     "name": "stdout",
     "output_type": "stream",
     "text": [
      "MoviePy - Done.\n"
     ]
    },
    {
     "name": "stderr",
     "output_type": "stream",
     "text": [
      "chunk:   4%|██▌                                                        | 1/23 [2:12:37<48:37:52, 7957.85s/it, now=None]"
     ]
    },
    {
     "name": "stdout",
     "output_type": "stream",
     "text": [
      "MoviePy - Writing audio in Output\\Naruto_HD_Set_1_Disc_1-001\\Naruto_HD_Set_1_Disc_1-001_890500.mp3\n"
     ]
    },
    {
     "name": "stderr",
     "output_type": "stream",
     "text": [
      "\n",
      "chunk:   0%|                                                                          | 0/34 [00:00<?, ?it/s, now=None]\u001b[A\n",
      "chunk:  88%|████████████████████████████████████████████████████████▍       | 30/34 [00:00<00:00, 263.13it/s, now=None]\u001b[A\n",
      "chunk:   4%|██▌                                                        | 1/23 [2:12:38<48:37:56, 7958.00s/it, now=None]\u001b[A"
     ]
    },
    {
     "name": "stdout",
     "output_type": "stream",
     "text": [
      "MoviePy - Done.\n"
     ]
    },
    {
     "name": "stderr",
     "output_type": "stream",
     "text": [
      "chunk:   4%|██▌                                                        | 1/23 [2:12:39<48:38:20, 7959.10s/it, now=None]"
     ]
    },
    {
     "name": "stdout",
     "output_type": "stream",
     "text": [
      "MoviePy - Writing audio in Output\\Naruto_HD_Set_1_Disc_1-001\\Naruto_HD_Set_1_Disc_1-001_893000.mp3\n"
     ]
    },
    {
     "name": "stderr",
     "output_type": "stream",
     "text": [
      "\n",
      "chunk:   0%|                                                                          | 0/56 [00:00<?, ?it/s, now=None]\u001b[A\n",
      "chunk:  54%|██████████████████████████████████▎                             | 30/56 [00:00<00:00, 258.62it/s, now=None]\u001b[A\n",
      "chunk:   4%|██▌                                                        | 1/23 [2:12:39<48:38:23, 7959.27s/it, now=None]\u001b[A"
     ]
    },
    {
     "name": "stdout",
     "output_type": "stream",
     "text": [
      "MoviePy - Done.\n"
     ]
    },
    {
     "name": "stderr",
     "output_type": "stream",
     "text": [
      "chunk:   4%|██▌                                                        | 1/23 [2:12:40<48:38:48, 7960.41s/it, now=None]"
     ]
    },
    {
     "name": "stdout",
     "output_type": "stream",
     "text": [
      "MoviePy - Writing audio in Output\\Naruto_HD_Set_1_Disc_1-001\\Naruto_HD_Set_1_Disc_1-001_894500.mp3\n"
     ]
    },
    {
     "name": "stderr",
     "output_type": "stream",
     "text": [
      "\n",
      "chunk:   0%|                                                                          | 0/34 [00:00<?, ?it/s, now=None]\u001b[A\n",
      "chunk:   4%|██▌                                                        | 1/23 [2:12:40<48:38:51, 7960.53s/it, now=None]\u001b[A"
     ]
    },
    {
     "name": "stdout",
     "output_type": "stream",
     "text": [
      "MoviePy - Done.\n"
     ]
    },
    {
     "name": "stderr",
     "output_type": "stream",
     "text": [
      "chunk:   4%|██▌                                                        | 1/23 [2:12:41<48:39:07, 7961.25s/it, now=None]"
     ]
    },
    {
     "name": "stdout",
     "output_type": "stream",
     "text": [
      "MoviePy - Writing audio in Output\\Naruto_HD_Set_1_Disc_1-001\\Naruto_HD_Set_1_Disc_1-001_895500.mp3\n"
     ]
    },
    {
     "name": "stderr",
     "output_type": "stream",
     "text": [
      "\n",
      "chunk:   0%|                                                                          | 0/34 [00:00<?, ?it/s, now=None]\u001b[A\n",
      "chunk:   4%|██▌                                                        | 1/23 [2:12:41<48:39:10, 7961.37s/it, now=None]\u001b[A"
     ]
    },
    {
     "name": "stdout",
     "output_type": "stream",
     "text": [
      "MoviePy - Done.\n"
     ]
    },
    {
     "name": "stderr",
     "output_type": "stream",
     "text": [
      "chunk:   4%|██▌                                                        | 1/23 [2:12:42<48:39:24, 7962.04s/it, now=None]"
     ]
    },
    {
     "name": "stdout",
     "output_type": "stream",
     "text": [
      "MoviePy - Writing audio in Output\\Naruto_HD_Set_1_Disc_1-001\\Naruto_HD_Set_1_Disc_1-001_897000.mp3\n"
     ]
    },
    {
     "name": "stderr",
     "output_type": "stream",
     "text": [
      "\n",
      "chunk:   0%|                                                                          | 0/56 [00:00<?, ?it/s, now=None]\u001b[A\n",
      "chunk:  64%|█████████████████████████████████████████▏                      | 36/56 [00:00<00:00, 305.08it/s, now=None]\u001b[A\n",
      "chunk:   4%|██▌                                                        | 1/23 [2:12:42<48:39:28, 7962.21s/it, now=None]\u001b[A"
     ]
    },
    {
     "name": "stdout",
     "output_type": "stream",
     "text": [
      "MoviePy - Done.\n"
     ]
    },
    {
     "name": "stderr",
     "output_type": "stream",
     "text": [
      "chunk:   4%|██▌                                                        | 1/23 [2:12:43<48:39:52, 7963.31s/it, now=None]"
     ]
    },
    {
     "name": "stdout",
     "output_type": "stream",
     "text": [
      "MoviePy - Writing audio in Output\\Naruto_HD_Set_1_Disc_1-001\\Naruto_HD_Set_1_Disc_1-001_898500.mp3\n"
     ]
    },
    {
     "name": "stderr",
     "output_type": "stream",
     "text": [
      "\n",
      "chunk:   0%|                                                                          | 0/34 [00:00<?, ?it/s, now=None]\u001b[A\n",
      "chunk:   4%|██▌                                                        | 1/23 [2:12:43<48:39:55, 7963.44s/it, now=None]\u001b[A"
     ]
    },
    {
     "name": "stdout",
     "output_type": "stream",
     "text": [
      "MoviePy - Done.\n"
     ]
    },
    {
     "name": "stderr",
     "output_type": "stream",
     "text": [
      "chunk:   4%|██▌                                                        | 1/23 [2:12:44<48:40:11, 7964.15s/it, now=None]"
     ]
    },
    {
     "name": "stdout",
     "output_type": "stream",
     "text": [
      "MoviePy - Writing audio in Output\\Naruto_HD_Set_1_Disc_1-001\\Naruto_HD_Set_1_Disc_1-001_899500.mp3\n"
     ]
    },
    {
     "name": "stderr",
     "output_type": "stream",
     "text": [
      "\n",
      "chunk:   0%|                                                                          | 0/34 [00:00<?, ?it/s, now=None]\u001b[A\n",
      "chunk:  88%|████████████████████████████████████████████████████████▍       | 30/34 [00:00<00:00, 245.90it/s, now=None]\u001b[A\n",
      "chunk:   4%|██▌                                                        | 1/23 [2:12:44<48:40:14, 7964.31s/it, now=None]\u001b[A"
     ]
    },
    {
     "name": "stdout",
     "output_type": "stream",
     "text": [
      "MoviePy - Done.\n"
     ]
    },
    {
     "name": "stderr",
     "output_type": "stream",
     "text": [
      "chunk:   4%|██▌                                                        | 1/23 [2:12:44<48:40:29, 7964.96s/it, now=None]"
     ]
    },
    {
     "name": "stdout",
     "output_type": "stream",
     "text": [
      "MoviePy - Writing audio in Output\\Naruto_HD_Set_1_Disc_1-001\\Naruto_HD_Set_1_Disc_1-001_901000.mp3\n"
     ]
    },
    {
     "name": "stderr",
     "output_type": "stream",
     "text": [
      "\n",
      "chunk:   0%|                                                                          | 0/56 [00:00<?, ?it/s, now=None]\u001b[A\n",
      "chunk:  70%|████████████████████████████████████████████▌                   | 39/56 [00:00<00:00, 386.15it/s, now=None]\u001b[A\n",
      "chunk:   4%|██▌                                                        | 1/23 [2:12:45<48:40:32, 7965.13s/it, now=None]\u001b[A"
     ]
    },
    {
     "name": "stdout",
     "output_type": "stream",
     "text": [
      "MoviePy - Done.\n"
     ]
    },
    {
     "name": "stderr",
     "output_type": "stream",
     "text": [
      "chunk:   4%|██▌                                                        | 1/23 [2:12:46<48:40:57, 7966.24s/it, now=None]"
     ]
    },
    {
     "name": "stdout",
     "output_type": "stream",
     "text": [
      "MoviePy - Writing audio in Output\\Naruto_HD_Set_1_Disc_1-001\\Naruto_HD_Set_1_Disc_1-001_902500.mp3\n"
     ]
    },
    {
     "name": "stderr",
     "output_type": "stream",
     "text": [
      "\n",
      "chunk:   0%|                                                                          | 0/34 [00:00<?, ?it/s, now=None]\u001b[A\n",
      "chunk:   4%|██▌                                                        | 1/23 [2:12:46<48:40:59, 7966.36s/it, now=None]\u001b[A"
     ]
    },
    {
     "name": "stdout",
     "output_type": "stream",
     "text": [
      "MoviePy - Done.\n"
     ]
    },
    {
     "name": "stderr",
     "output_type": "stream",
     "text": [
      "chunk:   4%|██▌                                                        | 1/23 [2:12:46<48:41:12, 7966.95s/it, now=None]"
     ]
    },
    {
     "name": "stdout",
     "output_type": "stream",
     "text": [
      "MoviePy - Writing audio in Output\\Naruto_HD_Set_1_Disc_1-001\\Naruto_HD_Set_1_Disc_1-001_904000.mp3\n"
     ]
    },
    {
     "name": "stderr",
     "output_type": "stream",
     "text": [
      "\n",
      "chunk:   0%|                                                                          | 0/56 [00:00<?, ?it/s, now=None]\u001b[A\n",
      "chunk:  59%|█████████████████████████████████████▋                          | 33/56 [00:00<00:00, 286.95it/s, now=None]\u001b[A\n",
      "chunk:   4%|██▌                                                        | 1/23 [2:12:47<48:41:16, 7967.12s/it, now=None]\u001b[A"
     ]
    },
    {
     "name": "stdout",
     "output_type": "stream",
     "text": [
      "MoviePy - Done.\n"
     ]
    },
    {
     "name": "stderr",
     "output_type": "stream",
     "text": [
      "chunk:   4%|██▌                                                        | 1/23 [2:12:47<48:41:27, 7967.61s/it, now=None]"
     ]
    },
    {
     "name": "stdout",
     "output_type": "stream",
     "text": [
      "MoviePy - Writing audio in Output\\Naruto_HD_Set_1_Disc_1-001\\Naruto_HD_Set_1_Disc_1-001_908500.mp3\n"
     ]
    },
    {
     "name": "stderr",
     "output_type": "stream",
     "text": [
      "\n",
      "chunk:   0%|                                                                          | 0/34 [00:00<?, ?it/s, now=None]\u001b[A\n",
      "chunk:   4%|██▌                                                        | 1/23 [2:12:47<48:41:29, 7967.73s/it, now=None]\u001b[A"
     ]
    },
    {
     "name": "stdout",
     "output_type": "stream",
     "text": [
      "MoviePy - Done.\n"
     ]
    },
    {
     "name": "stderr",
     "output_type": "stream",
     "text": [
      "chunk:   4%|██▌                                                        | 1/23 [2:12:48<48:41:53, 7968.81s/it, now=None]"
     ]
    },
    {
     "name": "stdout",
     "output_type": "stream",
     "text": [
      "MoviePy - Writing audio in Output\\Naruto_HD_Set_1_Disc_1-001\\Naruto_HD_Set_1_Disc_1-001_910500.mp3\n"
     ]
    },
    {
     "name": "stderr",
     "output_type": "stream",
     "text": [
      "\n",
      "chunk:   0%|                                                                          | 0/34 [00:00<?, ?it/s, now=None]\u001b[A\n",
      "chunk:  88%|████████████████████████████████████████████████████████▍       | 30/34 [00:00<00:00, 260.87it/s, now=None]\u001b[A\n",
      "chunk:   4%|██▌                                                        | 1/23 [2:12:48<48:41:57, 7968.96s/it, now=None]\u001b[A"
     ]
    },
    {
     "name": "stdout",
     "output_type": "stream",
     "text": [
      "MoviePy - Done.\n"
     ]
    },
    {
     "name": "stderr",
     "output_type": "stream",
     "text": [
      "chunk:   4%|██▌                                                        | 1/23 [2:12:49<48:42:10, 7969.57s/it, now=None]"
     ]
    },
    {
     "name": "stdout",
     "output_type": "stream",
     "text": [
      "MoviePy - Writing audio in Output\\Naruto_HD_Set_1_Disc_1-001\\Naruto_HD_Set_1_Disc_1-001_912000.mp3\n"
     ]
    },
    {
     "name": "stderr",
     "output_type": "stream",
     "text": [
      "\n",
      "chunk:   0%|                                                                          | 0/56 [00:00<?, ?it/s, now=None]\u001b[A\n",
      "chunk:  66%|██████████████████████████████████████████▎                     | 37/56 [00:00<00:00, 313.58it/s, now=None]\u001b[A\n",
      "chunk:   4%|██▌                                                        | 1/23 [2:12:49<48:42:14, 7969.74s/it, now=None]\u001b[A"
     ]
    },
    {
     "name": "stdout",
     "output_type": "stream",
     "text": [
      "MoviePy - Done.\n"
     ]
    },
    {
     "name": "stderr",
     "output_type": "stream",
     "text": [
      "chunk:   4%|██▌                                                        | 1/23 [2:12:50<48:42:25, 7970.26s/it, now=None]"
     ]
    },
    {
     "name": "stdout",
     "output_type": "stream",
     "text": [
      "MoviePy - Writing audio in Output\\Naruto_HD_Set_1_Disc_1-001\\Naruto_HD_Set_1_Disc_1-001_915500.mp3\n"
     ]
    },
    {
     "name": "stderr",
     "output_type": "stream",
     "text": [
      "\n",
      "chunk:   0%|                                                                          | 0/34 [00:00<?, ?it/s, now=None]\u001b[A\n",
      "chunk:   4%|██▌                                                        | 1/23 [2:12:50<48:42:28, 7970.38s/it, now=None]\u001b[A"
     ]
    },
    {
     "name": "stdout",
     "output_type": "stream",
     "text": [
      "MoviePy - Done.\n"
     ]
    },
    {
     "name": "stderr",
     "output_type": "stream",
     "text": [
      "chunk:   4%|██▌                                                        | 1/23 [2:12:51<48:42:42, 7971.03s/it, now=None]"
     ]
    },
    {
     "name": "stdout",
     "output_type": "stream",
     "text": [
      "MoviePy - Writing audio in Output\\Naruto_HD_Set_1_Disc_1-001\\Naruto_HD_Set_1_Disc_1-001_916500.mp3\n"
     ]
    },
    {
     "name": "stderr",
     "output_type": "stream",
     "text": [
      "\n",
      "chunk:   0%|                                                                          | 0/34 [00:00<?, ?it/s, now=None]\u001b[A\n",
      "chunk:   4%|██▌                                                        | 1/23 [2:12:51<48:42:45, 7971.15s/it, now=None]\u001b[A"
     ]
    },
    {
     "name": "stdout",
     "output_type": "stream",
     "text": [
      "MoviePy - Done.\n"
     ]
    },
    {
     "name": "stderr",
     "output_type": "stream",
     "text": [
      "chunk:   4%|██▌                                                        | 1/23 [2:12:51<48:43:00, 7971.83s/it, now=None]"
     ]
    },
    {
     "name": "stdout",
     "output_type": "stream",
     "text": [
      "MoviePy - Writing audio in Output\\Naruto_HD_Set_1_Disc_1-001\\Naruto_HD_Set_1_Disc_1-001_917500.mp3\n"
     ]
    },
    {
     "name": "stderr",
     "output_type": "stream",
     "text": [
      "\n",
      "chunk:   0%|                                                                          | 0/34 [00:00<?, ?it/s, now=None]\u001b[A\n",
      "chunk:   4%|██▌                                                        | 1/23 [2:12:51<48:43:02, 7971.95s/it, now=None]\u001b[A"
     ]
    },
    {
     "name": "stdout",
     "output_type": "stream",
     "text": [
      "MoviePy - Done.\n"
     ]
    },
    {
     "name": "stderr",
     "output_type": "stream",
     "text": [
      "chunk:   4%|██▌                                                        | 1/23 [2:12:53<48:43:26, 7973.02s/it, now=None]"
     ]
    },
    {
     "name": "stdout",
     "output_type": "stream",
     "text": [
      "MoviePy - Writing audio in Output\\Naruto_HD_Set_1_Disc_1-001\\Naruto_HD_Set_1_Disc_1-001_919500.mp3\n"
     ]
    },
    {
     "name": "stderr",
     "output_type": "stream",
     "text": [
      "\n",
      "chunk:   0%|                                                                          | 0/34 [00:00<?, ?it/s, now=None]\u001b[A\n",
      "chunk:  88%|████████████████████████████████████████████████████████▍       | 30/34 [00:00<00:00, 254.24it/s, now=None]\u001b[A\n",
      "chunk:   4%|██▌                                                        | 1/23 [2:12:53<48:43:29, 7973.18s/it, now=None]\u001b[A"
     ]
    },
    {
     "name": "stdout",
     "output_type": "stream",
     "text": [
      "MoviePy - Done.\n"
     ]
    },
    {
     "name": "stderr",
     "output_type": "stream",
     "text": [
      "chunk:   4%|██▌                                                        | 1/23 [2:12:53<48:43:44, 7973.86s/it, now=None]"
     ]
    },
    {
     "name": "stdout",
     "output_type": "stream",
     "text": [
      "MoviePy - Writing audio in Output\\Naruto_HD_Set_1_Disc_1-001\\Naruto_HD_Set_1_Disc_1-001_920500.mp3\n"
     ]
    },
    {
     "name": "stderr",
     "output_type": "stream",
     "text": [
      "\n",
      "chunk:   0%|                                                                          | 0/34 [00:00<?, ?it/s, now=None]\u001b[A\n",
      "chunk:   4%|██▌                                                        | 1/23 [2:12:53<48:43:47, 7973.98s/it, now=None]\u001b[A"
     ]
    },
    {
     "name": "stdout",
     "output_type": "stream",
     "text": [
      "MoviePy - Done.\n"
     ]
    },
    {
     "name": "stderr",
     "output_type": "stream",
     "text": [
      "chunk:   4%|██▌                                                        | 1/23 [2:12:54<48:44:02, 7974.67s/it, now=None]"
     ]
    },
    {
     "name": "stdout",
     "output_type": "stream",
     "text": [
      "MoviePy - Writing audio in Output\\Naruto_HD_Set_1_Disc_1-001\\Naruto_HD_Set_1_Disc_1-001_921500.mp3\n"
     ]
    },
    {
     "name": "stderr",
     "output_type": "stream",
     "text": [
      "\n",
      "chunk:   0%|                                                                          | 0/34 [00:00<?, ?it/s, now=None]\u001b[A\n",
      "chunk:  88%|████████████████████████████████████████████████████████▍       | 30/34 [00:00<00:00, 254.24it/s, now=None]\u001b[A\n",
      "chunk:   4%|██▌                                                        | 1/23 [2:12:54<48:44:06, 7974.83s/it, now=None]\u001b[A"
     ]
    },
    {
     "name": "stdout",
     "output_type": "stream",
     "text": [
      "MoviePy - Done.\n"
     ]
    },
    {
     "name": "stderr",
     "output_type": "stream",
     "text": [
      "chunk:   4%|██▌                                                        | 1/23 [2:12:55<48:44:19, 7975.41s/it, now=None]"
     ]
    },
    {
     "name": "stdout",
     "output_type": "stream",
     "text": [
      "MoviePy - Writing audio in Output\\Naruto_HD_Set_1_Disc_1-001\\Naruto_HD_Set_1_Disc_1-001_922500.mp3\n"
     ]
    },
    {
     "name": "stderr",
     "output_type": "stream",
     "text": [
      "\n",
      "chunk:   0%|                                                                          | 0/34 [00:00<?, ?it/s, now=None]\u001b[A\n",
      "chunk:   4%|██▌                                                        | 1/23 [2:12:55<48:44:21, 7975.54s/it, now=None]\u001b[A"
     ]
    },
    {
     "name": "stdout",
     "output_type": "stream",
     "text": [
      "MoviePy - Done.\n"
     ]
    },
    {
     "name": "stderr",
     "output_type": "stream",
     "text": [
      "chunk:   4%|██▌                                                        | 1/23 [2:12:56<48:44:34, 7976.11s/it, now=None]"
     ]
    },
    {
     "name": "stdout",
     "output_type": "stream",
     "text": [
      "MoviePy - Writing audio in Output\\Naruto_HD_Set_1_Disc_1-001\\Naruto_HD_Set_1_Disc_1-001_924000.mp3\n"
     ]
    },
    {
     "name": "stderr",
     "output_type": "stream",
     "text": [
      "\n",
      "chunk:   0%|                                                                          | 0/56 [00:00<?, ?it/s, now=None]\u001b[A\n",
      "chunk:  54%|██████████████████████████████████▎                             | 30/56 [00:00<00:00, 256.41it/s, now=None]\u001b[A\n",
      "chunk:   4%|██▌                                                        | 1/23 [2:12:56<48:44:38, 7976.29s/it, now=None]\u001b[A"
     ]
    },
    {
     "name": "stdout",
     "output_type": "stream",
     "text": [
      "MoviePy - Done.\n"
     ]
    },
    {
     "name": "stderr",
     "output_type": "stream",
     "text": [
      "chunk:   4%|██▌                                                        | 1/23 [2:12:57<48:45:02, 7977.39s/it, now=None]"
     ]
    },
    {
     "name": "stdout",
     "output_type": "stream",
     "text": [
      "MoviePy - Writing audio in Output\\Naruto_HD_Set_1_Disc_1-001\\Naruto_HD_Set_1_Disc_1-001_925500.mp3\n"
     ]
    },
    {
     "name": "stderr",
     "output_type": "stream",
     "text": [
      "\n",
      "chunk:   0%|                                                                          | 0/34 [00:00<?, ?it/s, now=None]\u001b[A\n",
      "chunk: 100%|████████████████████████████████████████████████████████████████| 34/34 [00:00<00:00, 294.30it/s, now=None]\u001b[A\n",
      "chunk:   4%|██▌                                                        | 1/23 [2:12:57<48:45:05, 7977.54s/it, now=None]\u001b[A"
     ]
    },
    {
     "name": "stdout",
     "output_type": "stream",
     "text": [
      "MoviePy - Done.\n"
     ]
    },
    {
     "name": "stderr",
     "output_type": "stream",
     "text": [
      "chunk:   4%|██▌                                                        | 1/23 [2:12:58<48:45:20, 7978.21s/it, now=None]"
     ]
    },
    {
     "name": "stdout",
     "output_type": "stream",
     "text": [
      "MoviePy - Writing audio in Output\\Naruto_HD_Set_1_Disc_1-001\\Naruto_HD_Set_1_Disc_1-001_927000.mp3\n"
     ]
    },
    {
     "name": "stderr",
     "output_type": "stream",
     "text": [
      "\n",
      "chunk:   0%|                                                                          | 0/56 [00:00<?, ?it/s, now=None]\u001b[A\n",
      "chunk:  73%|██████████████████████████████████████████████▊                 | 41/56 [00:00<00:00, 409.97it/s, now=None]\u001b[A\n",
      "chunk:   4%|██▌                                                        | 1/23 [2:12:58<48:45:23, 7978.35s/it, now=None]\u001b[A"
     ]
    },
    {
     "name": "stdout",
     "output_type": "stream",
     "text": [
      "MoviePy - Done.\n"
     ]
    },
    {
     "name": "stderr",
     "output_type": "stream",
     "text": [
      "chunk:   4%|██▌                                                        | 1/23 [2:12:58<48:45:36, 7978.94s/it, now=None]"
     ]
    },
    {
     "name": "stdout",
     "output_type": "stream",
     "text": [
      "MoviePy - Writing audio in Output\\Naruto_HD_Set_1_Disc_1-001\\Naruto_HD_Set_1_Disc_1-001_932500.mp3\n"
     ]
    },
    {
     "name": "stderr",
     "output_type": "stream",
     "text": [
      "\n",
      "chunk:   0%|                                                                          | 0/34 [00:00<?, ?it/s, now=None]\u001b[A\n",
      "chunk:   4%|██▌                                                        | 1/23 [2:12:59<48:45:39, 7979.07s/it, now=None]\u001b[A"
     ]
    },
    {
     "name": "stdout",
     "output_type": "stream",
     "text": [
      "MoviePy - Done.\n"
     ]
    },
    {
     "name": "stderr",
     "output_type": "stream",
     "text": [
      "chunk:   4%|██▌                                                        | 1/23 [2:12:59<48:45:54, 7979.73s/it, now=None]"
     ]
    },
    {
     "name": "stdout",
     "output_type": "stream",
     "text": [
      "MoviePy - Writing audio in Output\\Naruto_HD_Set_1_Disc_1-001\\Naruto_HD_Set_1_Disc_1-001_933500.mp3\n"
     ]
    },
    {
     "name": "stderr",
     "output_type": "stream",
     "text": [
      "\n",
      "chunk:   0%|                                                                          | 0/34 [00:00<?, ?it/s, now=None]\u001b[A\n",
      "chunk:   4%|██▌                                                        | 1/23 [2:12:59<48:45:56, 7979.86s/it, now=None]\u001b[A"
     ]
    },
    {
     "name": "stdout",
     "output_type": "stream",
     "text": [
      "MoviePy - Done.\n"
     ]
    },
    {
     "name": "stderr",
     "output_type": "stream",
     "text": [
      "chunk:   4%|██▌                                                        | 1/23 [2:13:00<48:46:10, 7980.47s/it, now=None]"
     ]
    },
    {
     "name": "stdout",
     "output_type": "stream",
     "text": [
      "MoviePy - Writing audio in Output\\Naruto_HD_Set_1_Disc_1-001\\Naruto_HD_Set_1_Disc_1-001_934500.mp3\n"
     ]
    },
    {
     "name": "stderr",
     "output_type": "stream",
     "text": [
      "\n",
      "chunk:   0%|                                                                          | 0/34 [00:00<?, ?it/s, now=None]\u001b[A\n",
      "chunk:   4%|██▌                                                        | 1/23 [2:13:00<48:46:13, 7980.59s/it, now=None]\u001b[A"
     ]
    },
    {
     "name": "stdout",
     "output_type": "stream",
     "text": [
      "MoviePy - Done.\n"
     ]
    },
    {
     "name": "stderr",
     "output_type": "stream",
     "text": [
      "chunk:   4%|██▌                                                        | 1/23 [2:13:01<48:46:27, 7981.24s/it, now=None]"
     ]
    },
    {
     "name": "stdout",
     "output_type": "stream",
     "text": [
      "MoviePy - Writing audio in Output\\Naruto_HD_Set_1_Disc_1-001\\Naruto_HD_Set_1_Disc_1-001_935500.mp3\n"
     ]
    },
    {
     "name": "stderr",
     "output_type": "stream",
     "text": [
      "\n",
      "chunk:   0%|                                                                          | 0/34 [00:00<?, ?it/s, now=None]\u001b[A\n",
      "chunk:   4%|██▌                                                        | 1/23 [2:13:01<48:46:29, 7981.35s/it, now=None]\u001b[A"
     ]
    },
    {
     "name": "stdout",
     "output_type": "stream",
     "text": [
      "MoviePy - Done.\n"
     ]
    },
    {
     "name": "stderr",
     "output_type": "stream",
     "text": [
      "chunk:   4%|██▌                                                        | 1/23 [2:13:01<48:46:43, 7981.97s/it, now=None]"
     ]
    },
    {
     "name": "stdout",
     "output_type": "stream",
     "text": [
      "MoviePy - Writing audio in Output\\Naruto_HD_Set_1_Disc_1-001\\Naruto_HD_Set_1_Disc_1-001_936500.mp3\n"
     ]
    },
    {
     "name": "stderr",
     "output_type": "stream",
     "text": [
      "\n",
      "chunk:   0%|                                                                          | 0/34 [00:00<?, ?it/s, now=None]\u001b[A\n",
      "chunk:  88%|████████████████████████████████████████████████████████▍       | 30/34 [00:00<00:00, 265.50it/s, now=None]\u001b[A\n",
      "chunk:   4%|██▌                                                        | 1/23 [2:13:02<48:46:46, 7982.12s/it, now=None]\u001b[A"
     ]
    },
    {
     "name": "stdout",
     "output_type": "stream",
     "text": [
      "MoviePy - Done.\n"
     ]
    },
    {
     "name": "stderr",
     "output_type": "stream",
     "text": [
      "chunk:   4%|██▌                                                        | 1/23 [2:13:02<48:47:00, 7982.75s/it, now=None]"
     ]
    },
    {
     "name": "stdout",
     "output_type": "stream",
     "text": [
      "MoviePy - Writing audio in Output\\Naruto_HD_Set_1_Disc_1-001\\Naruto_HD_Set_1_Disc_1-001_938500.mp3\n"
     ]
    },
    {
     "name": "stderr",
     "output_type": "stream",
     "text": [
      "\n",
      "chunk:   0%|                                                                          | 0/78 [00:00<?, ?it/s, now=None]\u001b[A\n",
      "chunk:  55%|███████████████████████████████████▎                            | 43/78 [00:00<00:00, 355.37it/s, now=None]\u001b[A\n",
      "chunk:   4%|██▌                                                        | 1/23 [2:13:02<48:47:04, 7982.93s/it, now=None]\u001b[A"
     ]
    },
    {
     "name": "stdout",
     "output_type": "stream",
     "text": [
      "MoviePy - Done.\n"
     ]
    },
    {
     "name": "stderr",
     "output_type": "stream",
     "text": [
      "chunk:   4%|██▌                                                        | 1/23 [2:13:04<48:47:38, 7984.48s/it, now=None]"
     ]
    },
    {
     "name": "stdout",
     "output_type": "stream",
     "text": [
      "MoviePy - Writing audio in Output\\Naruto_HD_Set_1_Disc_1-001\\Naruto_HD_Set_1_Disc_1-001_940500.mp3\n"
     ]
    },
    {
     "name": "stderr",
     "output_type": "stream",
     "text": [
      "\n",
      "chunk:   0%|                                                                          | 0/34 [00:00<?, ?it/s, now=None]\u001b[A\n",
      "chunk:  88%|████████████████████████████████████████████████████████▍       | 30/34 [00:00<00:00, 270.28it/s, now=None]\u001b[A\n",
      "chunk:   4%|██▌                                                        | 1/23 [2:13:04<48:47:41, 7984.63s/it, now=None]\u001b[A"
     ]
    },
    {
     "name": "stdout",
     "output_type": "stream",
     "text": [
      "MoviePy - Done.\n"
     ]
    },
    {
     "name": "stderr",
     "output_type": "stream",
     "text": [
      "chunk:   4%|██▌                                                        | 1/23 [2:13:05<48:47:56, 7985.28s/it, now=None]"
     ]
    },
    {
     "name": "stdout",
     "output_type": "stream",
     "text": [
      "MoviePy - Writing audio in Output\\Naruto_HD_Set_1_Disc_1-001\\Naruto_HD_Set_1_Disc_1-001_941500.mp3\n"
     ]
    },
    {
     "name": "stderr",
     "output_type": "stream",
     "text": [
      "\n",
      "chunk:   0%|                                                                          | 0/34 [00:00<?, ?it/s, now=None]\u001b[A\n",
      "chunk:   4%|██▌                                                        | 1/23 [2:13:05<48:47:58, 7985.40s/it, now=None]\u001b[A"
     ]
    },
    {
     "name": "stdout",
     "output_type": "stream",
     "text": [
      "MoviePy - Done.\n"
     ]
    },
    {
     "name": "stderr",
     "output_type": "stream",
     "text": [
      "chunk:   4%|██▌                                                        | 1/23 [2:13:05<48:48:11, 7985.99s/it, now=None]"
     ]
    },
    {
     "name": "stdout",
     "output_type": "stream",
     "text": [
      "MoviePy - Writing audio in Output\\Naruto_HD_Set_1_Disc_1-001\\Naruto_HD_Set_1_Disc_1-001_942500.mp3\n"
     ]
    },
    {
     "name": "stderr",
     "output_type": "stream",
     "text": [
      "\n",
      "chunk:   0%|                                                                          | 0/34 [00:00<?, ?it/s, now=None]\u001b[A\n",
      "chunk:   4%|██▌                                                        | 1/23 [2:13:06<48:48:14, 7986.13s/it, now=None]\u001b[A"
     ]
    },
    {
     "name": "stdout",
     "output_type": "stream",
     "text": [
      "MoviePy - Done.\n"
     ]
    },
    {
     "name": "stderr",
     "output_type": "stream",
     "text": [
      "chunk:   4%|██▌                                                        | 1/23 [2:13:06<48:48:28, 7986.76s/it, now=None]"
     ]
    },
    {
     "name": "stdout",
     "output_type": "stream",
     "text": [
      "MoviePy - Writing audio in Output\\Naruto_HD_Set_1_Disc_1-001\\Naruto_HD_Set_1_Disc_1-001_943500.mp3\n"
     ]
    },
    {
     "name": "stderr",
     "output_type": "stream",
     "text": [
      "\n",
      "chunk:   0%|                                                                          | 0/34 [00:00<?, ?it/s, now=None]\u001b[A\n",
      "chunk:   4%|██▌                                                        | 1/23 [2:13:06<48:48:31, 7986.88s/it, now=None]\u001b[A"
     ]
    },
    {
     "name": "stdout",
     "output_type": "stream",
     "text": [
      "MoviePy - Done.\n"
     ]
    },
    {
     "name": "stderr",
     "output_type": "stream",
     "text": [
      "chunk:   4%|██▌                                                        | 1/23 [2:13:07<48:48:45, 7987.53s/it, now=None]"
     ]
    },
    {
     "name": "stdout",
     "output_type": "stream",
     "text": [
      "MoviePy - Writing audio in Output\\Naruto_HD_Set_1_Disc_1-001\\Naruto_HD_Set_1_Disc_1-001_944500.mp3\n"
     ]
    },
    {
     "name": "stderr",
     "output_type": "stream",
     "text": [
      "\n",
      "chunk:   0%|                                                                          | 0/34 [00:00<?, ?it/s, now=None]\u001b[A\n",
      "chunk:   4%|██▌                                                        | 1/23 [2:13:07<48:48:48, 7987.65s/it, now=None]\u001b[A"
     ]
    },
    {
     "name": "stdout",
     "output_type": "stream",
     "text": [
      "MoviePy - Done.\n"
     ]
    },
    {
     "name": "stderr",
     "output_type": "stream",
     "text": [
      "chunk:   4%|██▌                                                        | 1/23 [2:13:08<48:49:02, 7988.31s/it, now=None]"
     ]
    },
    {
     "name": "stdout",
     "output_type": "stream",
     "text": [
      "MoviePy - Writing audio in Output\\Naruto_HD_Set_1_Disc_1-001\\Naruto_HD_Set_1_Disc_1-001_946000.mp3\n"
     ]
    },
    {
     "name": "stderr",
     "output_type": "stream",
     "text": [
      "\n",
      "chunk:   0%|                                                                          | 0/56 [00:00<?, ?it/s, now=None]\u001b[A\n",
      "chunk:  54%|██████████████████████████████████▎                             | 30/56 [00:00<00:00, 270.26it/s, now=None]\u001b[A\n",
      "chunk:   4%|██▌                                                        | 1/23 [2:13:08<48:49:06, 7988.48s/it, now=None]\u001b[A"
     ]
    },
    {
     "name": "stdout",
     "output_type": "stream",
     "text": [
      "MoviePy - Done.\n"
     ]
    },
    {
     "name": "stderr",
     "output_type": "stream",
     "text": [
      "chunk:   4%|██▌                                                        | 1/23 [2:13:08<48:49:17, 7988.97s/it, now=None]"
     ]
    },
    {
     "name": "stdout",
     "output_type": "stream",
     "text": [
      "MoviePy - Writing audio in Output\\Naruto_HD_Set_1_Disc_1-001\\Naruto_HD_Set_1_Disc_1-001_952000.mp3\n"
     ]
    },
    {
     "name": "stderr",
     "output_type": "stream",
     "text": [
      "\n",
      "chunk:   0%|                                                                          | 0/56 [00:00<?, ?it/s, now=None]\u001b[A\n",
      "chunk:  64%|█████████████████████████████████████████▏                      | 36/56 [00:00<00:00, 360.00it/s, now=None]\u001b[A\n",
      "chunk:   4%|██▌                                                        | 1/23 [2:13:09<48:49:20, 7989.13s/it, now=None]\u001b[A"
     ]
    },
    {
     "name": "stdout",
     "output_type": "stream",
     "text": [
      "MoviePy - Done.\n"
     ]
    },
    {
     "name": "stderr",
     "output_type": "stream",
     "text": [
      "chunk:   4%|██▌                                                        | 1/23 [2:13:10<48:49:44, 7990.20s/it, now=None]"
     ]
    },
    {
     "name": "stdout",
     "output_type": "stream",
     "text": [
      "MoviePy - Writing audio in Output\\Naruto_HD_Set_1_Disc_1-001\\Naruto_HD_Set_1_Disc_1-001_953500.mp3\n"
     ]
    },
    {
     "name": "stderr",
     "output_type": "stream",
     "text": [
      "\n",
      "chunk:   0%|                                                                          | 0/34 [00:00<?, ?it/s, now=None]\u001b[A\n",
      "chunk:   4%|██▌                                                        | 1/23 [2:13:10<48:49:47, 7990.32s/it, now=None]\u001b[A"
     ]
    },
    {
     "name": "stdout",
     "output_type": "stream",
     "text": [
      "MoviePy - Done.\n"
     ]
    },
    {
     "name": "stderr",
     "output_type": "stream",
     "text": [
      "chunk:   4%|██▌                                                        | 1/23 [2:13:10<48:50:00, 7990.94s/it, now=None]"
     ]
    },
    {
     "name": "stdout",
     "output_type": "stream",
     "text": [
      "MoviePy - Writing audio in Output\\Naruto_HD_Set_1_Disc_1-001\\Naruto_HD_Set_1_Disc_1-001_954500.mp3\n"
     ]
    },
    {
     "name": "stderr",
     "output_type": "stream",
     "text": [
      "\n",
      "chunk:   0%|                                                                          | 0/34 [00:00<?, ?it/s, now=None]\u001b[A\n",
      "chunk:   4%|██▌                                                        | 1/23 [2:13:11<48:50:03, 7991.06s/it, now=None]\u001b[A"
     ]
    },
    {
     "name": "stdout",
     "output_type": "stream",
     "text": [
      "MoviePy - Done.\n"
     ]
    },
    {
     "name": "stderr",
     "output_type": "stream",
     "text": [
      "chunk:   4%|██▌                                                        | 1/23 [2:13:11<48:50:17, 7991.70s/it, now=None]"
     ]
    },
    {
     "name": "stdout",
     "output_type": "stream",
     "text": [
      "MoviePy - Writing audio in Output\\Naruto_HD_Set_1_Disc_1-001\\Naruto_HD_Set_1_Disc_1-001_955500.mp3\n"
     ]
    },
    {
     "name": "stderr",
     "output_type": "stream",
     "text": [
      "\n",
      "chunk:   0%|                                                                          | 0/34 [00:00<?, ?it/s, now=None]\u001b[A\n",
      "chunk:  88%|████████████████████████████████████████████████████████▍       | 30/34 [00:00<00:00, 265.49it/s, now=None]\u001b[A\n",
      "chunk:   4%|██▌                                                        | 1/23 [2:13:11<48:50:20, 7991.85s/it, now=None]\u001b[A"
     ]
    },
    {
     "name": "stdout",
     "output_type": "stream",
     "text": [
      "MoviePy - Done.\n"
     ]
    },
    {
     "name": "stderr",
     "output_type": "stream",
     "text": [
      "chunk:   4%|██▌                                                        | 1/23 [2:13:12<48:50:35, 7992.52s/it, now=None]"
     ]
    },
    {
     "name": "stdout",
     "output_type": "stream",
     "text": [
      "MoviePy - Writing audio in Output\\Naruto_HD_Set_1_Disc_1-001\\Naruto_HD_Set_1_Disc_1-001_956500.mp3\n"
     ]
    },
    {
     "name": "stderr",
     "output_type": "stream",
     "text": [
      "\n",
      "chunk:   0%|                                                                          | 0/34 [00:00<?, ?it/s, now=None]\u001b[A\n",
      "chunk:   4%|██▌                                                        | 1/23 [2:13:12<48:50:37, 7992.63s/it, now=None]\u001b[A"
     ]
    },
    {
     "name": "stdout",
     "output_type": "stream",
     "text": [
      "MoviePy - Done.\n"
     ]
    },
    {
     "name": "stderr",
     "output_type": "stream",
     "text": [
      "chunk:   4%|██▌                                                        | 1/23 [2:13:13<48:50:52, 7993.28s/it, now=None]"
     ]
    },
    {
     "name": "stdout",
     "output_type": "stream",
     "text": [
      "MoviePy - Writing audio in Output\\Naruto_HD_Set_1_Disc_1-001\\Naruto_HD_Set_1_Disc_1-001_958000.mp3\n"
     ]
    },
    {
     "name": "stderr",
     "output_type": "stream",
     "text": [
      "\n",
      "chunk:   0%|                                                                          | 0/56 [00:00<?, ?it/s, now=None]\u001b[A\n",
      "chunk:  54%|██████████████████████████████████▎                             | 30/56 [00:00<00:00, 270.27it/s, now=None]\u001b[A\n",
      "chunk:   4%|██▌                                                        | 1/23 [2:13:13<48:50:55, 7993.44s/it, now=None]\u001b[A"
     ]
    },
    {
     "name": "stdout",
     "output_type": "stream",
     "text": [
      "MoviePy - Done.\n"
     ]
    },
    {
     "name": "stderr",
     "output_type": "stream",
     "text": [
      "chunk:   4%|██▌                                                        | 1/23 [2:13:14<48:51:19, 7994.51s/it, now=None]"
     ]
    },
    {
     "name": "stdout",
     "output_type": "stream",
     "text": [
      "MoviePy - Writing audio in Output\\Naruto_HD_Set_1_Disc_1-001\\Naruto_HD_Set_1_Disc_1-001_959500.mp3\n"
     ]
    },
    {
     "name": "stderr",
     "output_type": "stream",
     "text": [
      "\n",
      "chunk:   0%|                                                                          | 0/34 [00:00<?, ?it/s, now=None]\u001b[A\n",
      "chunk:  88%|████████████████████████████████████████████████████████▍       | 30/34 [00:00<00:00, 263.15it/s, now=None]\u001b[A\n",
      "chunk:   4%|██▌                                                        | 1/23 [2:13:14<48:51:22, 7994.66s/it, now=None]\u001b[A"
     ]
    },
    {
     "name": "stdout",
     "output_type": "stream",
     "text": [
      "MoviePy - Done.\n"
     ]
    },
    {
     "name": "stderr",
     "output_type": "stream",
     "text": [
      "chunk:   4%|██▌                                                        | 1/23 [2:13:15<48:51:37, 7995.32s/it, now=None]"
     ]
    },
    {
     "name": "stdout",
     "output_type": "stream",
     "text": [
      "MoviePy - Writing audio in Output\\Naruto_HD_Set_1_Disc_1-001\\Naruto_HD_Set_1_Disc_1-001_960500.mp3\n"
     ]
    },
    {
     "name": "stderr",
     "output_type": "stream",
     "text": [
      "\n",
      "chunk:   0%|                                                                          | 0/34 [00:00<?, ?it/s, now=None]\u001b[A\n",
      "chunk:   4%|██▌                                                        | 1/23 [2:13:15<48:51:39, 7995.44s/it, now=None]\u001b[A"
     ]
    },
    {
     "name": "stdout",
     "output_type": "stream",
     "text": [
      "MoviePy - Done.\n"
     ]
    },
    {
     "name": "stderr",
     "output_type": "stream",
     "text": [
      "chunk:   4%|██▌                                                        | 1/23 [2:13:16<48:51:54, 7996.11s/it, now=None]"
     ]
    },
    {
     "name": "stdout",
     "output_type": "stream",
     "text": [
      "MoviePy - Writing audio in Output\\Naruto_HD_Set_1_Disc_1-001\\Naruto_HD_Set_1_Disc_1-001_961500.mp3\n"
     ]
    },
    {
     "name": "stderr",
     "output_type": "stream",
     "text": [
      "\n",
      "chunk:   0%|                                                                          | 0/34 [00:00<?, ?it/s, now=None]\u001b[A\n",
      "chunk: 100%|████████████████████████████████████████████████████████████████| 34/34 [00:00<00:00, 293.11it/s, now=None]\u001b[A\n",
      "chunk:   4%|██▌                                                        | 1/23 [2:13:16<48:51:57, 7996.26s/it, now=None]\u001b[A"
     ]
    },
    {
     "name": "stdout",
     "output_type": "stream",
     "text": [
      "MoviePy - Done.\n"
     ]
    },
    {
     "name": "stderr",
     "output_type": "stream",
     "text": [
      "chunk:   4%|██▌                                                        | 1/23 [2:13:16<48:52:11, 7996.87s/it, now=None]"
     ]
    },
    {
     "name": "stdout",
     "output_type": "stream",
     "text": [
      "MoviePy - Writing audio in Output\\Naruto_HD_Set_1_Disc_1-001\\Naruto_HD_Set_1_Disc_1-001_962500.mp3\n"
     ]
    },
    {
     "name": "stderr",
     "output_type": "stream",
     "text": [
      "\n",
      "chunk:   0%|                                                                          | 0/34 [00:00<?, ?it/s, now=None]\u001b[A\n",
      "chunk:   4%|██▌                                                        | 1/23 [2:13:16<48:52:13, 7996.99s/it, now=None]\u001b[A"
     ]
    },
    {
     "name": "stdout",
     "output_type": "stream",
     "text": [
      "MoviePy - Done.\n"
     ]
    },
    {
     "name": "stderr",
     "output_type": "stream",
     "text": [
      "chunk:   4%|██▌                                                        | 1/23 [2:13:17<48:52:27, 7997.63s/it, now=None]"
     ]
    },
    {
     "name": "stdout",
     "output_type": "stream",
     "text": [
      "MoviePy - Writing audio in Output\\Naruto_HD_Set_1_Disc_1-001\\Naruto_HD_Set_1_Disc_1-001_963500.mp3\n"
     ]
    },
    {
     "name": "stderr",
     "output_type": "stream",
     "text": [
      "\n",
      "chunk:   0%|                                                                          | 0/34 [00:00<?, ?it/s, now=None]\u001b[A\n",
      "chunk:   4%|██▌                                                        | 1/23 [2:13:17<48:52:30, 7997.75s/it, now=None]\u001b[A"
     ]
    },
    {
     "name": "stdout",
     "output_type": "stream",
     "text": [
      "MoviePy - Done.\n"
     ]
    },
    {
     "name": "stderr",
     "output_type": "stream",
     "text": [
      "chunk:   4%|██▌                                                        | 1/23 [2:13:18<48:52:45, 7998.44s/it, now=None]"
     ]
    },
    {
     "name": "stdout",
     "output_type": "stream",
     "text": [
      "MoviePy - Writing audio in Output\\Naruto_HD_Set_1_Disc_1-001\\Naruto_HD_Set_1_Disc_1-001_964500.mp3\n"
     ]
    },
    {
     "name": "stderr",
     "output_type": "stream",
     "text": [
      "\n",
      "chunk:   0%|                                                                          | 0/34 [00:00<?, ?it/s, now=None]\u001b[A\n",
      "chunk:  88%|████████████████████████████████████████████████████████▍       | 30/34 [00:00<00:00, 273.94it/s, now=None]\u001b[A\n",
      "chunk:   4%|██▌                                                        | 1/23 [2:13:18<48:52:49, 7998.59s/it, now=None]\u001b[A"
     ]
    },
    {
     "name": "stdout",
     "output_type": "stream",
     "text": [
      "MoviePy - Done.\n"
     ]
    },
    {
     "name": "stderr",
     "output_type": "stream",
     "text": [
      "chunk:   4%|██▌                                                        | 1/23 [2:13:19<48:53:02, 7999.23s/it, now=None]"
     ]
    },
    {
     "name": "stdout",
     "output_type": "stream",
     "text": [
      "MoviePy - Writing audio in Output\\Naruto_HD_Set_1_Disc_1-001\\Naruto_HD_Set_1_Disc_1-001_965500.mp3\n"
     ]
    },
    {
     "name": "stderr",
     "output_type": "stream",
     "text": [
      "\n",
      "chunk:   0%|                                                                          | 0/34 [00:00<?, ?it/s, now=None]\u001b[A\n",
      "chunk:   4%|██▌                                                        | 1/23 [2:13:19<48:53:05, 7999.34s/it, now=None]\u001b[A"
     ]
    },
    {
     "name": "stdout",
     "output_type": "stream",
     "text": [
      "MoviePy - Done.\n"
     ]
    },
    {
     "name": "stderr",
     "output_type": "stream",
     "text": [
      "chunk:   4%|██▌                                                        | 1/23 [2:13:19<48:53:19, 7999.98s/it, now=None]"
     ]
    },
    {
     "name": "stdout",
     "output_type": "stream",
     "text": [
      "MoviePy - Writing audio in Output\\Naruto_HD_Set_1_Disc_1-001\\Naruto_HD_Set_1_Disc_1-001_966500.mp3\n"
     ]
    },
    {
     "name": "stderr",
     "output_type": "stream",
     "text": [
      "\n",
      "chunk:   0%|                                                                          | 0/34 [00:00<?, ?it/s, now=None]\u001b[A\n",
      "chunk:  88%|████████████████████████████████████████████████████████▍       | 30/34 [00:00<00:00, 265.49it/s, now=None]\u001b[A\n",
      "chunk:   4%|██▌                                                        | 1/23 [2:13:20<48:53:22, 8000.13s/it, now=None]\u001b[A"
     ]
    },
    {
     "name": "stdout",
     "output_type": "stream",
     "text": [
      "MoviePy - Done.\n"
     ]
    },
    {
     "name": "stderr",
     "output_type": "stream",
     "text": [
      "chunk:   4%|██▌                                                        | 1/23 [2:13:20<48:53:36, 8000.77s/it, now=None]"
     ]
    },
    {
     "name": "stdout",
     "output_type": "stream",
     "text": [
      "MoviePy - Writing audio in Output\\Naruto_HD_Set_1_Disc_1-001\\Naruto_HD_Set_1_Disc_1-001_967500.mp3\n"
     ]
    },
    {
     "name": "stderr",
     "output_type": "stream",
     "text": [
      "\n",
      "chunk:   0%|                                                                          | 0/34 [00:00<?, ?it/s, now=None]\u001b[A\n",
      "chunk:   4%|██▌                                                        | 1/23 [2:13:20<48:53:39, 8000.89s/it, now=None]\u001b[A"
     ]
    },
    {
     "name": "stdout",
     "output_type": "stream",
     "text": [
      "MoviePy - Done.\n"
     ]
    },
    {
     "name": "stderr",
     "output_type": "stream",
     "text": [
      "chunk:   4%|██▌                                                        | 1/23 [2:13:21<48:53:54, 8001.57s/it, now=None]"
     ]
    },
    {
     "name": "stdout",
     "output_type": "stream",
     "text": [
      "MoviePy - Writing audio in Output\\Naruto_HD_Set_1_Disc_1-001\\Naruto_HD_Set_1_Disc_1-001_968500.mp3\n"
     ]
    },
    {
     "name": "stderr",
     "output_type": "stream",
     "text": [
      "\n",
      "chunk:   0%|                                                                          | 0/34 [00:00<?, ?it/s, now=None]\u001b[A\n",
      "chunk:  94%|████████████████████████████████████████████████████████████▏   | 32/34 [00:00<00:00, 283.19it/s, now=None]\u001b[A\n",
      "chunk:   4%|██▌                                                        | 1/23 [2:13:21<48:53:57, 8001.72s/it, now=None]\u001b[A"
     ]
    },
    {
     "name": "stdout",
     "output_type": "stream",
     "text": [
      "MoviePy - Done.\n"
     ]
    },
    {
     "name": "stderr",
     "output_type": "stream",
     "text": [
      "chunk:   4%|██▌                                                        | 1/23 [2:13:22<48:54:11, 8002.34s/it, now=None]"
     ]
    },
    {
     "name": "stdout",
     "output_type": "stream",
     "text": [
      "MoviePy - Writing audio in Output\\Naruto_HD_Set_1_Disc_1-001\\Naruto_HD_Set_1_Disc_1-001_969500.mp3\n"
     ]
    },
    {
     "name": "stderr",
     "output_type": "stream",
     "text": [
      "\n",
      "chunk:   0%|                                                                          | 0/34 [00:00<?, ?it/s, now=None]\u001b[A\n",
      "chunk:   4%|██▌                                                        | 1/23 [2:13:22<48:54:14, 8002.46s/it, now=None]\u001b[A"
     ]
    },
    {
     "name": "stdout",
     "output_type": "stream",
     "text": [
      "MoviePy - Done.\n"
     ]
    },
    {
     "name": "stderr",
     "output_type": "stream",
     "text": [
      "chunk:   4%|██▌                                                        | 1/23 [2:13:23<48:54:28, 8003.12s/it, now=None]"
     ]
    },
    {
     "name": "stdout",
     "output_type": "stream",
     "text": [
      "MoviePy - Writing audio in Output\\Naruto_HD_Set_1_Disc_1-001\\Naruto_HD_Set_1_Disc_1-001_970500.mp3\n"
     ]
    },
    {
     "name": "stderr",
     "output_type": "stream",
     "text": [
      "\n",
      "chunk:   0%|                                                                          | 0/34 [00:00<?, ?it/s, now=None]\u001b[A\n",
      "chunk:   4%|██▌                                                        | 1/23 [2:13:23<48:54:31, 8003.24s/it, now=None]\u001b[A"
     ]
    },
    {
     "name": "stdout",
     "output_type": "stream",
     "text": [
      "MoviePy - Done.\n"
     ]
    },
    {
     "name": "stderr",
     "output_type": "stream",
     "text": [
      "chunk:   4%|██▌                                                        | 1/23 [2:13:23<48:54:46, 8003.91s/it, now=None]"
     ]
    },
    {
     "name": "stdout",
     "output_type": "stream",
     "text": [
      "MoviePy - Writing audio in Output\\Naruto_HD_Set_1_Disc_1-001\\Naruto_HD_Set_1_Disc_1-001_971500.mp3\n"
     ]
    },
    {
     "name": "stderr",
     "output_type": "stream",
     "text": [
      "\n",
      "chunk:   0%|                                                                          | 0/34 [00:00<?, ?it/s, now=None]\u001b[A\n",
      "chunk:  88%|████████████████████████████████████████████████████████▍       | 30/34 [00:00<00:00, 275.22it/s, now=None]\u001b[A\n",
      "chunk:   4%|██▌                                                        | 1/23 [2:13:24<48:54:49, 8004.06s/it, now=None]\u001b[A"
     ]
    },
    {
     "name": "stdout",
     "output_type": "stream",
     "text": [
      "MoviePy - Done.\n"
     ]
    },
    {
     "name": "stderr",
     "output_type": "stream",
     "text": [
      "chunk:   4%|██▌                                                        | 1/23 [2:13:24<48:55:04, 8004.73s/it, now=None]"
     ]
    },
    {
     "name": "stdout",
     "output_type": "stream",
     "text": [
      "MoviePy - Writing audio in Output\\Naruto_HD_Set_1_Disc_1-001\\Naruto_HD_Set_1_Disc_1-001_972500.mp3\n"
     ]
    },
    {
     "name": "stderr",
     "output_type": "stream",
     "text": [
      "\n",
      "chunk:   0%|                                                                          | 0/34 [00:00<?, ?it/s, now=None]\u001b[A\n",
      "chunk:   4%|██▌                                                        | 1/23 [2:13:24<48:55:06, 8004.85s/it, now=None]\u001b[A"
     ]
    },
    {
     "name": "stdout",
     "output_type": "stream",
     "text": [
      "MoviePy - Done.\n"
     ]
    },
    {
     "name": "stderr",
     "output_type": "stream",
     "text": [
      "chunk:   4%|██▌                                                        | 1/23 [2:13:25<48:55:20, 8005.46s/it, now=None]"
     ]
    },
    {
     "name": "stdout",
     "output_type": "stream",
     "text": [
      "MoviePy - Writing audio in Output\\Naruto_HD_Set_1_Disc_1-001\\Naruto_HD_Set_1_Disc_1-001_973500.mp3\n"
     ]
    },
    {
     "name": "stderr",
     "output_type": "stream",
     "text": [
      "\n",
      "chunk:   0%|                                                                          | 0/34 [00:00<?, ?it/s, now=None]\u001b[A\n",
      "chunk:  88%|████████████████████████████████████████████████████████▍       | 30/34 [00:00<00:00, 277.77it/s, now=None]\u001b[A\n",
      "chunk:   4%|██▌                                                        | 1/23 [2:13:25<48:55:23, 8005.60s/it, now=None]\u001b[A"
     ]
    },
    {
     "name": "stdout",
     "output_type": "stream",
     "text": [
      "MoviePy - Done.\n"
     ]
    },
    {
     "name": "stderr",
     "output_type": "stream",
     "text": [
      "chunk:   4%|██▌                                                        | 1/23 [2:13:26<48:55:37, 8006.25s/it, now=None]"
     ]
    },
    {
     "name": "stdout",
     "output_type": "stream",
     "text": [
      "MoviePy - Writing audio in Output\\Naruto_HD_Set_1_Disc_1-001\\Naruto_HD_Set_1_Disc_1-001_974500.mp3\n"
     ]
    },
    {
     "name": "stderr",
     "output_type": "stream",
     "text": [
      "\n",
      "chunk:   0%|                                                                          | 0/34 [00:00<?, ?it/s, now=None]\u001b[A\n",
      "chunk:   4%|██▌                                                        | 1/23 [2:13:26<48:55:40, 8006.37s/it, now=None]\u001b[A"
     ]
    },
    {
     "name": "stdout",
     "output_type": "stream",
     "text": [
      "MoviePy - Done.\n"
     ]
    },
    {
     "name": "stderr",
     "output_type": "stream",
     "text": [
      "chunk:   4%|██▌                                                        | 1/23 [2:13:27<48:55:54, 8007.02s/it, now=None]"
     ]
    },
    {
     "name": "stdout",
     "output_type": "stream",
     "text": [
      "MoviePy - Writing audio in Output\\Naruto_HD_Set_1_Disc_1-001\\Naruto_HD_Set_1_Disc_1-001_975500.mp3\n"
     ]
    },
    {
     "name": "stderr",
     "output_type": "stream",
     "text": [
      "\n",
      "chunk:   0%|                                                                          | 0/34 [00:00<?, ?it/s, now=None]\u001b[A\n",
      "chunk:   4%|██▌                                                        | 1/23 [2:13:27<48:55:57, 8007.15s/it, now=None]\u001b[A"
     ]
    },
    {
     "name": "stdout",
     "output_type": "stream",
     "text": [
      "MoviePy - Done.\n"
     ]
    },
    {
     "name": "stderr",
     "output_type": "stream",
     "text": [
      "chunk:   4%|██▌                                                        | 1/23 [2:13:27<48:56:12, 8007.83s/it, now=None]"
     ]
    },
    {
     "name": "stdout",
     "output_type": "stream",
     "text": [
      "MoviePy - Writing audio in Output\\Naruto_HD_Set_1_Disc_1-001\\Naruto_HD_Set_1_Disc_1-001_976500.mp3\n"
     ]
    },
    {
     "name": "stderr",
     "output_type": "stream",
     "text": [
      "\n",
      "chunk:   0%|                                                                          | 0/34 [00:00<?, ?it/s, now=None]\u001b[A\n",
      "chunk:   4%|██▌                                                        | 1/23 [2:13:27<48:56:15, 8007.95s/it, now=None]\u001b[A"
     ]
    },
    {
     "name": "stdout",
     "output_type": "stream",
     "text": [
      "MoviePy - Done.\n"
     ]
    },
    {
     "name": "stderr",
     "output_type": "stream",
     "text": [
      "chunk:   4%|██▌                                                        | 1/23 [2:13:28<48:56:26, 8008.49s/it, now=None]"
     ]
    },
    {
     "name": "stdout",
     "output_type": "stream",
     "text": [
      "MoviePy - Writing audio in Output\\Naruto_HD_Set_1_Disc_1-001\\Naruto_HD_Set_1_Disc_1-001_980500.mp3\n"
     ]
    },
    {
     "name": "stderr",
     "output_type": "stream",
     "text": [
      "\n",
      "chunk:   0%|                                                                          | 0/34 [00:00<?, ?it/s, now=None]\u001b[A\n",
      "chunk:   4%|██▌                                                        | 1/23 [2:13:28<48:56:29, 8008.61s/it, now=None]\u001b[A"
     ]
    },
    {
     "name": "stdout",
     "output_type": "stream",
     "text": [
      "MoviePy - Done.\n"
     ]
    },
    {
     "name": "stderr",
     "output_type": "stream",
     "text": [
      "chunk:   4%|██▌                                                        | 1/23 [2:13:30<48:57:04, 8010.21s/it, now=None]"
     ]
    },
    {
     "name": "stdout",
     "output_type": "stream",
     "text": [
      "MoviePy - Writing audio in Output\\Naruto_HD_Set_1_Disc_1-001\\Naruto_HD_Set_1_Disc_1-001_983500.mp3\n"
     ]
    },
    {
     "name": "stderr",
     "output_type": "stream",
     "text": [
      "\n",
      "chunk:   0%|                                                                          | 0/34 [00:00<?, ?it/s, now=None]\u001b[A\n",
      "chunk:  88%|████████████████████████████████████████████████████████▍       | 30/34 [00:00<00:00, 288.47it/s, now=None]\u001b[A\n",
      "chunk:   4%|██▌                                                        | 1/23 [2:13:30<48:57:07, 8010.35s/it, now=None]\u001b[A"
     ]
    },
    {
     "name": "stdout",
     "output_type": "stream",
     "text": [
      "MoviePy - Done.\n"
     ]
    },
    {
     "name": "stderr",
     "output_type": "stream",
     "text": [
      "chunk:   4%|██▌                                                        | 1/23 [2:13:31<48:57:23, 8011.06s/it, now=None]"
     ]
    },
    {
     "name": "stdout",
     "output_type": "stream",
     "text": [
      "MoviePy - Writing audio in Output\\Naruto_HD_Set_1_Disc_1-001\\Naruto_HD_Set_1_Disc_1-001_984500.mp3\n"
     ]
    },
    {
     "name": "stderr",
     "output_type": "stream",
     "text": [
      "\n",
      "chunk:   0%|                                                                          | 0/34 [00:00<?, ?it/s, now=None]\u001b[A\n",
      "chunk:   4%|██▌                                                        | 1/23 [2:13:31<48:57:26, 8011.19s/it, now=None]\u001b[A"
     ]
    },
    {
     "name": "stdout",
     "output_type": "stream",
     "text": [
      "MoviePy - Done.\n"
     ]
    },
    {
     "name": "stderr",
     "output_type": "stream",
     "text": [
      "chunk:   4%|██▌                                                        | 1/23 [2:13:31<48:57:39, 8011.78s/it, now=None]"
     ]
    },
    {
     "name": "stdout",
     "output_type": "stream",
     "text": [
      "MoviePy - Writing audio in Output\\Naruto_HD_Set_1_Disc_1-001\\Naruto_HD_Set_1_Disc_1-001_985500.mp3\n"
     ]
    },
    {
     "name": "stderr",
     "output_type": "stream",
     "text": [
      "\n",
      "chunk:   0%|                                                                          | 0/34 [00:00<?, ?it/s, now=None]\u001b[A\n",
      "chunk:   4%|██▌                                                        | 1/23 [2:13:31<48:57:41, 8011.89s/it, now=None]\u001b[A"
     ]
    },
    {
     "name": "stdout",
     "output_type": "stream",
     "text": [
      "MoviePy - Done.\n"
     ]
    },
    {
     "name": "stderr",
     "output_type": "stream",
     "text": [
      "chunk:   4%|██▌                                                        | 1/23 [2:13:32<48:57:54, 8012.48s/it, now=None]"
     ]
    },
    {
     "name": "stdout",
     "output_type": "stream",
     "text": [
      "MoviePy - Writing audio in Output\\Naruto_HD_Set_1_Disc_1-001\\Naruto_HD_Set_1_Disc_1-001_987000.mp3\n"
     ]
    },
    {
     "name": "stderr",
     "output_type": "stream",
     "text": [
      "\n",
      "chunk:   0%|                                                                          | 0/56 [00:00<?, ?it/s, now=None]\u001b[A\n",
      "chunk:  64%|█████████████████████████████████████████▏                      | 36/56 [00:00<00:00, 315.79it/s, now=None]\u001b[A\n",
      "chunk:   4%|██▌                                                        | 1/23 [2:13:32<48:57:58, 8012.64s/it, now=None]\u001b[A"
     ]
    },
    {
     "name": "stdout",
     "output_type": "stream",
     "text": [
      "MoviePy - Done.\n"
     ]
    },
    {
     "name": "stderr",
     "output_type": "stream",
     "text": [
      "chunk:   4%|██▌                                                        | 1/23 [2:13:33<48:58:23, 8013.79s/it, now=None]"
     ]
    },
    {
     "name": "stdout",
     "output_type": "stream",
     "text": [
      "MoviePy - Writing audio in Output\\Naruto_HD_Set_1_Disc_1-001\\Naruto_HD_Set_1_Disc_1-001_988500.mp3\n"
     ]
    },
    {
     "name": "stderr",
     "output_type": "stream",
     "text": [
      "\n",
      "chunk:   0%|                                                                          | 0/34 [00:00<?, ?it/s, now=None]\u001b[A\n",
      "chunk:   4%|██▌                                                        | 1/23 [2:13:33<48:58:26, 8013.92s/it, now=None]\u001b[A"
     ]
    },
    {
     "name": "stdout",
     "output_type": "stream",
     "text": [
      "MoviePy - Done.\n"
     ]
    },
    {
     "name": "stderr",
     "output_type": "stream",
     "text": [
      "chunk:   4%|██▌                                                        | 1/23 [2:13:34<48:58:39, 8014.51s/it, now=None]"
     ]
    },
    {
     "name": "stdout",
     "output_type": "stream",
     "text": [
      "MoviePy - Writing audio in Output\\Naruto_HD_Set_1_Disc_1-001\\Naruto_HD_Set_1_Disc_1-001_989500.mp3\n"
     ]
    },
    {
     "name": "stderr",
     "output_type": "stream",
     "text": [
      "\n",
      "chunk:   0%|                                                                          | 0/34 [00:00<?, ?it/s, now=None]\u001b[A\n",
      "chunk:  88%|████████████████████████████████████████████████████████▍       | 30/34 [00:00<00:00, 270.27it/s, now=None]\u001b[A\n",
      "chunk:   4%|██▌                                                        | 1/23 [2:13:34<48:58:42, 8014.66s/it, now=None]\u001b[A"
     ]
    },
    {
     "name": "stdout",
     "output_type": "stream",
     "text": [
      "MoviePy - Done.\n"
     ]
    },
    {
     "name": "stderr",
     "output_type": "stream",
     "text": [
      "chunk:   4%|██▌                                                        | 1/23 [2:13:35<48:58:56, 8015.29s/it, now=None]"
     ]
    },
    {
     "name": "stdout",
     "output_type": "stream",
     "text": [
      "MoviePy - Writing audio in Output\\Naruto_HD_Set_1_Disc_1-001\\Naruto_HD_Set_1_Disc_1-001_990500.mp3\n"
     ]
    },
    {
     "name": "stderr",
     "output_type": "stream",
     "text": [
      "\n",
      "chunk:   0%|                                                                          | 0/34 [00:00<?, ?it/s, now=None]\u001b[A\n",
      "chunk:   4%|██▌                                                        | 1/23 [2:13:35<48:58:58, 8015.41s/it, now=None]\u001b[A"
     ]
    },
    {
     "name": "stdout",
     "output_type": "stream",
     "text": [
      "MoviePy - Done.\n"
     ]
    },
    {
     "name": "stderr",
     "output_type": "stream",
     "text": [
      "chunk:   4%|██▌                                                        | 1/23 [2:13:36<48:59:13, 8016.06s/it, now=None]"
     ]
    },
    {
     "name": "stdout",
     "output_type": "stream",
     "text": [
      "MoviePy - Writing audio in Output\\Naruto_HD_Set_1_Disc_1-001\\Naruto_HD_Set_1_Disc_1-001_991500.mp3\n"
     ]
    },
    {
     "name": "stderr",
     "output_type": "stream",
     "text": [
      "\n",
      "chunk:   0%|                                                                          | 0/34 [00:00<?, ?it/s, now=None]\u001b[A\n",
      "chunk:  88%|████████████████████████████████████████████████████████▍       | 30/34 [00:00<00:00, 254.23it/s, now=None]\u001b[A\n",
      "chunk:   4%|██▌                                                        | 1/23 [2:13:36<48:59:16, 8016.22s/it, now=None]\u001b[A"
     ]
    },
    {
     "name": "stdout",
     "output_type": "stream",
     "text": [
      "MoviePy - Done.\n"
     ]
    },
    {
     "name": "stderr",
     "output_type": "stream",
     "text": [
      "chunk:   4%|██▌                                                        | 1/23 [2:13:36<48:59:30, 8016.82s/it, now=None]"
     ]
    },
    {
     "name": "stdout",
     "output_type": "stream",
     "text": [
      "MoviePy - Writing audio in Output\\Naruto_HD_Set_1_Disc_1-001\\Naruto_HD_Set_1_Disc_1-001_992500.mp3\n"
     ]
    },
    {
     "name": "stderr",
     "output_type": "stream",
     "text": [
      "\n",
      "chunk:   0%|                                                                          | 0/34 [00:00<?, ?it/s, now=None]\u001b[A\n",
      "chunk:   4%|██▌                                                        | 1/23 [2:13:36<48:59:32, 8016.94s/it, now=None]\u001b[A"
     ]
    },
    {
     "name": "stdout",
     "output_type": "stream",
     "text": [
      "MoviePy - Done.\n"
     ]
    },
    {
     "name": "stderr",
     "output_type": "stream",
     "text": [
      "chunk:   4%|██▌                                                        | 1/23 [2:13:37<48:59:47, 8017.60s/it, now=None]"
     ]
    },
    {
     "name": "stdout",
     "output_type": "stream",
     "text": [
      "MoviePy - Writing audio in Output\\Naruto_HD_Set_1_Disc_1-001\\Naruto_HD_Set_1_Disc_1-001_993500.mp3\n"
     ]
    },
    {
     "name": "stderr",
     "output_type": "stream",
     "text": [
      "\n",
      "chunk:   0%|                                                                          | 0/34 [00:00<?, ?it/s, now=None]\u001b[A\n",
      "chunk: 100%|████████████████████████████████████████████████████████████████| 34/34 [00:00<00:00, 298.25it/s, now=None]\u001b[A\n",
      "chunk:   4%|██▌                                                        | 1/23 [2:13:37<48:59:50, 8017.75s/it, now=None]\u001b[A"
     ]
    },
    {
     "name": "stdout",
     "output_type": "stream",
     "text": [
      "MoviePy - Done.\n"
     ]
    },
    {
     "name": "stderr",
     "output_type": "stream",
     "text": [
      "chunk:   4%|██▌                                                        | 1/23 [2:13:38<49:00:04, 8018.40s/it, now=None]"
     ]
    },
    {
     "name": "stdout",
     "output_type": "stream",
     "text": [
      "MoviePy - Writing audio in Output\\Naruto_HD_Set_1_Disc_1-001\\Naruto_HD_Set_1_Disc_1-001_994500.mp3\n"
     ]
    },
    {
     "name": "stderr",
     "output_type": "stream",
     "text": [
      "\n",
      "chunk:   0%|                                                                          | 0/34 [00:00<?, ?it/s, now=None]\u001b[A\n",
      "chunk:   4%|██▌                                                        | 1/23 [2:13:38<49:00:07, 8018.52s/it, now=None]\u001b[A"
     ]
    },
    {
     "name": "stdout",
     "output_type": "stream",
     "text": [
      "MoviePy - Done.\n"
     ]
    },
    {
     "name": "stderr",
     "output_type": "stream",
     "text": [
      "chunk:   4%|██▌                                                        | 1/23 [2:13:39<49:00:22, 8019.19s/it, now=None]"
     ]
    },
    {
     "name": "stdout",
     "output_type": "stream",
     "text": [
      "MoviePy - Writing audio in Output\\Naruto_HD_Set_1_Disc_1-001\\Naruto_HD_Set_1_Disc_1-001_996000.mp3\n"
     ]
    },
    {
     "name": "stderr",
     "output_type": "stream",
     "text": [
      "\n",
      "chunk:   0%|                                                                          | 0/56 [00:00<?, ?it/s, now=None]\u001b[A\n",
      "chunk:  71%|█████████████████████████████████████████████▋                  | 40/56 [00:00<00:00, 338.97it/s, now=None]\u001b[A\n",
      "chunk:   4%|██▌                                                        | 1/23 [2:13:39<49:00:25, 8019.35s/it, now=None]\u001b[A"
     ]
    },
    {
     "name": "stdout",
     "output_type": "stream",
     "text": [
      "MoviePy - Done.\n"
     ]
    },
    {
     "name": "stderr",
     "output_type": "stream",
     "text": [
      "chunk:   4%|██▌                                                        | 1/23 [2:13:40<49:00:49, 8020.45s/it, now=None]"
     ]
    },
    {
     "name": "stdout",
     "output_type": "stream",
     "text": [
      "MoviePy - Writing audio in Output\\Naruto_HD_Set_1_Disc_1-001\\Naruto_HD_Set_1_Disc_1-001_997500.mp3\n"
     ]
    },
    {
     "name": "stderr",
     "output_type": "stream",
     "text": [
      "\n",
      "chunk:   0%|                                                                          | 0/34 [00:00<?, ?it/s, now=None]\u001b[A\n",
      "chunk:   4%|██▌                                                        | 1/23 [2:13:40<49:00:52, 8020.57s/it, now=None]\u001b[A"
     ]
    },
    {
     "name": "stdout",
     "output_type": "stream",
     "text": [
      "MoviePy - Done.\n"
     ]
    },
    {
     "name": "stderr",
     "output_type": "stream",
     "text": [
      "chunk:   4%|██▌                                                        | 1/23 [2:13:41<49:01:07, 8021.23s/it, now=None]"
     ]
    },
    {
     "name": "stdout",
     "output_type": "stream",
     "text": [
      "MoviePy - Writing audio in Output\\Naruto_HD_Set_1_Disc_1-001\\Naruto_HD_Set_1_Disc_1-001_998500.mp3\n"
     ]
    },
    {
     "name": "stderr",
     "output_type": "stream",
     "text": [
      "\n",
      "chunk:   0%|                                                                          | 0/34 [00:00<?, ?it/s, now=None]\u001b[A\n",
      "chunk:  88%|████████████████████████████████████████████████████████▍       | 30/34 [00:00<00:00, 267.86it/s, now=None]\u001b[A\n",
      "chunk:   4%|██▌                                                        | 1/23 [2:13:41<49:01:10, 8021.38s/it, now=None]\u001b[A"
     ]
    },
    {
     "name": "stdout",
     "output_type": "stream",
     "text": [
      "MoviePy - Done.\n"
     ]
    },
    {
     "name": "stderr",
     "output_type": "stream",
     "text": [
      "chunk:   4%|██▌                                                        | 1/23 [2:13:41<49:01:23, 8021.96s/it, now=None]"
     ]
    },
    {
     "name": "stdout",
     "output_type": "stream",
     "text": [
      "MoviePy - Writing audio in Output\\Naruto_HD_Set_1_Disc_1-001\\Naruto_HD_Set_1_Disc_1-001_999500.mp3\n"
     ]
    },
    {
     "name": "stderr",
     "output_type": "stream",
     "text": [
      "\n",
      "chunk:   0%|                                                                          | 0/34 [00:00<?, ?it/s, now=None]\u001b[A\n",
      "chunk:   4%|██▌                                                        | 1/23 [2:13:42<49:01:25, 8022.08s/it, now=None]\u001b[A"
     ]
    },
    {
     "name": "stdout",
     "output_type": "stream",
     "text": [
      "MoviePy - Done.\n"
     ]
    },
    {
     "name": "stderr",
     "output_type": "stream",
     "text": [
      "chunk:   4%|██▌                                                        | 1/23 [2:13:42<49:01:39, 8022.70s/it, now=None]"
     ]
    },
    {
     "name": "stdout",
     "output_type": "stream",
     "text": [
      "MoviePy - Writing audio in Output\\Naruto_HD_Set_1_Disc_1-001\\Naruto_HD_Set_1_Disc_1-001_1000500.mp3\n"
     ]
    },
    {
     "name": "stderr",
     "output_type": "stream",
     "text": [
      "\n",
      "chunk:   0%|                                                                          | 0/34 [00:00<?, ?it/s, now=None]\u001b[A\n",
      "chunk:  91%|██████████████████████████████████████████████████████████▎     | 31/34 [00:00<00:00, 279.27it/s, now=None]\u001b[A\n",
      "chunk:   4%|██▌                                                        | 1/23 [2:13:42<49:01:42, 8022.85s/it, now=None]\u001b[A"
     ]
    },
    {
     "name": "stdout",
     "output_type": "stream",
     "text": [
      "MoviePy - Done.\n"
     ]
    },
    {
     "name": "stderr",
     "output_type": "stream",
     "text": [
      "chunk:   4%|██▌                                                        | 1/23 [2:13:43<49:01:57, 8023.50s/it, now=None]"
     ]
    },
    {
     "name": "stdout",
     "output_type": "stream",
     "text": [
      "MoviePy - Writing audio in Output\\Naruto_HD_Set_1_Disc_1-001\\Naruto_HD_Set_1_Disc_1-001_1001500.mp3\n"
     ]
    },
    {
     "name": "stderr",
     "output_type": "stream",
     "text": [
      "\n",
      "chunk:   0%|                                                                          | 0/34 [00:00<?, ?it/s, now=None]\u001b[A\n",
      "chunk:   4%|██▌                                                        | 1/23 [2:13:43<49:01:59, 8023.62s/it, now=None]\u001b[A"
     ]
    },
    {
     "name": "stdout",
     "output_type": "stream",
     "text": [
      "MoviePy - Done.\n"
     ]
    },
    {
     "name": "stderr",
     "output_type": "stream",
     "text": [
      "chunk:   4%|██▌                                                        | 1/23 [2:13:44<49:02:14, 8024.29s/it, now=None]"
     ]
    },
    {
     "name": "stdout",
     "output_type": "stream",
     "text": [
      "MoviePy - Writing audio in Output\\Naruto_HD_Set_1_Disc_1-001\\Naruto_HD_Set_1_Disc_1-001_1002500.mp3\n"
     ]
    },
    {
     "name": "stderr",
     "output_type": "stream",
     "text": [
      "\n",
      "chunk:   0%|                                                                          | 0/34 [00:00<?, ?it/s, now=None]\u001b[A\n",
      "chunk:   4%|██▌                                                        | 1/23 [2:13:44<49:02:17, 8024.42s/it, now=None]\u001b[A"
     ]
    },
    {
     "name": "stdout",
     "output_type": "stream",
     "text": [
      "MoviePy - Done.\n"
     ]
    },
    {
     "name": "stderr",
     "output_type": "stream",
     "text": [
      "chunk:   4%|██▌                                                        | 1/23 [2:13:45<49:02:31, 8025.07s/it, now=None]"
     ]
    },
    {
     "name": "stdout",
     "output_type": "stream",
     "text": [
      "MoviePy - Writing audio in Output\\Naruto_HD_Set_1_Disc_1-001\\Naruto_HD_Set_1_Disc_1-001_1004000.mp3\n"
     ]
    },
    {
     "name": "stderr",
     "output_type": "stream",
     "text": [
      "\n",
      "chunk:   0%|                                                                          | 0/56 [00:00<?, ?it/s, now=None]\u001b[A\n",
      "chunk:  54%|██████████████████████████████████▎                             | 30/56 [00:00<00:00, 250.00it/s, now=None]\u001b[A\n",
      "chunk:   4%|██▌                                                        | 1/23 [2:13:45<49:02:35, 8025.24s/it, now=None]\u001b[A"
     ]
    },
    {
     "name": "stdout",
     "output_type": "stream",
     "text": [
      "MoviePy - Done.\n"
     ]
    },
    {
     "name": "stderr",
     "output_type": "stream",
     "text": [
      "chunk:   4%|██▌                                                        | 1/23 [2:13:46<49:02:59, 8026.34s/it, now=None]"
     ]
    },
    {
     "name": "stdout",
     "output_type": "stream",
     "text": [
      "MoviePy - Writing audio in Output\\Naruto_HD_Set_1_Disc_1-001\\Naruto_HD_Set_1_Disc_1-001_1005500.mp3\n"
     ]
    },
    {
     "name": "stderr",
     "output_type": "stream",
     "text": [
      "\n",
      "chunk:   0%|                                                                          | 0/34 [00:00<?, ?it/s, now=None]\u001b[A\n",
      "chunk:  88%|████████████████████████████████████████████████████████▍       | 30/34 [00:00<00:00, 256.41it/s, now=None]\u001b[A\n",
      "chunk:   4%|██▌                                                        | 1/23 [2:13:46<49:03:02, 8026.49s/it, now=None]\u001b[A"
     ]
    },
    {
     "name": "stdout",
     "output_type": "stream",
     "text": [
      "MoviePy - Done.\n"
     ]
    },
    {
     "name": "stderr",
     "output_type": "stream",
     "text": [
      "chunk:   4%|██▌                                                        | 1/23 [2:13:47<49:03:17, 8027.15s/it, now=None]"
     ]
    },
    {
     "name": "stdout",
     "output_type": "stream",
     "text": [
      "MoviePy - Writing audio in Output\\Naruto_HD_Set_1_Disc_1-001\\Naruto_HD_Set_1_Disc_1-001_1006500.mp3\n"
     ]
    },
    {
     "name": "stderr",
     "output_type": "stream",
     "text": [
      "\n",
      "chunk:   0%|                                                                          | 0/34 [00:00<?, ?it/s, now=None]\u001b[A\n",
      "chunk:  97%|██████████████████████████████████████████████████████████████  | 33/34 [00:00<00:00, 326.74it/s, now=None]\u001b[A\n",
      "chunk:   4%|██▌                                                        | 1/23 [2:13:47<49:03:20, 8027.29s/it, now=None]\u001b[A"
     ]
    },
    {
     "name": "stdout",
     "output_type": "stream",
     "text": [
      "MoviePy - Done.\n"
     ]
    },
    {
     "name": "stderr",
     "output_type": "stream",
     "text": [
      "chunk:   4%|██▌                                                        | 1/23 [2:13:47<49:03:34, 8027.95s/it, now=None]"
     ]
    },
    {
     "name": "stdout",
     "output_type": "stream",
     "text": [
      "MoviePy - Writing audio in Output\\Naruto_HD_Set_1_Disc_1-001\\Naruto_HD_Set_1_Disc_1-001_1007500.mp3\n"
     ]
    },
    {
     "name": "stderr",
     "output_type": "stream",
     "text": [
      "\n",
      "chunk:   0%|                                                                          | 0/34 [00:00<?, ?it/s, now=None]\u001b[A\n",
      "chunk:  88%|████████████████████████████████████████████████████████▍       | 30/34 [00:00<00:00, 258.62it/s, now=None]\u001b[A\n",
      "chunk:   4%|██▌                                                        | 1/23 [2:13:48<49:03:38, 8028.11s/it, now=None]\u001b[A"
     ]
    },
    {
     "name": "stdout",
     "output_type": "stream",
     "text": [
      "MoviePy - Done.\n"
     ]
    },
    {
     "name": "stderr",
     "output_type": "stream",
     "text": [
      "chunk:   4%|██▌                                                        | 1/23 [2:13:48<49:03:51, 8028.72s/it, now=None]"
     ]
    },
    {
     "name": "stdout",
     "output_type": "stream",
     "text": [
      "MoviePy - Writing audio in Output\\Naruto_HD_Set_1_Disc_1-001\\Naruto_HD_Set_1_Disc_1-001_1008500.mp3\n"
     ]
    },
    {
     "name": "stderr",
     "output_type": "stream",
     "text": [
      "\n",
      "chunk:   0%|                                                                          | 0/34 [00:00<?, ?it/s, now=None]\u001b[A\n",
      "chunk:   4%|██▌                                                        | 1/23 [2:13:48<49:03:54, 8028.85s/it, now=None]\u001b[A"
     ]
    },
    {
     "name": "stdout",
     "output_type": "stream",
     "text": [
      "MoviePy - Done.\n"
     ]
    },
    {
     "name": "stderr",
     "output_type": "stream",
     "text": [
      "chunk:   4%|██▌                                                        | 1/23 [2:13:49<49:04:09, 8029.52s/it, now=None]"
     ]
    },
    {
     "name": "stdout",
     "output_type": "stream",
     "text": [
      "MoviePy - Writing audio in Output\\Naruto_HD_Set_1_Disc_1-001\\Naruto_HD_Set_1_Disc_1-001_1009500.mp3\n"
     ]
    },
    {
     "name": "stderr",
     "output_type": "stream",
     "text": [
      "\n",
      "chunk:   0%|                                                                          | 0/34 [00:00<?, ?it/s, now=None]\u001b[A\n",
      "chunk:   4%|██▌                                                        | 1/23 [2:13:49<49:04:12, 8029.65s/it, now=None]\u001b[A"
     ]
    },
    {
     "name": "stdout",
     "output_type": "stream",
     "text": [
      "MoviePy - Done.\n"
     ]
    },
    {
     "name": "stderr",
     "output_type": "stream",
     "text": [
      "chunk:   4%|██▌                                                        | 1/23 [2:13:50<49:04:26, 8030.31s/it, now=None]"
     ]
    },
    {
     "name": "stdout",
     "output_type": "stream",
     "text": [
      "MoviePy - Writing audio in Output\\Naruto_HD_Set_1_Disc_1-001\\Naruto_HD_Set_1_Disc_1-001_1010500.mp3\n"
     ]
    },
    {
     "name": "stderr",
     "output_type": "stream",
     "text": [
      "\n",
      "chunk:   0%|                                                                          | 0/34 [00:00<?, ?it/s, now=None]\u001b[A\n",
      "chunk:  88%|████████████████████████████████████████████████████████▍       | 30/34 [00:00<00:00, 267.86it/s, now=None]\u001b[A\n",
      "chunk:   4%|██▌                                                        | 1/23 [2:13:50<49:04:30, 8030.46s/it, now=None]\u001b[A"
     ]
    },
    {
     "name": "stdout",
     "output_type": "stream",
     "text": [
      "MoviePy - Done.\n"
     ]
    },
    {
     "name": "stderr",
     "output_type": "stream",
     "text": [
      "chunk:   4%|██▌                                                        | 1/23 [2:13:51<49:04:53, 8031.54s/it, now=None]"
     ]
    },
    {
     "name": "stdout",
     "output_type": "stream",
     "text": [
      "MoviePy - Writing audio in Output\\Naruto_HD_Set_1_Disc_1-001\\Naruto_HD_Set_1_Disc_1-001_1012500.mp3\n"
     ]
    },
    {
     "name": "stderr",
     "output_type": "stream",
     "text": [
      "\n",
      "chunk:   0%|                                                                          | 0/34 [00:00<?, ?it/s, now=None]\u001b[A\n",
      "chunk:  88%|████████████████████████████████████████████████████████▍       | 30/34 [00:00<00:00, 260.86it/s, now=None]\u001b[A\n",
      "chunk:   4%|██▌                                                        | 1/23 [2:13:51<49:04:57, 8031.69s/it, now=None]\u001b[A"
     ]
    },
    {
     "name": "stdout",
     "output_type": "stream",
     "text": [
      "MoviePy - Done.\n"
     ]
    },
    {
     "name": "stderr",
     "output_type": "stream",
     "text": [
      "chunk:   4%|██▌                                                        | 1/23 [2:13:52<49:05:11, 8032.35s/it, now=None]"
     ]
    },
    {
     "name": "stdout",
     "output_type": "stream",
     "text": [
      "MoviePy - Writing audio in Output\\Naruto_HD_Set_1_Disc_1-001\\Naruto_HD_Set_1_Disc_1-001_1016500.mp3\n"
     ]
    },
    {
     "name": "stderr",
     "output_type": "stream",
     "text": [
      "\n",
      "chunk:   0%|                                                                         | 0/166 [00:00<?, ?it/s, now=None]\u001b[A\n",
      "chunk:  25%|███████████████▌                                               | 41/166 [00:00<00:00, 410.00it/s, now=None]\u001b[A\n",
      "chunk:  67%|█████████████████████████████████████████▊                    | 112/166 [00:00<00:00, 586.47it/s, now=None]\u001b[A\n",
      "chunk:   4%|██▌                                                        | 1/23 [2:13:52<49:05:18, 8032.65s/it, now=None]\u001b[A"
     ]
    },
    {
     "name": "stdout",
     "output_type": "stream",
     "text": [
      "MoviePy - Done.\n"
     ]
    },
    {
     "name": "stderr",
     "output_type": "stream",
     "text": [
      "chunk:   4%|██▌                                                        | 1/23 [2:13:53<49:05:30, 8033.22s/it, now=None]"
     ]
    },
    {
     "name": "stdout",
     "output_type": "stream",
     "text": [
      "MoviePy - Writing audio in Output\\Naruto_HD_Set_1_Disc_1-001\\Naruto_HD_Set_1_Disc_1-001_1020500.mp3\n"
     ]
    },
    {
     "name": "stderr",
     "output_type": "stream",
     "text": [
      "\n",
      "chunk:   0%|                                                                          | 0/34 [00:00<?, ?it/s, now=None]\u001b[A\n",
      "chunk:   4%|██▌                                                        | 1/23 [2:13:53<49:05:33, 8033.35s/it, now=None]\u001b[A"
     ]
    },
    {
     "name": "stdout",
     "output_type": "stream",
     "text": [
      "MoviePy - Done.\n"
     ]
    },
    {
     "name": "stderr",
     "output_type": "stream",
     "text": [
      "chunk:   4%|██▌                                                        | 1/23 [2:13:54<49:05:48, 8034.00s/it, now=None]"
     ]
    },
    {
     "name": "stdout",
     "output_type": "stream",
     "text": [
      "MoviePy - Writing audio in Output\\Naruto_HD_Set_1_Disc_1-001\\Naruto_HD_Set_1_Disc_1-001_1022000.mp3\n"
     ]
    },
    {
     "name": "stderr",
     "output_type": "stream",
     "text": [
      "\n",
      "chunk:   0%|                                                                          | 0/56 [00:00<?, ?it/s, now=None]\u001b[A\n",
      "chunk:  54%|██████████████████████████████████▎                             | 30/56 [00:00<00:00, 265.49it/s, now=None]\u001b[A\n",
      "chunk:   4%|██▌                                                        | 1/23 [2:13:54<49:05:51, 8034.17s/it, now=None]\u001b[A"
     ]
    },
    {
     "name": "stdout",
     "output_type": "stream",
     "text": [
      "MoviePy - Done.\n"
     ]
    },
    {
     "name": "stderr",
     "output_type": "stream",
     "text": [
      "chunk:   4%|██▌                                                        | 1/23 [2:13:55<49:06:16, 8035.28s/it, now=None]"
     ]
    },
    {
     "name": "stdout",
     "output_type": "stream",
     "text": [
      "MoviePy - Writing audio in Output\\Naruto_HD_Set_1_Disc_1-001\\Naruto_HD_Set_1_Disc_1-001_1024000.mp3\n"
     ]
    },
    {
     "name": "stderr",
     "output_type": "stream",
     "text": [
      "\n",
      "chunk:   0%|                                                                          | 0/56 [00:00<?, ?it/s, now=None]\u001b[A\n",
      "chunk:  68%|███████████████████████████████████████████▍                    | 38/56 [00:00<00:00, 380.00it/s, now=None]\u001b[A\n",
      "chunk:   4%|██▌                                                        | 1/23 [2:13:55<49:06:19, 8035.43s/it, now=None]\u001b[A"
     ]
    },
    {
     "name": "stdout",
     "output_type": "stream",
     "text": [
      "MoviePy - Done.\n"
     ]
    },
    {
     "name": "stderr",
     "output_type": "stream",
     "text": [
      "chunk:   4%|██▌                                                        | 1/23 [2:13:56<49:06:43, 8036.52s/it, now=None]"
     ]
    },
    {
     "name": "stdout",
     "output_type": "stream",
     "text": [
      "MoviePy - Writing audio in Output\\Naruto_HD_Set_1_Disc_1-001\\Naruto_HD_Set_1_Disc_1-001_1027000.mp3\n"
     ]
    },
    {
     "name": "stderr",
     "output_type": "stream",
     "text": [
      "\n",
      "chunk:   0%|                                                                         | 0/100 [00:00<?, ?it/s, now=None]\u001b[A\n",
      "chunk:  36%|██████████████████████▋                                        | 36/100 [00:00<00:00, 302.53it/s, now=None]\u001b[A\n",
      "chunk:   4%|██▌                                                        | 1/23 [2:13:56<49:06:48, 8036.75s/it, now=None]\u001b[A"
     ]
    },
    {
     "name": "stdout",
     "output_type": "stream",
     "text": [
      "MoviePy - Done.\n"
     ]
    },
    {
     "name": "stderr",
     "output_type": "stream",
     "text": [
      "chunk:   4%|██▌                                                        | 1/23 [2:13:57<49:07:01, 8037.33s/it, now=None]"
     ]
    },
    {
     "name": "stdout",
     "output_type": "stream",
     "text": [
      "MoviePy - Writing audio in Output\\Naruto_HD_Set_1_Disc_1-001\\Naruto_HD_Set_1_Disc_1-001_1030000.mp3\n"
     ]
    },
    {
     "name": "stderr",
     "output_type": "stream",
     "text": [
      "\n",
      "chunk:   0%|                                                                          | 0/56 [00:00<?, ?it/s, now=None]\u001b[A\n",
      "chunk:  54%|██████████████████████████████████▎                             | 30/56 [00:00<00:00, 297.04it/s, now=None]\u001b[A\n",
      "chunk:   4%|██▌                                                        | 1/23 [2:13:57<49:07:05, 8037.51s/it, now=None]\u001b[A"
     ]
    },
    {
     "name": "stdout",
     "output_type": "stream",
     "text": [
      "MoviePy - Done.\n"
     ]
    },
    {
     "name": "stderr",
     "output_type": "stream",
     "text": [
      "chunk:   4%|██▌                                                        | 1/23 [2:13:58<49:07:29, 8038.59s/it, now=None]"
     ]
    },
    {
     "name": "stdout",
     "output_type": "stream",
     "text": [
      "MoviePy - Writing audio in Output\\Naruto_HD_Set_1_Disc_1-001\\Naruto_HD_Set_1_Disc_1-001_1032000.mp3\n"
     ]
    },
    {
     "name": "stderr",
     "output_type": "stream",
     "text": [
      "\n",
      "chunk:   0%|                                                                          | 0/56 [00:00<?, ?it/s, now=None]\u001b[A\n",
      "chunk:  75%|████████████████████████████████████████████████                | 42/56 [00:00<00:00, 415.85it/s, now=None]\u001b[A\n",
      "chunk:   4%|██▌                                                        | 1/23 [2:13:58<49:07:32, 8038.76s/it, now=None]\u001b[A"
     ]
    },
    {
     "name": "stdout",
     "output_type": "stream",
     "text": [
      "MoviePy - Done.\n"
     ]
    },
    {
     "name": "stderr",
     "output_type": "stream",
     "text": [
      "chunk:   4%|██▌                                                        | 1/23 [2:13:59<49:07:56, 8039.84s/it, now=None]"
     ]
    },
    {
     "name": "stdout",
     "output_type": "stream",
     "text": [
      "MoviePy - Writing audio in Output\\Naruto_HD_Set_1_Disc_1-001\\Naruto_HD_Set_1_Disc_1-001_1036000.mp3\n"
     ]
    },
    {
     "name": "stderr",
     "output_type": "stream",
     "text": [
      "\n",
      "chunk:   0%|                                                                         | 0/144 [00:00<?, ?it/s, now=None]\u001b[A\n",
      "chunk:  29%|██████████████████▍                                            | 42/144 [00:00<00:00, 415.84it/s, now=None]\u001b[A\n",
      "chunk:  78%|████████████████████████████████████████████████▏             | 112/144 [00:00<00:00, 565.75it/s, now=None]\u001b[A\n",
      "chunk:   4%|██▌                                                        | 1/23 [2:14:00<49:08:02, 8040.11s/it, now=None]\u001b[A"
     ]
    },
    {
     "name": "stdout",
     "output_type": "stream",
     "text": [
      "MoviePy - Done.\n"
     ]
    },
    {
     "name": "stderr",
     "output_type": "stream",
     "text": [
      "chunk:   4%|██▌                                                        | 1/23 [2:14:00<49:08:14, 8040.64s/it, now=None]"
     ]
    },
    {
     "name": "stdout",
     "output_type": "stream",
     "text": [
      "MoviePy - Writing audio in Output\\Naruto_HD_Set_1_Disc_1-001\\Naruto_HD_Set_1_Disc_1-001_1040000.mp3\n"
     ]
    },
    {
     "name": "stderr",
     "output_type": "stream",
     "text": [
      "\n",
      "chunk:   0%|                                                                          | 0/56 [00:00<?, ?it/s, now=None]\u001b[A\n",
      "chunk:  68%|███████████████████████████████████████████▍                    | 38/56 [00:00<00:00, 376.25it/s, now=None]\u001b[A\n",
      "chunk:   4%|██▌                                                        | 1/23 [2:14:00<49:08:17, 8040.79s/it, now=None]\u001b[A"
     ]
    },
    {
     "name": "stdout",
     "output_type": "stream",
     "text": [
      "MoviePy - Done.\n"
     ]
    },
    {
     "name": "stderr",
     "output_type": "stream",
     "text": [
      "chunk:   4%|██▌                                                        | 1/23 [2:14:01<49:08:40, 8041.85s/it, now=None]"
     ]
    },
    {
     "name": "stdout",
     "output_type": "stream",
     "text": [
      "MoviePy - Writing audio in Output\\Naruto_HD_Set_1_Disc_1-001\\Naruto_HD_Set_1_Disc_1-001_1042000.mp3\n"
     ]
    },
    {
     "name": "stderr",
     "output_type": "stream",
     "text": [
      "\n",
      "chunk:   0%|                                                                          | 0/56 [00:00<?, ?it/s, now=None]\u001b[A\n",
      "chunk:  64%|█████████████████████████████████████████▏                      | 36/56 [00:00<00:00, 302.51it/s, now=None]\u001b[A\n",
      "chunk:   4%|██▌                                                        | 1/23 [2:14:02<49:08:44, 8042.01s/it, now=None]\u001b[A"
     ]
    },
    {
     "name": "stdout",
     "output_type": "stream",
     "text": [
      "MoviePy - Done.\n"
     ]
    },
    {
     "name": "stderr",
     "output_type": "stream",
     "text": [
      "chunk:   4%|██▌                                                        | 1/23 [2:14:03<49:09:07, 8043.07s/it, now=None]"
     ]
    },
    {
     "name": "stdout",
     "output_type": "stream",
     "text": [
      "MoviePy - Writing audio in Output\\Naruto_HD_Set_1_Disc_1-001\\Naruto_HD_Set_1_Disc_1-001_1044500.mp3\n"
     ]
    },
    {
     "name": "stderr",
     "output_type": "stream",
     "text": [
      "\n",
      "chunk:   0%|                                                                          | 0/78 [00:00<?, ?it/s, now=None]\u001b[A\n",
      "chunk:  51%|████████████████████████████████▊                               | 40/78 [00:00<00:00, 399.45it/s, now=None]\u001b[A\n",
      "chunk:   4%|██▌                                                        | 1/23 [2:14:03<49:09:11, 8043.26s/it, now=None]\u001b[A"
     ]
    },
    {
     "name": "stdout",
     "output_type": "stream",
     "text": [
      "MoviePy - Done.\n"
     ]
    },
    {
     "name": "stderr",
     "output_type": "stream",
     "text": [
      "chunk:   4%|██▌                                                        | 1/23 [2:14:04<49:09:44, 8044.76s/it, now=None]"
     ]
    },
    {
     "name": "stdout",
     "output_type": "stream",
     "text": [
      "MoviePy - Writing audio in Output\\Naruto_HD_Set_1_Disc_1-001\\Naruto_HD_Set_1_Disc_1-001_1047000.mp3\n"
     ]
    },
    {
     "name": "stderr",
     "output_type": "stream",
     "text": [
      "\n",
      "chunk:   0%|                                                                          | 0/56 [00:00<?, ?it/s, now=None]\u001b[A\n",
      "chunk:  54%|██████████████████████████████████▎                             | 30/56 [00:00<00:00, 260.86it/s, now=None]\u001b[A\n",
      "chunk:   4%|██▌                                                        | 1/23 [2:14:04<49:09:48, 8044.93s/it, now=None]\u001b[A"
     ]
    },
    {
     "name": "stdout",
     "output_type": "stream",
     "text": [
      "MoviePy - Done.\n"
     ]
    },
    {
     "name": "stderr",
     "output_type": "stream",
     "text": [
      "chunk:   4%|██▌                                                        | 1/23 [2:14:05<49:10:11, 8045.97s/it, now=None]"
     ]
    },
    {
     "name": "stdout",
     "output_type": "stream",
     "text": [
      "MoviePy - Writing audio in Output\\Naruto_HD_Set_1_Disc_1-001\\Naruto_HD_Set_1_Disc_1-001_1049000.mp3\n"
     ]
    },
    {
     "name": "stderr",
     "output_type": "stream",
     "text": [
      "\n",
      "chunk:   0%|                                                                          | 0/56 [00:00<?, ?it/s, now=None]\u001b[A\n",
      "chunk:  57%|████████████████████████████████████▌                           | 32/56 [00:00<00:00, 283.19it/s, now=None]\u001b[A\n",
      "chunk:   4%|██▌                                                        | 1/23 [2:14:06<49:10:14, 8046.14s/it, now=None]\u001b[A"
     ]
    },
    {
     "name": "stdout",
     "output_type": "stream",
     "text": [
      "MoviePy - Done.\n"
     ]
    },
    {
     "name": "stderr",
     "output_type": "stream",
     "text": [
      "chunk:   4%|██▌                                                        | 1/23 [2:14:07<49:10:39, 8047.25s/it, now=None]"
     ]
    },
    {
     "name": "stdout",
     "output_type": "stream",
     "text": [
      "MoviePy - Writing audio in Output\\Naruto_HD_Set_1_Disc_1-001\\Naruto_HD_Set_1_Disc_1-001_1051000.mp3\n"
     ]
    },
    {
     "name": "stderr",
     "output_type": "stream",
     "text": [
      "\n",
      "chunk:   0%|                                                                          | 0/56 [00:00<?, ?it/s, now=None]\u001b[A\n",
      "chunk:  61%|██████████████████████████████████████▊                         | 34/56 [00:00<00:00, 340.00it/s, now=None]\u001b[A\n",
      "chunk:   4%|██▌                                                        | 1/23 [2:14:07<49:10:43, 8047.42s/it, now=None]\u001b[A"
     ]
    },
    {
     "name": "stdout",
     "output_type": "stream",
     "text": [
      "MoviePy - Done.\n"
     ]
    },
    {
     "name": "stderr",
     "output_type": "stream",
     "text": [
      "chunk:   4%|██▌                                                        | 1/23 [2:14:08<49:11:06, 8048.49s/it, now=None]"
     ]
    },
    {
     "name": "stdout",
     "output_type": "stream",
     "text": [
      "MoviePy - Writing audio in Output\\Naruto_HD_Set_1_Disc_1-001\\Naruto_HD_Set_1_Disc_1-001_1052500.mp3\n"
     ]
    },
    {
     "name": "stderr",
     "output_type": "stream",
     "text": [
      "\n",
      "chunk:   0%|                                                                          | 0/34 [00:00<?, ?it/s, now=None]\u001b[A\n",
      "chunk:   4%|██▌                                                        | 1/23 [2:14:08<49:11:09, 8048.62s/it, now=None]\u001b[A"
     ]
    },
    {
     "name": "stdout",
     "output_type": "stream",
     "text": [
      "MoviePy - Done.\n"
     ]
    },
    {
     "name": "stderr",
     "output_type": "stream",
     "text": [
      "chunk:   4%|██▌                                                        | 1/23 [2:14:09<49:11:23, 8049.25s/it, now=None]"
     ]
    },
    {
     "name": "stdout",
     "output_type": "stream",
     "text": [
      "MoviePy - Writing audio in Output\\Naruto_HD_Set_1_Disc_1-001\\Naruto_HD_Set_1_Disc_1-001_1054000.mp3\n"
     ]
    },
    {
     "name": "stderr",
     "output_type": "stream",
     "text": [
      "\n",
      "chunk:   0%|                                                                          | 0/56 [00:00<?, ?it/s, now=None]\u001b[A\n",
      "chunk:  54%|██████████████████████████████████▎                             | 30/56 [00:00<00:00, 254.23it/s, now=None]\u001b[A\n",
      "chunk:   4%|██▌                                                        | 1/23 [2:14:09<49:11:27, 8049.42s/it, now=None]\u001b[A"
     ]
    },
    {
     "name": "stdout",
     "output_type": "stream",
     "text": [
      "MoviePy - Done.\n"
     ]
    },
    {
     "name": "stderr",
     "output_type": "stream",
     "text": [
      "chunk:   4%|██▌                                                        | 1/23 [2:14:10<49:11:51, 8050.51s/it, now=None]"
     ]
    },
    {
     "name": "stdout",
     "output_type": "stream",
     "text": [
      "MoviePy - Writing audio in Output\\Naruto_HD_Set_1_Disc_1-001\\Naruto_HD_Set_1_Disc_1-001_1056500.mp3\n"
     ]
    },
    {
     "name": "stderr",
     "output_type": "stream",
     "text": [
      "\n",
      "chunk:   0%|                                                                          | 0/78 [00:00<?, ?it/s, now=None]\u001b[A\n",
      "chunk:  37%|███████████████████████▊                                        | 29/78 [00:00<00:00, 256.64it/s, now=None]\u001b[A\n",
      "chunk:   4%|██▌                                                        | 1/23 [2:14:10<49:11:55, 8050.72s/it, now=None]\u001b[A"
     ]
    },
    {
     "name": "stdout",
     "output_type": "stream",
     "text": [
      "MoviePy - Done.\n"
     ]
    },
    {
     "name": "stderr",
     "output_type": "stream",
     "text": [
      "chunk:   4%|██▌                                                        | 1/23 [2:14:12<49:12:29, 8052.25s/it, now=None]"
     ]
    },
    {
     "name": "stdout",
     "output_type": "stream",
     "text": [
      "MoviePy - Writing audio in Output\\Naruto_HD_Set_1_Disc_1-001\\Naruto_HD_Set_1_Disc_1-001_1059000.mp3\n"
     ]
    },
    {
     "name": "stderr",
     "output_type": "stream",
     "text": [
      "\n",
      "chunk:   0%|                                                                          | 0/56 [00:00<?, ?it/s, now=None]\u001b[A\n",
      "chunk:  62%|████████████████████████████████████████                        | 35/56 [00:00<00:00, 349.99it/s, now=None]\u001b[A\n",
      "chunk:   4%|██▌                                                        | 1/23 [2:14:12<49:12:32, 8052.40s/it, now=None]\u001b[A"
     ]
    },
    {
     "name": "stdout",
     "output_type": "stream",
     "text": [
      "MoviePy - Done.\n"
     ]
    },
    {
     "name": "stderr",
     "output_type": "stream",
     "text": [
      "chunk:   4%|██▌                                                        | 1/23 [2:14:12<49:12:42, 8052.82s/it, now=None]"
     ]
    },
    {
     "name": "stdout",
     "output_type": "stream",
     "text": [
      "MoviePy - Writing audio in Output\\Naruto_HD_Set_1_Disc_1-001\\Naruto_HD_Set_1_Disc_1-001_1062500.mp3\n"
     ]
    },
    {
     "name": "stderr",
     "output_type": "stream",
     "text": [
      "\n",
      "chunk:   0%|                                                                          | 0/34 [00:00<?, ?it/s, now=None]\u001b[A\n",
      "chunk: 100%|████████████████████████████████████████████████████████████████| 34/34 [00:00<00:00, 336.64it/s, now=None]\u001b[A\n",
      "chunk:   4%|██▌                                                        | 1/23 [2:14:12<49:12:45, 8052.96s/it, now=None]\u001b[A"
     ]
    },
    {
     "name": "stdout",
     "output_type": "stream",
     "text": [
      "MoviePy - Done.\n"
     ]
    },
    {
     "name": "stderr",
     "output_type": "stream",
     "text": [
      "chunk:   4%|██▌                                                        | 1/23 [2:14:13<49:12:57, 8053.52s/it, now=None]"
     ]
    },
    {
     "name": "stdout",
     "output_type": "stream",
     "text": [
      "MoviePy - Writing audio in Output\\Naruto_HD_Set_1_Disc_1-001\\Naruto_HD_Set_1_Disc_1-001_1064000.mp3\n"
     ]
    },
    {
     "name": "stderr",
     "output_type": "stream",
     "text": [
      "\n",
      "chunk:   0%|                                                                          | 0/56 [00:00<?, ?it/s, now=None]\u001b[A\n",
      "chunk:  88%|████████████████████████████████████████████████████████        | 49/56 [00:00<00:00, 485.14it/s, now=None]\u001b[A\n",
      "chunk:   4%|██▌                                                        | 1/23 [2:14:13<49:13:00, 8053.66s/it, now=None]\u001b[A"
     ]
    },
    {
     "name": "stdout",
     "output_type": "stream",
     "text": [
      "MoviePy - Done.\n"
     ]
    },
    {
     "name": "stderr",
     "output_type": "stream",
     "text": [
      "chunk:   4%|██▌                                                        | 1/23 [2:14:14<49:13:23, 8054.69s/it, now=None]"
     ]
    },
    {
     "name": "stdout",
     "output_type": "stream",
     "text": [
      "MoviePy - Writing audio in Output\\Naruto_HD_Set_1_Disc_1-001\\Naruto_HD_Set_1_Disc_1-001_1066000.mp3\n"
     ]
    },
    {
     "name": "stderr",
     "output_type": "stream",
     "text": [
      "\n",
      "chunk:   0%|                                                                          | 0/56 [00:00<?, ?it/s, now=None]\u001b[A\n",
      "chunk:  64%|█████████████████████████████████████████▏                      | 36/56 [00:00<00:00, 321.44it/s, now=None]\u001b[A\n",
      "chunk:   4%|██▌                                                        | 1/23 [2:14:14<49:13:26, 8054.85s/it, now=None]\u001b[A"
     ]
    },
    {
     "name": "stdout",
     "output_type": "stream",
     "text": [
      "MoviePy - Done.\n"
     ]
    },
    {
     "name": "stderr",
     "output_type": "stream",
     "text": [
      "chunk:   4%|██▌                                                        | 1/23 [2:14:15<49:13:48, 8055.86s/it, now=None]"
     ]
    },
    {
     "name": "stdout",
     "output_type": "stream",
     "text": [
      "MoviePy - Writing audio in Output\\Naruto_HD_Set_1_Disc_1-001\\Naruto_HD_Set_1_Disc_1-001_1068000.mp3\n"
     ]
    },
    {
     "name": "stderr",
     "output_type": "stream",
     "text": [
      "\n",
      "chunk:   0%|                                                                          | 0/56 [00:00<?, ?it/s, now=None]\u001b[A\n",
      "chunk:  75%|████████████████████████████████████████████████                | 42/56 [00:00<00:00, 358.98it/s, now=None]\u001b[A\n",
      "chunk:   4%|██▌                                                        | 1/23 [2:14:16<49:13:52, 8056.02s/it, now=None]\u001b[A"
     ]
    },
    {
     "name": "stdout",
     "output_type": "stream",
     "text": [
      "MoviePy - Done.\n"
     ]
    },
    {
     "name": "stderr",
     "output_type": "stream",
     "text": [
      "chunk:   4%|██▌                                                        | 1/23 [2:14:17<49:14:15, 8057.06s/it, now=None]"
     ]
    },
    {
     "name": "stdout",
     "output_type": "stream",
     "text": [
      "MoviePy - Writing audio in Output\\Naruto_HD_Set_1_Disc_1-001\\Naruto_HD_Set_1_Disc_1-001_1070000.mp3\n"
     ]
    },
    {
     "name": "stderr",
     "output_type": "stream",
     "text": [
      "\n",
      "chunk:   0%|                                                                          | 0/56 [00:00<?, ?it/s, now=None]\u001b[A\n",
      "chunk:  75%|████████████████████████████████████████████████                | 42/56 [00:00<00:00, 415.85it/s, now=None]\u001b[A\n",
      "chunk:   4%|██▌                                                        | 1/23 [2:14:17<49:14:18, 8057.23s/it, now=None]\u001b[A"
     ]
    },
    {
     "name": "stdout",
     "output_type": "stream",
     "text": [
      "MoviePy - Done.\n"
     ]
    },
    {
     "name": "stderr",
     "output_type": "stream",
     "text": [
      "chunk:   4%|██▌                                                        | 1/23 [2:14:18<49:14:41, 8058.23s/it, now=None]"
     ]
    },
    {
     "name": "stdout",
     "output_type": "stream",
     "text": [
      "MoviePy - Writing audio in Output\\Naruto_HD_Set_1_Disc_1-001\\Naruto_HD_Set_1_Disc_1-001_1072000.mp3\n"
     ]
    },
    {
     "name": "stderr",
     "output_type": "stream",
     "text": [
      "\n",
      "chunk:   0%|                                                                          | 0/56 [00:00<?, ?it/s, now=None]\u001b[A\n",
      "chunk:  75%|████████████████████████████████████████████████                | 42/56 [00:00<00:00, 415.86it/s, now=None]\u001b[A\n",
      "chunk:   4%|██▌                                                        | 1/23 [2:14:18<49:14:44, 8058.40s/it, now=None]\u001b[A"
     ]
    },
    {
     "name": "stdout",
     "output_type": "stream",
     "text": [
      "MoviePy - Done.\n"
     ]
    },
    {
     "name": "stderr",
     "output_type": "stream",
     "text": [
      "chunk:   4%|██▌                                                        | 1/23 [2:14:19<49:15:07, 8059.45s/it, now=None]"
     ]
    },
    {
     "name": "stdout",
     "output_type": "stream",
     "text": [
      "MoviePy - Writing audio in Output\\Naruto_HD_Set_1_Disc_1-001\\Naruto_HD_Set_1_Disc_1-001_1074000.mp3\n"
     ]
    },
    {
     "name": "stderr",
     "output_type": "stream",
     "text": [
      "\n",
      "chunk:   0%|                                                                          | 0/56 [00:00<?, ?it/s, now=None]\u001b[A\n",
      "chunk:  80%|███████████████████████████████████████████████████▍            | 45/56 [00:00<00:00, 445.54it/s, now=None]\u001b[A\n",
      "chunk:   4%|██▌                                                        | 1/23 [2:14:19<49:15:11, 8059.60s/it, now=None]\u001b[A"
     ]
    },
    {
     "name": "stdout",
     "output_type": "stream",
     "text": [
      "MoviePy - Done.\n"
     ]
    },
    {
     "name": "stderr",
     "output_type": "stream",
     "text": [
      "chunk:   4%|██▌                                                        | 1/23 [2:14:20<49:15:33, 8060.63s/it, now=None]"
     ]
    },
    {
     "name": "stdout",
     "output_type": "stream",
     "text": [
      "MoviePy - Writing audio in Output\\Naruto_HD_Set_1_Disc_1-001\\Naruto_HD_Set_1_Disc_1-001_1076500.mp3\n"
     ]
    },
    {
     "name": "stderr",
     "output_type": "stream",
     "text": [
      "\n",
      "chunk:   0%|                                                                          | 0/78 [00:00<?, ?it/s, now=None]\u001b[A\n",
      "chunk:  37%|███████████████████████▊                                        | 29/78 [00:00<00:00, 252.18it/s, now=None]\u001b[A\n",
      "chunk:   4%|██▌                                                        | 1/23 [2:14:20<49:15:38, 8060.85s/it, now=None]\u001b[A"
     ]
    },
    {
     "name": "stdout",
     "output_type": "stream",
     "text": [
      "MoviePy - Done.\n"
     ]
    },
    {
     "name": "stderr",
     "output_type": "stream",
     "text": [
      "chunk:   4%|██▌                                                        | 1/23 [2:14:22<49:16:12, 8062.38s/it, now=None]"
     ]
    },
    {
     "name": "stdout",
     "output_type": "stream",
     "text": [
      "MoviePy - Writing audio in Output\\Naruto_HD_Set_1_Disc_1-001\\Naruto_HD_Set_1_Disc_1-001_1079000.mp3\n"
     ]
    },
    {
     "name": "stderr",
     "output_type": "stream",
     "text": [
      "\n",
      "chunk:   0%|                                                                          | 0/56 [00:00<?, ?it/s, now=None]\u001b[A\n",
      "chunk:  68%|███████████████████████████████████████████▍                    | 38/56 [00:00<00:00, 376.24it/s, now=None]\u001b[A\n",
      "chunk:   4%|██▌                                                        | 1/23 [2:14:22<49:16:16, 8062.55s/it, now=None]\u001b[A"
     ]
    },
    {
     "name": "stdout",
     "output_type": "stream",
     "text": [
      "MoviePy - Done.\n"
     ]
    },
    {
     "name": "stderr",
     "output_type": "stream",
     "text": [
      "chunk:   4%|██▌                                                        | 1/23 [2:14:23<49:16:38, 8063.58s/it, now=None]"
     ]
    },
    {
     "name": "stdout",
     "output_type": "stream",
     "text": [
      "MoviePy - Writing audio in Output\\Naruto_HD_Set_1_Disc_1-001\\Naruto_HD_Set_1_Disc_1-001_1082000.mp3\n"
     ]
    },
    {
     "name": "stderr",
     "output_type": "stream",
     "text": [
      "\n",
      "chunk:   0%|                                                                         | 0/100 [00:00<?, ?it/s, now=None]\u001b[A\n",
      "chunk:  34%|█████████████████████▍                                         | 34/100 [00:00<00:00, 340.00it/s, now=None]\u001b[A\n",
      "chunk:   4%|██▌                                                        | 1/23 [2:14:23<49:16:43, 8063.79s/it, now=None]\u001b[A"
     ]
    },
    {
     "name": "stdout",
     "output_type": "stream",
     "text": [
      "MoviePy - Done.\n"
     ]
    },
    {
     "name": "stderr",
     "output_type": "stream",
     "text": [
      "chunk:   4%|██▌                                                        | 1/23 [2:14:24<49:16:53, 8064.23s/it, now=None]"
     ]
    },
    {
     "name": "stdout",
     "output_type": "stream",
     "text": [
      "MoviePy - Writing audio in Output\\Naruto_HD_Set_1_Disc_1-001\\Naruto_HD_Set_1_Disc_1-001_1085000.mp3\n"
     ]
    },
    {
     "name": "stderr",
     "output_type": "stream",
     "text": [
      "\n",
      "chunk:   0%|                                                                          | 0/56 [00:00<?, ?it/s, now=None]\u001b[A\n",
      "chunk:  54%|██████████████████████████████████▎                             | 30/56 [00:00<00:00, 260.87it/s, now=None]\u001b[A\n",
      "chunk:   4%|██▌                                                        | 1/23 [2:14:24<49:16:56, 8064.40s/it, now=None]\u001b[A"
     ]
    },
    {
     "name": "stdout",
     "output_type": "stream",
     "text": [
      "MoviePy - Done.\n"
     ]
    },
    {
     "name": "stderr",
     "output_type": "stream",
     "text": [
      "chunk:   4%|██▌                                                        | 1/23 [2:14:25<49:17:20, 8065.49s/it, now=None]"
     ]
    },
    {
     "name": "stdout",
     "output_type": "stream",
     "text": [
      "MoviePy - Writing audio in Output\\Naruto_HD_Set_1_Disc_1-001\\Naruto_HD_Set_1_Disc_1-001_1087000.mp3\n"
     ]
    },
    {
     "name": "stderr",
     "output_type": "stream",
     "text": [
      "\n",
      "chunk:   0%|                                                                          | 0/56 [00:00<?, ?it/s, now=None]\u001b[A\n",
      "chunk:  54%|██████████████████████████████████▎                             | 30/56 [00:00<00:00, 265.49it/s, now=None]\u001b[A\n",
      "chunk:   4%|██▌                                                        | 1/23 [2:14:25<49:17:24, 8065.66s/it, now=None]\u001b[A"
     ]
    },
    {
     "name": "stdout",
     "output_type": "stream",
     "text": [
      "MoviePy - Done.\n"
     ]
    },
    {
     "name": "stderr",
     "output_type": "stream",
     "text": [
      "chunk:   4%|██▌                                                        | 1/23 [2:14:26<49:17:47, 8066.72s/it, now=None]"
     ]
    },
    {
     "name": "stdout",
     "output_type": "stream",
     "text": [
      "MoviePy - Writing audio in Output\\Naruto_HD_Set_1_Disc_1-001\\Naruto_HD_Set_1_Disc_1-001_1089000.mp3\n"
     ]
    },
    {
     "name": "stderr",
     "output_type": "stream",
     "text": [
      "\n",
      "chunk:   0%|                                                                          | 0/56 [00:00<?, ?it/s, now=None]\u001b[A\n",
      "chunk:  55%|███████████████████████████████████▍                            | 31/56 [00:00<00:00, 267.24it/s, now=None]\u001b[A\n",
      "chunk:   4%|██▌                                                        | 1/23 [2:14:26<49:17:51, 8066.89s/it, now=None]\u001b[A"
     ]
    },
    {
     "name": "stdout",
     "output_type": "stream",
     "text": [
      "MoviePy - Done.\n"
     ]
    },
    {
     "name": "stderr",
     "output_type": "stream",
     "text": [
      "chunk:   4%|██▌                                                        | 1/23 [2:14:27<49:18:15, 8067.96s/it, now=None]"
     ]
    },
    {
     "name": "stdout",
     "output_type": "stream",
     "text": [
      "MoviePy - Writing audio in Output\\Naruto_HD_Set_1_Disc_1-001\\Naruto_HD_Set_1_Disc_1-001_1091500.mp3\n"
     ]
    },
    {
     "name": "stderr",
     "output_type": "stream",
     "text": [
      "\n",
      "chunk:   0%|                                                                          | 0/78 [00:00<?, ?it/s, now=None]\u001b[A\n",
      "chunk:  47%|██████████████████████████████▎                                 | 37/78 [00:00<00:00, 310.93it/s, now=None]\u001b[A\n",
      "chunk:   4%|██▌                                                        | 1/23 [2:14:28<49:18:19, 8068.14s/it, now=None]\u001b[A"
     ]
    },
    {
     "name": "stdout",
     "output_type": "stream",
     "text": [
      "MoviePy - Done.\n"
     ]
    },
    {
     "name": "stderr",
     "output_type": "stream",
     "text": [
      "chunk:   4%|██▌                                                        | 1/23 [2:14:29<49:18:52, 8069.65s/it, now=None]"
     ]
    },
    {
     "name": "stdout",
     "output_type": "stream",
     "text": [
      "MoviePy - Writing audio in Output\\Naruto_HD_Set_1_Disc_1-001\\Naruto_HD_Set_1_Disc_1-001_1094500.mp3\n"
     ]
    },
    {
     "name": "stderr",
     "output_type": "stream",
     "text": [
      "\n",
      "chunk:   0%|                                                                          | 0/78 [00:00<?, ?it/s, now=None]\u001b[A\n",
      "chunk:  37%|███████████████████████▊                                        | 29/78 [00:00<00:00, 252.19it/s, now=None]\u001b[A\n",
      "chunk:   4%|██▌                                                        | 1/23 [2:14:29<49:18:56, 8069.86s/it, now=None]\u001b[A"
     ]
    },
    {
     "name": "stdout",
     "output_type": "stream",
     "text": [
      "MoviePy - Done.\n"
     ]
    },
    {
     "name": "stderr",
     "output_type": "stream",
     "text": [
      "chunk:   4%|██▌                                                        | 1/23 [2:14:31<49:19:29, 8071.32s/it, now=None]"
     ]
    },
    {
     "name": "stdout",
     "output_type": "stream",
     "text": [
      "MoviePy - Writing audio in Output\\Naruto_HD_Set_1_Disc_1-001\\Naruto_HD_Set_1_Disc_1-001_1097500.mp3\n"
     ]
    },
    {
     "name": "stderr",
     "output_type": "stream",
     "text": [
      "\n",
      "chunk:   0%|                                                                          | 0/78 [00:00<?, ?it/s, now=None]\u001b[A\n",
      "chunk:  51%|████████████████████████████████▊                               | 40/78 [00:00<00:00, 396.04it/s, now=None]\u001b[A\n",
      "chunk:   4%|██▌                                                        | 1/23 [2:14:31<49:19:33, 8071.52s/it, now=None]\u001b[A"
     ]
    },
    {
     "name": "stdout",
     "output_type": "stream",
     "text": [
      "MoviePy - Done.\n"
     ]
    },
    {
     "name": "stderr",
     "output_type": "stream",
     "text": [
      "chunk:   4%|██▌                                                        | 1/23 [2:14:32<49:20:04, 8072.94s/it, now=None]"
     ]
    },
    {
     "name": "stdout",
     "output_type": "stream",
     "text": [
      "MoviePy - Writing audio in Output\\Naruto_HD_Set_1_Disc_1-001\\Naruto_HD_Set_1_Disc_1-001_1100500.mp3\n"
     ]
    },
    {
     "name": "stderr",
     "output_type": "stream",
     "text": [
      "\n",
      "chunk:   0%|                                                                          | 0/78 [00:00<?, ?it/s, now=None]\u001b[A\n",
      "chunk:  46%|█████████████████████████████▌                                  | 36/78 [00:00<00:00, 356.39it/s, now=None]\u001b[A\n",
      "chunk:   4%|██▌                                                        | 1/23 [2:14:33<49:20:09, 8073.14s/it, now=None]\u001b[A"
     ]
    },
    {
     "name": "stdout",
     "output_type": "stream",
     "text": [
      "MoviePy - Done.\n"
     ]
    },
    {
     "name": "stderr",
     "output_type": "stream",
     "text": [
      "chunk:   4%|██▌                                                        | 1/23 [2:14:33<49:20:17, 8073.54s/it, now=None]"
     ]
    },
    {
     "name": "stdout",
     "output_type": "stream",
     "text": [
      "MoviePy - Writing audio in Output\\Naruto_HD_Set_1_Disc_1-001\\Naruto_HD_Set_1_Disc_1-001_1105500.mp3\n"
     ]
    },
    {
     "name": "stderr",
     "output_type": "stream",
     "text": [
      "\n",
      "chunk:   0%|                                                                          | 0/34 [00:00<?, ?it/s, now=None]\u001b[A\n",
      "chunk: 100%|████████████████████████████████████████████████████████████████| 34/34 [00:00<00:00, 336.64it/s, now=None]\u001b[A\n",
      "chunk:   4%|██▌                                                        | 1/23 [2:14:33<49:20:20, 8073.67s/it, now=None]\u001b[A"
     ]
    },
    {
     "name": "stdout",
     "output_type": "stream",
     "text": [
      "MoviePy - Done.\n"
     ]
    },
    {
     "name": "stderr",
     "output_type": "stream",
     "text": [
      "chunk:   4%|██▌                                                        | 1/23 [2:14:34<49:20:33, 8074.26s/it, now=None]"
     ]
    },
    {
     "name": "stdout",
     "output_type": "stream",
     "text": [
      "MoviePy - Writing audio in Output\\Naruto_HD_Set_1_Disc_1-001\\Naruto_HD_Set_1_Disc_1-001_1107000.mp3\n"
     ]
    },
    {
     "name": "stderr",
     "output_type": "stream",
     "text": [
      "\n",
      "chunk:   0%|                                                                          | 0/56 [00:00<?, ?it/s, now=None]\u001b[A\n",
      "chunk:  68%|███████████████████████████████████████████▍                    | 38/56 [00:00<00:00, 376.28it/s, now=None]\u001b[A\n",
      "chunk:   4%|██▌                                                        | 1/23 [2:14:34<49:20:36, 8074.41s/it, now=None]\u001b[A"
     ]
    },
    {
     "name": "stdout",
     "output_type": "stream",
     "text": [
      "MoviePy - Done.\n"
     ]
    },
    {
     "name": "stderr",
     "output_type": "stream",
     "text": [
      "chunk:   4%|██▌                                                        | 1/23 [2:14:35<49:21:00, 8075.48s/it, now=None]"
     ]
    },
    {
     "name": "stdout",
     "output_type": "stream",
     "text": [
      "MoviePy - Writing audio in Output\\Naruto_HD_Set_1_Disc_1-001\\Naruto_HD_Set_1_Disc_1-001_1109000.mp3\n"
     ]
    },
    {
     "name": "stderr",
     "output_type": "stream",
     "text": [
      "\n",
      "chunk:   0%|                                                                          | 0/56 [00:00<?, ?it/s, now=None]\u001b[A\n",
      "chunk:  64%|█████████████████████████████████████████▏                      | 36/56 [00:00<00:00, 302.51it/s, now=None]\u001b[A\n",
      "chunk:   4%|██▌                                                        | 1/23 [2:14:35<49:21:04, 8075.65s/it, now=None]\u001b[A"
     ]
    },
    {
     "name": "stdout",
     "output_type": "stream",
     "text": [
      "MoviePy - Done.\n"
     ]
    },
    {
     "name": "stderr",
     "output_type": "stream",
     "text": [
      "chunk:   4%|██▌                                                        | 1/23 [2:14:36<49:21:28, 8076.77s/it, now=None]"
     ]
    },
    {
     "name": "stdout",
     "output_type": "stream",
     "text": [
      "MoviePy - Writing audio in Output\\Naruto_HD_Set_1_Disc_1-001\\Naruto_HD_Set_1_Disc_1-001_1111500.mp3\n"
     ]
    },
    {
     "name": "stderr",
     "output_type": "stream",
     "text": [
      "\n",
      "chunk:   0%|                                                                          | 0/78 [00:00<?, ?it/s, now=None]\u001b[A\n",
      "chunk:  51%|████████████████████████████████▊                               | 40/78 [00:00<00:00, 396.04it/s, now=None]\u001b[A\n",
      "chunk:   4%|██▌                                                        | 1/23 [2:14:36<49:21:33, 8076.96s/it, now=None]\u001b[A"
     ]
    },
    {
     "name": "stdout",
     "output_type": "stream",
     "text": [
      "MoviePy - Done.\n"
     ]
    },
    {
     "name": "stderr",
     "output_type": "stream",
     "text": [
      "chunk:   4%|██▌                                                        | 1/23 [2:14:38<49:22:06, 8078.47s/it, now=None]"
     ]
    },
    {
     "name": "stdout",
     "output_type": "stream",
     "text": [
      "MoviePy - Writing audio in Output\\Naruto_HD_Set_1_Disc_1-001\\Naruto_HD_Set_1_Disc_1-001_1114000.mp3\n"
     ]
    },
    {
     "name": "stderr",
     "output_type": "stream",
     "text": [
      "\n",
      "chunk:   0%|                                                                          | 0/56 [00:00<?, ?it/s, now=None]\u001b[A\n",
      "chunk:  54%|██████████████████████████████████▎                             | 30/56 [00:00<00:00, 256.41it/s, now=None]\u001b[A\n",
      "chunk:   4%|██▌                                                        | 1/23 [2:14:38<49:22:10, 8078.64s/it, now=None]\u001b[A"
     ]
    },
    {
     "name": "stdout",
     "output_type": "stream",
     "text": [
      "MoviePy - Done.\n"
     ]
    },
    {
     "name": "stderr",
     "output_type": "stream",
     "text": [
      "chunk:   4%|██▌                                                        | 1/23 [2:14:40<49:22:43, 8080.17s/it, now=None]"
     ]
    },
    {
     "name": "stdout",
     "output_type": "stream",
     "text": [
      "MoviePy - Writing audio in Output\\Naruto_HD_Set_1_Disc_1-001\\Naruto_HD_Set_1_Disc_1-001_1117000.mp3\n"
     ]
    },
    {
     "name": "stderr",
     "output_type": "stream",
     "text": [
      "\n",
      "chunk:   0%|                                                                          | 0/56 [00:00<?, ?it/s, now=None]\u001b[A\n",
      "chunk:  54%|██████████████████████████████████▎                             | 30/56 [00:00<00:00, 256.41it/s, now=None]\u001b[A\n",
      "chunk:   4%|██▌                                                        | 1/23 [2:14:40<49:22:47, 8080.34s/it, now=None]\u001b[A"
     ]
    },
    {
     "name": "stdout",
     "output_type": "stream",
     "text": [
      "MoviePy - Done.\n"
     ]
    },
    {
     "name": "stderr",
     "output_type": "stream",
     "text": [
      "chunk:   4%|██▌                                                        | 1/23 [2:14:40<49:22:58, 8080.86s/it, now=None]"
     ]
    },
    {
     "name": "stdout",
     "output_type": "stream",
     "text": [
      "MoviePy - Writing audio in Output\\Naruto_HD_Set_1_Disc_1-001\\Naruto_HD_Set_1_Disc_1-001_1125000.mp3\n"
     ]
    },
    {
     "name": "stderr",
     "output_type": "stream",
     "text": [
      "\n",
      "chunk:   0%|                                                                          | 0/56 [00:00<?, ?it/s, now=None]\u001b[A\n",
      "chunk:  54%|██████████████████████████████████▎                             | 30/56 [00:00<00:00, 258.62it/s, now=None]\u001b[A\n",
      "chunk:   4%|██▌                                                        | 1/23 [2:14:41<49:23:03, 8081.06s/it, now=None]\u001b[A"
     ]
    },
    {
     "name": "stdout",
     "output_type": "stream",
     "text": [
      "MoviePy - Done.\n"
     ]
    },
    {
     "name": "stderr",
     "output_type": "stream",
     "text": [
      "chunk:   4%|██▌                                                        | 1/23 [2:14:41<49:23:17, 8081.70s/it, now=None]"
     ]
    },
    {
     "name": "stdout",
     "output_type": "stream",
     "text": [
      "MoviePy - Writing audio in Output\\Naruto_HD_Set_1_Disc_1-001\\Naruto_HD_Set_1_Disc_1-001_1130000.mp3\n"
     ]
    },
    {
     "name": "stderr",
     "output_type": "stream",
     "text": [
      "\n",
      "chunk:   0%|                                                                          | 0/56 [00:00<?, ?it/s, now=None]\u001b[A\n",
      "chunk:  71%|█████████████████████████████████████████████▋                  | 40/56 [00:00<00:00, 396.05it/s, now=None]\u001b[A\n",
      "chunk:   4%|██▌                                                        | 1/23 [2:14:41<49:23:21, 8081.87s/it, now=None]\u001b[A"
     ]
    },
    {
     "name": "stdout",
     "output_type": "stream",
     "text": [
      "MoviePy - Done.\n"
     ]
    },
    {
     "name": "stderr",
     "output_type": "stream",
     "text": [
      "chunk:   4%|██▌                                                        | 1/23 [2:14:43<49:23:55, 8083.43s/it, now=None]"
     ]
    },
    {
     "name": "stdout",
     "output_type": "stream",
     "text": [
      "MoviePy - Writing audio in Output\\Naruto_HD_Set_1_Disc_1-001\\Naruto_HD_Set_1_Disc_1-001_1133500.mp3\n"
     ]
    },
    {
     "name": "stderr",
     "output_type": "stream",
     "text": [
      "\n",
      "chunk:   0%|                                                                          | 0/78 [00:00<?, ?it/s, now=None]\u001b[A\n",
      "chunk:  46%|█████████████████████████████▌                                  | 36/78 [00:00<00:00, 297.53it/s, now=None]\u001b[A\n",
      "chunk:   4%|██▌                                                        | 1/23 [2:14:43<49:23:59, 8083.62s/it, now=None]\u001b[A"
     ]
    },
    {
     "name": "stdout",
     "output_type": "stream",
     "text": [
      "MoviePy - Done.\n"
     ]
    },
    {
     "name": "stderr",
     "output_type": "stream",
     "text": [
      "chunk:   4%|██▌                                                        | 1/23 [2:14:45<49:24:34, 8085.22s/it, now=None]"
     ]
    },
    {
     "name": "stdout",
     "output_type": "stream",
     "text": [
      "MoviePy - Writing audio in Output\\Naruto_HD_Set_1_Disc_1-001\\Naruto_HD_Set_1_Disc_1-001_1136000.mp3\n"
     ]
    },
    {
     "name": "stderr",
     "output_type": "stream",
     "text": [
      "\n",
      "chunk:   0%|                                                                          | 0/56 [00:00<?, ?it/s, now=None]\u001b[A\n",
      "chunk:  54%|██████████████████████████████████▎                             | 30/56 [00:00<00:00, 267.86it/s, now=None]\u001b[A\n",
      "chunk:   4%|██▌                                                        | 1/23 [2:14:45<49:24:38, 8085.39s/it, now=None]\u001b[A"
     ]
    },
    {
     "name": "stdout",
     "output_type": "stream",
     "text": [
      "MoviePy - Done.\n"
     ]
    },
    {
     "name": "stderr",
     "output_type": "stream",
     "text": [
      "chunk:   4%|██▌                                                        | 1/23 [2:14:46<49:25:02, 8086.46s/it, now=None]"
     ]
    },
    {
     "name": "stdout",
     "output_type": "stream",
     "text": [
      "MoviePy - Writing audio in Output\\Naruto_HD_Set_1_Disc_1-001\\Naruto_HD_Set_1_Disc_1-001_1138000.mp3\n"
     ]
    },
    {
     "name": "stderr",
     "output_type": "stream",
     "text": [
      "\n",
      "chunk:   0%|                                                                          | 0/56 [00:00<?, ?it/s, now=None]\u001b[A\n",
      "chunk:  54%|██████████████████████████████████▎                             | 30/56 [00:00<00:00, 256.40it/s, now=None]\u001b[A\n",
      "chunk:   4%|██▌                                                        | 1/23 [2:14:46<49:25:05, 8086.63s/it, now=None]\u001b[A"
     ]
    },
    {
     "name": "stdout",
     "output_type": "stream",
     "text": [
      "MoviePy - Done.\n"
     ]
    },
    {
     "name": "stderr",
     "output_type": "stream",
     "text": [
      "chunk:   4%|██▌                                                        | 1/23 [2:14:47<49:25:28, 8087.64s/it, now=None]"
     ]
    },
    {
     "name": "stdout",
     "output_type": "stream",
     "text": [
      "MoviePy - Writing audio in Output\\Naruto_HD_Set_1_Disc_1-001\\Naruto_HD_Set_1_Disc_1-001_1140500.mp3\n"
     ]
    },
    {
     "name": "stderr",
     "output_type": "stream",
     "text": [
      "\n",
      "chunk:   0%|                                                                          | 0/78 [00:00<?, ?it/s, now=None]\u001b[A\n",
      "chunk:  41%|██████████████████████████▎                                     | 32/78 [00:00<00:00, 280.69it/s, now=None]\u001b[A\n",
      "chunk:   4%|██▌                                                        | 1/23 [2:14:47<49:25:32, 8087.82s/it, now=None]\u001b[A"
     ]
    },
    {
     "name": "stdout",
     "output_type": "stream",
     "text": [
      "MoviePy - Done.\n"
     ]
    },
    {
     "name": "stderr",
     "output_type": "stream",
     "text": [
      "chunk:   4%|██▌                                                        | 1/23 [2:14:49<49:26:04, 8089.30s/it, now=None]"
     ]
    },
    {
     "name": "stdout",
     "output_type": "stream",
     "text": [
      "MoviePy - Writing audio in Output\\Naruto_HD_Set_1_Disc_1-001\\Naruto_HD_Set_1_Disc_1-001_1143000.mp3\n"
     ]
    },
    {
     "name": "stderr",
     "output_type": "stream",
     "text": [
      "\n",
      "chunk:   0%|                                                                          | 0/56 [00:00<?, ?it/s, now=None]\u001b[A\n",
      "chunk:  54%|██████████████████████████████████▎                             | 30/56 [00:00<00:00, 264.25it/s, now=None]\u001b[A\n",
      "chunk:   4%|██▌                                                        | 1/23 [2:14:49<49:26:08, 8089.47s/it, now=None]\u001b[A"
     ]
    },
    {
     "name": "stdout",
     "output_type": "stream",
     "text": [
      "MoviePy - Done.\n"
     ]
    },
    {
     "name": "stderr",
     "output_type": "stream",
     "text": [
      "chunk:   4%|██▌                                                        | 1/23 [2:14:50<49:26:32, 8090.55s/it, now=None]"
     ]
    },
    {
     "name": "stdout",
     "output_type": "stream",
     "text": [
      "MoviePy - Writing audio in Output\\Naruto_HD_Set_1_Disc_1-001\\Naruto_HD_Set_1_Disc_1-001_1145500.mp3\n"
     ]
    },
    {
     "name": "stderr",
     "output_type": "stream",
     "text": [
      "\n",
      "chunk:   0%|                                                                          | 0/78 [00:00<?, ?it/s, now=None]\u001b[A\n",
      "chunk:  37%|███████████████████████▊                                        | 29/78 [00:00<00:00, 254.39it/s, now=None]\u001b[A\n",
      "chunk:   4%|██▌                                                        | 1/23 [2:14:50<49:26:36, 8090.76s/it, now=None]\u001b[A"
     ]
    },
    {
     "name": "stdout",
     "output_type": "stream",
     "text": [
      "MoviePy - Done.\n"
     ]
    },
    {
     "name": "stderr",
     "output_type": "stream",
     "text": [
      "chunk:   4%|██▌                                                        | 1/23 [2:14:52<49:27:10, 8092.28s/it, now=None]"
     ]
    },
    {
     "name": "stdout",
     "output_type": "stream",
     "text": [
      "MoviePy - Writing audio in Output\\Naruto_HD_Set_1_Disc_1-001\\Naruto_HD_Set_1_Disc_1-001_1148000.mp3\n"
     ]
    },
    {
     "name": "stderr",
     "output_type": "stream",
     "text": [
      "\n",
      "chunk:   0%|                                                                          | 0/56 [00:00<?, ?it/s, now=None]\u001b[A\n",
      "chunk:  79%|██████████████████████████████████████████████████▎             | 44/56 [00:00<00:00, 439.99it/s, now=None]\u001b[A\n",
      "chunk:   4%|██▌                                                        | 1/23 [2:14:52<49:27:13, 8092.45s/it, now=None]\u001b[A"
     ]
    },
    {
     "name": "stdout",
     "output_type": "stream",
     "text": [
      "MoviePy - Done.\n"
     ]
    },
    {
     "name": "stderr",
     "output_type": "stream",
     "text": [
      "chunk:   4%|██▌                                                        | 1/23 [2:14:53<49:27:37, 8093.53s/it, now=None]"
     ]
    },
    {
     "name": "stdout",
     "output_type": "stream",
     "text": [
      "MoviePy - Writing audio in Output\\Naruto_HD_Set_1_Disc_1-001\\Naruto_HD_Set_1_Disc_1-001_1150000.mp3\n"
     ]
    },
    {
     "name": "stderr",
     "output_type": "stream",
     "text": [
      "\n",
      "chunk:   0%|                                                                          | 0/56 [00:00<?, ?it/s, now=None]\u001b[A\n",
      "chunk:  70%|████████████████████████████████████████████▌                   | 39/56 [00:00<00:00, 386.15it/s, now=None]\u001b[A\n",
      "chunk:   4%|██▌                                                        | 1/23 [2:14:53<49:27:40, 8093.68s/it, now=None]\u001b[A"
     ]
    },
    {
     "name": "stdout",
     "output_type": "stream",
     "text": [
      "MoviePy - Done.\n"
     ]
    },
    {
     "name": "stderr",
     "output_type": "stream",
     "text": [
      "chunk:   4%|██▌                                                        | 1/23 [2:14:55<49:28:13, 8095.16s/it, now=None]"
     ]
    },
    {
     "name": "stdout",
     "output_type": "stream",
     "text": [
      "MoviePy - Writing audio in Output\\Naruto_HD_Set_1_Disc_1-001\\Naruto_HD_Set_1_Disc_1-001_1153000.mp3\n"
     ]
    },
    {
     "name": "stderr",
     "output_type": "stream",
     "text": [
      "\n",
      "chunk:   0%|                                                                          | 0/56 [00:00<?, ?it/s, now=None]\u001b[A\n",
      "chunk:  66%|██████████████████████████████████████████▎                     | 37/56 [00:00<00:00, 366.34it/s, now=None]\u001b[A\n",
      "chunk:   4%|██▌                                                        | 1/23 [2:14:55<49:28:17, 8095.33s/it, now=None]\u001b[A"
     ]
    },
    {
     "name": "stdout",
     "output_type": "stream",
     "text": [
      "MoviePy - Done.\n"
     ]
    },
    {
     "name": "stderr",
     "output_type": "stream",
     "text": [
      "chunk:   4%|██▌                                                        | 1/23 [2:14:55<49:28:28, 8095.82s/it, now=None]"
     ]
    },
    {
     "name": "stdout",
     "output_type": "stream",
     "text": [
      "MoviePy - Writing audio in Output\\Naruto_HD_Set_1_Disc_1-001\\Naruto_HD_Set_1_Disc_1-001_1163500.mp3\n"
     ]
    },
    {
     "name": "stderr",
     "output_type": "stream",
     "text": [
      "\n",
      "chunk:   0%|                                                                          | 0/34 [00:00<?, ?it/s, now=None]\u001b[A\n",
      "chunk:  76%|████████████████████████████████████████████████▉               | 26/34 [00:00<00:00, 257.43it/s, now=None]\u001b[A\n",
      "chunk:   4%|██▌                                                        | 1/23 [2:14:55<49:28:31, 8095.98s/it, now=None]\u001b[A"
     ]
    },
    {
     "name": "stdout",
     "output_type": "stream",
     "text": [
      "MoviePy - Done.\n"
     ]
    },
    {
     "name": "stderr",
     "output_type": "stream",
     "text": [
      "chunk:   4%|██▌                                                        | 1/23 [2:14:56<49:28:46, 8096.66s/it, now=None]"
     ]
    },
    {
     "name": "stdout",
     "output_type": "stream",
     "text": [
      "MoviePy - Writing audio in Output\\Naruto_HD_Set_1_Disc_1-001\\Naruto_HD_Set_1_Disc_1-001_1164500.mp3\n"
     ]
    },
    {
     "name": "stderr",
     "output_type": "stream",
     "text": [
      "\n",
      "chunk:   0%|                                                                          | 0/34 [00:00<?, ?it/s, now=None]\u001b[A\n",
      "chunk:   4%|██▌                                                        | 1/23 [2:14:56<49:28:49, 8096.79s/it, now=None]\u001b[A"
     ]
    },
    {
     "name": "stdout",
     "output_type": "stream",
     "text": [
      "MoviePy - Done.\n"
     ]
    },
    {
     "name": "stderr",
     "output_type": "stream",
     "text": [
      "chunk:   4%|██▌                                                        | 1/23 [2:14:57<49:29:02, 8097.37s/it, now=None]"
     ]
    },
    {
     "name": "stdout",
     "output_type": "stream",
     "text": [
      "MoviePy - Writing audio in Output\\Naruto_HD_Set_1_Disc_1-001\\Naruto_HD_Set_1_Disc_1-001_1166000.mp3\n"
     ]
    },
    {
     "name": "stderr",
     "output_type": "stream",
     "text": [
      "\n",
      "chunk:   0%|                                                                          | 0/56 [00:00<?, ?it/s, now=None]\u001b[A\n",
      "chunk:  77%|█████████████████████████████████████████████████▏              | 43/56 [00:00<00:00, 429.99it/s, now=None]\u001b[A\n",
      "chunk:   4%|██▌                                                        | 1/23 [2:14:57<49:29:05, 8097.51s/it, now=None]\u001b[A"
     ]
    },
    {
     "name": "stdout",
     "output_type": "stream",
     "text": [
      "MoviePy - Done.\n"
     ]
    },
    {
     "name": "stderr",
     "output_type": "stream",
     "text": [
      "chunk:   4%|██▌                                                        | 1/23 [2:14:58<49:29:28, 8098.55s/it, now=None]"
     ]
    },
    {
     "name": "stdout",
     "output_type": "stream",
     "text": [
      "MoviePy - Writing audio in Output\\Naruto_HD_Set_1_Disc_1-001\\Naruto_HD_Set_1_Disc_1-001_1168500.mp3\n"
     ]
    },
    {
     "name": "stderr",
     "output_type": "stream",
     "text": [
      "\n",
      "chunk:   0%|                                                                          | 0/78 [00:00<?, ?it/s, now=None]\u001b[A\n",
      "chunk:  37%|███████████████████████▊                                        | 29/78 [00:00<00:00, 256.60it/s, now=None]\u001b[A\n",
      "chunk:   4%|██▌                                                        | 1/23 [2:14:58<49:29:32, 8098.75s/it, now=None]\u001b[A"
     ]
    },
    {
     "name": "stdout",
     "output_type": "stream",
     "text": [
      "MoviePy - Done.\n"
     ]
    },
    {
     "name": "stderr",
     "output_type": "stream",
     "text": [
      "chunk:   4%|██▌                                                        | 1/23 [2:15:00<49:30:07, 8100.34s/it, now=None]"
     ]
    },
    {
     "name": "stdout",
     "output_type": "stream",
     "text": [
      "MoviePy - Writing audio in Output\\Naruto_HD_Set_1_Disc_1-001\\Naruto_HD_Set_1_Disc_1-001_1170500.mp3\n"
     ]
    },
    {
     "name": "stderr",
     "output_type": "stream",
     "text": [
      "\n",
      "chunk:   0%|                                                                          | 0/34 [00:00<?, ?it/s, now=None]\u001b[A\n",
      "chunk:   4%|██▌                                                        | 1/23 [2:15:00<49:30:10, 8100.46s/it, now=None]\u001b[A"
     ]
    },
    {
     "name": "stdout",
     "output_type": "stream",
     "text": [
      "MoviePy - Done.\n"
     ]
    },
    {
     "name": "stderr",
     "output_type": "stream",
     "text": [
      "chunk:   4%|██▌                                                        | 1/23 [2:15:02<49:30:44, 8102.00s/it, now=None]"
     ]
    },
    {
     "name": "stdout",
     "output_type": "stream",
     "text": [
      "MoviePy - Writing audio in Output\\Naruto_HD_Set_1_Disc_1-001\\Naruto_HD_Set_1_Disc_1-001_1173500.mp3\n"
     ]
    },
    {
     "name": "stderr",
     "output_type": "stream",
     "text": [
      "\n",
      "chunk:   0%|                                                                          | 0/34 [00:00<?, ?it/s, now=None]\u001b[A\n",
      "chunk:   4%|██▌                                                        | 1/23 [2:15:02<49:30:46, 8102.13s/it, now=None]\u001b[A"
     ]
    },
    {
     "name": "stdout",
     "output_type": "stream",
     "text": [
      "MoviePy - Done.\n"
     ]
    },
    {
     "name": "stderr",
     "output_type": "stream",
     "text": [
      "chunk:   4%|██▌                                                        | 1/23 [2:15:02<49:31:01, 8102.80s/it, now=None]"
     ]
    },
    {
     "name": "stdout",
     "output_type": "stream",
     "text": [
      "MoviePy - Writing audio in Output\\Naruto_HD_Set_1_Disc_1-001\\Naruto_HD_Set_1_Disc_1-001_1174500.mp3\n"
     ]
    },
    {
     "name": "stderr",
     "output_type": "stream",
     "text": [
      "\n",
      "chunk:   0%|                                                                          | 0/34 [00:00<?, ?it/s, now=None]\u001b[A\n",
      "chunk:   4%|██▌                                                        | 1/23 [2:15:02<49:31:04, 8102.93s/it, now=None]\u001b[A"
     ]
    },
    {
     "name": "stdout",
     "output_type": "stream",
     "text": [
      "MoviePy - Done.\n"
     ]
    },
    {
     "name": "stderr",
     "output_type": "stream",
     "text": [
      "chunk:   4%|██▌                                                        | 1/23 [2:15:03<49:31:19, 8103.61s/it, now=None]"
     ]
    },
    {
     "name": "stdout",
     "output_type": "stream",
     "text": [
      "MoviePy - Writing audio in Output\\Naruto_HD_Set_1_Disc_1-001\\Naruto_HD_Set_1_Disc_1-001_1175500.mp3\n"
     ]
    },
    {
     "name": "stderr",
     "output_type": "stream",
     "text": [
      "\n",
      "chunk:   0%|                                                                          | 0/34 [00:00<?, ?it/s, now=None]\u001b[A\n",
      "chunk:   4%|██▌                                                        | 1/23 [2:15:03<49:31:22, 8103.73s/it, now=None]\u001b[A"
     ]
    },
    {
     "name": "stdout",
     "output_type": "stream",
     "text": [
      "MoviePy - Done.\n"
     ]
    },
    {
     "name": "stderr",
     "output_type": "stream",
     "text": [
      "chunk:   4%|██▌                                                        | 1/23 [2:15:04<49:31:37, 8104.44s/it, now=None]"
     ]
    },
    {
     "name": "stdout",
     "output_type": "stream",
     "text": [
      "MoviePy - Writing audio in Output\\Naruto_HD_Set_1_Disc_1-001\\Naruto_HD_Set_1_Disc_1-001_1176500.mp3\n"
     ]
    },
    {
     "name": "stderr",
     "output_type": "stream",
     "text": [
      "\n",
      "chunk:   0%|                                                                          | 0/34 [00:00<?, ?it/s, now=None]\u001b[A\n",
      "chunk:   4%|██▌                                                        | 1/23 [2:15:04<49:31:40, 8104.57s/it, now=None]\u001b[A"
     ]
    },
    {
     "name": "stdout",
     "output_type": "stream",
     "text": [
      "MoviePy - Done.\n"
     ]
    },
    {
     "name": "stderr",
     "output_type": "stream",
     "text": [
      "chunk:   4%|██▌                                                        | 1/23 [2:15:05<49:31:54, 8105.19s/it, now=None]"
     ]
    },
    {
     "name": "stdout",
     "output_type": "stream",
     "text": [
      "MoviePy - Writing audio in Output\\Naruto_HD_Set_1_Disc_1-001\\Naruto_HD_Set_1_Disc_1-001_1177500.mp3\n"
     ]
    },
    {
     "name": "stderr",
     "output_type": "stream",
     "text": [
      "\n",
      "chunk:   0%|                                                                          | 0/34 [00:00<?, ?it/s, now=None]\u001b[A\n",
      "chunk:  88%|████████████████████████████████████████████████████████▍       | 30/34 [00:00<00:00, 254.23it/s, now=None]\u001b[A\n",
      "chunk:   4%|██▌                                                        | 1/23 [2:15:05<49:31:57, 8105.35s/it, now=None]\u001b[A"
     ]
    },
    {
     "name": "stdout",
     "output_type": "stream",
     "text": [
      "MoviePy - Done.\n"
     ]
    },
    {
     "name": "stderr",
     "output_type": "stream",
     "text": [
      "chunk:   4%|██▌                                                        | 1/23 [2:15:06<49:32:12, 8106.01s/it, now=None]"
     ]
    },
    {
     "name": "stdout",
     "output_type": "stream",
     "text": [
      "MoviePy - Writing audio in Output\\Naruto_HD_Set_1_Disc_1-001\\Naruto_HD_Set_1_Disc_1-001_1178500.mp3\n"
     ]
    },
    {
     "name": "stderr",
     "output_type": "stream",
     "text": [
      "\n",
      "chunk:   0%|                                                                          | 0/34 [00:00<?, ?it/s, now=None]\u001b[A\n",
      "chunk:   4%|██▌                                                        | 1/23 [2:15:06<49:32:14, 8106.13s/it, now=None]\u001b[A"
     ]
    },
    {
     "name": "stdout",
     "output_type": "stream",
     "text": [
      "MoviePy - Done.\n"
     ]
    },
    {
     "name": "stderr",
     "output_type": "stream",
     "text": [
      "chunk:   4%|██▌                                                        | 1/23 [2:15:06<49:32:29, 8106.80s/it, now=None]"
     ]
    },
    {
     "name": "stdout",
     "output_type": "stream",
     "text": [
      "MoviePy - Writing audio in Output\\Naruto_HD_Set_1_Disc_1-001\\Naruto_HD_Set_1_Disc_1-001_1179500.mp3\n"
     ]
    },
    {
     "name": "stderr",
     "output_type": "stream",
     "text": [
      "\n",
      "chunk:   0%|                                                                          | 0/34 [00:00<?, ?it/s, now=None]\u001b[A\n",
      "chunk:  88%|████████████████████████████████████████████████████████▍       | 30/34 [00:00<00:00, 243.90it/s, now=None]\u001b[A\n",
      "chunk:   4%|██▌                                                        | 1/23 [2:15:06<49:32:33, 8106.96s/it, now=None]\u001b[A"
     ]
    },
    {
     "name": "stdout",
     "output_type": "stream",
     "text": [
      "MoviePy - Done.\n"
     ]
    },
    {
     "name": "stderr",
     "output_type": "stream",
     "text": [
      "chunk:   4%|██▌                                                        | 1/23 [2:15:08<49:32:57, 8108.05s/it, now=None]"
     ]
    },
    {
     "name": "stdout",
     "output_type": "stream",
     "text": [
      "MoviePy - Writing audio in Output\\Naruto_HD_Set_1_Disc_1-001\\Naruto_HD_Set_1_Disc_1-001_1182000.mp3\n"
     ]
    },
    {
     "name": "stderr",
     "output_type": "stream",
     "text": [
      "\n",
      "chunk:   0%|                                                                          | 0/56 [00:00<?, ?it/s, now=None]\u001b[A\n",
      "chunk:  54%|██████████████████████████████████▎                             | 30/56 [00:00<00:00, 254.24it/s, now=None]\u001b[A\n",
      "chunk:   4%|██▌                                                        | 1/23 [2:15:08<49:33:00, 8108.22s/it, now=None]\u001b[A"
     ]
    },
    {
     "name": "stdout",
     "output_type": "stream",
     "text": [
      "MoviePy - Done.\n"
     ]
    },
    {
     "name": "stderr",
     "output_type": "stream",
     "text": [
      "chunk:   4%|██▌                                                        | 1/23 [2:15:09<49:33:24, 8109.29s/it, now=None]"
     ]
    },
    {
     "name": "stdout",
     "output_type": "stream",
     "text": [
      "MoviePy - Writing audio in Output\\Naruto_HD_Set_1_Disc_1-001\\Naruto_HD_Set_1_Disc_1-001_1183500.mp3\n"
     ]
    },
    {
     "name": "stderr",
     "output_type": "stream",
     "text": [
      "\n",
      "chunk:   0%|                                                                          | 0/34 [00:00<?, ?it/s, now=None]\u001b[A\n",
      "chunk: 100%|████████████████████████████████████████████████████████████████| 34/34 [00:00<00:00, 285.72it/s, now=None]\u001b[A\n",
      "chunk:   4%|██▌                                                        | 1/23 [2:15:09<49:33:27, 8109.44s/it, now=None]\u001b[A"
     ]
    },
    {
     "name": "stdout",
     "output_type": "stream",
     "text": [
      "MoviePy - Done.\n"
     ]
    },
    {
     "name": "stderr",
     "output_type": "stream",
     "text": [
      "chunk:   4%|██▌                                                        | 1/23 [2:15:09<49:33:37, 8109.88s/it, now=None]"
     ]
    },
    {
     "name": "stdout",
     "output_type": "stream",
     "text": [
      "MoviePy - Writing audio in Output\\Naruto_HD_Set_1_Disc_1-001\\Naruto_HD_Set_1_Disc_1-001_1200500.mp3\n"
     ]
    },
    {
     "name": "stderr",
     "output_type": "stream",
     "text": [
      "\n",
      "chunk:   0%|                                                                          | 0/78 [00:00<?, ?it/s, now=None]\u001b[A\n",
      "chunk:   3%|█▋                                                                | 2/78 [00:00<00:05, 14.08it/s, now=None]\u001b[A\n",
      "chunk:   4%|██▌                                                        | 1/23 [2:15:10<49:33:43, 8110.14s/it, now=None]\u001b[A"
     ]
    },
    {
     "name": "stdout",
     "output_type": "stream",
     "text": [
      "MoviePy - Done.\n"
     ]
    },
    {
     "name": "stderr",
     "output_type": "stream",
     "text": [
      "chunk:   4%|██▌                                                        | 1/23 [2:15:11<49:34:17, 8111.71s/it, now=None]"
     ]
    },
    {
     "name": "stdout",
     "output_type": "stream",
     "text": [
      "MoviePy - Writing audio in Output\\Naruto_HD_Set_1_Disc_1-001\\Naruto_HD_Set_1_Disc_1-001_1203000.mp3\n"
     ]
    },
    {
     "name": "stderr",
     "output_type": "stream",
     "text": [
      "\n",
      "chunk:   0%|                                                                          | 0/56 [00:00<?, ?it/s, now=None]\u001b[A\n",
      "chunk:  64%|█████████████████████████████████████████▏                      | 36/56 [00:00<00:00, 315.78it/s, now=None]\u001b[A\n",
      "chunk:   4%|██▌                                                        | 1/23 [2:15:11<49:34:21, 8111.87s/it, now=None]\u001b[A"
     ]
    },
    {
     "name": "stdout",
     "output_type": "stream",
     "text": [
      "MoviePy - Done.\n"
     ]
    },
    {
     "name": "stderr",
     "output_type": "stream",
     "text": [
      "chunk:   4%|██▌                                                        | 1/23 [2:15:13<49:34:46, 8113.01s/it, now=None]"
     ]
    },
    {
     "name": "stdout",
     "output_type": "stream",
     "text": [
      "MoviePy - Writing audio in Output\\Naruto_HD_Set_1_Disc_1-001\\Naruto_HD_Set_1_Disc_1-001_1205000.mp3\n"
     ]
    },
    {
     "name": "stderr",
     "output_type": "stream",
     "text": [
      "\n",
      "chunk:   0%|                                                                          | 0/56 [00:00<?, ?it/s, now=None]\u001b[A\n",
      "chunk:  75%|████████████████████████████████████████████████                | 42/56 [00:00<00:00, 344.25it/s, now=None]\u001b[A\n",
      "chunk:   4%|██▌                                                        | 1/23 [2:15:13<49:34:49, 8113.18s/it, now=None]\u001b[A"
     ]
    },
    {
     "name": "stdout",
     "output_type": "stream",
     "text": [
      "MoviePy - Done.\n"
     ]
    },
    {
     "name": "stderr",
     "output_type": "stream",
     "text": [
      "chunk:   4%|██▌                                                        | 1/23 [2:15:14<49:35:23, 8114.71s/it, now=None]"
     ]
    },
    {
     "name": "stdout",
     "output_type": "stream",
     "text": [
      "MoviePy - Writing audio in Output\\Naruto_HD_Set_1_Disc_1-001\\Naruto_HD_Set_1_Disc_1-001_1208000.mp3\n"
     ]
    },
    {
     "name": "stderr",
     "output_type": "stream",
     "text": [
      "\n",
      "chunk:   0%|                                                                          | 0/56 [00:00<?, ?it/s, now=None]\u001b[A\n",
      "chunk:  54%|██████████████████████████████████▎                             | 30/56 [00:00<00:00, 263.14it/s, now=None]\u001b[A\n",
      "chunk:   4%|██▌                                                        | 1/23 [2:15:14<49:35:27, 8114.88s/it, now=None]\u001b[A"
     ]
    },
    {
     "name": "stdout",
     "output_type": "stream",
     "text": [
      "MoviePy - Done.\n"
     ]
    },
    {
     "name": "stderr",
     "output_type": "stream",
     "text": [
      "chunk:   4%|██▌                                                        | 1/23 [2:15:15<49:35:51, 8115.99s/it, now=None]"
     ]
    },
    {
     "name": "stdout",
     "output_type": "stream",
     "text": [
      "MoviePy - Writing audio in Output\\Naruto_HD_Set_1_Disc_1-001\\Naruto_HD_Set_1_Disc_1-001_1211000.mp3\n"
     ]
    },
    {
     "name": "stderr",
     "output_type": "stream",
     "text": [
      "\n",
      "chunk:   0%|                                                                         | 0/100 [00:00<?, ?it/s, now=None]\u001b[A\n",
      "chunk:  32%|████████████████████▏                                          | 32/100 [00:00<00:00, 275.85it/s, now=None]\u001b[A\n",
      "chunk:   4%|██▌                                                        | 1/23 [2:15:16<49:35:56, 8116.21s/it, now=None]\u001b[A"
     ]
    },
    {
     "name": "stdout",
     "output_type": "stream",
     "text": [
      "MoviePy - Done.\n"
     ]
    },
    {
     "name": "stderr",
     "output_type": "stream",
     "text": [
      "chunk:   4%|██▌                                                        | 1/23 [2:15:16<49:36:07, 8116.72s/it, now=None]"
     ]
    },
    {
     "name": "stdout",
     "output_type": "stream",
     "text": [
      "MoviePy - Writing audio in Output\\Naruto_HD_Set_1_Disc_1-001\\Naruto_HD_Set_1_Disc_1-001_1216500.mp3\n"
     ]
    },
    {
     "name": "stderr",
     "output_type": "stream",
     "text": [
      "\n",
      "chunk:   0%|                                                                          | 0/34 [00:00<?, ?it/s, now=None]\u001b[A\n",
      "chunk:   4%|██▌                                                        | 1/23 [2:15:16<49:36:10, 8116.84s/it, now=None]\u001b[A"
     ]
    },
    {
     "name": "stdout",
     "output_type": "stream",
     "text": [
      "MoviePy - Done.\n"
     ]
    },
    {
     "name": "stderr",
     "output_type": "stream",
     "text": [
      "chunk:   4%|██▌                                                        | 1/23 [2:15:17<49:36:24, 8117.49s/it, now=None]"
     ]
    },
    {
     "name": "stdout",
     "output_type": "stream",
     "text": [
      "MoviePy - Writing audio in Output\\Naruto_HD_Set_1_Disc_1-001\\Naruto_HD_Set_1_Disc_1-001_1218000.mp3\n"
     ]
    },
    {
     "name": "stderr",
     "output_type": "stream",
     "text": [
      "\n",
      "chunk:   0%|                                                                          | 0/56 [00:00<?, ?it/s, now=None]\u001b[A\n",
      "chunk:  73%|██████████████████████████████████████████████▊                 | 41/56 [00:00<00:00, 410.00it/s, now=None]\u001b[A\n",
      "chunk:   4%|██▌                                                        | 1/23 [2:15:17<49:36:27, 8117.64s/it, now=None]\u001b[A"
     ]
    },
    {
     "name": "stdout",
     "output_type": "stream",
     "text": [
      "MoviePy - Done.\n"
     ]
    },
    {
     "name": "stderr",
     "output_type": "stream",
     "text": [
      "chunk:   4%|██▌                                                        | 1/23 [2:15:18<49:36:52, 8118.76s/it, now=None]"
     ]
    },
    {
     "name": "stdout",
     "output_type": "stream",
     "text": [
      "MoviePy - Writing audio in Output\\Naruto_HD_Set_1_Disc_1-001\\Naruto_HD_Set_1_Disc_1-001_1220000.mp3\n"
     ]
    },
    {
     "name": "stderr",
     "output_type": "stream",
     "text": [
      "\n",
      "chunk:   0%|                                                                          | 0/56 [00:00<?, ?it/s, now=None]\u001b[A\n",
      "chunk:  64%|█████████████████████████████████████████▏                      | 36/56 [00:00<00:00, 310.34it/s, now=None]\u001b[A\n",
      "chunk:   4%|██▌                                                        | 1/23 [2:15:18<49:36:56, 8118.93s/it, now=None]\u001b[A"
     ]
    },
    {
     "name": "stdout",
     "output_type": "stream",
     "text": [
      "MoviePy - Done.\n"
     ]
    },
    {
     "name": "stderr",
     "output_type": "stream",
     "text": [
      "chunk:   4%|██▌                                                        | 1/23 [2:15:19<49:37:06, 8119.40s/it, now=None]"
     ]
    },
    {
     "name": "stdout",
     "output_type": "stream",
     "text": [
      "MoviePy - Writing audio in Output\\Naruto_HD_Set_1_Disc_1-001\\Naruto_HD_Set_1_Disc_1-001_1224500.mp3\n"
     ]
    },
    {
     "name": "stderr",
     "output_type": "stream",
     "text": [
      "\n",
      "chunk:   0%|                                                                          | 0/34 [00:00<?, ?it/s, now=None]\u001b[A\n",
      "chunk:   4%|██▌                                                        | 1/23 [2:15:19<49:37:09, 8119.52s/it, now=None]\u001b[A"
     ]
    },
    {
     "name": "stdout",
     "output_type": "stream",
     "text": [
      "MoviePy - Done.\n"
     ]
    },
    {
     "name": "stderr",
     "output_type": "stream",
     "text": [
      "chunk:   4%|██▌                                                        | 1/23 [2:15:20<49:37:23, 8120.18s/it, now=None]"
     ]
    },
    {
     "name": "stdout",
     "output_type": "stream",
     "text": [
      "MoviePy - Writing audio in Output\\Naruto_HD_Set_1_Disc_1-001\\Naruto_HD_Set_1_Disc_1-001_1225500.mp3\n"
     ]
    },
    {
     "name": "stderr",
     "output_type": "stream",
     "text": [
      "\n",
      "chunk:   0%|                                                                          | 0/34 [00:00<?, ?it/s, now=None]\u001b[A\n",
      "chunk:   4%|██▌                                                        | 1/23 [2:15:20<49:37:26, 8120.30s/it, now=None]\u001b[A"
     ]
    },
    {
     "name": "stdout",
     "output_type": "stream",
     "text": [
      "MoviePy - Done.\n"
     ]
    },
    {
     "name": "stderr",
     "output_type": "stream",
     "text": [
      "chunk:   4%|██▌                                                        | 1/23 [2:15:21<49:37:42, 8121.03s/it, now=None]"
     ]
    },
    {
     "name": "stdout",
     "output_type": "stream",
     "text": [
      "MoviePy - Writing audio in Output\\Naruto_HD_Set_1_Disc_1-001\\Naruto_HD_Set_1_Disc_1-001_1226500.mp3\n"
     ]
    },
    {
     "name": "stderr",
     "output_type": "stream",
     "text": [
      "\n",
      "chunk:   0%|                                                                          | 0/34 [00:00<?, ?it/s, now=None]\u001b[A\n",
      "chunk: 100%|████████████████████████████████████████████████████████████████| 34/34 [00:00<00:00, 336.64it/s, now=None]\u001b[A\n",
      "chunk:   4%|██▌                                                        | 1/23 [2:15:21<49:37:45, 8121.17s/it, now=None]\u001b[A"
     ]
    },
    {
     "name": "stdout",
     "output_type": "stream",
     "text": [
      "MoviePy - Done.\n"
     ]
    },
    {
     "name": "stderr",
     "output_type": "stream",
     "text": [
      "chunk:   4%|██▌                                                        | 1/23 [2:15:21<49:37:59, 8121.80s/it, now=None]"
     ]
    },
    {
     "name": "stdout",
     "output_type": "stream",
     "text": [
      "MoviePy - Writing audio in Output\\Naruto_HD_Set_1_Disc_1-001\\Naruto_HD_Set_1_Disc_1-001_1227500.mp3\n"
     ]
    },
    {
     "name": "stderr",
     "output_type": "stream",
     "text": [
      "\n",
      "chunk:   0%|                                                                          | 0/34 [00:00<?, ?it/s, now=None]\u001b[A\n",
      "chunk:   4%|██▌                                                        | 1/23 [2:15:21<49:38:02, 8121.93s/it, now=None]\u001b[A"
     ]
    },
    {
     "name": "stdout",
     "output_type": "stream",
     "text": [
      "MoviePy - Done.\n"
     ]
    },
    {
     "name": "stderr",
     "output_type": "stream",
     "text": [
      "chunk:   4%|██▌                                                        | 1/23 [2:15:22<49:38:15, 8122.54s/it, now=None]"
     ]
    },
    {
     "name": "stdout",
     "output_type": "stream",
     "text": [
      "MoviePy - Writing audio in Output\\Naruto_HD_Set_1_Disc_1-001\\Naruto_HD_Set_1_Disc_1-001_1229000.mp3\n"
     ]
    },
    {
     "name": "stderr",
     "output_type": "stream",
     "text": [
      "\n",
      "chunk:   0%|                                                                          | 0/56 [00:00<?, ?it/s, now=None]\u001b[A\n",
      "chunk:  54%|██████████████████████████████████▎                             | 30/56 [00:00<00:00, 267.87it/s, now=None]\u001b[A\n",
      "chunk:   4%|██▌                                                        | 1/23 [2:15:22<49:38:19, 8122.70s/it, now=None]\u001b[A"
     ]
    },
    {
     "name": "stdout",
     "output_type": "stream",
     "text": [
      "MoviePy - Done.\n"
     ]
    },
    {
     "name": "stderr",
     "output_type": "stream",
     "text": [
      "chunk:   4%|██▌                                                        | 1/23 [2:15:24<49:38:55, 8124.36s/it, now=None]"
     ]
    },
    {
     "name": "stdout",
     "output_type": "stream",
     "text": [
      "MoviePy - Writing audio in Output\\Naruto_HD_Set_1_Disc_1-001\\Naruto_HD_Set_1_Disc_1-001_1232000.mp3\n"
     ]
    },
    {
     "name": "stderr",
     "output_type": "stream",
     "text": [
      "\n",
      "chunk:   0%|                                                                          | 0/56 [00:00<?, ?it/s, now=None]\u001b[A\n",
      "chunk:  71%|█████████████████████████████████████████████▋                  | 40/56 [00:00<00:00, 396.04it/s, now=None]\u001b[A\n",
      "chunk:   4%|██▌                                                        | 1/23 [2:15:24<49:38:59, 8124.53s/it, now=None]\u001b[A"
     ]
    },
    {
     "name": "stdout",
     "output_type": "stream",
     "text": [
      "MoviePy - Done.\n"
     ]
    },
    {
     "name": "stderr",
     "output_type": "stream",
     "text": [
      "chunk:   4%|██▌                                                        | 1/23 [2:15:26<49:39:33, 8126.07s/it, now=None]"
     ]
    },
    {
     "name": "stdout",
     "output_type": "stream",
     "text": [
      "MoviePy - Writing audio in Output\\Naruto_HD_Set_1_Disc_1-001\\Naruto_HD_Set_1_Disc_1-001_1235000.mp3\n"
     ]
    },
    {
     "name": "stderr",
     "output_type": "stream",
     "text": [
      "\n",
      "chunk:   0%|                                                                          | 0/56 [00:00<?, ?it/s, now=None]\u001b[A\n",
      "chunk:  64%|█████████████████████████████████████████▏                      | 36/56 [00:00<00:00, 302.52it/s, now=None]\u001b[A\n",
      "chunk:   4%|██▌                                                        | 1/23 [2:15:26<49:39:37, 8126.23s/it, now=None]\u001b[A"
     ]
    },
    {
     "name": "stdout",
     "output_type": "stream",
     "text": [
      "MoviePy - Done.\n"
     ]
    },
    {
     "name": "stderr",
     "output_type": "stream",
     "text": [
      "chunk:   4%|██▌                                                        | 1/23 [2:15:27<49:40:01, 8127.35s/it, now=None]"
     ]
    },
    {
     "name": "stdout",
     "output_type": "stream",
     "text": [
      "MoviePy - Writing audio in Output\\Naruto_HD_Set_1_Disc_1-001\\Naruto_HD_Set_1_Disc_1-001_1237000.mp3\n"
     ]
    },
    {
     "name": "stderr",
     "output_type": "stream",
     "text": [
      "\n",
      "chunk:   0%|                                                                          | 0/56 [00:00<?, ?it/s, now=None]\u001b[A\n",
      "chunk:  75%|████████████████████████████████████████████████                | 42/56 [00:00<00:00, 358.97it/s, now=None]\u001b[A\n",
      "chunk:   4%|██▌                                                        | 1/23 [2:15:27<49:40:05, 8127.51s/it, now=None]\u001b[A"
     ]
    },
    {
     "name": "stdout",
     "output_type": "stream",
     "text": [
      "MoviePy - Done.\n"
     ]
    },
    {
     "name": "stderr",
     "output_type": "stream",
     "text": [
      "chunk:   4%|██▌                                                        | 1/23 [2:15:28<49:40:29, 8128.60s/it, now=None]"
     ]
    },
    {
     "name": "stdout",
     "output_type": "stream",
     "text": [
      "MoviePy - Writing audio in Output\\Naruto_HD_Set_1_Disc_1-001\\Naruto_HD_Set_1_Disc_1-001_1239000.mp3\n"
     ]
    },
    {
     "name": "stderr",
     "output_type": "stream",
     "text": [
      "\n",
      "chunk:   0%|                                                                          | 0/56 [00:00<?, ?it/s, now=None]\u001b[A\n",
      "chunk:  84%|█████████████████████████████████████████████████████▋          | 47/56 [00:00<00:00, 465.37it/s, now=None]\u001b[A\n",
      "chunk:   4%|██▌                                                        | 1/23 [2:15:28<49:40:32, 8128.76s/it, now=None]\u001b[A"
     ]
    },
    {
     "name": "stdout",
     "output_type": "stream",
     "text": [
      "MoviePy - Done.\n"
     ]
    },
    {
     "name": "stderr",
     "output_type": "stream",
     "text": [
      "chunk:   4%|██▌                                                        | 1/23 [2:15:29<49:40:56, 8129.82s/it, now=None]"
     ]
    },
    {
     "name": "stdout",
     "output_type": "stream",
     "text": [
      "MoviePy - Writing audio in Output\\Naruto_HD_Set_1_Disc_1-001\\Naruto_HD_Set_1_Disc_1-001_1241000.mp3\n"
     ]
    },
    {
     "name": "stderr",
     "output_type": "stream",
     "text": [
      "\n",
      "chunk:   0%|                                                                          | 0/56 [00:00<?, ?it/s, now=None]\u001b[A\n",
      "chunk:  82%|████████████████████████████████████████████████████▌           | 46/56 [00:00<00:00, 455.43it/s, now=None]\u001b[A\n",
      "chunk:   4%|██▌                                                        | 1/23 [2:15:29<49:40:59, 8129.99s/it, now=None]\u001b[A"
     ]
    },
    {
     "name": "stdout",
     "output_type": "stream",
     "text": [
      "MoviePy - Done.\n"
     ]
    },
    {
     "name": "stderr",
     "output_type": "stream",
     "text": [
      "chunk:   4%|██▌                                                        | 1/23 [2:15:31<49:41:22, 8131.03s/it, now=None]"
     ]
    },
    {
     "name": "stdout",
     "output_type": "stream",
     "text": [
      "MoviePy - Writing audio in Output\\Naruto_HD_Set_1_Disc_1-001\\Naruto_HD_Set_1_Disc_1-001_1242500.mp3\n"
     ]
    },
    {
     "name": "stderr",
     "output_type": "stream",
     "text": [
      "\n",
      "chunk:   0%|                                                                          | 0/34 [00:00<?, ?it/s, now=None]\u001b[A\n",
      "chunk:   4%|██▌                                                        | 1/23 [2:15:31<49:41:25, 8131.15s/it, now=None]\u001b[A"
     ]
    },
    {
     "name": "stdout",
     "output_type": "stream",
     "text": [
      "MoviePy - Done.\n"
     ]
    },
    {
     "name": "stderr",
     "output_type": "stream",
     "text": [
      "chunk:   4%|██▌                                                        | 1/23 [2:15:31<49:41:36, 8131.68s/it, now=None]"
     ]
    },
    {
     "name": "stdout",
     "output_type": "stream",
     "text": [
      "MoviePy - Writing audio in Output\\Naruto_HD_Set_1_Disc_1-001\\Naruto_HD_Set_1_Disc_1-001_1243500.mp3\n"
     ]
    },
    {
     "name": "stderr",
     "output_type": "stream",
     "text": [
      "\n",
      "chunk:   0%|                                                                          | 0/34 [00:00<?, ?it/s, now=None]\u001b[A\n",
      "chunk:   4%|██▌                                                        | 1/23 [2:15:31<49:41:39, 8131.80s/it, now=None]\u001b[A"
     ]
    },
    {
     "name": "stdout",
     "output_type": "stream",
     "text": [
      "MoviePy - Done.\n"
     ]
    },
    {
     "name": "stderr",
     "output_type": "stream",
     "text": [
      "chunk:   4%|██▌                                                        | 1/23 [2:15:32<49:41:51, 8132.35s/it, now=None]"
     ]
    },
    {
     "name": "stdout",
     "output_type": "stream",
     "text": [
      "MoviePy - Writing audio in Output\\Naruto_HD_Set_1_Disc_1-001\\Naruto_HD_Set_1_Disc_1-001_1245000.mp3\n"
     ]
    },
    {
     "name": "stderr",
     "output_type": "stream",
     "text": [
      "\n",
      "chunk:   0%|                                                                          | 0/56 [00:00<?, ?it/s, now=None]\u001b[A\n",
      "chunk:  54%|██████████████████████████████████▎                             | 30/56 [00:00<00:00, 277.77it/s, now=None]\u001b[A\n",
      "chunk:   4%|██▌                                                        | 1/23 [2:15:32<49:41:55, 8132.51s/it, now=None]\u001b[A"
     ]
    },
    {
     "name": "stdout",
     "output_type": "stream",
     "text": [
      "MoviePy - Done.\n"
     ]
    },
    {
     "name": "stderr",
     "output_type": "stream",
     "text": [
      "chunk:   4%|██▌                                                        | 1/23 [2:15:33<49:42:07, 8133.06s/it, now=None]"
     ]
    },
    {
     "name": "stdout",
     "output_type": "stream",
     "text": [
      "MoviePy - Writing audio in Output\\Naruto_HD_Set_1_Disc_1-001\\Naruto_HD_Set_1_Disc_1-001_1258000.mp3\n"
     ]
    },
    {
     "name": "stderr",
     "output_type": "stream",
     "text": [
      "\n",
      "chunk:   0%|                                                                          | 0/56 [00:00<?, ?it/s, now=None]\u001b[A\n",
      "chunk:   4%|██▎                                                               | 2/56 [00:00<00:02, 18.35it/s, now=None]\u001b[A\n",
      "chunk:   4%|██▌                                                        | 1/23 [2:15:33<49:42:12, 8133.28s/it, now=None]\u001b[A"
     ]
    },
    {
     "name": "stdout",
     "output_type": "stream",
     "text": [
      "MoviePy - Done.\n"
     ]
    },
    {
     "name": "stderr",
     "output_type": "stream",
     "text": [
      "chunk:   4%|██▌                                                        | 1/23 [2:15:34<49:42:35, 8134.36s/it, now=None]"
     ]
    },
    {
     "name": "stdout",
     "output_type": "stream",
     "text": [
      "MoviePy - Writing audio in Output\\Naruto_HD_Set_1_Disc_1-001\\Naruto_HD_Set_1_Disc_1-001_1259500.mp3\n"
     ]
    },
    {
     "name": "stderr",
     "output_type": "stream",
     "text": [
      "\n",
      "chunk:   0%|                                                                          | 0/34 [00:00<?, ?it/s, now=None]\u001b[A\n",
      "chunk:   4%|██▌                                                        | 1/23 [2:15:34<49:42:38, 8134.48s/it, now=None]\u001b[A"
     ]
    },
    {
     "name": "stdout",
     "output_type": "stream",
     "text": [
      "MoviePy - Done.\n"
     ]
    },
    {
     "name": "stderr",
     "output_type": "stream",
     "text": [
      "chunk:   4%|██▌                                                        | 1/23 [2:15:34<49:42:47, 8134.89s/it, now=None]"
     ]
    },
    {
     "name": "stdout",
     "output_type": "stream",
     "text": [
      "MoviePy - Writing audio in Output\\Naruto_HD_Set_1_Disc_1-001\\Naruto_HD_Set_1_Disc_1-001_1265000.mp3\n"
     ]
    },
    {
     "name": "stderr",
     "output_type": "stream",
     "text": [
      "\n",
      "chunk:   0%|                                                                          | 0/56 [00:00<?, ?it/s, now=None]\u001b[A\n",
      "chunk:  62%|████████████████████████████████████████                        | 35/56 [00:00<00:00, 346.53it/s, now=None]\u001b[A\n",
      "chunk:   4%|██▌                                                        | 1/23 [2:15:35<49:42:51, 8135.06s/it, now=None]\u001b[A"
     ]
    },
    {
     "name": "stdout",
     "output_type": "stream",
     "text": [
      "MoviePy - Done.\n"
     ]
    },
    {
     "name": "stderr",
     "output_type": "stream",
     "text": [
      "chunk:   4%|██▌                                                        | 1/23 [2:15:36<49:43:13, 8136.07s/it, now=None]"
     ]
    },
    {
     "name": "stdout",
     "output_type": "stream",
     "text": [
      "MoviePy - Writing audio in Output\\Naruto_HD_Set_1_Disc_1-001\\Naruto_HD_Set_1_Disc_1-001_1266500.mp3\n"
     ]
    },
    {
     "name": "stderr",
     "output_type": "stream",
     "text": [
      "\n",
      "chunk:   0%|                                                                          | 0/34 [00:00<?, ?it/s, now=None]\u001b[A\n",
      "chunk:   4%|██▌                                                        | 1/23 [2:15:36<49:43:16, 8136.19s/it, now=None]\u001b[A"
     ]
    },
    {
     "name": "stdout",
     "output_type": "stream",
     "text": [
      "MoviePy - Done.\n"
     ]
    },
    {
     "name": "stderr",
     "output_type": "stream",
     "text": [
      "chunk:   4%|██▌                                                        | 1/23 [2:15:36<49:43:28, 8136.75s/it, now=None]"
     ]
    },
    {
     "name": "stdout",
     "output_type": "stream",
     "text": [
      "MoviePy - Writing audio in Output\\Naruto_HD_Set_1_Disc_1-001\\Naruto_HD_Set_1_Disc_1-001_1268000.mp3\n"
     ]
    },
    {
     "name": "stderr",
     "output_type": "stream",
     "text": [
      "\n",
      "chunk:   0%|                                                                          | 0/56 [00:00<?, ?it/s, now=None]\u001b[A\n",
      "chunk:  64%|█████████████████████████████████████████▏                      | 36/56 [00:00<00:00, 300.01it/s, now=None]\u001b[A\n",
      "chunk:   4%|██▌                                                        | 1/23 [2:15:36<49:43:32, 8136.93s/it, now=None]\u001b[A"
     ]
    },
    {
     "name": "stdout",
     "output_type": "stream",
     "text": [
      "MoviePy - Done.\n"
     ]
    },
    {
     "name": "stderr",
     "output_type": "stream",
     "text": [
      "chunk:   4%|██▌                                                        | 1/23 [2:15:37<49:43:41, 8137.35s/it, now=None]"
     ]
    },
    {
     "name": "stdout",
     "output_type": "stream",
     "text": [
      "MoviePy - Writing audio in Output\\Naruto_HD_Set_1_Disc_1-001\\Naruto_HD_Set_1_Disc_1-001_1277000.mp3\n"
     ]
    },
    {
     "name": "stderr",
     "output_type": "stream",
     "text": [
      "\n",
      "chunk:   0%|                                                                          | 0/56 [00:00<?, ?it/s, now=None]\u001b[A\n",
      "chunk:  54%|██████████████████████████████████▎                             | 30/56 [00:00<00:00, 297.04it/s, now=None]\u001b[A\n",
      "chunk:   4%|██▌                                                        | 1/23 [2:15:37<49:43:45, 8137.52s/it, now=None]\u001b[A"
     ]
    },
    {
     "name": "stdout",
     "output_type": "stream",
     "text": [
      "MoviePy - Done.\n"
     ]
    },
    {
     "name": "stderr",
     "output_type": "stream",
     "text": [
      "chunk:   4%|██▌                                                        | 1/23 [2:15:38<49:44:07, 8138.52s/it, now=None]"
     ]
    },
    {
     "name": "stdout",
     "output_type": "stream",
     "text": [
      "MoviePy - Writing audio in Output\\Naruto_HD_Set_1_Disc_1-001\\Naruto_HD_Set_1_Disc_1-001_1278500.mp3\n"
     ]
    },
    {
     "name": "stderr",
     "output_type": "stream",
     "text": [
      "\n",
      "chunk:   0%|                                                                          | 0/34 [00:00<?, ?it/s, now=None]\u001b[A\n",
      "chunk:   4%|██▌                                                        | 1/23 [2:15:38<49:44:10, 8138.64s/it, now=None]\u001b[A"
     ]
    },
    {
     "name": "stdout",
     "output_type": "stream",
     "text": [
      "MoviePy - Done.\n"
     ]
    },
    {
     "name": "stderr",
     "output_type": "stream",
     "text": [
      "chunk:   4%|██▌                                                        | 1/23 [2:15:39<49:44:23, 8139.27s/it, now=None]"
     ]
    },
    {
     "name": "stdout",
     "output_type": "stream",
     "text": [
      "MoviePy - Writing audio in Output\\Naruto_HD_Set_1_Disc_1-001\\Naruto_HD_Set_1_Disc_1-001_1280500.mp3\n"
     ]
    },
    {
     "name": "stderr",
     "output_type": "stream",
     "text": [
      "\n",
      "chunk:   0%|                                                                          | 0/78 [00:00<?, ?it/s, now=None]\u001b[A\n",
      "chunk:  46%|█████████████████████████████▌                                  | 36/78 [00:00<00:00, 310.35it/s, now=None]\u001b[A\n",
      "chunk:   4%|██▌                                                        | 1/23 [2:15:39<49:44:27, 8139.45s/it, now=None]\u001b[A"
     ]
    },
    {
     "name": "stdout",
     "output_type": "stream",
     "text": [
      "MoviePy - Done.\n"
     ]
    },
    {
     "name": "stderr",
     "output_type": "stream",
     "text": [
      "chunk:   4%|██▌                                                        | 1/23 [2:15:40<49:45:00, 8140.94s/it, now=None]"
     ]
    },
    {
     "name": "stdout",
     "output_type": "stream",
     "text": [
      "MoviePy - Writing audio in Output\\Naruto_HD_Set_1_Disc_1-001\\Naruto_HD_Set_1_Disc_1-001_1283500.mp3\n"
     ]
    },
    {
     "name": "stderr",
     "output_type": "stream",
     "text": [
      "\n",
      "chunk:   0%|                                                                          | 0/78 [00:00<?, ?it/s, now=None]\u001b[A\n",
      "chunk:  37%|███████████████████████▊                                        | 29/78 [00:00<00:00, 263.64it/s, now=None]\u001b[A\n",
      "chunk:   4%|██▌                                                        | 1/23 [2:15:41<49:45:05, 8141.14s/it, now=None]\u001b[A"
     ]
    },
    {
     "name": "stdout",
     "output_type": "stream",
     "text": [
      "MoviePy - Done.\n"
     ]
    },
    {
     "name": "stderr",
     "output_type": "stream",
     "text": [
      "chunk:   4%|██▌                                                        | 1/23 [2:15:42<49:45:37, 8142.59s/it, now=None]"
     ]
    },
    {
     "name": "stdout",
     "output_type": "stream",
     "text": [
      "MoviePy - Writing audio in Output\\Naruto_HD_Set_1_Disc_1-001\\Naruto_HD_Set_1_Disc_1-001_1285500.mp3\n"
     ]
    },
    {
     "name": "stderr",
     "output_type": "stream",
     "text": [
      "\n",
      "chunk:   0%|                                                                          | 0/34 [00:00<?, ?it/s, now=None]\u001b[A\n",
      "chunk:   4%|██▌                                                        | 1/23 [2:15:42<49:45:39, 8142.72s/it, now=None]\u001b[A"
     ]
    },
    {
     "name": "stdout",
     "output_type": "stream",
     "text": [
      "MoviePy - Done.\n"
     ]
    },
    {
     "name": "stderr",
     "output_type": "stream",
     "text": [
      "chunk:   4%|██▌                                                        | 1/23 [2:15:43<49:45:52, 8143.29s/it, now=None]"
     ]
    },
    {
     "name": "stdout",
     "output_type": "stream",
     "text": [
      "MoviePy - Writing audio in Output\\Naruto_HD_Set_1_Disc_1-001\\Naruto_HD_Set_1_Disc_1-001_1287000.mp3\n"
     ]
    },
    {
     "name": "stderr",
     "output_type": "stream",
     "text": [
      "\n",
      "chunk:   0%|                                                                          | 0/56 [00:00<?, ?it/s, now=None]\u001b[A\n",
      "chunk:  59%|█████████████████████████████████████▋                          | 33/56 [00:00<00:00, 292.02it/s, now=None]\u001b[A\n",
      "chunk:   4%|██▌                                                        | 1/23 [2:15:43<49:45:55, 8143.45s/it, now=None]\u001b[A"
     ]
    },
    {
     "name": "stdout",
     "output_type": "stream",
     "text": [
      "MoviePy - Done.\n"
     ]
    },
    {
     "name": "stderr",
     "output_type": "stream",
     "text": [
      "chunk:   4%|██▌                                                        | 1/23 [2:15:44<49:46:18, 8144.49s/it, now=None]"
     ]
    },
    {
     "name": "stdout",
     "output_type": "stream",
     "text": [
      "MoviePy - Writing audio in Output\\Naruto_HD_Set_1_Disc_1-001\\Naruto_HD_Set_1_Disc_1-001_1289000.mp3\n"
     ]
    },
    {
     "name": "stderr",
     "output_type": "stream",
     "text": [
      "\n",
      "chunk:   0%|                                                                          | 0/56 [00:00<?, ?it/s, now=None]\u001b[A\n",
      "chunk:  70%|████████████████████████████████████████████▌                   | 39/56 [00:00<00:00, 330.47it/s, now=None]\u001b[A\n",
      "chunk:   4%|██▌                                                        | 1/23 [2:15:44<49:46:22, 8144.66s/it, now=None]\u001b[A"
     ]
    },
    {
     "name": "stdout",
     "output_type": "stream",
     "text": [
      "MoviePy - Done.\n"
     ]
    },
    {
     "name": "stderr",
     "output_type": "stream",
     "text": [
      "chunk:   4%|██▌                                                        | 1/23 [2:15:45<49:46:45, 8145.69s/it, now=None]"
     ]
    },
    {
     "name": "stdout",
     "output_type": "stream",
     "text": [
      "MoviePy - Writing audio in Output\\Naruto_HD_Set_1_Disc_1-001\\Naruto_HD_Set_1_Disc_1-001_1290500.mp3\n"
     ]
    },
    {
     "name": "stderr",
     "output_type": "stream",
     "text": [
      "\n",
      "chunk:   0%|                                                                          | 0/34 [00:00<?, ?it/s, now=None]\u001b[A\n",
      "chunk:   4%|██▌                                                        | 1/23 [2:15:45<49:46:47, 8145.81s/it, now=None]\u001b[A"
     ]
    },
    {
     "name": "stdout",
     "output_type": "stream",
     "text": [
      "MoviePy - Done.\n"
     ]
    },
    {
     "name": "stderr",
     "output_type": "stream",
     "text": [
      "chunk:   4%|██▌                                                        | 1/23 [2:15:46<49:47:00, 8146.40s/it, now=None]"
     ]
    },
    {
     "name": "stdout",
     "output_type": "stream",
     "text": [
      "MoviePy - Writing audio in Output\\Naruto_HD_Set_1_Disc_1-001\\Naruto_HD_Set_1_Disc_1-001_1292000.mp3\n"
     ]
    },
    {
     "name": "stderr",
     "output_type": "stream",
     "text": [
      "\n",
      "chunk:   0%|                                                                          | 0/56 [00:00<?, ?it/s, now=None]\u001b[A\n",
      "chunk:  54%|██████████████████████████████████▎                             | 30/56 [00:00<00:00, 258.62it/s, now=None]\u001b[A\n",
      "chunk:   4%|██▌                                                        | 1/23 [2:15:46<49:47:04, 8146.57s/it, now=None]\u001b[A"
     ]
    },
    {
     "name": "stdout",
     "output_type": "stream",
     "text": [
      "MoviePy - Done.\n"
     ]
    },
    {
     "name": "stderr",
     "output_type": "stream",
     "text": [
      "chunk:   4%|██▌                                                        | 1/23 [2:15:47<49:47:27, 8147.60s/it, now=None]"
     ]
    },
    {
     "name": "stdout",
     "output_type": "stream",
     "text": [
      "MoviePy - Writing audio in Output\\Naruto_HD_Set_1_Disc_1-001\\Naruto_HD_Set_1_Disc_1-001_1293500.mp3\n"
     ]
    },
    {
     "name": "stderr",
     "output_type": "stream",
     "text": [
      "\n",
      "chunk:   0%|                                                                          | 0/34 [00:00<?, ?it/s, now=None]\u001b[A\n",
      "chunk:   4%|██▌                                                        | 1/23 [2:15:47<49:47:29, 8147.72s/it, now=None]\u001b[A"
     ]
    },
    {
     "name": "stdout",
     "output_type": "stream",
     "text": [
      "MoviePy - Done.\n"
     ]
    },
    {
     "name": "stderr",
     "output_type": "stream",
     "text": [
      "chunk:   4%|██▌                                                        | 1/23 [2:15:48<49:47:39, 8148.14s/it, now=None]"
     ]
    },
    {
     "name": "stdout",
     "output_type": "stream",
     "text": [
      "MoviePy - Writing audio in Output\\Naruto_HD_Set_1_Disc_1-001\\Naruto_HD_Set_1_Disc_1-001_1382500.mp3\n"
     ]
    },
    {
     "name": "stderr",
     "output_type": "stream",
     "text": [
      "\n",
      "chunk:   0%|                                                                          | 0/34 [00:00<?, ?it/s, now=None]\u001b[A\n",
      "chunk:   6%|███▉                                                              | 2/34 [00:00<00:02, 13.42it/s, now=None]\u001b[A\n",
      "chunk:   4%|██▌                                                        | 1/23 [2:15:48<49:47:43, 8148.35s/it, now=None]\u001b[A"
     ]
    },
    {
     "name": "stdout",
     "output_type": "stream",
     "text": [
      "MoviePy - Done.\n"
     ]
    },
    {
     "name": "stderr",
     "output_type": "stream",
     "text": [
      "chunk:   4%|██▌                                                        | 1/23 [2:15:48<49:47:56, 8148.95s/it, now=None]"
     ]
    },
    {
     "name": "stdout",
     "output_type": "stream",
     "text": [
      "MoviePy - Writing audio in Output\\Naruto_HD_Set_1_Disc_1-001\\Naruto_HD_Set_1_Disc_1-001_1383500.mp3\n"
     ]
    },
    {
     "name": "stderr",
     "output_type": "stream",
     "text": [
      "\n",
      "chunk:   0%|                                                                          | 0/34 [00:00<?, ?it/s, now=None]\u001b[A\n",
      "chunk:   4%|██▌                                                        | 1/23 [2:15:49<49:47:59, 8149.07s/it, now=None]\u001b[A"
     ]
    },
    {
     "name": "stdout",
     "output_type": "stream",
     "text": [
      "MoviePy - Done.\n"
     ]
    },
    {
     "name": "stderr",
     "output_type": "stream",
     "text": [
      "chunk:   4%|██▌                                                        | 1/23 [2:15:49<49:48:12, 8149.66s/it, now=None]"
     ]
    },
    {
     "name": "stdout",
     "output_type": "stream",
     "text": [
      "MoviePy - Writing audio in Output\\Naruto_HD_Set_1_Disc_1-001\\Naruto_HD_Set_1_Disc_1-001_1384500.mp3\n"
     ]
    },
    {
     "name": "stderr",
     "output_type": "stream",
     "text": [
      "\n",
      "chunk:   0%|                                                                          | 0/34 [00:00<?, ?it/s, now=None]\u001b[A\n",
      "chunk:   4%|██▌                                                        | 1/23 [2:15:49<49:48:15, 8149.78s/it, now=None]\u001b[A"
     ]
    },
    {
     "name": "stdout",
     "output_type": "stream",
     "text": [
      "MoviePy - Done.\n"
     ]
    },
    {
     "name": "stderr",
     "output_type": "stream",
     "text": [
      "chunk:   4%|██▌                                                        | 1/23 [2:15:50<49:48:27, 8150.36s/it, now=None]"
     ]
    },
    {
     "name": "stdout",
     "output_type": "stream",
     "text": [
      "MoviePy - Writing audio in Output\\Naruto_HD_Set_1_Disc_1-001\\Naruto_HD_Set_1_Disc_1-001_1386000.mp3\n"
     ]
    },
    {
     "name": "stderr",
     "output_type": "stream",
     "text": [
      "\n",
      "chunk:   0%|                                                                          | 0/56 [00:00<?, ?it/s, now=None]\u001b[A\n",
      "chunk:  64%|█████████████████████████████████████████▏                      | 36/56 [00:00<00:00, 305.09it/s, now=None]\u001b[A\n",
      "chunk:   4%|██▌                                                        | 1/23 [2:15:50<49:48:31, 8150.52s/it, now=None]\u001b[A"
     ]
    },
    {
     "name": "stdout",
     "output_type": "stream",
     "text": [
      "MoviePy - Done.\n"
     ]
    },
    {
     "name": "stderr",
     "output_type": "stream",
     "text": [
      "chunk:   4%|██▌                                                        | 1/23 [2:15:51<49:48:54, 8151.56s/it, now=None]"
     ]
    },
    {
     "name": "stdout",
     "output_type": "stream",
     "text": [
      "MoviePy - Writing audio in Output\\Naruto_HD_Set_1_Disc_1-001\\Naruto_HD_Set_1_Disc_1-001_1387500.mp3\n"
     ]
    },
    {
     "name": "stderr",
     "output_type": "stream",
     "text": [
      "\n",
      "chunk:   0%|                                                                          | 0/34 [00:00<?, ?it/s, now=None]\u001b[A\n",
      "chunk:   4%|██▌                                                        | 1/23 [2:15:51<49:48:56, 8151.68s/it, now=None]\u001b[A"
     ]
    },
    {
     "name": "stdout",
     "output_type": "stream",
     "text": [
      "MoviePy - Done.\n"
     ]
    },
    {
     "name": "stderr",
     "output_type": "stream",
     "text": [
      "chunk:   4%|██▌                                                        | 1/23 [2:15:52<49:49:10, 8152.32s/it, now=None]"
     ]
    },
    {
     "name": "stdout",
     "output_type": "stream",
     "text": [
      "MoviePy - Writing audio in Output\\Naruto_HD_Set_1_Disc_1-001\\Naruto_HD_Set_1_Disc_1-001_1388500.mp3\n"
     ]
    },
    {
     "name": "stderr",
     "output_type": "stream",
     "text": [
      "\n",
      "chunk:   0%|                                                                          | 0/34 [00:00<?, ?it/s, now=None]\u001b[A\n",
      "chunk:  88%|████████████████████████████████████████████████████████▍       | 30/34 [00:00<00:00, 260.87it/s, now=None]\u001b[A\n",
      "chunk:   4%|██▌                                                        | 1/23 [2:15:52<49:49:14, 8152.47s/it, now=None]\u001b[A"
     ]
    },
    {
     "name": "stdout",
     "output_type": "stream",
     "text": [
      "MoviePy - Done.\n"
     ]
    },
    {
     "name": "stderr",
     "output_type": "stream",
     "text": [
      "chunk:   4%|██▌                                                        | 1/23 [2:15:53<49:49:27, 8153.07s/it, now=None]"
     ]
    },
    {
     "name": "stdout",
     "output_type": "stream",
     "text": [
      "MoviePy - Writing audio in Output\\Naruto_HD_Set_1_Disc_1-001\\Naruto_HD_Set_1_Disc_1-001_1390000.mp3\n"
     ]
    },
    {
     "name": "stderr",
     "output_type": "stream",
     "text": [
      "\n",
      "chunk:   0%|                                                                          | 0/56 [00:00<?, ?it/s, now=None]\u001b[A\n",
      "chunk:  68%|███████████████████████████████████████████▍                    | 38/56 [00:00<00:00, 379.99it/s, now=None]\u001b[A\n",
      "chunk:   4%|██▌                                                        | 1/23 [2:15:53<49:49:31, 8153.24s/it, now=None]\u001b[A"
     ]
    },
    {
     "name": "stdout",
     "output_type": "stream",
     "text": [
      "MoviePy - Done.\n"
     ]
    },
    {
     "name": "stderr",
     "output_type": "stream",
     "text": [
      "chunk:   4%|██▌                                                        | 1/23 [2:15:54<49:49:54, 8154.31s/it, now=None]"
     ]
    },
    {
     "name": "stdout",
     "output_type": "stream",
     "text": [
      "MoviePy - Writing audio in Output\\Naruto_HD_Set_1_Disc_1-001\\Naruto_HD_Set_1_Disc_1-001_1391500.mp3\n"
     ]
    },
    {
     "name": "stderr",
     "output_type": "stream",
     "text": [
      "\n",
      "chunk:   0%|                                                                          | 0/34 [00:00<?, ?it/s, now=None]\u001b[A\n",
      "chunk:   4%|██▌                                                        | 1/23 [2:15:54<49:49:57, 8154.43s/it, now=None]\u001b[A"
     ]
    },
    {
     "name": "stdout",
     "output_type": "stream",
     "text": [
      "MoviePy - Done.\n"
     ]
    },
    {
     "name": "stderr",
     "output_type": "stream",
     "text": [
      "chunk:   4%|██▌                                                        | 1/23 [2:15:55<49:50:10, 8155.04s/it, now=None]"
     ]
    },
    {
     "name": "stdout",
     "output_type": "stream",
     "text": [
      "MoviePy - Writing audio in Output\\Naruto_HD_Set_1_Disc_1-001\\Naruto_HD_Set_1_Disc_1-001_1393500.mp3\n"
     ]
    },
    {
     "name": "stderr",
     "output_type": "stream",
     "text": [
      "\n",
      "chunk:   0%|                                                                          | 0/78 [00:00<?, ?it/s, now=None]\u001b[A\n",
      "chunk:  42%|███████████████████████████                                     | 33/78 [00:00<00:00, 279.66it/s, now=None]\u001b[A\n",
      "chunk:   4%|██▌                                                        | 1/23 [2:15:55<49:50:15, 8155.23s/it, now=None]\u001b[A"
     ]
    },
    {
     "name": "stdout",
     "output_type": "stream",
     "text": [
      "MoviePy - Done.\n"
     ]
    },
    {
     "name": "stderr",
     "output_type": "stream",
     "text": [
      "chunk:   4%|██▌                                                        | 1/23 [2:15:56<49:50:47, 8156.70s/it, now=None]"
     ]
    },
    {
     "name": "stdout",
     "output_type": "stream",
     "text": [
      "MoviePy - Writing audio in Output\\Naruto_HD_Set_1_Disc_1-001\\Naruto_HD_Set_1_Disc_1-001_1395500.mp3\n"
     ]
    },
    {
     "name": "stderr",
     "output_type": "stream",
     "text": [
      "\n",
      "chunk:   0%|                                                                          | 0/34 [00:00<?, ?it/s, now=None]\u001b[A\n",
      "chunk:  88%|████████████████████████████████████████████████████████▍       | 30/34 [00:00<00:00, 260.86it/s, now=None]\u001b[A\n",
      "chunk:   4%|██▌                                                        | 1/23 [2:15:56<49:50:50, 8156.85s/it, now=None]\u001b[A"
     ]
    },
    {
     "name": "stdout",
     "output_type": "stream",
     "text": [
      "MoviePy - Done.\n"
     ]
    },
    {
     "name": "stderr",
     "output_type": "stream",
     "text": [
      "chunk:   4%|██▌                                                        | 1/23 [2:15:57<49:51:04, 8157.46s/it, now=None]"
     ]
    },
    {
     "name": "stdout",
     "output_type": "stream",
     "text": [
      "MoviePy - Writing audio in Output\\Naruto_HD_Set_1_Disc_1-001\\Naruto_HD_Set_1_Disc_1-001_1396500.mp3\n"
     ]
    },
    {
     "name": "stderr",
     "output_type": "stream",
     "text": [
      "\n",
      "chunk:   0%|                                                                          | 0/34 [00:00<?, ?it/s, now=None]\u001b[A\n",
      "chunk:   4%|██▌                                                        | 1/23 [2:15:57<49:51:06, 8157.58s/it, now=None]\u001b[A"
     ]
    },
    {
     "name": "stdout",
     "output_type": "stream",
     "text": [
      "MoviePy - Done.\n"
     ]
    },
    {
     "name": "stderr",
     "output_type": "stream",
     "text": [
      "chunk:   4%|██▌                                                        | 1/23 [2:15:58<49:51:20, 8158.22s/it, now=None]"
     ]
    },
    {
     "name": "stdout",
     "output_type": "stream",
     "text": [
      "MoviePy - Writing audio in Output\\Naruto_HD_Set_1_Disc_1-001\\Naruto_HD_Set_1_Disc_1-001_1397500.mp3\n"
     ]
    },
    {
     "name": "stderr",
     "output_type": "stream",
     "text": [
      "\n",
      "chunk:   0%|                                                                          | 0/34 [00:00<?, ?it/s, now=None]\u001b[A\n",
      "chunk:  88%|████████████████████████████████████████████████████████▍       | 30/34 [00:00<00:00, 258.62it/s, now=None]\u001b[A\n",
      "chunk:   4%|██▌                                                        | 1/23 [2:15:58<49:51:24, 8158.37s/it, now=None]\u001b[A"
     ]
    },
    {
     "name": "stdout",
     "output_type": "stream",
     "text": [
      "MoviePy - Done.\n"
     ]
    },
    {
     "name": "stderr",
     "output_type": "stream",
     "text": [
      "chunk:   4%|██▌                                                        | 1/23 [2:15:58<49:51:36, 8158.95s/it, now=None]"
     ]
    },
    {
     "name": "stdout",
     "output_type": "stream",
     "text": [
      "MoviePy - Writing audio in Output\\Naruto_HD_Set_1_Disc_1-001\\Naruto_HD_Set_1_Disc_1-001_1398500.mp3\n"
     ]
    },
    {
     "name": "stderr",
     "output_type": "stream",
     "text": [
      "\n",
      "chunk:   0%|                                                                          | 0/34 [00:00<?, ?it/s, now=None]\u001b[A\n",
      "chunk:   4%|██▌                                                        | 1/23 [2:15:59<49:51:39, 8159.08s/it, now=None]\u001b[A"
     ]
    },
    {
     "name": "stdout",
     "output_type": "stream",
     "text": [
      "MoviePy - Done.\n"
     ]
    },
    {
     "name": "stderr",
     "output_type": "stream",
     "text": [
      "chunk:   4%|██▌                                                        | 1/23 [2:15:59<49:51:53, 8159.69s/it, now=None]"
     ]
    },
    {
     "name": "stdout",
     "output_type": "stream",
     "text": [
      "MoviePy - Writing audio in Output\\Naruto_HD_Set_1_Disc_1-001\\Naruto_HD_Set_1_Disc_1-001_1400000.mp3\n"
     ]
    },
    {
     "name": "stderr",
     "output_type": "stream",
     "text": [
      "\n",
      "chunk:   0%|                                                                          | 0/56 [00:00<?, ?it/s, now=None]\u001b[A\n",
      "chunk:  75%|████████████████████████████████████████████████                | 42/56 [00:00<00:00, 415.85it/s, now=None]\u001b[A\n",
      "chunk:   4%|██▌                                                        | 1/23 [2:15:59<49:51:56, 8159.83s/it, now=None]\u001b[A"
     ]
    },
    {
     "name": "stdout",
     "output_type": "stream",
     "text": [
      "MoviePy - Done.\n"
     ]
    },
    {
     "name": "stderr",
     "output_type": "stream",
     "text": [
      "chunk:   4%|██▌                                                        | 1/23 [2:16:00<49:52:19, 8160.90s/it, now=None]"
     ]
    },
    {
     "name": "stdout",
     "output_type": "stream",
     "text": [
      "MoviePy - Writing audio in Output\\Naruto_HD_Set_1_Disc_1-001\\Naruto_HD_Set_1_Disc_1-001_1401500.mp3\n"
     ]
    },
    {
     "name": "stderr",
     "output_type": "stream",
     "text": [
      "\n",
      "chunk:   0%|                                                                          | 0/34 [00:00<?, ?it/s, now=None]\u001b[A\n",
      "chunk:   4%|██▌                                                        | 1/23 [2:16:01<49:52:22, 8161.03s/it, now=None]\u001b[A"
     ]
    },
    {
     "name": "stdout",
     "output_type": "stream",
     "text": [
      "MoviePy - Done.\n"
     ]
    },
    {
     "name": "stderr",
     "output_type": "stream",
     "text": [
      "chunk:   4%|██▌                                                        | 1/23 [2:16:01<49:52:34, 8161.59s/it, now=None]"
     ]
    },
    {
     "name": "stdout",
     "output_type": "stream",
     "text": [
      "MoviePy - Writing audio in Output\\Naruto_HD_Set_1_Disc_1-001\\Naruto_HD_Set_1_Disc_1-001_1402500.mp3\n"
     ]
    },
    {
     "name": "stderr",
     "output_type": "stream",
     "text": [
      "\n",
      "chunk:   0%|                                                                          | 0/34 [00:00<?, ?it/s, now=None]\u001b[A\n",
      "chunk:  88%|████████████████████████████████████████████████████████▍       | 30/34 [00:00<00:00, 256.41it/s, now=None]\u001b[A\n",
      "chunk:   4%|██▌                                                        | 1/23 [2:16:01<49:52:38, 8161.75s/it, now=None]\u001b[A"
     ]
    },
    {
     "name": "stdout",
     "output_type": "stream",
     "text": [
      "MoviePy - Done.\n"
     ]
    },
    {
     "name": "stderr",
     "output_type": "stream",
     "text": [
      "chunk:   4%|██▌                                                        | 1/23 [2:16:02<49:52:51, 8162.36s/it, now=None]"
     ]
    },
    {
     "name": "stdout",
     "output_type": "stream",
     "text": [
      "MoviePy - Writing audio in Output\\Naruto_HD_Set_1_Disc_1-001\\Naruto_HD_Set_1_Disc_1-001_1404000.mp3\n"
     ]
    },
    {
     "name": "stderr",
     "output_type": "stream",
     "text": [
      "\n",
      "chunk:   0%|                                                                          | 0/56 [00:00<?, ?it/s, now=None]\u001b[A\n",
      "chunk:  77%|█████████████████████████████████████████████████▏              | 43/56 [00:00<00:00, 341.27it/s, now=None]\u001b[A\n",
      "chunk:   4%|██▌                                                        | 1/23 [2:16:02<49:52:55, 8162.53s/it, now=None]\u001b[A"
     ]
    },
    {
     "name": "stdout",
     "output_type": "stream",
     "text": [
      "MoviePy - Done.\n"
     ]
    },
    {
     "name": "stderr",
     "output_type": "stream",
     "text": [
      "chunk:   4%|██▌                                                        | 1/23 [2:16:03<49:53:20, 8163.67s/it, now=None]"
     ]
    },
    {
     "name": "stdout",
     "output_type": "stream",
     "text": [
      "MoviePy - Writing audio in Output\\Naruto_HD_Set_1_Disc_1-001\\Naruto_HD_Set_1_Disc_1-001_1405500.mp3\n"
     ]
    },
    {
     "name": "stderr",
     "output_type": "stream",
     "text": [
      "\n",
      "chunk:   0%|                                                                          | 0/34 [00:00<?, ?it/s, now=None]\u001b[A\n",
      "chunk:   4%|██▌                                                        | 1/23 [2:16:03<49:53:23, 8163.80s/it, now=None]\u001b[A"
     ]
    },
    {
     "name": "stdout",
     "output_type": "stream",
     "text": [
      "MoviePy - Done.\n"
     ]
    },
    {
     "name": "stderr",
     "output_type": "stream",
     "text": [
      "chunk:   4%|██▌                                                        | 1/23 [2:16:04<49:53:36, 8164.38s/it, now=None]"
     ]
    },
    {
     "name": "stdout",
     "output_type": "stream",
     "text": [
      "MoviePy - Writing audio in Output\\Naruto_HD_Set_1_Disc_1-001\\Naruto_HD_Set_1_Disc_1-001_1406500.mp3\n"
     ]
    },
    {
     "name": "stderr",
     "output_type": "stream",
     "text": [
      "\n",
      "chunk:   0%|                                                                          | 0/34 [00:00<?, ?it/s, now=None]\u001b[A\n",
      "chunk:  88%|████████████████████████████████████████████████████████▍       | 30/34 [00:00<00:00, 252.10it/s, now=None]\u001b[A\n",
      "chunk:   4%|██▌                                                        | 1/23 [2:16:04<49:53:39, 8164.54s/it, now=None]\u001b[A"
     ]
    },
    {
     "name": "stdout",
     "output_type": "stream",
     "text": [
      "MoviePy - Done.\n"
     ]
    },
    {
     "name": "stderr",
     "output_type": "stream",
     "text": [
      "chunk:   4%|██▌                                                        | 1/23 [2:16:05<49:53:54, 8165.19s/it, now=None]"
     ]
    },
    {
     "name": "stdout",
     "output_type": "stream",
     "text": [
      "MoviePy - Writing audio in Output\\Naruto_HD_Set_1_Disc_1-001\\Naruto_HD_Set_1_Disc_1-001_1407500.mp3\n"
     ]
    },
    {
     "name": "stderr",
     "output_type": "stream",
     "text": [
      "\n",
      "chunk:   0%|                                                                          | 0/34 [00:00<?, ?it/s, now=None]\u001b[A\n",
      "chunk:   4%|██▌                                                        | 1/23 [2:16:05<49:53:56, 8165.32s/it, now=None]\u001b[A"
     ]
    },
    {
     "name": "stdout",
     "output_type": "stream",
     "text": [
      "MoviePy - Done.\n"
     ]
    },
    {
     "name": "stderr",
     "output_type": "stream",
     "text": [
      "chunk:   4%|██▌                                                        | 1/23 [2:16:05<49:54:11, 8165.99s/it, now=None]"
     ]
    },
    {
     "name": "stdout",
     "output_type": "stream",
     "text": [
      "MoviePy - Writing audio in Output\\Naruto_HD_Set_1_Disc_1-001\\Naruto_HD_Set_1_Disc_1-001_1409000.mp3\n"
     ]
    },
    {
     "name": "stderr",
     "output_type": "stream",
     "text": [
      "\n",
      "chunk:   0%|                                                                          | 0/56 [00:00<?, ?it/s, now=None]\u001b[A\n",
      "chunk:  59%|█████████████████████████████████████▋                          | 33/56 [00:00<00:00, 279.66it/s, now=None]\u001b[A\n",
      "chunk:   4%|██▌                                                        | 1/23 [2:16:06<49:54:15, 8166.16s/it, now=None]\u001b[A"
     ]
    },
    {
     "name": "stdout",
     "output_type": "stream",
     "text": [
      "MoviePy - Done.\n"
     ]
    },
    {
     "name": "stderr",
     "output_type": "stream",
     "text": [
      "chunk:   4%|██▌                                                        | 1/23 [2:16:07<49:54:39, 8167.24s/it, now=None]"
     ]
    },
    {
     "name": "stdout",
     "output_type": "stream",
     "text": [
      "MoviePy - Writing audio in Output\\Naruto_HD_Set_1_Disc_1-001\\Naruto_HD_Set_1_Disc_1-001_1410500.mp3\n"
     ]
    },
    {
     "name": "stderr",
     "output_type": "stream",
     "text": [
      "\n",
      "chunk:   0%|                                                                          | 0/34 [00:00<?, ?it/s, now=None]\u001b[A\n",
      "chunk:   4%|██▌                                                        | 1/23 [2:16:07<49:54:41, 8167.36s/it, now=None]\u001b[A"
     ]
    },
    {
     "name": "stdout",
     "output_type": "stream",
     "text": [
      "MoviePy - Done.\n",
      "Finished processing Input\\Naruto HD Set 1 Disc 1-001.mkv\n",
      "Generating Audio Visual HTML Page\n"
     ]
    },
    {
     "ename": "KeyError",
     "evalue": "'video_fps'",
     "output_type": "error",
     "traceback": [
      "\u001b[1;31m---------------------------------------------------------------------------\u001b[0m",
      "\u001b[1;31mKeyError\u001b[0m                                  Traceback (most recent call last)",
      "Cell \u001b[1;32mIn[49], line 42\u001b[0m\n\u001b[0;32m     39\u001b[0m line_list \u001b[38;5;241m=\u001b[39m file_to_line_list(subtitle_file)\n\u001b[0;32m     40\u001b[0m lines_indexed \u001b[38;5;241m=\u001b[39m chunk_sub_idx_to_list(line_list)\n\u001b[1;32m---> 42\u001b[0m html_list \u001b[38;5;241m=\u001b[39m \u001b[43mcreate_html_list\u001b[49m\u001b[43m(\u001b[49m\u001b[43mprj_name\u001b[49m\u001b[43m,\u001b[49m\u001b[43m \u001b[49m\u001b[43mf\u001b[49m\u001b[43m,\u001b[49m\u001b[43m \u001b[49m\u001b[43mlines_indexed\u001b[49m\u001b[43m)\u001b[49m\n\u001b[0;32m     44\u001b[0m html \u001b[38;5;241m=\u001b[39m create_html(prj_name, \u001b[38;5;124m'\u001b[39m\u001b[38;5;130;01m\\n\u001b[39;00m\u001b[38;5;124m'\u001b[39m\u001b[38;5;241m.\u001b[39mjoin(html_list))\n\u001b[0;32m     46\u001b[0m save_path \u001b[38;5;241m=\u001b[39m os\u001b[38;5;241m.\u001b[39mpath\u001b[38;5;241m.\u001b[39mjoin(prj_dir, prj_name \u001b[38;5;241m+\u001b[39m \u001b[38;5;124m'\u001b[39m\u001b[38;5;124m.html\u001b[39m\u001b[38;5;124m'\u001b[39m)\n",
      "Cell \u001b[1;32mIn[45], line 6\u001b[0m, in \u001b[0;36mcreate_html_list\u001b[1;34m(prj_name, vid_file, lines_indexed, audio, pad)\u001b[0m\n\u001b[0;32m      3\u001b[0m video_capture \u001b[38;5;241m=\u001b[39m cv2\u001b[38;5;241m.\u001b[39mVideoCapture(vid_file)\n\u001b[0;32m      5\u001b[0m \u001b[38;5;28;01mif\u001b[39;00m audio:\n\u001b[1;32m----> 6\u001b[0m     mp_video \u001b[38;5;241m=\u001b[39m \u001b[43mmp\u001b[49m\u001b[38;5;241;43m.\u001b[39;49m\u001b[43mVideoFileClip\u001b[49m\u001b[43m(\u001b[49m\u001b[43mvid_file\u001b[49m\u001b[43m)\u001b[49m\n\u001b[0;32m      8\u001b[0m html_list \u001b[38;5;241m=\u001b[39m []\n\u001b[0;32m     10\u001b[0m \u001b[38;5;28;01mfor\u001b[39;00m r \u001b[38;5;129;01min\u001b[39;00m lines_indexed:\n",
      "File \u001b[1;32m~\\anaconda3\\envs\\cuda11v7\\lib\\site-packages\\moviepy\\video\\io\\VideoFileClip.py:88\u001b[0m, in \u001b[0;36mVideoFileClip.__init__\u001b[1;34m(self, filename, has_mask, audio, audio_buffersize, target_resolution, resize_algorithm, audio_fps, audio_nbytes, verbose, fps_source)\u001b[0m\n\u001b[0;32m     86\u001b[0m \u001b[38;5;66;03m# Make a reader\u001b[39;00m\n\u001b[0;32m     87\u001b[0m pix_fmt \u001b[38;5;241m=\u001b[39m \u001b[38;5;124m\"\u001b[39m\u001b[38;5;124mrgba\u001b[39m\u001b[38;5;124m\"\u001b[39m \u001b[38;5;28;01mif\u001b[39;00m has_mask \u001b[38;5;28;01melse\u001b[39;00m \u001b[38;5;124m\"\u001b[39m\u001b[38;5;124mrgb24\u001b[39m\u001b[38;5;124m\"\u001b[39m\n\u001b[1;32m---> 88\u001b[0m \u001b[38;5;28mself\u001b[39m\u001b[38;5;241m.\u001b[39mreader \u001b[38;5;241m=\u001b[39m \u001b[43mFFMPEG_VideoReader\u001b[49m\u001b[43m(\u001b[49m\u001b[43mfilename\u001b[49m\u001b[43m,\u001b[49m\u001b[43m \u001b[49m\u001b[43mpix_fmt\u001b[49m\u001b[38;5;241;43m=\u001b[39;49m\u001b[43mpix_fmt\u001b[49m\u001b[43m,\u001b[49m\n\u001b[0;32m     89\u001b[0m \u001b[43m                                 \u001b[49m\u001b[43mtarget_resolution\u001b[49m\u001b[38;5;241;43m=\u001b[39;49m\u001b[43mtarget_resolution\u001b[49m\u001b[43m,\u001b[49m\n\u001b[0;32m     90\u001b[0m \u001b[43m                                 \u001b[49m\u001b[43mresize_algo\u001b[49m\u001b[38;5;241;43m=\u001b[39;49m\u001b[43mresize_algorithm\u001b[49m\u001b[43m,\u001b[49m\n\u001b[0;32m     91\u001b[0m \u001b[43m                                 \u001b[49m\u001b[43mfps_source\u001b[49m\u001b[38;5;241;43m=\u001b[39;49m\u001b[43mfps_source\u001b[49m\u001b[43m)\u001b[49m\n\u001b[0;32m     93\u001b[0m \u001b[38;5;66;03m# Make some of the reader's attributes accessible from the clip\u001b[39;00m\n\u001b[0;32m     94\u001b[0m \u001b[38;5;28mself\u001b[39m\u001b[38;5;241m.\u001b[39mduration \u001b[38;5;241m=\u001b[39m \u001b[38;5;28mself\u001b[39m\u001b[38;5;241m.\u001b[39mreader\u001b[38;5;241m.\u001b[39mduration\n",
      "File \u001b[1;32m~\\anaconda3\\envs\\cuda11v7\\lib\\site-packages\\moviepy\\video\\io\\ffmpeg_reader.py:37\u001b[0m, in \u001b[0;36mFFMPEG_VideoReader.__init__\u001b[1;34m(self, filename, print_infos, bufsize, pix_fmt, check_duration, target_resolution, resize_algo, fps_source)\u001b[0m\n\u001b[0;32m     34\u001b[0m \u001b[38;5;28mself\u001b[39m\u001b[38;5;241m.\u001b[39mproc \u001b[38;5;241m=\u001b[39m \u001b[38;5;28;01mNone\u001b[39;00m\n\u001b[0;32m     35\u001b[0m infos \u001b[38;5;241m=\u001b[39m ffmpeg_parse_infos(filename, print_infos, check_duration,\n\u001b[0;32m     36\u001b[0m                            fps_source)\n\u001b[1;32m---> 37\u001b[0m \u001b[38;5;28mself\u001b[39m\u001b[38;5;241m.\u001b[39mfps \u001b[38;5;241m=\u001b[39m \u001b[43minfos\u001b[49m\u001b[43m[\u001b[49m\u001b[38;5;124;43m'\u001b[39;49m\u001b[38;5;124;43mvideo_fps\u001b[39;49m\u001b[38;5;124;43m'\u001b[39;49m\u001b[43m]\u001b[49m\n\u001b[0;32m     38\u001b[0m \u001b[38;5;28mself\u001b[39m\u001b[38;5;241m.\u001b[39msize \u001b[38;5;241m=\u001b[39m infos[\u001b[38;5;124m'\u001b[39m\u001b[38;5;124mvideo_size\u001b[39m\u001b[38;5;124m'\u001b[39m]\n\u001b[0;32m     39\u001b[0m \u001b[38;5;28mself\u001b[39m\u001b[38;5;241m.\u001b[39mrotation \u001b[38;5;241m=\u001b[39m infos[\u001b[38;5;124m'\u001b[39m\u001b[38;5;124mvideo_rotation\u001b[39m\u001b[38;5;124m'\u001b[39m]\n",
      "\u001b[1;31mKeyError\u001b[0m: 'video_fps'"
     ]
    }
   ],
   "source": [
    "TRACK_NUMBER = 2\n",
    "\n",
    "for f in files:\n",
    "    noext = os.path.splitext(f)[0]\n",
    "    \n",
    "    subtitle_file = noext + '.srt'\n",
    "    \n",
    "    # Use SRT doesn't exists create it\n",
    "    if not(os.path.exists(subtitle_file)):\n",
    "        \n",
    "        audio_file = noext + '.mp3'\n",
    "\n",
    "        # Check if audio exists\n",
    "        if not(os.path.exists(audio_file)):\n",
    "            print(f'Extracting mp3 from {f}...')\n",
    "            extract_audio(f, savename=audio_file, track_number=TRACK_NUMBER)\n",
    "            print('Finished extracting audio.')\n",
    "            \n",
    "        if os.path.exists(audio_file):\n",
    "            print(f'Creating transcript using OpenAIs Whisper for {audio_file}.')\n",
    "            \n",
    "            model = whisper.load_model(\"base\")\n",
    "            transcription = model.transcribe(audio_file)\n",
    "            \n",
    "            print('Exporting subtitle.')\n",
    "            transcribe_audio(transcription, subtitle_file)\n",
    "        else:\n",
    "            print(f'Error. Audio file {audio_file} not created.')\n",
    "        \n",
    "    # Check if subtitle exists\n",
    "    if os.path.exists(subtitle_file):\n",
    "        print('Generating Audio Visual HTML Page')\n",
    "        \n",
    "        prj_name = os.path.basename(noext).replace(' ','_')\n",
    "        prj_dir = os.path.join(out_dir, prj_name)\n",
    "        if not(os.path.exists(prj_dir)):\n",
    "            os.mkdir(prj_dir)\n",
    "\n",
    "        line_list = file_to_line_list(subtitle_file)\n",
    "        lines_indexed = chunk_sub_idx_to_list(line_list)\n",
    "\n",
    "        html_list = create_html_list(prj_name, f, lines_indexed)\n",
    "\n",
    "        html = create_html(prj_name, '\\n'.join(html_list))\n",
    "\n",
    "        save_path = os.path.join(prj_dir, prj_name + '.html')\n",
    "\n",
    "        html_file = open(save_path, 'w', encoding='utf-8')\n",
    "        html_file.write(html)\n",
    "        html_file.close()\n",
    "        \n",
    "        print(f'Finished processing {f}')\n",
    "\n",
    "    else:\n",
    "        print(f'Error. Subtitle file {subtitle_file} not found.')"
   ]
  },
  {
   "cell_type": "code",
   "execution_count": null,
   "id": "75401f7c",
   "metadata": {},
   "outputs": [],
   "source": []
  }
 ],
 "metadata": {
  "kernelspec": {
   "display_name": "Python 3 (ipykernel)",
   "language": "python",
   "name": "python3"
  },
  "language_info": {
   "codemirror_mode": {
    "name": "ipython",
    "version": 3
   },
   "file_extension": ".py",
   "mimetype": "text/x-python",
   "name": "python",
   "nbconvert_exporter": "python",
   "pygments_lexer": "ipython3",
   "version": "3.10.8"
  }
 },
 "nbformat": 4,
 "nbformat_minor": 5
}
